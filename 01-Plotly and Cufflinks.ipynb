{
 "cells": [
  {
   "cell_type": "markdown",
   "metadata": {},
   "source": [
    "___\n",
    "\n",
    "<a href='http://www.pieriandata.com'> <img src='../Pierian_Data_Logo.png' /></a>\n",
    "___\n",
    "# Plotly and Cufflinks"
   ]
  },
  {
   "cell_type": "markdown",
   "metadata": {},
   "source": [
    "Plotly is a library that allows you to create interactive plots that you can use in dashboards or websites (you can save them as html files or static images).\n",
    "\n",
    "## Installation\n",
    "\n",
    "In order for this all to work, you'll need to install plotly and cufflinks to call plots directly off of a pandas dataframe. These libraries are not currently available through **conda** but are available through **pip**. Install the libraries at your command line/terminal using:\n",
    "\n",
    "    pip install plotly\n",
    "    pip install cufflinks\n",
    "\n",
    "** NOTE: Make sure you only have one installation of Python on your computer when you do this, otherwise the installation may not work. **\n",
    "\n",
    "## Imports and Set-up"
   ]
  },
  {
   "cell_type": "code",
   "execution_count": 1,
   "metadata": {},
   "outputs": [],
   "source": [
    "import pandas as pd\n",
    "import numpy as np\n",
    "%matplotlib inline"
   ]
  },
  {
   "cell_type": "code",
   "execution_count": 6,
   "metadata": {},
   "outputs": [
    {
     "name": "stdout",
     "output_type": "stream",
     "text": [
      "5.9.0\n"
     ]
    }
   ],
   "source": [
    "from plotly import __version__\n",
    "from plotly.offline import download_plotlyjs, init_notebook_mode, plot, iplot\n",
    "\n",
    "print(__version__) # requires version >= 1.9.0"
   ]
  },
  {
   "cell_type": "code",
   "execution_count": 7,
   "metadata": {},
   "outputs": [
    {
     "name": "stdout",
     "output_type": "stream",
     "text": [
      "Collecting cufflinks\n",
      "  Downloading cufflinks-0.17.3.tar.gz (81 kB)\n",
      "     ---------------------------------------- 81.7/81.7 kB 1.5 MB/s eta 0:00:00\n",
      "  Preparing metadata (setup.py): started\n",
      "  Preparing metadata (setup.py): finished with status 'done'\n",
      "Requirement already satisfied: numpy>=1.9.2 in c:\\users\\ksgun\\anaconda3\\lib\\site-packages (from cufflinks) (1.23.5)\n",
      "Requirement already satisfied: pandas>=0.19.2 in c:\\users\\ksgun\\anaconda3\\lib\\site-packages (from cufflinks) (1.5.3)\n",
      "Requirement already satisfied: plotly>=4.1.1 in c:\\users\\ksgun\\anaconda3\\lib\\site-packages (from cufflinks) (5.9.0)\n",
      "Requirement already satisfied: six>=1.9.0 in c:\\users\\ksgun\\anaconda3\\lib\\site-packages (from cufflinks) (1.16.0)\n",
      "Collecting colorlover>=0.2.1\n",
      "  Downloading colorlover-0.3.0-py3-none-any.whl (8.9 kB)\n",
      "Requirement already satisfied: setuptools>=34.4.1 in c:\\users\\ksgun\\anaconda3\\lib\\site-packages (from cufflinks) (65.6.3)\n",
      "Requirement already satisfied: ipython>=5.3.0 in c:\\users\\ksgun\\anaconda3\\lib\\site-packages (from cufflinks) (8.10.0)\n",
      "Requirement already satisfied: ipywidgets>=7.0.0 in c:\\users\\ksgun\\anaconda3\\lib\\site-packages (from cufflinks) (7.6.5)\n",
      "Requirement already satisfied: stack-data in c:\\users\\ksgun\\anaconda3\\lib\\site-packages (from ipython>=5.3.0->cufflinks) (0.2.0)\n",
      "Requirement already satisfied: decorator in c:\\users\\ksgun\\anaconda3\\lib\\site-packages (from ipython>=5.3.0->cufflinks) (5.1.1)\n",
      "Requirement already satisfied: matplotlib-inline in c:\\users\\ksgun\\anaconda3\\lib\\site-packages (from ipython>=5.3.0->cufflinks) (0.1.6)\n",
      "Requirement already satisfied: jedi>=0.16 in c:\\users\\ksgun\\anaconda3\\lib\\site-packages (from ipython>=5.3.0->cufflinks) (0.18.1)\n",
      "Requirement already satisfied: backcall in c:\\users\\ksgun\\anaconda3\\lib\\site-packages (from ipython>=5.3.0->cufflinks) (0.2.0)\n",
      "Requirement already satisfied: colorama in c:\\users\\ksgun\\anaconda3\\lib\\site-packages (from ipython>=5.3.0->cufflinks) (0.4.6)\n",
      "Requirement already satisfied: traitlets>=5 in c:\\users\\ksgun\\anaconda3\\lib\\site-packages (from ipython>=5.3.0->cufflinks) (5.7.1)\n",
      "Requirement already satisfied: prompt-toolkit<3.1.0,>=3.0.30 in c:\\users\\ksgun\\anaconda3\\lib\\site-packages (from ipython>=5.3.0->cufflinks) (3.0.36)\n",
      "Requirement already satisfied: pickleshare in c:\\users\\ksgun\\anaconda3\\lib\\site-packages (from ipython>=5.3.0->cufflinks) (0.7.5)\n",
      "Requirement already satisfied: pygments>=2.4.0 in c:\\users\\ksgun\\anaconda3\\lib\\site-packages (from ipython>=5.3.0->cufflinks) (2.11.2)\n",
      "Requirement already satisfied: jupyterlab-widgets>=1.0.0 in c:\\users\\ksgun\\anaconda3\\lib\\site-packages (from ipywidgets>=7.0.0->cufflinks) (1.0.0)\n",
      "Requirement already satisfied: ipykernel>=4.5.1 in c:\\users\\ksgun\\anaconda3\\lib\\site-packages (from ipywidgets>=7.0.0->cufflinks) (6.19.2)\n",
      "Requirement already satisfied: widgetsnbextension~=3.5.0 in c:\\users\\ksgun\\anaconda3\\lib\\site-packages (from ipywidgets>=7.0.0->cufflinks) (3.5.2)\n",
      "Requirement already satisfied: nbformat>=4.2.0 in c:\\users\\ksgun\\anaconda3\\lib\\site-packages (from ipywidgets>=7.0.0->cufflinks) (5.7.0)\n",
      "Requirement already satisfied: ipython-genutils~=0.2.0 in c:\\users\\ksgun\\anaconda3\\lib\\site-packages (from ipywidgets>=7.0.0->cufflinks) (0.2.0)\n",
      "Requirement already satisfied: python-dateutil>=2.8.1 in c:\\users\\ksgun\\anaconda3\\lib\\site-packages (from pandas>=0.19.2->cufflinks) (2.8.2)\n",
      "Requirement already satisfied: pytz>=2020.1 in c:\\users\\ksgun\\anaconda3\\lib\\site-packages (from pandas>=0.19.2->cufflinks) (2022.7)\n",
      "Requirement already satisfied: tenacity>=6.2.0 in c:\\users\\ksgun\\anaconda3\\lib\\site-packages (from plotly>=4.1.1->cufflinks) (8.0.1)\n",
      "Requirement already satisfied: comm>=0.1.1 in c:\\users\\ksgun\\anaconda3\\lib\\site-packages (from ipykernel>=4.5.1->ipywidgets>=7.0.0->cufflinks) (0.1.2)\n",
      "Requirement already satisfied: tornado>=6.1 in c:\\users\\ksgun\\anaconda3\\lib\\site-packages (from ipykernel>=4.5.1->ipywidgets>=7.0.0->cufflinks) (6.1)\n",
      "Requirement already satisfied: psutil in c:\\users\\ksgun\\anaconda3\\lib\\site-packages (from ipykernel>=4.5.1->ipywidgets>=7.0.0->cufflinks) (5.9.0)\n",
      "Requirement already satisfied: jupyter-client>=6.1.12 in c:\\users\\ksgun\\anaconda3\\lib\\site-packages (from ipykernel>=4.5.1->ipywidgets>=7.0.0->cufflinks) (7.3.4)\n",
      "Requirement already satisfied: debugpy>=1.0 in c:\\users\\ksgun\\anaconda3\\lib\\site-packages (from ipykernel>=4.5.1->ipywidgets>=7.0.0->cufflinks) (1.5.1)\n",
      "Requirement already satisfied: nest-asyncio in c:\\users\\ksgun\\anaconda3\\lib\\site-packages (from ipykernel>=4.5.1->ipywidgets>=7.0.0->cufflinks) (1.5.6)\n",
      "Requirement already satisfied: packaging in c:\\users\\ksgun\\anaconda3\\lib\\site-packages (from ipykernel>=4.5.1->ipywidgets>=7.0.0->cufflinks) (22.0)\n",
      "Requirement already satisfied: pyzmq>=17 in c:\\users\\ksgun\\anaconda3\\lib\\site-packages (from ipykernel>=4.5.1->ipywidgets>=7.0.0->cufflinks) (23.2.0)\n",
      "Requirement already satisfied: parso<0.9.0,>=0.8.0 in c:\\users\\ksgun\\anaconda3\\lib\\site-packages (from jedi>=0.16->ipython>=5.3.0->cufflinks) (0.8.3)\n",
      "Requirement already satisfied: fastjsonschema in c:\\users\\ksgun\\anaconda3\\lib\\site-packages (from nbformat>=4.2.0->ipywidgets>=7.0.0->cufflinks) (2.16.2)\n",
      "Requirement already satisfied: jupyter-core in c:\\users\\ksgun\\anaconda3\\lib\\site-packages (from nbformat>=4.2.0->ipywidgets>=7.0.0->cufflinks) (5.2.0)\n",
      "Requirement already satisfied: jsonschema>=2.6 in c:\\users\\ksgun\\anaconda3\\lib\\site-packages (from nbformat>=4.2.0->ipywidgets>=7.0.0->cufflinks) (4.17.3)\n",
      "Requirement already satisfied: wcwidth in c:\\users\\ksgun\\anaconda3\\lib\\site-packages (from prompt-toolkit<3.1.0,>=3.0.30->ipython>=5.3.0->cufflinks) (0.2.5)\n",
      "Requirement already satisfied: notebook>=4.4.1 in c:\\users\\ksgun\\anaconda3\\lib\\site-packages (from widgetsnbextension~=3.5.0->ipywidgets>=7.0.0->cufflinks) (6.5.2)\n",
      "Requirement already satisfied: asttokens in c:\\users\\ksgun\\anaconda3\\lib\\site-packages (from stack-data->ipython>=5.3.0->cufflinks) (2.0.5)\n",
      "Requirement already satisfied: executing in c:\\users\\ksgun\\anaconda3\\lib\\site-packages (from stack-data->ipython>=5.3.0->cufflinks) (0.8.3)\n",
      "Requirement already satisfied: pure-eval in c:\\users\\ksgun\\anaconda3\\lib\\site-packages (from stack-data->ipython>=5.3.0->cufflinks) (0.2.2)\n",
      "Requirement already satisfied: pyrsistent!=0.17.0,!=0.17.1,!=0.17.2,>=0.14.0 in c:\\users\\ksgun\\anaconda3\\lib\\site-packages (from jsonschema>=2.6->nbformat>=4.2.0->ipywidgets>=7.0.0->cufflinks) (0.18.0)\n",
      "Requirement already satisfied: attrs>=17.4.0 in c:\\users\\ksgun\\anaconda3\\lib\\site-packages (from jsonschema>=2.6->nbformat>=4.2.0->ipywidgets>=7.0.0->cufflinks) (22.1.0)\n",
      "Requirement already satisfied: entrypoints in c:\\users\\ksgun\\anaconda3\\lib\\site-packages (from jupyter-client>=6.1.12->ipykernel>=4.5.1->ipywidgets>=7.0.0->cufflinks) (0.4)\n",
      "Requirement already satisfied: platformdirs>=2.5 in c:\\users\\ksgun\\anaconda3\\lib\\site-packages (from jupyter-core->nbformat>=4.2.0->ipywidgets>=7.0.0->cufflinks) (2.5.2)\n",
      "Requirement already satisfied: pywin32>=1.0 in c:\\users\\ksgun\\anaconda3\\lib\\site-packages (from jupyter-core->nbformat>=4.2.0->ipywidgets>=7.0.0->cufflinks) (305.1)\n",
      "Requirement already satisfied: jinja2 in c:\\users\\ksgun\\anaconda3\\lib\\site-packages (from notebook>=4.4.1->widgetsnbextension~=3.5.0->ipywidgets>=7.0.0->cufflinks) (3.1.2)\n",
      "Requirement already satisfied: argon2-cffi in c:\\users\\ksgun\\anaconda3\\lib\\site-packages (from notebook>=4.4.1->widgetsnbextension~=3.5.0->ipywidgets>=7.0.0->cufflinks) (21.3.0)\n",
      "Requirement already satisfied: nbclassic>=0.4.7 in c:\\users\\ksgun\\anaconda3\\lib\\site-packages (from notebook>=4.4.1->widgetsnbextension~=3.5.0->ipywidgets>=7.0.0->cufflinks) (0.5.2)\n",
      "Requirement already satisfied: nbconvert>=5 in c:\\users\\ksgun\\anaconda3\\lib\\site-packages (from notebook>=4.4.1->widgetsnbextension~=3.5.0->ipywidgets>=7.0.0->cufflinks) (6.5.4)\n",
      "Requirement already satisfied: Send2Trash>=1.8.0 in c:\\users\\ksgun\\anaconda3\\lib\\site-packages (from notebook>=4.4.1->widgetsnbextension~=3.5.0->ipywidgets>=7.0.0->cufflinks) (1.8.0)\n",
      "Requirement already satisfied: prometheus-client in c:\\users\\ksgun\\anaconda3\\lib\\site-packages (from notebook>=4.4.1->widgetsnbextension~=3.5.0->ipywidgets>=7.0.0->cufflinks) (0.14.1)\n",
      "Requirement already satisfied: terminado>=0.8.3 in c:\\users\\ksgun\\anaconda3\\lib\\site-packages (from notebook>=4.4.1->widgetsnbextension~=3.5.0->ipywidgets>=7.0.0->cufflinks) (0.17.1)\n",
      "Requirement already satisfied: jupyter-server>=1.8 in c:\\users\\ksgun\\anaconda3\\lib\\site-packages (from nbclassic>=0.4.7->notebook>=4.4.1->widgetsnbextension~=3.5.0->ipywidgets>=7.0.0->cufflinks) (1.23.4)\n",
      "Requirement already satisfied: notebook-shim>=0.1.0 in c:\\users\\ksgun\\anaconda3\\lib\\site-packages (from nbclassic>=0.4.7->notebook>=4.4.1->widgetsnbextension~=3.5.0->ipywidgets>=7.0.0->cufflinks) (0.2.2)\n",
      "Requirement already satisfied: pandocfilters>=1.4.1 in c:\\users\\ksgun\\anaconda3\\lib\\site-packages (from nbconvert>=5->notebook>=4.4.1->widgetsnbextension~=3.5.0->ipywidgets>=7.0.0->cufflinks) (1.5.0)\n",
      "Requirement already satisfied: nbclient>=0.5.0 in c:\\users\\ksgun\\anaconda3\\lib\\site-packages (from nbconvert>=5->notebook>=4.4.1->widgetsnbextension~=3.5.0->ipywidgets>=7.0.0->cufflinks) (0.5.13)\n",
      "Requirement already satisfied: lxml in c:\\users\\ksgun\\anaconda3\\lib\\site-packages (from nbconvert>=5->notebook>=4.4.1->widgetsnbextension~=3.5.0->ipywidgets>=7.0.0->cufflinks) (4.9.1)\n",
      "Requirement already satisfied: defusedxml in c:\\users\\ksgun\\anaconda3\\lib\\site-packages (from nbconvert>=5->notebook>=4.4.1->widgetsnbextension~=3.5.0->ipywidgets>=7.0.0->cufflinks) (0.7.1)\n",
      "Requirement already satisfied: beautifulsoup4 in c:\\users\\ksgun\\anaconda3\\lib\\site-packages (from nbconvert>=5->notebook>=4.4.1->widgetsnbextension~=3.5.0->ipywidgets>=7.0.0->cufflinks) (4.11.1)\n",
      "Requirement already satisfied: tinycss2 in c:\\users\\ksgun\\anaconda3\\lib\\site-packages (from nbconvert>=5->notebook>=4.4.1->widgetsnbextension~=3.5.0->ipywidgets>=7.0.0->cufflinks) (1.2.1)\n",
      "Requirement already satisfied: jupyterlab-pygments in c:\\users\\ksgun\\anaconda3\\lib\\site-packages (from nbconvert>=5->notebook>=4.4.1->widgetsnbextension~=3.5.0->ipywidgets>=7.0.0->cufflinks) (0.1.2)\n",
      "Requirement already satisfied: MarkupSafe>=2.0 in c:\\users\\ksgun\\anaconda3\\lib\\site-packages (from nbconvert>=5->notebook>=4.4.1->widgetsnbextension~=3.5.0->ipywidgets>=7.0.0->cufflinks) (2.1.1)\n",
      "Requirement already satisfied: bleach in c:\\users\\ksgun\\anaconda3\\lib\\site-packages (from nbconvert>=5->notebook>=4.4.1->widgetsnbextension~=3.5.0->ipywidgets>=7.0.0->cufflinks) (4.1.0)\n",
      "Requirement already satisfied: mistune<2,>=0.8.1 in c:\\users\\ksgun\\anaconda3\\lib\\site-packages (from nbconvert>=5->notebook>=4.4.1->widgetsnbextension~=3.5.0->ipywidgets>=7.0.0->cufflinks) (0.8.4)\n",
      "Requirement already satisfied: pywinpty>=1.1.0 in c:\\users\\ksgun\\anaconda3\\lib\\site-packages (from terminado>=0.8.3->notebook>=4.4.1->widgetsnbextension~=3.5.0->ipywidgets>=7.0.0->cufflinks) (2.0.10)\n",
      "Requirement already satisfied: argon2-cffi-bindings in c:\\users\\ksgun\\anaconda3\\lib\\site-packages (from argon2-cffi->notebook>=4.4.1->widgetsnbextension~=3.5.0->ipywidgets>=7.0.0->cufflinks) (21.2.0)\n",
      "Requirement already satisfied: websocket-client in c:\\users\\ksgun\\anaconda3\\lib\\site-packages (from jupyter-server>=1.8->nbclassic>=0.4.7->notebook>=4.4.1->widgetsnbextension~=3.5.0->ipywidgets>=7.0.0->cufflinks) (0.58.0)\n",
      "Requirement already satisfied: anyio<4,>=3.1.0 in c:\\users\\ksgun\\anaconda3\\lib\\site-packages (from jupyter-server>=1.8->nbclassic>=0.4.7->notebook>=4.4.1->widgetsnbextension~=3.5.0->ipywidgets>=7.0.0->cufflinks) (3.5.0)\n",
      "Requirement already satisfied: cffi>=1.0.1 in c:\\users\\ksgun\\anaconda3\\lib\\site-packages (from argon2-cffi-bindings->argon2-cffi->notebook>=4.4.1->widgetsnbextension~=3.5.0->ipywidgets>=7.0.0->cufflinks) (1.15.1)\n",
      "Requirement already satisfied: soupsieve>1.2 in c:\\users\\ksgun\\anaconda3\\lib\\site-packages (from beautifulsoup4->nbconvert>=5->notebook>=4.4.1->widgetsnbextension~=3.5.0->ipywidgets>=7.0.0->cufflinks) (2.3.2.post1)\n",
      "Requirement already satisfied: webencodings in c:\\users\\ksgun\\anaconda3\\lib\\site-packages (from bleach->nbconvert>=5->notebook>=4.4.1->widgetsnbextension~=3.5.0->ipywidgets>=7.0.0->cufflinks) (0.5.1)\n",
      "Requirement already satisfied: idna>=2.8 in c:\\users\\ksgun\\anaconda3\\lib\\site-packages (from anyio<4,>=3.1.0->jupyter-server>=1.8->nbclassic>=0.4.7->notebook>=4.4.1->widgetsnbextension~=3.5.0->ipywidgets>=7.0.0->cufflinks) (3.4)\n",
      "Requirement already satisfied: sniffio>=1.1 in c:\\users\\ksgun\\anaconda3\\lib\\site-packages (from anyio<4,>=3.1.0->jupyter-server>=1.8->nbclassic>=0.4.7->notebook>=4.4.1->widgetsnbextension~=3.5.0->ipywidgets>=7.0.0->cufflinks) (1.2.0)\n",
      "Requirement already satisfied: pycparser in c:\\users\\ksgun\\anaconda3\\lib\\site-packages (from cffi>=1.0.1->argon2-cffi-bindings->argon2-cffi->notebook>=4.4.1->widgetsnbextension~=3.5.0->ipywidgets>=7.0.0->cufflinks) (2.21)\n",
      "Building wheels for collected packages: cufflinks\n",
      "  Building wheel for cufflinks (setup.py): started\n",
      "  Building wheel for cufflinks (setup.py): finished with status 'done'\n",
      "  Created wheel for cufflinks: filename=cufflinks-0.17.3-py3-none-any.whl size=68725 sha256=9204f0a166b32b7d2cc525e504ad03c7f3c73c98fcb2529c2c617947e839443f\n",
      "  Stored in directory: c:\\users\\ksgun\\appdata\\local\\pip\\cache\\wheels\\b1\\8f\\ec\\b76ac80a14f3f5f59643cbc2eee7d78690b1bd158279f299dd\n",
      "Successfully built cufflinks\n",
      "Installing collected packages: colorlover, cufflinks\n",
      "Successfully installed colorlover-0.3.0 cufflinks-0.17.3\n"
     ]
    }
   ],
   "source": [
    "!pip install cufflinks"
   ]
  },
  {
   "cell_type": "code",
   "execution_count": 8,
   "metadata": {},
   "outputs": [],
   "source": [
    "import cufflinks as cf"
   ]
  },
  {
   "cell_type": "code",
   "execution_count": 9,
   "metadata": {},
   "outputs": [
    {
     "data": {
      "text/html": [
       "        <script type=\"text/javascript\">\n",
       "        window.PlotlyConfig = {MathJaxConfig: 'local'};\n",
       "        if (window.MathJax && window.MathJax.Hub && window.MathJax.Hub.Config) {window.MathJax.Hub.Config({SVG: {font: \"STIX-Web\"}});}\n",
       "        if (typeof require !== 'undefined') {\n",
       "        require.undef(\"plotly\");\n",
       "        requirejs.config({\n",
       "            paths: {\n",
       "                'plotly': ['https://cdn.plot.ly/plotly-2.12.1.min']\n",
       "            }\n",
       "        });\n",
       "        require(['plotly'], function(Plotly) {\n",
       "            window._Plotly = Plotly;\n",
       "        });\n",
       "        }\n",
       "        </script>\n",
       "        "
      ]
     },
     "metadata": {},
     "output_type": "display_data"
    }
   ],
   "source": [
    "# For Notebooks\n",
    "init_notebook_mode(connected=True)"
   ]
  },
  {
   "cell_type": "code",
   "execution_count": 10,
   "metadata": {},
   "outputs": [
    {
     "data": {
      "text/html": [
       "        <script type=\"text/javascript\">\n",
       "        window.PlotlyConfig = {MathJaxConfig: 'local'};\n",
       "        if (window.MathJax && window.MathJax.Hub && window.MathJax.Hub.Config) {window.MathJax.Hub.Config({SVG: {font: \"STIX-Web\"}});}\n",
       "        if (typeof require !== 'undefined') {\n",
       "        require.undef(\"plotly\");\n",
       "        requirejs.config({\n",
       "            paths: {\n",
       "                'plotly': ['https://cdn.plot.ly/plotly-2.12.1.min']\n",
       "            }\n",
       "        });\n",
       "        require(['plotly'], function(Plotly) {\n",
       "            window._Plotly = Plotly;\n",
       "        });\n",
       "        }\n",
       "        </script>\n",
       "        "
      ]
     },
     "metadata": {},
     "output_type": "display_data"
    }
   ],
   "source": [
    "# For offline use\n",
    "cf.go_offline()"
   ]
  },
  {
   "cell_type": "markdown",
   "metadata": {},
   "source": [
    "### Fake Data"
   ]
  },
  {
   "cell_type": "code",
   "execution_count": 11,
   "metadata": {},
   "outputs": [],
   "source": [
    "df = pd.DataFrame(np.random.randn(100,4),columns='A B C D'.split())"
   ]
  },
  {
   "cell_type": "code",
   "execution_count": 12,
   "metadata": {},
   "outputs": [
    {
     "data": {
      "text/html": [
       "<div>\n",
       "<style scoped>\n",
       "    .dataframe tbody tr th:only-of-type {\n",
       "        vertical-align: middle;\n",
       "    }\n",
       "\n",
       "    .dataframe tbody tr th {\n",
       "        vertical-align: top;\n",
       "    }\n",
       "\n",
       "    .dataframe thead th {\n",
       "        text-align: right;\n",
       "    }\n",
       "</style>\n",
       "<table border=\"1\" class=\"dataframe\">\n",
       "  <thead>\n",
       "    <tr style=\"text-align: right;\">\n",
       "      <th></th>\n",
       "      <th>A</th>\n",
       "      <th>B</th>\n",
       "      <th>C</th>\n",
       "      <th>D</th>\n",
       "    </tr>\n",
       "  </thead>\n",
       "  <tbody>\n",
       "    <tr>\n",
       "      <th>0</th>\n",
       "      <td>1.851152</td>\n",
       "      <td>0.457822</td>\n",
       "      <td>-0.026186</td>\n",
       "      <td>-1.137826</td>\n",
       "    </tr>\n",
       "    <tr>\n",
       "      <th>1</th>\n",
       "      <td>0.993264</td>\n",
       "      <td>0.434421</td>\n",
       "      <td>-0.377594</td>\n",
       "      <td>-1.932429</td>\n",
       "    </tr>\n",
       "    <tr>\n",
       "      <th>2</th>\n",
       "      <td>-0.203599</td>\n",
       "      <td>0.665899</td>\n",
       "      <td>-0.400923</td>\n",
       "      <td>0.412874</td>\n",
       "    </tr>\n",
       "    <tr>\n",
       "      <th>3</th>\n",
       "      <td>1.525777</td>\n",
       "      <td>2.895439</td>\n",
       "      <td>0.622602</td>\n",
       "      <td>-1.827889</td>\n",
       "    </tr>\n",
       "    <tr>\n",
       "      <th>4</th>\n",
       "      <td>0.798915</td>\n",
       "      <td>-0.047358</td>\n",
       "      <td>1.786741</td>\n",
       "      <td>0.265056</td>\n",
       "    </tr>\n",
       "  </tbody>\n",
       "</table>\n",
       "</div>"
      ],
      "text/plain": [
       "          A         B         C         D\n",
       "0  1.851152  0.457822 -0.026186 -1.137826\n",
       "1  0.993264  0.434421 -0.377594 -1.932429\n",
       "2 -0.203599  0.665899 -0.400923  0.412874\n",
       "3  1.525777  2.895439  0.622602 -1.827889\n",
       "4  0.798915 -0.047358  1.786741  0.265056"
      ]
     },
     "execution_count": 12,
     "metadata": {},
     "output_type": "execute_result"
    }
   ],
   "source": [
    "df.head()"
   ]
  },
  {
   "cell_type": "code",
   "execution_count": 13,
   "metadata": {},
   "outputs": [],
   "source": [
    "df2 = pd.DataFrame({'Category':['A','B','C'],'Values':[32,43,50]})"
   ]
  },
  {
   "cell_type": "code",
   "execution_count": 15,
   "metadata": {},
   "outputs": [
    {
     "data": {
      "text/html": [
       "<div>\n",
       "<style scoped>\n",
       "    .dataframe tbody tr th:only-of-type {\n",
       "        vertical-align: middle;\n",
       "    }\n",
       "\n",
       "    .dataframe tbody tr th {\n",
       "        vertical-align: top;\n",
       "    }\n",
       "\n",
       "    .dataframe thead th {\n",
       "        text-align: right;\n",
       "    }\n",
       "</style>\n",
       "<table border=\"1\" class=\"dataframe\">\n",
       "  <thead>\n",
       "    <tr style=\"text-align: right;\">\n",
       "      <th></th>\n",
       "      <th>Category</th>\n",
       "      <th>Values</th>\n",
       "    </tr>\n",
       "  </thead>\n",
       "  <tbody>\n",
       "    <tr>\n",
       "      <th>0</th>\n",
       "      <td>A</td>\n",
       "      <td>32</td>\n",
       "    </tr>\n",
       "    <tr>\n",
       "      <th>1</th>\n",
       "      <td>B</td>\n",
       "      <td>43</td>\n",
       "    </tr>\n",
       "    <tr>\n",
       "      <th>2</th>\n",
       "      <td>C</td>\n",
       "      <td>50</td>\n",
       "    </tr>\n",
       "  </tbody>\n",
       "</table>\n",
       "</div>"
      ],
      "text/plain": [
       "  Category  Values\n",
       "0        A      32\n",
       "1        B      43\n",
       "2        C      50"
      ]
     },
     "execution_count": 15,
     "metadata": {},
     "output_type": "execute_result"
    }
   ],
   "source": [
    "df2.head()"
   ]
  },
  {
   "cell_type": "code",
   "execution_count": 17,
   "metadata": {},
   "outputs": [
    {
     "data": {
      "text/plain": [
       "<Axes: >"
      ]
     },
     "execution_count": 17,
     "metadata": {},
     "output_type": "execute_result"
    },
    {
     "data": {
      "image/png": "[encoded data removed]",
      "text/plain": [
       "<Figure size 640x480 with 1 Axes>"
      ]
     },
     "metadata": {},
     "output_type": "display_data"
    }
   ],
   "source": [
    "df.plot()"
   ]
  },
  {
   "cell_type": "code",
   "execution_count": 18,
   "metadata": {},
   "outputs": [
    {
     "data": {
      "application/vnd.plotly.v1+json": {
       "config": {
        "linkText": "Export to plot.ly",
        "plotlyServerURL": "https://plot.ly",
        "showLink": true
       },
       "data": [
        {
         "line": {
          "color": "rgba(255, 153, 51, 1.0)",
          "dash": "solid",
          "shape": "linear",
          "width": 1.3
         },
         "mode": "lines",
         "name": "A",
         "text": "",
         "type": "scatter",
         "x": [
          0,
          1,
          2,
          3,
          4,
          5,
          6,
          7,
          8,
          9,
          10,
          11,
          12,
          13,
          14,
          15,
          16,
          17,
          18,
          19,
          20,
          21,
          22,
          23,
          24,
          25,
          26,
          27,
          28,
          29,
          30,
          31,
          32,
          33,
          34,
          35,
          36,
          37,
          38,
          39,
          40,
          41,
          42,
          43,
          44,
          45,
          46,
          47,
          48,
          49,
          50,
          51,
          52,
          53,
          54,
          55,
          56,
          57,
          58,
          59,
          60,
          61,
          62,
          63,
          64,
          65,
          66,
          67,
          68,
          69,
          70,
          71,
          72,
          73,
          74,
          75,
          76,
          77,
          78,
          79,
          80,
          81,
          82,
          83,
          84,
          85,
          86,
          87,
          88,
          89,
          90,
          91,
          92,
          93,
          94,
          95,
          96,
          97,
          98,
          99
         ],
         "y": [
          1.8511519134780592,
          0.9932635503226296,
          -0.20359937233167702,
          1.5257768804344916,
          0.7989148705029956,
          -0.7401919047073051,
          -0.8630213226964086,
          0.7013687303870811,
          -0.6247974874205289,
          0.10910461350500907,
          -0.11538038639040019,
          -0.02648740437455768,
          -0.43732218661342515,
          -0.7125768681585045,
          1.0133586523249136,
          -0.8616519633585347,
          -2.1230616381436356,
          -0.9749949035547446,
          0.5043444129264993,
          0.18825104298423934,
          -0.1432776826929805,
          0.5868807139113783,
          -0.5195842176454574,
          0.5736013901487871,
          -0.8173712354802753,
          0.6609920652626308,
          0.4168308410755578,
          0.5852219339927222,
          0.010802370600104156,
          -0.41273169823065897,
          -0.20857735228632088,
          -0.8416615204104636,
          0.052944189995554204,
          0.005686937411339467,
          0.3844520636603806,
          -1.0631481481915048,
          -0.11724016976317891,
          0.6630852320859335,
          0.5115801618934522,
          2.2561195936427705,
          0.3109656972874523,
          1.0994549480156748,
          -0.7208326396818907,
          -0.1977387682776627,
          -0.16040121850252212,
          0.794102216112637,
          0.7464271735955996,
          -0.647542908423245,
          -1.4984047157520854,
          -0.04075648099172144,
          2.264819816919803,
          -0.5552027566980382,
          -0.6748951474162486,
          -1.007916433892245,
          -1.3106915777664427,
          -1.8225142752914754,
          1.334030713362875,
          0.07572488075553528,
          -0.5830773501448417,
          0.38454318739022125,
          1.6110776348434117,
          -0.3174845924378902,
          0.8445097695504995,
          -0.41461007268988176,
          0.365775246787856,
          -1.496269233552682,
          0.3008252693310851,
          -0.39326338113914816,
          0.5008110351639224,
          -0.672608996952311,
          -1.0421214869609523,
          -0.11156295997918914,
          0.3092029035122308,
          0.28260084055062595,
          0.6949297525981041,
          -0.9319657740427375,
          -1.9514085275441992,
          -0.7841155550829054,
          -0.2998409331653889,
          0.03951669010773553,
          -0.0727240387013017,
          -1.9518606100277855,
          0.9883285146195404,
          0.7508231282590799,
          1.209982615480504,
          0.7921753321761256,
          -0.9946655537151281,
          1.3067058404422474,
          0.5712332382845726,
          -0.5386093862850266,
          0.30013330235114466,
          -1.4869281940691312,
          0.9620169121202278,
          1.114277142834589,
          -1.3650422850750878,
          0.3298673585324569,
          0.9810828436899907,
          -0.9471938559777627,
          -0.6557976449379221,
          0.5954509216804071
         ]
        },
        {
         "line": {
          "color": "rgba(55, 128, 191, 1.0)",
          "dash": "solid",
          "shape": "linear",
          "width": 1.3
         },
         "mode": "lines",
         "name": "B",
         "text": "",
         "type": "scatter",
         "x": [
          0,
          1,
          2,
          3,
          4,
          5,
          6,
          7,
          8,
          9,
          10,
          11,
          12,
          13,
          14,
          15,
          16,
          17,
          18,
          19,
          20,
          21,
          22,
          23,
          24,
          25,
          26,
          27,
          28,
          29,
          30,
          31,
          32,
          33,
          34,
          35,
          36,
          37,
          38,
          39,
          40,
          41,
          42,
          43,
          44,
          45,
          46,
          47,
          48,
          49,
          50,
          51,
          52,
          53,
          54,
          55,
          56,
          57,
          58,
          59,
          60,
          61,
          62,
          63,
          64,
          65,
          66,
          67,
          68,
          69,
          70,
          71,
          72,
          73,
          74,
          75,
          76,
          77,
          78,
          79,
          80,
          81,
          82,
          83,
          84,
          85,
          86,
          87,
          88,
          89,
          90,
          91,
          92,
          93,
          94,
          95,
          96,
          97,
          98,
          99
         ],
         "y": [
          0.45782172851946584,
          0.4344214900313023,
          0.6658987220489518,
          2.895439169924277,
          -0.04735765933408375,
          0.14131190059074383,
          -0.6793167129790467,
          -1.33376156241096,
          0.5129051932325256,
          -1.8426154108364827,
          0.5414409748569157,
          1.5180507825544969,
          0.6886450990269172,
          -0.2934527411501007,
          1.247504281758502,
          -0.6923792689440722,
          1.3358752949438544,
          3.3009912281541745,
          -1.1772677491504626,
          3.0413738620919792,
          0.1939145630185375,
          1.316173538909124,
          0.4568857268531616,
          -0.45612992746179104,
          0.36962784918045843,
          -1.0872283818862274,
          -1.268507848017612,
          1.3690989346946598,
          2.404028688631945,
          0.6953932785311059,
          0.16957159952658565,
          -0.820430620044971,
          1.3622920559583251,
          1.2194783554864315,
          0.5270262370309676,
          0.12673147173592114,
          0.6274228407561939,
          2.1519729621866612,
          -0.1503870682355416,
          -0.8032647853869308,
          -1.7334754959923606,
          1.1498738436198657,
          0.9024715532142299,
          -0.6299946110464666,
          -0.10479446190246755,
          0.3807627473851706,
          0.30429400869494144,
          -0.09747668965216076,
          0.034130483643344964,
          2.3125818412357924,
          -0.1195421817947865,
          -1.1451149065169193,
          -0.10831608455742575,
          0.7369917906053898,
          0.26648976296350796,
          0.04793412305608602,
          0.9135049453782854,
          -0.10974581209473559,
          1.2973055112154592,
          1.409109018811545,
          -0.4880439368583151,
          -0.41255478657338274,
          -1.6652247217350953,
          -0.3571409627887695,
          0.05774639003035528,
          -0.47989239854050036,
          -0.675449156696727,
          -1.1430868805095362,
          -0.006663393609728982,
          -1.0620327924289885,
          1.4718999257473302,
          -0.6113357749066433,
          0.36148596789055853,
          -0.24393747075538624,
          1.0748240094017911,
          1.4315036978476303,
          -1.2193491756829018,
          1.0785112055318675,
          1.0922663616955144,
          -0.5271205263605011,
          -0.27374315353472867,
          0.028154193665865107,
          -1.1351935382309162,
          1.4612941727462698,
          -0.3509454137365033,
          0.6106125561226777,
          0.7478186327737351,
          -0.7425042942314749,
          1.916765223828547,
          1.240873891099306,
          -0.4406511100190365,
          1.346795532600243,
          -1.4120166335488293,
          -0.9726486257162662,
          -0.2852448153129776,
          -3.0108073083457927,
          -1.7635744867048033,
          -1.0166029223919701,
          0.6767572035278194,
          0.14883919105469573
         ]
        },
        {
         "line": {
          "color": "rgba(50, 171, 96, 1.0)",
          "dash": "solid",
          "shape": "linear",
          "width": 1.3
         },
         "mode": "lines",
         "name": "C",
         "text": "",
         "type": "scatter",
         "x": [
          0,
          1,
          2,
          3,
          4,
          5,
          6,
          7,
          8,
          9,
          10,
          11,
          12,
          13,
          14,
          15,
          16,
          17,
          18,
          19,
          20,
          21,
          22,
          23,
          24,
          25,
          26,
          27,
          28,
          29,
          30,
          31,
          32,
          33,
          34,
          35,
          36,
          37,
          38,
          39,
          40,
          41,
          42,
          43,
          44,
          45,
          46,
          47,
          48,
          49,
          50,
          51,
          52,
          53,
          54,
          55,
          56,
          57,
          58,
          59,
          60,
          61,
          62,
          63,
          64,
          65,
          66,
          67,
          68,
          69,
          70,
          71,
          72,
          73,
          74,
          75,
          76,
          77,
          78,
          79,
          80,
          81,
          82,
          83,
          84,
          85,
          86,
          87,
          88,
          89,
          90,
          91,
          92,
          93,
          94,
          95,
          96,
          97,
          98,
          99
         ],
         "y": [
          -0.02618591574760387,
          -0.377594300707286,
          -0.40092302383041983,
          0.6226015130997402,
          1.7867408483882843,
          0.7007119925230211,
          2.0235266876031255,
          0.7310226916111957,
          -0.8653414905893465,
          0.07584612501092945,
          -0.28599575196194454,
          -1.1679062585670845,
          -1.5640424278658303,
          0.69945694861903,
          0.041094356317120245,
          -0.702094853390491,
          0.31749661894888925,
          0.6083667193106708,
          -0.13474980077139592,
          -0.021430909192688186,
          -0.25663331565876724,
          0.23446811217305416,
          -1.2019860895329175,
          0.9817031913314874,
          -1.1533314435179867,
          2.0537614550794383,
          0.31522051812578417,
          1.0356187024343126,
          0.6342422355054017,
          -0.053210739129649465,
          -1.0455114507622878,
          0.6593770973632015,
          -0.4269000489697485,
          -0.12334687895820025,
          0.2597387514760385,
          0.9080627172498368,
          -1.309092634952256,
          -0.3177438413176344,
          1.4491035428322692,
          -0.09189578438614497,
          -2.230077254290799,
          0.280010974541339,
          -0.6347446551844496,
          1.2737692460698924,
          2.2294210032717627,
          0.17808348459587112,
          -0.37426670210173707,
          -0.0069816754418047435,
          -0.46872482270574406,
          0.17977023674502898,
          -0.26884064984389405,
          0.590495165917698,
          -0.17716040762618426,
          0.20066817442639379,
          -0.7701778334238273,
          0.8914670475143059,
          -0.5225005737966002,
          0.44816652712536914,
          -2.96785333476731,
          -1.2653497639013929,
          0.1650183037865434,
          -0.05002056688627636,
          -0.8630009351378776,
          -1.5512253786732901,
          0.6326789472654919,
          -0.04081108924705931,
          0.039061581133283126,
          1.5497856366840013,
          -0.848995416695419,
          0.6339309928561057,
          -0.8910189407837548,
          0.9002056587236599,
          -0.2587337492688455,
          0.11279051279112261,
          -0.15365937140649974,
          -0.4910663874110523,
          1.2612638182302032,
          -2.4757182497454018,
          -1.7216730571254608,
          1.2725049971883207,
          -0.9929844025457848,
          -1.2821966314575877,
          -0.11954916159591458,
          -0.4564407666493159,
          1.508318000816078,
          -0.0934703839230235,
          1.2501652187292178,
          -0.46879820846883025,
          0.19844961707997533,
          -2.1459365572956846,
          -2.071426215645999,
          0.5888089437087306,
          -0.5112900157331203,
          -0.21275179229777214,
          -1.0890805879098995,
          -1.7598988719797426,
          -0.927097618061559,
          1.454395971413865,
          -1.6146175916064411,
          -1.0087391627527382
         ]
        },
        {
         "line": {
          "color": "rgba(128, 0, 128, 1.0)",
          "dash": "solid",
          "shape": "linear",
          "width": 1.3
         },
         "mode": "lines",
         "name": "D",
         "text": "",
         "type": "scatter",
         "x": [
          0,
          1,
          2,
          3,
          4,
          5,
          6,
          7,
          8,
          9,
          10,
          11,
          12,
          13,
          14,
          15,
          16,
          17,
          18,
          19,
          20,
          21,
          22,
          23,
          24,
          25,
          26,
          27,
          28,
          29,
          30,
          31,
          32,
          33,
          34,
          35,
          36,
          37,
          38,
          39,
          40,
          41,
          42,
          43,
          44,
          45,
          46,
          47,
          48,
          49,
          50,
          51,
          52,
          53,
          54,
          55,
          56,
          57,
          58,
          59,
          60,
          61,
          62,
          63,
          64,
          65,
          66,
          67,
          68,
          69,
          70,
          71,
          72,
          73,
          74,
          75,
          76,
          77,
          78,
          79,
          80,
          81,
          82,
          83,
          84,
          85,
          86,
          87,
          88,
          89,
          90,
          91,
          92,
          93,
          94,
          95,
          96,
          97,
          98,
          99
         ],
         "y": [
          -1.1378255351906068,
          -1.9324290264990547,
          0.412873950725174,
          -1.8278889943930452,
          0.26505636248391123,
          -0.4511448776762043,
          -0.16429593523549452,
          0.0441634524289908,
          0.8901929140789799,
          0.9528293002879427,
          -0.4164940835430671,
          2.092922924567059,
          1.4940839215309305,
          -0.2669443534103714,
          -0.1625073651105624,
          -1.0277864531700824,
          0.2714354464139936,
          0.7652238166343336,
          -0.6185867486415615,
          -0.3386571617039138,
          -0.3161248120466677,
          0.5710324792283733,
          -1.5249464802738668,
          -1.334373160303245,
          0.14496818123002284,
          0.45608868102679767,
          1.8003104449689311,
          -0.14253677500263165,
          0.3618331353222978,
          -1.0487580358894426,
          0.4168789695894866,
          -0.25965569714086006,
          -0.5990700644206105,
          -0.12754730946254858,
          0.1609097100695703,
          -0.612772377898927,
          0.5893269219618965,
          -0.007587308662248082,
          -1.2396321553365013,
          -0.3228524676932316,
          2.0691877262518066,
          0.21575433288173168,
          -0.33688431639229416,
          -0.584943042777959,
          -0.021978302530539635,
          0.7760964928004312,
          0.2341124389450538,
          -0.6804767518930187,
          0.29743695826935995,
          -1.2995657384445818,
          -1.1731514576749118,
          1.775715051156065,
          -0.26136178641767793,
          1.5428154798082716,
          0.34932184123664994,
          -0.15885079640979533,
          0.24607230937253333,
          0.2935565236057475,
          0.059958085203068945,
          0.6811151621009519,
          0.3124443053318358,
          0.35737431918893203,
          -0.4378153347902127,
          -0.09958545939881695,
          0.9507249410063682,
          -1.2055051283131741,
          -0.967407806976702,
          -0.5250235543538504,
          -1.3263512258412549,
          -0.5974841819256089,
          0.7858376437377379,
          0.16259035468987162,
          -0.7902561073258011,
          0.1382269110475103,
          1.6266262871594164,
          1.1377555894088582,
          -2.1287698279677607,
          0.7312169085870153,
          -0.286878671127475,
          0.5019090793008186,
          0.9090457145830573,
          -1.8404050305770792,
          0.21917425845647676,
          0.9400268734050679,
          0.07307879979290297,
          0.06257165723555402,
          0.41662989125303784,
          0.4517203457412141,
          0.6543843691753921,
          -0.7668755560446119,
          -0.020854012382010814,
          0.46738215329666766,
          0.6650453240884444,
          0.5787135254319014,
          -1.0381663200426428,
          0.025476372190832014,
          1.3203897331098426,
          -0.2783016747545439,
          1.919420967279771,
          -0.29386813886300417
         ]
        }
       ],
       "layout": {
        "legend": {
         "bgcolor": "#F5F6F9",
         "font": {
          "color": "#4D5663"
         }
        },
        "paper_bgcolor": "#F5F6F9",
        "plot_bgcolor": "#F5F6F9",
        "template": {
         "data": {
          "bar": [
           {
            "error_x": {
             "color": "#2a3f5f"
            },
            "error_y": {
             "color": "#2a3f5f"
            },
            "marker": {
             "line": {
              "color": "#E5ECF6",
              "width": 0.5
             },
             "pattern": {
              "fillmode": "overlay",
              "size": 10,
              "solidity": 0.2
             }
            },
            "type": "bar"
           }
          ],
          "barpolar": [
           {
            "marker": {
             "line": {
              "color": "#E5ECF6",
              "width": 0.5
             },
             "pattern": {
              "fillmode": "overlay",
              "size": 10,
              "solidity": 0.2
             }
            },
            "type": "barpolar"
           }
          ],
          "carpet": [
           {
            "aaxis": {
             "endlinecolor": "#2a3f5f",
             "gridcolor": "white",
             "linecolor": "white",
             "minorgridcolor": "white",
             "startlinecolor": "#2a3f5f"
            },
            "baxis": {
             "endlinecolor": "#2a3f5f",
             "gridcolor": "white",
             "linecolor": "white",
             "minorgridcolor": "white",
             "startlinecolor": "#2a3f5f"
            },
            "type": "carpet"
           }
          ],
          "choropleth": [
           {
            "colorbar": {
             "outlinewidth": 0,
             "ticks": ""
            },
            "type": "choropleth"
           }
          ],
          "contour": [
           {
            "colorbar": {
             "outlinewidth": 0,
             "ticks": ""
            },
            "colorscale": [
             [
              0,
              "#0d0887"
             ],
             [
              0.1111111111111111,
              "#46039f"
             ],
             [
              0.2222222222222222,
              "#7201a8"
             ],
             [
              0.3333333333333333,
              "#9c179e"
             ],
             [
              0.4444444444444444,
              "#bd3786"
             ],
             [
              0.5555555555555556,
              "#d8576b"
             ],
             [
              0.6666666666666666,
              "#ed7953"
             ],
             [
              0.7777777777777778,
              "#fb9f3a"
             ],
             [
              0.8888888888888888,
              "#fdca26"
             ],
             [
              1,
              "#f0f921"
             ]
            ],
            "type": "contour"
           }
          ],
          "contourcarpet": [
           {
            "colorbar": {
             "outlinewidth": 0,
             "ticks": ""
            },
            "type": "contourcarpet"
           }
          ],
          "heatmap": [
           {
            "colorbar": {
             "outlinewidth": 0,
             "ticks": ""
            },
            "colorscale": [
             [
              0,
              "#0d0887"
             ],
             [
              0.1111111111111111,
              "#46039f"
             ],
             [
              0.2222222222222222,
              "#7201a8"
             ],
             [
              0.3333333333333333,
              "#9c179e"
             ],
             [
              0.4444444444444444,
              "#bd3786"
             ],
             [
              0.5555555555555556,
              "#d8576b"
             ],
             [
              0.6666666666666666,
              "#ed7953"
             ],
             [
              0.7777777777777778,
              "#fb9f3a"
             ],
             [
              0.8888888888888888,
              "#fdca26"
             ],
             [
              1,
              "#f0f921"
             ]
            ],
            "type": "heatmap"
           }
          ],
          "heatmapgl": [
           {
            "colorbar": {
             "outlinewidth": 0,
             "ticks": ""
            },
            "colorscale": [
             [
              0,
              "#0d0887"
             ],
             [
              0.1111111111111111,
              "#46039f"
             ],
             [
              0.2222222222222222,
              "#7201a8"
             ],
             [
              0.3333333333333333,
              "#9c179e"
             ],
             [
              0.4444444444444444,
              "#bd3786"
             ],
             [
              0.5555555555555556,
              "#d8576b"
             ],
             [
              0.6666666666666666,
              "#ed7953"
             ],
             [
              0.7777777777777778,
              "#fb9f3a"
             ],
             [
              0.8888888888888888,
              "#fdca26"
             ],
             [
              1,
              "#f0f921"
             ]
            ],
            "type": "heatmapgl"
           }
          ],
          "histogram": [
           {
            "marker": {
             "pattern": {
              "fillmode": "overlay",
              "size": 10,
              "solidity": 0.2
             }
            },
            "type": "histogram"
           }
          ],
          "histogram2d": [
           {
            "colorbar": {
             "outlinewidth": 0,
             "ticks": ""
            },
            "colorscale": [
             [
              0,
              "#0d0887"
             ],
             [
              0.1111111111111111,
              "#46039f"
             ],
             [
              0.2222222222222222,
              "#7201a8"
             ],
             [
              0.3333333333333333,
              "#9c179e"
             ],
             [
              0.4444444444444444,
              "#bd3786"
             ],
             [
              0.5555555555555556,
              "#d8576b"
             ],
             [
              0.6666666666666666,
              "#ed7953"
             ],
             [
              0.7777777777777778,
              "#fb9f3a"
             ],
             [
              0.8888888888888888,
              "#fdca26"
             ],
             [
              1,
              "#f0f921"
             ]
            ],
            "type": "histogram2d"
           }
          ],
          "histogram2dcontour": [
           {
            "colorbar": {
             "outlinewidth": 0,
             "ticks": ""
            },
            "colorscale": [
             [
              0,
              "#0d0887"
             ],
             [
              0.1111111111111111,
              "#46039f"
             ],
             [
              0.2222222222222222,
              "#7201a8"
             ],
             [
              0.3333333333333333,
              "#9c179e"
             ],
             [
              0.4444444444444444,
              "#bd3786"
             ],
             [
              0.5555555555555556,
              "#d8576b"
             ],
             [
              0.6666666666666666,
              "#ed7953"
             ],
             [
              0.7777777777777778,
              "#fb9f3a"
             ],
             [
              0.8888888888888888,
              "#fdca26"
             ],
             [
              1,
              "#f0f921"
             ]
            ],
            "type": "histogram2dcontour"
           }
          ],
          "mesh3d": [
           {
            "colorbar": {
             "outlinewidth": 0,
             "ticks": ""
            },
            "type": "mesh3d"
           }
          ],
          "parcoords": [
           {
            "line": {
             "colorbar": {
              "outlinewidth": 0,
              "ticks": ""
             }
            },
            "type": "parcoords"
           }
          ],
          "pie": [
           {
            "automargin": true,
            "type": "pie"
           }
          ],
          "scatter": [
           {
            "fillpattern": {
             "fillmode": "overlay",
             "size": 10,
             "solidity": 0.2
            },
            "type": "scatter"
           }
          ],
          "scatter3d": [
           {
            "line": {
             "colorbar": {
              "outlinewidth": 0,
              "ticks": ""
             }
            },
            "marker": {
             "colorbar": {
              "outlinewidth": 0,
              "ticks": ""
             }
            },
            "type": "scatter3d"
           }
          ],
          "scattercarpet": [
           {
            "marker": {
             "colorbar": {
              "outlinewidth": 0,
              "ticks": ""
             }
            },
            "type": "scattercarpet"
           }
          ],
          "scattergeo": [
           {
            "marker": {
             "colorbar": {
              "outlinewidth": 0,
              "ticks": ""
             }
            },
            "type": "scattergeo"
           }
          ],
          "scattergl": [
           {
            "marker": {
             "colorbar": {
              "outlinewidth": 0,
              "ticks": ""
             }
            },
            "type": "scattergl"
           }
          ],
          "scattermapbox": [
           {
            "marker": {
             "colorbar": {
              "outlinewidth": 0,
              "ticks": ""
             }
            },
            "type": "scattermapbox"
           }
          ],
          "scatterpolar": [
           {
            "marker": {
             "colorbar": {
              "outlinewidth": 0,
              "ticks": ""
             }
            },
            "type": "scatterpolar"
           }
          ],
          "scatterpolargl": [
           {
            "marker": {
             "colorbar": {
              "outlinewidth": 0,
              "ticks": ""
             }
            },
            "type": "scatterpolargl"
           }
          ],
          "scatterternary": [
           {
            "marker": {
             "colorbar": {
              "outlinewidth": 0,
              "ticks": ""
             }
            },
            "type": "scatterternary"
           }
          ],
          "surface": [
           {
            "colorbar": {
             "outlinewidth": 0,
             "ticks": ""
            },
            "colorscale": [
             [
              0,
              "#0d0887"
             ],
             [
              0.1111111111111111,
              "#46039f"
             ],
             [
              0.2222222222222222,
              "#7201a8"
             ],
             [
              0.3333333333333333,
              "#9c179e"
             ],
             [
              0.4444444444444444,
              "#bd3786"
             ],
             [
              0.5555555555555556,
              "#d8576b"
             ],
             [
              0.6666666666666666,
              "#ed7953"
             ],
             [
              0.7777777777777778,
              "#fb9f3a"
             ],
             [
              0.8888888888888888,
              "#fdca26"
             ],
             [
              1,
              "#f0f921"
             ]
            ],
            "type": "surface"
           }
          ],
          "table": [
           {
            "cells": {
             "fill": {
              "color": "#EBF0F8"
             },
             "line": {
              "color": "white"
             }
            },
            "header": {
             "fill": {
              "color": "#C8D4E3"
             },
             "line": {
              "color": "white"
             }
            },
            "type": "table"
           }
          ]
         },
         "layout": {
          "annotationdefaults": {
           "arrowcolor": "#2a3f5f",
           "arrowhead": 0,
           "arrowwidth": 1
          },
          "autotypenumbers": "strict",
          "coloraxis": {
           "colorbar": {
            "outlinewidth": 0,
            "ticks": ""
           }
          },
          "colorscale": {
           "diverging": [
            [
             0,
             "#8e0152"
            ],
            [
             0.1,
             "#c51b7d"
            ],
            [
             0.2,
             "#de77ae"
            ],
            [
             0.3,
             "#f1b6da"
            ],
            [
             0.4,
             "#fde0ef"
            ],
            [
             0.5,
             "#f7f7f7"
            ],
            [
             0.6,
             "#e6f5d0"
            ],
            [
             0.7,
             "#b8e186"
            ],
            [
             0.8,
             "#7fbc41"
            ],
            [
             0.9,
             "#4d9221"
            ],
            [
             1,
             "#276419"
            ]
           ],
           "sequential": [
            [
             0,
             "#0d0887"
            ],
            [
             0.1111111111111111,
             "#46039f"
            ],
            [
             0.2222222222222222,
             "#7201a8"
            ],
            [
             0.3333333333333333,
             "#9c179e"
            ],
            [
             0.4444444444444444,
             "#bd3786"
            ],
            [
             0.5555555555555556,
             "#d8576b"
            ],
            [
             0.6666666666666666,
             "#ed7953"
            ],
            [
             0.7777777777777778,
             "#fb9f3a"
            ],
            [
             0.8888888888888888,
             "#fdca26"
            ],
            [
             1,
             "#f0f921"
            ]
           ],
           "sequentialminus": [
            [
             0,
             "#0d0887"
            ],
            [
             0.1111111111111111,
             "#46039f"
            ],
            [
             0.2222222222222222,
             "#7201a8"
            ],
            [
             0.3333333333333333,
             "#9c179e"
            ],
            [
             0.4444444444444444,
             "#bd3786"
            ],
            [
             0.5555555555555556,
             "#d8576b"
            ],
            [
             0.6666666666666666,
             "#ed7953"
            ],
            [
             0.7777777777777778,
             "#fb9f3a"
            ],
            [
             0.8888888888888888,
             "#fdca26"
            ],
            [
             1,
             "#f0f921"
            ]
           ]
          },
          "colorway": [
           "#636efa",
           "#EF553B",
           "#00cc96",
           "#ab63fa",
           "#FFA15A",
           "#19d3f3",
           "#FF6692",
           "#B6E880",
           "#FF97FF",
           "#FECB52"
          ],
          "font": {
           "color": "#2a3f5f"
          },
          "geo": {
           "bgcolor": "white",
           "lakecolor": "white",
           "landcolor": "#E5ECF6",
           "showlakes": true,
           "showland": true,
           "subunitcolor": "white"
          },
          "hoverlabel": {
           "align": "left"
          },
          "hovermode": "closest",
          "mapbox": {
           "style": "light"
          },
          "paper_bgcolor": "white",
          "plot_bgcolor": "#E5ECF6",
          "polar": {
           "angularaxis": {
            "gridcolor": "white",
            "linecolor": "white",
            "ticks": ""
           },
           "bgcolor": "#E5ECF6",
           "radialaxis": {
            "gridcolor": "white",
            "linecolor": "white",
            "ticks": ""
           }
          },
          "scene": {
           "xaxis": {
            "backgroundcolor": "#E5ECF6",
            "gridcolor": "white",
            "gridwidth": 2,
            "linecolor": "white",
            "showbackground": true,
            "ticks": "",
            "zerolinecolor": "white"
           },
           "yaxis": {
            "backgroundcolor": "#E5ECF6",
            "gridcolor": "white",
            "gridwidth": 2,
            "linecolor": "white",
            "showbackground": true,
            "ticks": "",
            "zerolinecolor": "white"
           },
           "zaxis": {
            "backgroundcolor": "#E5ECF6",
            "gridcolor": "white",
            "gridwidth": 2,
            "linecolor": "white",
            "showbackground": true,
            "ticks": "",
            "zerolinecolor": "white"
           }
          },
          "shapedefaults": {
           "line": {
            "color": "#2a3f5f"
           }
          },
          "ternary": {
           "aaxis": {
            "gridcolor": "white",
            "linecolor": "white",
            "ticks": ""
           },
           "baxis": {
            "gridcolor": "white",
            "linecolor": "white",
            "ticks": ""
           },
           "bgcolor": "#E5ECF6",
           "caxis": {
            "gridcolor": "white",
            "linecolor": "white",
            "ticks": ""
           }
          },
          "title": {
           "x": 0.05
          },
          "xaxis": {
           "automargin": true,
           "gridcolor": "white",
           "linecolor": "white",
           "ticks": "",
           "title": {
            "standoff": 15
           },
           "zerolinecolor": "white",
           "zerolinewidth": 2
          },
          "yaxis": {
           "automargin": true,
           "gridcolor": "white",
           "linecolor": "white",
           "ticks": "",
           "title": {
            "standoff": 15
           },
           "zerolinecolor": "white",
           "zerolinewidth": 2
          }
         }
        },
        "title": {
         "font": {
          "color": "#4D5663"
         }
        },
        "xaxis": {
         "gridcolor": "#E1E5ED",
         "showgrid": true,
         "tickfont": {
          "color": "#4D5663"
         },
         "title": {
          "font": {
           "color": "#4D5663"
          },
          "text": ""
         },
         "zerolinecolor": "#E1E5ED"
        },
        "yaxis": {
         "gridcolor": "#E1E5ED",
         "showgrid": true,
         "tickfont": {
          "color": "#4D5663"
         },
         "title": {
          "font": {
           "color": "#4D5663"
          },
          "text": ""
         },
         "zerolinecolor": "#E1E5ED"
        }
       }
      },
      "text/html": [
       "<div>                            <div id=\"a4f0e366-4af7-4390-ac9f-8dd2fd67f7f5\" class=\"plotly-graph-div\" style=\"height:525px; width:100%;\"></div>            <script type=\"text/javascript\">                require([\"plotly\"], function(Plotly) {                    window.PLOTLYENV=window.PLOTLYENV || {};\n",
       "                    window.PLOTLYENV.BASE_URL='https://plot.ly';                                    if (document.getElementById(\"a4f0e366-4af7-4390-ac9f-8dd2fd67f7f5\")) {                    Plotly.newPlot(                        \"a4f0e366-4af7-4390-ac9f-8dd2fd67f7f5\",                        [{\"line\":{\"color\":\"rgba(255, 153, 51, 1.0)\",\"dash\":\"solid\",\"shape\":\"linear\",\"width\":1.3},\"mode\":\"lines\",\"name\":\"A\",\"text\":\"\",\"x\":[0,1,2,3,4,5,6,7,8,9,10,11,12,13,14,15,16,17,18,19,20,21,22,23,24,25,26,27,28,29,30,31,32,33,34,35,36,37,38,39,40,41,42,43,44,45,46,47,48,49,50,51,52,53,54,55,56,57,58,59,60,61,62,63,64,65,66,67,68,69,70,71,72,73,74,75,76,77,78,79,80,81,82,83,84,85,86,87,88,89,90,91,92,93,94,95,96,97,98,99],\"y\":[1.8511519134780592,0.9932635503226296,-0.20359937233167702,1.5257768804344916,0.7989148705029956,-0.7401919047073051,-0.8630213226964086,0.7013687303870811,-0.6247974874205289,0.10910461350500907,-0.11538038639040019,-0.02648740437455768,-0.43732218661342515,-0.7125768681585045,1.0133586523249136,-0.8616519633585347,-2.1230616381436356,-0.9749949035547446,0.5043444129264993,0.18825104298423934,-0.1432776826929805,0.5868807139113783,-0.5195842176454574,0.5736013901487871,-0.8173712354802753,0.6609920652626308,0.4168308410755578,0.5852219339927222,0.010802370600104156,-0.41273169823065897,-0.20857735228632088,-0.8416615204104636,0.052944189995554204,0.005686937411339467,0.3844520636603806,-1.0631481481915048,-0.11724016976317891,0.6630852320859335,0.5115801618934522,2.2561195936427705,0.3109656972874523,1.0994549480156748,-0.7208326396818907,-0.1977387682776627,-0.16040121850252212,0.794102216112637,0.7464271735955996,-0.647542908423245,-1.4984047157520854,-0.04075648099172144,2.264819816919803,-0.5552027566980382,-0.6748951474162486,-1.007916433892245,-1.3106915777664427,-1.8225142752914754,1.334030713362875,0.07572488075553528,-0.5830773501448417,0.38454318739022125,1.6110776348434117,-0.3174845924378902,0.8445097695504995,-0.41461007268988176,0.365775246787856,-1.496269233552682,0.3008252693310851,-0.39326338113914816,0.5008110351639224,-0.672608996952311,-1.0421214869609523,-0.11156295997918914,0.3092029035122308,0.28260084055062595,0.6949297525981041,-0.9319657740427375,-1.9514085275441992,-0.7841155550829054,-0.2998409331653889,0.03951669010773553,-0.0727240387013017,-1.9518606100277855,0.9883285146195404,0.7508231282590799,1.209982615480504,0.7921753321761256,-0.9946655537151281,1.3067058404422474,0.5712332382845726,-0.5386093862850266,0.30013330235114466,-1.4869281940691312,0.9620169121202278,1.114277142834589,-1.3650422850750878,0.3298673585324569,0.9810828436899907,-0.9471938559777627,-0.6557976449379221,0.5954509216804071],\"type\":\"scatter\"},{\"line\":{\"color\":\"rgba(55, 128, 191, 1.0)\",\"dash\":\"solid\",\"shape\":\"linear\",\"width\":1.3},\"mode\":\"lines\",\"name\":\"B\",\"text\":\"\",\"x\":[0,1,2,3,4,5,6,7,8,9,10,11,12,13,14,15,16,17,18,19,20,21,22,23,24,25,26,27,28,29,30,31,32,33,34,35,36,37,38,39,40,41,42,43,44,45,46,47,48,49,50,51,52,53,54,55,56,57,58,59,60,61,62,63,64,65,66,67,68,69,70,71,72,73,74,75,76,77,78,79,80,81,82,83,84,85,86,87,88,89,90,91,92,93,94,95,96,97,98,99],\"y\":[0.45782172851946584,0.4344214900313023,0.6658987220489518,2.895439169924277,-0.04735765933408375,0.14131190059074383,-0.6793167129790467,-1.33376156241096,0.5129051932325256,-1.8426154108364827,0.5414409748569157,1.5180507825544969,0.6886450990269172,-0.2934527411501007,1.247504281758502,-0.6923792689440722,1.3358752949438544,3.3009912281541745,-1.1772677491504626,3.0413738620919792,0.1939145630185375,1.316173538909124,0.4568857268531616,-0.45612992746179104,0.36962784918045843,-1.0872283818862274,-1.268507848017612,1.3690989346946598,2.404028688631945,0.6953932785311059,0.16957159952658565,-0.820430620044971,1.3622920559583251,1.2194783554864315,0.5270262370309676,0.12673147173592114,0.6274228407561939,2.1519729621866612,-0.1503870682355416,-0.8032647853869308,-1.7334754959923606,1.1498738436198657,0.9024715532142299,-0.6299946110464666,-0.10479446190246755,0.3807627473851706,0.30429400869494144,-0.09747668965216076,0.034130483643344964,2.3125818412357924,-0.1195421817947865,-1.1451149065169193,-0.10831608455742575,0.7369917906053898,0.26648976296350796,0.04793412305608602,0.9135049453782854,-0.10974581209473559,1.2973055112154592,1.409109018811545,-0.4880439368583151,-0.41255478657338274,-1.6652247217350953,-0.3571409627887695,0.05774639003035528,-0.47989239854050036,-0.675449156696727,-1.1430868805095362,-0.006663393609728982,-1.0620327924289885,1.4718999257473302,-0.6113357749066433,0.36148596789055853,-0.24393747075538624,1.0748240094017911,1.4315036978476303,-1.2193491756829018,1.0785112055318675,1.0922663616955144,-0.5271205263605011,-0.27374315353472867,0.028154193665865107,-1.1351935382309162,1.4612941727462698,-0.3509454137365033,0.6106125561226777,0.7478186327737351,-0.7425042942314749,1.916765223828547,1.240873891099306,-0.4406511100190365,1.346795532600243,-1.4120166335488293,-0.9726486257162662,-0.2852448153129776,-3.0108073083457927,-1.7635744867048033,-1.0166029223919701,0.6767572035278194,0.14883919105469573],\"type\":\"scatter\"},{\"line\":{\"color\":\"rgba(50, 171, 96, 1.0)\",\"dash\":\"solid\",\"shape\":\"linear\",\"width\":1.3},\"mode\":\"lines\",\"name\":\"C\",\"text\":\"\",\"x\":[0,1,2,3,4,5,6,7,8,9,10,11,12,13,14,15,16,17,18,19,20,21,22,23,24,25,26,27,28,29,30,31,32,33,34,35,36,37,38,39,40,41,42,43,44,45,46,47,48,49,50,51,52,53,54,55,56,57,58,59,60,61,62,63,64,65,66,67,68,69,70,71,72,73,74,75,76,77,78,79,80,81,82,83,84,85,86,87,88,89,90,91,92,93,94,95,96,97,98,99],\"y\":[-0.02618591574760387,-0.377594300707286,-0.40092302383041983,0.6226015130997402,1.7867408483882843,0.7007119925230211,2.0235266876031255,0.7310226916111957,-0.8653414905893465,0.07584612501092945,-0.28599575196194454,-1.1679062585670845,-1.5640424278658303,0.69945694861903,0.041094356317120245,-0.702094853390491,0.31749661894888925,0.6083667193106708,-0.13474980077139592,-0.021430909192688186,-0.25663331565876724,0.23446811217305416,-1.2019860895329175,0.9817031913314874,-1.1533314435179867,2.0537614550794383,0.31522051812578417,1.0356187024343126,0.6342422355054017,-0.053210739129649465,-1.0455114507622878,0.6593770973632015,-0.4269000489697485,-0.12334687895820025,0.2597387514760385,0.9080627172498368,-1.309092634952256,-0.3177438413176344,1.4491035428322692,-0.09189578438614497,-2.230077254290799,0.280010974541339,-0.6347446551844496,1.2737692460698924,2.2294210032717627,0.17808348459587112,-0.37426670210173707,-0.0069816754418047435,-0.46872482270574406,0.17977023674502898,-0.26884064984389405,0.590495165917698,-0.17716040762618426,0.20066817442639379,-0.7701778334238273,0.8914670475143059,-0.5225005737966002,0.44816652712536914,-2.96785333476731,-1.2653497639013929,0.1650183037865434,-0.05002056688627636,-0.8630009351378776,-1.5512253786732901,0.6326789472654919,-0.04081108924705931,0.039061581133283126,1.5497856366840013,-0.848995416695419,0.6339309928561057,-0.8910189407837548,0.9002056587236599,-0.2587337492688455,0.11279051279112261,-0.15365937140649974,-0.4910663874110523,1.2612638182302032,-2.4757182497454018,-1.7216730571254608,1.2725049971883207,-0.9929844025457848,-1.2821966314575877,-0.11954916159591458,-0.4564407666493159,1.508318000816078,-0.0934703839230235,1.2501652187292178,-0.46879820846883025,0.19844961707997533,-2.1459365572956846,-2.071426215645999,0.5888089437087306,-0.5112900157331203,-0.21275179229777214,-1.0890805879098995,-1.7598988719797426,-0.927097618061559,1.454395971413865,-1.6146175916064411,-1.0087391627527382],\"type\":\"scatter\"},{\"line\":{\"color\":\"rgba(128, 0, 128, 1.0)\",\"dash\":\"solid\",\"shape\":\"linear\",\"width\":1.3},\"mode\":\"lines\",\"name\":\"D\",\"text\":\"\",\"x\":[0,1,2,3,4,5,6,7,8,9,10,11,12,13,14,15,16,17,18,19,20,21,22,23,24,25,26,27,28,29,30,31,32,33,34,35,36,37,38,39,40,41,42,43,44,45,46,47,48,49,50,51,52,53,54,55,56,57,58,59,60,61,62,63,64,65,66,67,68,69,70,71,72,73,74,75,76,77,78,79,80,81,82,83,84,85,86,87,88,89,90,91,92,93,94,95,96,97,98,99],\"y\":[-1.1378255351906068,-1.9324290264990547,0.412873950725174,-1.8278889943930452,0.26505636248391123,-0.4511448776762043,-0.16429593523549452,0.0441634524289908,0.8901929140789799,0.9528293002879427,-0.4164940835430671,2.092922924567059,1.4940839215309305,-0.2669443534103714,-0.1625073651105624,-1.0277864531700824,0.2714354464139936,0.7652238166343336,-0.6185867486415615,-0.3386571617039138,-0.3161248120466677,0.5710324792283733,-1.5249464802738668,-1.334373160303245,0.14496818123002284,0.45608868102679767,1.8003104449689311,-0.14253677500263165,0.3618331353222978,-1.0487580358894426,0.4168789695894866,-0.25965569714086006,-0.5990700644206105,-0.12754730946254858,0.1609097100695703,-0.612772377898927,0.5893269219618965,-0.007587308662248082,-1.2396321553365013,-0.3228524676932316,2.0691877262518066,0.21575433288173168,-0.33688431639229416,-0.584943042777959,-0.021978302530539635,0.7760964928004312,0.2341124389450538,-0.6804767518930187,0.29743695826935995,-1.2995657384445818,-1.1731514576749118,1.775715051156065,-0.26136178641767793,1.5428154798082716,0.34932184123664994,-0.15885079640979533,0.24607230937253333,0.2935565236057475,0.059958085203068945,0.6811151621009519,0.3124443053318358,0.35737431918893203,-0.4378153347902127,-0.09958545939881695,0.9507249410063682,-1.2055051283131741,-0.967407806976702,-0.5250235543538504,-1.3263512258412549,-0.5974841819256089,0.7858376437377379,0.16259035468987162,-0.7902561073258011,0.1382269110475103,1.6266262871594164,1.1377555894088582,-2.1287698279677607,0.7312169085870153,-0.286878671127475,0.5019090793008186,0.9090457145830573,-1.8404050305770792,0.21917425845647676,0.9400268734050679,0.07307879979290297,0.06257165723555402,0.41662989125303784,0.4517203457412141,0.6543843691753921,-0.7668755560446119,-0.020854012382010814,0.46738215329666766,0.6650453240884444,0.5787135254319014,-1.0381663200426428,0.025476372190832014,1.3203897331098426,-0.2783016747545439,1.919420967279771,-0.29386813886300417],\"type\":\"scatter\"}],                        {\"legend\":{\"bgcolor\":\"#F5F6F9\",\"font\":{\"color\":\"#4D5663\"}},\"paper_bgcolor\":\"#F5F6F9\",\"plot_bgcolor\":\"#F5F6F9\",\"template\":{\"data\":{\"barpolar\":[{\"marker\":{\"line\":{\"color\":\"#E5ECF6\",\"width\":0.5},\"pattern\":{\"fillmode\":\"overlay\",\"size\":10,\"solidity\":0.2}},\"type\":\"barpolar\"}],\"bar\":[{\"error_x\":{\"color\":\"#2a3f5f\"},\"error_y\":{\"color\":\"#2a3f5f\"},\"marker\":{\"line\":{\"color\":\"#E5ECF6\",\"width\":0.5},\"pattern\":{\"fillmode\":\"overlay\",\"size\":10,\"solidity\":0.2}},\"type\":\"bar\"}],\"carpet\":[{\"aaxis\":{\"endlinecolor\":\"#2a3f5f\",\"gridcolor\":\"white\",\"linecolor\":\"white\",\"minorgridcolor\":\"white\",\"startlinecolor\":\"#2a3f5f\"},\"baxis\":{\"endlinecolor\":\"#2a3f5f\",\"gridcolor\":\"white\",\"linecolor\":\"white\",\"minorgridcolor\":\"white\",\"startlinecolor\":\"#2a3f5f\"},\"type\":\"carpet\"}],\"choropleth\":[{\"colorbar\":{\"outlinewidth\":0,\"ticks\":\"\"},\"type\":\"choropleth\"}],\"contourcarpet\":[{\"colorbar\":{\"outlinewidth\":0,\"ticks\":\"\"},\"type\":\"contourcarpet\"}],\"contour\":[{\"colorbar\":{\"outlinewidth\":0,\"ticks\":\"\"},\"colorscale\":[[0.0,\"#0d0887\"],[0.1111111111111111,\"#46039f\"],[0.2222222222222222,\"#7201a8\"],[0.3333333333333333,\"#9c179e\"],[0.4444444444444444,\"#bd3786\"],[0.5555555555555556,\"#d8576b\"],[0.6666666666666666,\"#ed7953\"],[0.7777777777777778,\"#fb9f3a\"],[0.8888888888888888,\"#fdca26\"],[1.0,\"#f0f921\"]],\"type\":\"contour\"}],\"heatmapgl\":[{\"colorbar\":{\"outlinewidth\":0,\"ticks\":\"\"},\"colorscale\":[[0.0,\"#0d0887\"],[0.1111111111111111,\"#46039f\"],[0.2222222222222222,\"#7201a8\"],[0.3333333333333333,\"#9c179e\"],[0.4444444444444444,\"#bd3786\"],[0.5555555555555556,\"#d8576b\"],[0.6666666666666666,\"#ed7953\"],[0.7777777777777778,\"#fb9f3a\"],[0.8888888888888888,\"#fdca26\"],[1.0,\"#f0f921\"]],\"type\":\"heatmapgl\"}],\"heatmap\":[{\"colorbar\":{\"outlinewidth\":0,\"ticks\":\"\"},\"colorscale\":[[0.0,\"#0d0887\"],[0.1111111111111111,\"#46039f\"],[0.2222222222222222,\"#7201a8\"],[0.3333333333333333,\"#9c179e\"],[0.4444444444444444,\"#bd3786\"],[0.5555555555555556,\"#d8576b\"],[0.6666666666666666,\"#ed7953\"],[0.7777777777777778,\"#fb9f3a\"],[0.8888888888888888,\"#fdca26\"],[1.0,\"#f0f921\"]],\"type\":\"heatmap\"}],\"histogram2dcontour\":[{\"colorbar\":{\"outlinewidth\":0,\"ticks\":\"\"},\"colorscale\":[[0.0,\"#0d0887\"],[0.1111111111111111,\"#46039f\"],[0.2222222222222222,\"#7201a8\"],[0.3333333333333333,\"#9c179e\"],[0.4444444444444444,\"#bd3786\"],[0.5555555555555556,\"#d8576b\"],[0.6666666666666666,\"#ed7953\"],[0.7777777777777778,\"#fb9f3a\"],[0.8888888888888888,\"#fdca26\"],[1.0,\"#f0f921\"]],\"type\":\"histogram2dcontour\"}],\"histogram2d\":[{\"colorbar\":{\"outlinewidth\":0,\"ticks\":\"\"},\"colorscale\":[[0.0,\"#0d0887\"],[0.1111111111111111,\"#46039f\"],[0.2222222222222222,\"#7201a8\"],[0.3333333333333333,\"#9c179e\"],[0.4444444444444444,\"#bd3786\"],[0.5555555555555556,\"#d8576b\"],[0.6666666666666666,\"#ed7953\"],[0.7777777777777778,\"#fb9f3a\"],[0.8888888888888888,\"#fdca26\"],[1.0,\"#f0f921\"]],\"type\":\"histogram2d\"}],\"histogram\":[{\"marker\":{\"pattern\":{\"fillmode\":\"overlay\",\"size\":10,\"solidity\":0.2}},\"type\":\"histogram\"}],\"mesh3d\":[{\"colorbar\":{\"outlinewidth\":0,\"ticks\":\"\"},\"type\":\"mesh3d\"}],\"parcoords\":[{\"line\":{\"colorbar\":{\"outlinewidth\":0,\"ticks\":\"\"}},\"type\":\"parcoords\"}],\"pie\":[{\"automargin\":true,\"type\":\"pie\"}],\"scatter3d\":[{\"line\":{\"colorbar\":{\"outlinewidth\":0,\"ticks\":\"\"}},\"marker\":{\"colorbar\":{\"outlinewidth\":0,\"ticks\":\"\"}},\"type\":\"scatter3d\"}],\"scattercarpet\":[{\"marker\":{\"colorbar\":{\"outlinewidth\":0,\"ticks\":\"\"}},\"type\":\"scattercarpet\"}],\"scattergeo\":[{\"marker\":{\"colorbar\":{\"outlinewidth\":0,\"ticks\":\"\"}},\"type\":\"scattergeo\"}],\"scattergl\":[{\"marker\":{\"colorbar\":{\"outlinewidth\":0,\"ticks\":\"\"}},\"type\":\"scattergl\"}],\"scattermapbox\":[{\"marker\":{\"colorbar\":{\"outlinewidth\":0,\"ticks\":\"\"}},\"type\":\"scattermapbox\"}],\"scatterpolargl\":[{\"marker\":{\"colorbar\":{\"outlinewidth\":0,\"ticks\":\"\"}},\"type\":\"scatterpolargl\"}],\"scatterpolar\":[{\"marker\":{\"colorbar\":{\"outlinewidth\":0,\"ticks\":\"\"}},\"type\":\"scatterpolar\"}],\"scatter\":[{\"fillpattern\":{\"fillmode\":\"overlay\",\"size\":10,\"solidity\":0.2},\"type\":\"scatter\"}],\"scatterternary\":[{\"marker\":{\"colorbar\":{\"outlinewidth\":0,\"ticks\":\"\"}},\"type\":\"scatterternary\"}],\"surface\":[{\"colorbar\":{\"outlinewidth\":0,\"ticks\":\"\"},\"colorscale\":[[0.0,\"#0d0887\"],[0.1111111111111111,\"#46039f\"],[0.2222222222222222,\"#7201a8\"],[0.3333333333333333,\"#9c179e\"],[0.4444444444444444,\"#bd3786\"],[0.5555555555555556,\"#d8576b\"],[0.6666666666666666,\"#ed7953\"],[0.7777777777777778,\"#fb9f3a\"],[0.8888888888888888,\"#fdca26\"],[1.0,\"#f0f921\"]],\"type\":\"surface\"}],\"table\":[{\"cells\":{\"fill\":{\"color\":\"#EBF0F8\"},\"line\":{\"color\":\"white\"}},\"header\":{\"fill\":{\"color\":\"#C8D4E3\"},\"line\":{\"color\":\"white\"}},\"type\":\"table\"}]},\"layout\":{\"annotationdefaults\":{\"arrowcolor\":\"#2a3f5f\",\"arrowhead\":0,\"arrowwidth\":1},\"autotypenumbers\":\"strict\",\"coloraxis\":{\"colorbar\":{\"outlinewidth\":0,\"ticks\":\"\"}},\"colorscale\":{\"diverging\":[[0,\"#8e0152\"],[0.1,\"#c51b7d\"],[0.2,\"#de77ae\"],[0.3,\"#f1b6da\"],[0.4,\"#fde0ef\"],[0.5,\"#f7f7f7\"],[0.6,\"#e6f5d0\"],[0.7,\"#b8e186\"],[0.8,\"#7fbc41\"],[0.9,\"#4d9221\"],[1,\"#276419\"]],\"sequential\":[[0.0,\"#0d0887\"],[0.1111111111111111,\"#46039f\"],[0.2222222222222222,\"#7201a8\"],[0.3333333333333333,\"#9c179e\"],[0.4444444444444444,\"#bd3786\"],[0.5555555555555556,\"#d8576b\"],[0.6666666666666666,\"#ed7953\"],[0.7777777777777778,\"#fb9f3a\"],[0.8888888888888888,\"#fdca26\"],[1.0,\"#f0f921\"]],\"sequentialminus\":[[0.0,\"#0d0887\"],[0.1111111111111111,\"#46039f\"],[0.2222222222222222,\"#7201a8\"],[0.3333333333333333,\"#9c179e\"],[0.4444444444444444,\"#bd3786\"],[0.5555555555555556,\"#d8576b\"],[0.6666666666666666,\"#ed7953\"],[0.7777777777777778,\"#fb9f3a\"],[0.8888888888888888,\"#fdca26\"],[1.0,\"#f0f921\"]]},\"colorway\":[\"#636efa\",\"#EF553B\",\"#00cc96\",\"#ab63fa\",\"#FFA15A\",\"#19d3f3\",\"#FF6692\",\"#B6E880\",\"#FF97FF\",\"#FECB52\"],\"font\":{\"color\":\"#2a3f5f\"},\"geo\":{\"bgcolor\":\"white\",\"lakecolor\":\"white\",\"landcolor\":\"#E5ECF6\",\"showlakes\":true,\"showland\":true,\"subunitcolor\":\"white\"},\"hoverlabel\":{\"align\":\"left\"},\"hovermode\":\"closest\",\"mapbox\":{\"style\":\"light\"},\"paper_bgcolor\":\"white\",\"plot_bgcolor\":\"#E5ECF6\",\"polar\":{\"angularaxis\":{\"gridcolor\":\"white\",\"linecolor\":\"white\",\"ticks\":\"\"},\"bgcolor\":\"#E5ECF6\",\"radialaxis\":{\"gridcolor\":\"white\",\"linecolor\":\"white\",\"ticks\":\"\"}},\"scene\":{\"xaxis\":{\"backgroundcolor\":\"#E5ECF6\",\"gridcolor\":\"white\",\"gridwidth\":2,\"linecolor\":\"white\",\"showbackground\":true,\"ticks\":\"\",\"zerolinecolor\":\"white\"},\"yaxis\":{\"backgroundcolor\":\"#E5ECF6\",\"gridcolor\":\"white\",\"gridwidth\":2,\"linecolor\":\"white\",\"showbackground\":true,\"ticks\":\"\",\"zerolinecolor\":\"white\"},\"zaxis\":{\"backgroundcolor\":\"#E5ECF6\",\"gridcolor\":\"white\",\"gridwidth\":2,\"linecolor\":\"white\",\"showbackground\":true,\"ticks\":\"\",\"zerolinecolor\":\"white\"}},\"shapedefaults\":{\"line\":{\"color\":\"#2a3f5f\"}},\"ternary\":{\"aaxis\":{\"gridcolor\":\"white\",\"linecolor\":\"white\",\"ticks\":\"\"},\"baxis\":{\"gridcolor\":\"white\",\"linecolor\":\"white\",\"ticks\":\"\"},\"bgcolor\":\"#E5ECF6\",\"caxis\":{\"gridcolor\":\"white\",\"linecolor\":\"white\",\"ticks\":\"\"}},\"title\":{\"x\":0.05},\"xaxis\":{\"automargin\":true,\"gridcolor\":\"white\",\"linecolor\":\"white\",\"ticks\":\"\",\"title\":{\"standoff\":15},\"zerolinecolor\":\"white\",\"zerolinewidth\":2},\"yaxis\":{\"automargin\":true,\"gridcolor\":\"white\",\"linecolor\":\"white\",\"ticks\":\"\",\"title\":{\"standoff\":15},\"zerolinecolor\":\"white\",\"zerolinewidth\":2}}},\"title\":{\"font\":{\"color\":\"#4D5663\"}},\"xaxis\":{\"gridcolor\":\"#E1E5ED\",\"showgrid\":true,\"tickfont\":{\"color\":\"#4D5663\"},\"title\":{\"font\":{\"color\":\"#4D5663\"},\"text\":\"\"},\"zerolinecolor\":\"#E1E5ED\"},\"yaxis\":{\"gridcolor\":\"#E1E5ED\",\"showgrid\":true,\"tickfont\":{\"color\":\"#4D5663\"},\"title\":{\"font\":{\"color\":\"#4D5663\"},\"text\":\"\"},\"zerolinecolor\":\"#E1E5ED\"}},                        {\"showLink\": true, \"linkText\": \"Export to plot.ly\", \"plotlyServerURL\": \"https://plot.ly\", \"responsive\": true}                    ).then(function(){\n",
       "                            \n",
       "var gd = document.getElementById('a4f0e366-4af7-4390-ac9f-8dd2fd67f7f5');\n",
       "var x = new MutationObserver(function (mutations, observer) {{\n",
       "        var display = window.getComputedStyle(gd).display;\n",
       "        if (!display || display === 'none') {{\n",
       "            console.log([gd, 'removed!']);\n",
       "            Plotly.purge(gd);\n",
       "            observer.disconnect();\n",
       "        }}\n",
       "}});\n",
       "\n",
       "// Listen for the removal of the full notebook cells\n",
       "var notebookContainer = gd.closest('#notebook-container');\n",
       "if (notebookContainer) {{\n",
       "    x.observe(notebookContainer, {childList: true});\n",
       "}}\n",
       "\n",
       "// Listen for the clearing of the current output cell\n",
       "var outputEl = gd.closest('.output');\n",
       "if (outputEl) {{\n",
       "    x.observe(outputEl, {childList: true});\n",
       "}}\n",
       "\n",
       "                        })                };                });            </script>        </div>"
      ]
     },
     "metadata": {},
     "output_type": "display_data"
    }
   ],
   "source": [
    "df.iplot()"
   ]
  },
  {
   "cell_type": "markdown",
   "metadata": {},
   "source": [
    "## Using Cufflinks and iplot()\n",
    "\n",
    "* scatter\n",
    "* bar\n",
    "* box\n",
    "* spread\n",
    "* ratio\n",
    "* heatmap\n",
    "* surface\n",
    "* histogram\n",
    "* bubble"
   ]
  },
  {
   "cell_type": "markdown",
   "metadata": {},
   "source": [
    "## Scatter"
   ]
  },
  {
   "cell_type": "markdown",
   "metadata": {},
   "source": [
    "NOTE: must pass in mode=\"markers\" or plotly will try to connect all the dots"
   ]
  },
  {
   "cell_type": "code",
   "execution_count": 20,
   "metadata": {},
   "outputs": [
    {
     "data": {
      "application/vnd.plotly.v1+json": {
       "config": {
        "linkText": "Export to plot.ly",
        "plotlyServerURL": "https://plot.ly",
        "showLink": true
       },
       "data": [
        {
         "line": {
          "color": "rgba(255, 153, 51, 1.0)",
          "dash": "solid",
          "shape": "linear",
          "width": 1.3
         },
         "marker": {
          "size": 10,
          "symbol": "circle"
         },
         "mode": "markers",
         "name": "B",
         "text": "",
         "type": "scatter",
         "x": [
          1.8511519134780592,
          0.9932635503226296,
          -0.20359937233167702,
          1.5257768804344916,
          0.7989148705029956,
          -0.7401919047073051,
          -0.8630213226964086,
          0.7013687303870811,
          -0.6247974874205289,
          0.10910461350500907,
          -0.11538038639040019,
          -0.02648740437455768,
          -0.43732218661342515,
          -0.7125768681585045,
          1.0133586523249136,
          -0.8616519633585347,
          -2.1230616381436356,
          -0.9749949035547446,
          0.5043444129264993,
          0.18825104298423934,
          -0.1432776826929805,
          0.5868807139113783,
          -0.5195842176454574,
          0.5736013901487871,
          -0.8173712354802753,
          0.6609920652626308,
          0.4168308410755578,
          0.5852219339927222,
          0.010802370600104156,
          -0.41273169823065897,
          -0.20857735228632088,
          -0.8416615204104636,
          0.052944189995554204,
          0.005686937411339467,
          0.3844520636603806,
          -1.0631481481915048,
          -0.11724016976317891,
          0.6630852320859335,
          0.5115801618934522,
          2.2561195936427705,
          0.3109656972874523,
          1.0994549480156748,
          -0.7208326396818907,
          -0.1977387682776627,
          -0.16040121850252212,
          0.794102216112637,
          0.7464271735955996,
          -0.647542908423245,
          -1.4984047157520854,
          -0.04075648099172144,
          2.264819816919803,
          -0.5552027566980382,
          -0.6748951474162486,
          -1.007916433892245,
          -1.3106915777664427,
          -1.8225142752914754,
          1.334030713362875,
          0.07572488075553528,
          -0.5830773501448417,
          0.38454318739022125,
          1.6110776348434117,
          -0.3174845924378902,
          0.8445097695504995,
          -0.41461007268988176,
          0.365775246787856,
          -1.496269233552682,
          0.3008252693310851,
          -0.39326338113914816,
          0.5008110351639224,
          -0.672608996952311,
          -1.0421214869609523,
          -0.11156295997918914,
          0.3092029035122308,
          0.28260084055062595,
          0.6949297525981041,
          -0.9319657740427375,
          -1.9514085275441992,
          -0.7841155550829054,
          -0.2998409331653889,
          0.03951669010773553,
          -0.0727240387013017,
          -1.9518606100277855,
          0.9883285146195404,
          0.7508231282590799,
          1.209982615480504,
          0.7921753321761256,
          -0.9946655537151281,
          1.3067058404422474,
          0.5712332382845726,
          -0.5386093862850266,
          0.30013330235114466,
          -1.4869281940691312,
          0.9620169121202278,
          1.114277142834589,
          -1.3650422850750878,
          0.3298673585324569,
          0.9810828436899907,
          -0.9471938559777627,
          -0.6557976449379221,
          0.5954509216804071
         ],
         "y": [
          0.45782172851946584,
          0.4344214900313023,
          0.6658987220489518,
          2.895439169924277,
          -0.04735765933408375,
          0.14131190059074383,
          -0.6793167129790467,
          -1.33376156241096,
          0.5129051932325256,
          -1.8426154108364827,
          0.5414409748569157,
          1.5180507825544969,
          0.6886450990269172,
          -0.2934527411501007,
          1.247504281758502,
          -0.6923792689440722,
          1.3358752949438544,
          3.3009912281541745,
          -1.1772677491504626,
          3.0413738620919792,
          0.1939145630185375,
          1.316173538909124,
          0.4568857268531616,
          -0.45612992746179104,
          0.36962784918045843,
          -1.0872283818862274,
          -1.268507848017612,
          1.3690989346946598,
          2.404028688631945,
          0.6953932785311059,
          0.16957159952658565,
          -0.820430620044971,
          1.3622920559583251,
          1.2194783554864315,
          0.5270262370309676,
          0.12673147173592114,
          0.6274228407561939,
          2.1519729621866612,
          -0.1503870682355416,
          -0.8032647853869308,
          -1.7334754959923606,
          1.1498738436198657,
          0.9024715532142299,
          -0.6299946110464666,
          -0.10479446190246755,
          0.3807627473851706,
          0.30429400869494144,
          -0.09747668965216076,
          0.034130483643344964,
          2.3125818412357924,
          -0.1195421817947865,
          -1.1451149065169193,
          -0.10831608455742575,
          0.7369917906053898,
          0.26648976296350796,
          0.04793412305608602,
          0.9135049453782854,
          -0.10974581209473559,
          1.2973055112154592,
          1.409109018811545,
          -0.4880439368583151,
          -0.41255478657338274,
          -1.6652247217350953,
          -0.3571409627887695,
          0.05774639003035528,
          -0.47989239854050036,
          -0.675449156696727,
          -1.1430868805095362,
          -0.006663393609728982,
          -1.0620327924289885,
          1.4718999257473302,
          -0.6113357749066433,
          0.36148596789055853,
          -0.24393747075538624,
          1.0748240094017911,
          1.4315036978476303,
          -1.2193491756829018,
          1.0785112055318675,
          1.0922663616955144,
          -0.5271205263605011,
          -0.27374315353472867,
          0.028154193665865107,
          -1.1351935382309162,
          1.4612941727462698,
          -0.3509454137365033,
          0.6106125561226777,
          0.7478186327737351,
          -0.7425042942314749,
          1.916765223828547,
          1.240873891099306,
          -0.4406511100190365,
          1.346795532600243,
          -1.4120166335488293,
          -0.9726486257162662,
          -0.2852448153129776,
          -3.0108073083457927,
          -1.7635744867048033,
          -1.0166029223919701,
          0.6767572035278194,
          0.14883919105469573
         ]
        }
       ],
       "layout": {
        "legend": {
         "bgcolor": "#F5F6F9",
         "font": {
          "color": "#4D5663"
         }
        },
        "paper_bgcolor": "#F5F6F9",
        "plot_bgcolor": "#F5F6F9",
        "template": {
         "data": {
          "bar": [
           {
            "error_x": {
             "color": "#2a3f5f"
            },
            "error_y": {
             "color": "#2a3f5f"
            },
            "marker": {
             "line": {
              "color": "#E5ECF6",
              "width": 0.5
             },
             "pattern": {
              "fillmode": "overlay",
              "size": 10,
              "solidity": 0.2
             }
            },
            "type": "bar"
           }
          ],
          "barpolar": [
           {
            "marker": {
             "line": {
              "color": "#E5ECF6",
              "width": 0.5
             },
             "pattern": {
              "fillmode": "overlay",
              "size": 10,
              "solidity": 0.2
             }
            },
            "type": "barpolar"
           }
          ],
          "carpet": [
           {
            "aaxis": {
             "endlinecolor": "#2a3f5f",
             "gridcolor": "white",
             "linecolor": "white",
             "minorgridcolor": "white",
             "startlinecolor": "#2a3f5f"
            },
            "baxis": {
             "endlinecolor": "#2a3f5f",
             "gridcolor": "white",
             "linecolor": "white",
             "minorgridcolor": "white",
             "startlinecolor": "#2a3f5f"
            },
            "type": "carpet"
           }
          ],
          "choropleth": [
           {
            "colorbar": {
             "outlinewidth": 0,
             "ticks": ""
            },
            "type": "choropleth"
           }
          ],
          "contour": [
           {
            "colorbar": {
             "outlinewidth": 0,
             "ticks": ""
            },
            "colorscale": [
             [
              0,
              "#0d0887"
             ],
             [
              0.1111111111111111,
              "#46039f"
             ],
             [
              0.2222222222222222,
              "#7201a8"
             ],
             [
              0.3333333333333333,
              "#9c179e"
             ],
             [
              0.4444444444444444,
              "#bd3786"
             ],
             [
              0.5555555555555556,
              "#d8576b"
             ],
             [
              0.6666666666666666,
              "#ed7953"
             ],
             [
              0.7777777777777778,
              "#fb9f3a"
             ],
             [
              0.8888888888888888,
              "#fdca26"
             ],
             [
              1,
              "#f0f921"
             ]
            ],
            "type": "contour"
           }
          ],
          "contourcarpet": [
           {
            "colorbar": {
             "outlinewidth": 0,
             "ticks": ""
            },
            "type": "contourcarpet"
           }
          ],
          "heatmap": [
           {
            "colorbar": {
             "outlinewidth": 0,
             "ticks": ""
            },
            "colorscale": [
             [
              0,
              "#0d0887"
             ],
             [
              0.1111111111111111,
              "#46039f"
             ],
             [
              0.2222222222222222,
              "#7201a8"
             ],
             [
              0.3333333333333333,
              "#9c179e"
             ],
             [
              0.4444444444444444,
              "#bd3786"
             ],
             [
              0.5555555555555556,
              "#d8576b"
             ],
             [
              0.6666666666666666,
              "#ed7953"
             ],
             [
              0.7777777777777778,
              "#fb9f3a"
             ],
             [
              0.8888888888888888,
              "#fdca26"
             ],
             [
              1,
              "#f0f921"
             ]
            ],
            "type": "heatmap"
           }
          ],
          "heatmapgl": [
           {
            "colorbar": {
             "outlinewidth": 0,
             "ticks": ""
            },
            "colorscale": [
             [
              0,
              "#0d0887"
             ],
             [
              0.1111111111111111,
              "#46039f"
             ],
             [
              0.2222222222222222,
              "#7201a8"
             ],
             [
              0.3333333333333333,
              "#9c179e"
             ],
             [
              0.4444444444444444,
              "#bd3786"
             ],
             [
              0.5555555555555556,
              "#d8576b"
             ],
             [
              0.6666666666666666,
              "#ed7953"
             ],
             [
              0.7777777777777778,
              "#fb9f3a"
             ],
             [
              0.8888888888888888,
              "#fdca26"
             ],
             [
              1,
              "#f0f921"
             ]
            ],
            "type": "heatmapgl"
           }
          ],
          "histogram": [
           {
            "marker": {
             "pattern": {
              "fillmode": "overlay",
              "size": 10,
              "solidity": 0.2
             }
            },
            "type": "histogram"
           }
          ],
          "histogram2d": [
           {
            "colorbar": {
             "outlinewidth": 0,
             "ticks": ""
            },
            "colorscale": [
             [
              0,
              "#0d0887"
             ],
             [
              0.1111111111111111,
              "#46039f"
             ],
             [
              0.2222222222222222,
              "#7201a8"
             ],
             [
              0.3333333333333333,
              "#9c179e"
             ],
             [
              0.4444444444444444,
              "#bd3786"
             ],
             [
              0.5555555555555556,
              "#d8576b"
             ],
             [
              0.6666666666666666,
              "#ed7953"
             ],
             [
              0.7777777777777778,
              "#fb9f3a"
             ],
             [
              0.8888888888888888,
              "#fdca26"
             ],
             [
              1,
              "#f0f921"
             ]
            ],
            "type": "histogram2d"
           }
          ],
          "histogram2dcontour": [
           {
            "colorbar": {
             "outlinewidth": 0,
             "ticks": ""
            },
            "colorscale": [
             [
              0,
              "#0d0887"
             ],
             [
              0.1111111111111111,
              "#46039f"
             ],
             [
              0.2222222222222222,
              "#7201a8"
             ],
             [
              0.3333333333333333,
              "#9c179e"
             ],
             [
              0.4444444444444444,
              "#bd3786"
             ],
             [
              0.5555555555555556,
              "#d8576b"
             ],
             [
              0.6666666666666666,
              "#ed7953"
             ],
             [
              0.7777777777777778,
              "#fb9f3a"
             ],
             [
              0.8888888888888888,
              "#fdca26"
             ],
             [
              1,
              "#f0f921"
             ]
            ],
            "type": "histogram2dcontour"
           }
          ],
          "mesh3d": [
           {
            "colorbar": {
             "outlinewidth": 0,
             "ticks": ""
            },
            "type": "mesh3d"
           }
          ],
          "parcoords": [
           {
            "line": {
             "colorbar": {
              "outlinewidth": 0,
              "ticks": ""
             }
            },
            "type": "parcoords"
           }
          ],
          "pie": [
           {
            "automargin": true,
            "type": "pie"
           }
          ],
          "scatter": [
           {
            "fillpattern": {
             "fillmode": "overlay",
             "size": 10,
             "solidity": 0.2
            },
            "type": "scatter"
           }
          ],
          "scatter3d": [
           {
            "line": {
             "colorbar": {
              "outlinewidth": 0,
              "ticks": ""
             }
            },
            "marker": {
             "colorbar": {
              "outlinewidth": 0,
              "ticks": ""
             }
            },
            "type": "scatter3d"
           }
          ],
          "scattercarpet": [
           {
            "marker": {
             "colorbar": {
              "outlinewidth": 0,
              "ticks": ""
             }
            },
            "type": "scattercarpet"
           }
          ],
          "scattergeo": [
           {
            "marker": {
             "colorbar": {
              "outlinewidth": 0,
              "ticks": ""
             }
            },
            "type": "scattergeo"
           }
          ],
          "scattergl": [
           {
            "marker": {
             "colorbar": {
              "outlinewidth": 0,
              "ticks": ""
             }
            },
            "type": "scattergl"
           }
          ],
          "scattermapbox": [
           {
            "marker": {
             "colorbar": {
              "outlinewidth": 0,
              "ticks": ""
             }
            },
            "type": "scattermapbox"
           }
          ],
          "scatterpolar": [
           {
            "marker": {
             "colorbar": {
              "outlinewidth": 0,
              "ticks": ""
             }
            },
            "type": "scatterpolar"
           }
          ],
          "scatterpolargl": [
           {
            "marker": {
             "colorbar": {
              "outlinewidth": 0,
              "ticks": ""
             }
            },
            "type": "scatterpolargl"
           }
          ],
          "scatterternary": [
           {
            "marker": {
             "colorbar": {
              "outlinewidth": 0,
              "ticks": ""
             }
            },
            "type": "scatterternary"
           }
          ],
          "surface": [
           {
            "colorbar": {
             "outlinewidth": 0,
             "ticks": ""
            },
            "colorscale": [
             [
              0,
              "#0d0887"
             ],
             [
              0.1111111111111111,
              "#46039f"
             ],
             [
              0.2222222222222222,
              "#7201a8"
             ],
             [
              0.3333333333333333,
              "#9c179e"
             ],
             [
              0.4444444444444444,
              "#bd3786"
             ],
             [
              0.5555555555555556,
              "#d8576b"
             ],
             [
              0.6666666666666666,
              "#ed7953"
             ],
             [
              0.7777777777777778,
              "#fb9f3a"
             ],
             [
              0.8888888888888888,
              "#fdca26"
             ],
             [
              1,
              "#f0f921"
             ]
            ],
            "type": "surface"
           }
          ],
          "table": [
           {
            "cells": {
             "fill": {
              "color": "#EBF0F8"
             },
             "line": {
              "color": "white"
             }
            },
            "header": {
             "fill": {
              "color": "#C8D4E3"
             },
             "line": {
              "color": "white"
             }
            },
            "type": "table"
           }
          ]
         },
         "layout": {
          "annotationdefaults": {
           "arrowcolor": "#2a3f5f",
           "arrowhead": 0,
           "arrowwidth": 1
          },
          "autotypenumbers": "strict",
          "coloraxis": {
           "colorbar": {
            "outlinewidth": 0,
            "ticks": ""
           }
          },
          "colorscale": {
           "diverging": [
            [
             0,
             "#8e0152"
            ],
            [
             0.1,
             "#c51b7d"
            ],
            [
             0.2,
             "#de77ae"
            ],
            [
             0.3,
             "#f1b6da"
            ],
            [
             0.4,
             "#fde0ef"
            ],
            [
             0.5,
             "#f7f7f7"
            ],
            [
             0.6,
             "#e6f5d0"
            ],
            [
             0.7,
             "#b8e186"
            ],
            [
             0.8,
             "#7fbc41"
            ],
            [
             0.9,
             "#4d9221"
            ],
            [
             1,
             "#276419"
            ]
           ],
           "sequential": [
            [
             0,
             "#0d0887"
            ],
            [
             0.1111111111111111,
             "#46039f"
            ],
            [
             0.2222222222222222,
             "#7201a8"
            ],
            [
             0.3333333333333333,
             "#9c179e"
            ],
            [
             0.4444444444444444,
             "#bd3786"
            ],
            [
             0.5555555555555556,
             "#d8576b"
            ],
            [
             0.6666666666666666,
             "#ed7953"
            ],
            [
             0.7777777777777778,
             "#fb9f3a"
            ],
            [
             0.8888888888888888,
             "#fdca26"
            ],
            [
             1,
             "#f0f921"
            ]
           ],
           "sequentialminus": [
            [
             0,
             "#0d0887"
            ],
            [
             0.1111111111111111,
             "#46039f"
            ],
            [
             0.2222222222222222,
             "#7201a8"
            ],
            [
             0.3333333333333333,
             "#9c179e"
            ],
            [
             0.4444444444444444,
             "#bd3786"
            ],
            [
             0.5555555555555556,
             "#d8576b"
            ],
            [
             0.6666666666666666,
             "#ed7953"
            ],
            [
             0.7777777777777778,
             "#fb9f3a"
            ],
            [
             0.8888888888888888,
             "#fdca26"
            ],
            [
             1,
             "#f0f921"
            ]
           ]
          },
          "colorway": [
           "#636efa",
           "#EF553B",
           "#00cc96",
           "#ab63fa",
           "#FFA15A",
           "#19d3f3",
           "#FF6692",
           "#B6E880",
           "#FF97FF",
           "#FECB52"
          ],
          "font": {
           "color": "#2a3f5f"
          },
          "geo": {
           "bgcolor": "white",
           "lakecolor": "white",
           "landcolor": "#E5ECF6",
           "showlakes": true,
           "showland": true,
           "subunitcolor": "white"
          },
          "hoverlabel": {
           "align": "left"
          },
          "hovermode": "closest",
          "mapbox": {
           "style": "light"
          },
          "paper_bgcolor": "white",
          "plot_bgcolor": "#E5ECF6",
          "polar": {
           "angularaxis": {
            "gridcolor": "white",
            "linecolor": "white",
            "ticks": ""
           },
           "bgcolor": "#E5ECF6",
           "radialaxis": {
            "gridcolor": "white",
            "linecolor": "white",
            "ticks": ""
           }
          },
          "scene": {
           "xaxis": {
            "backgroundcolor": "#E5ECF6",
            "gridcolor": "white",
            "gridwidth": 2,
            "linecolor": "white",
            "showbackground": true,
            "ticks": "",
            "zerolinecolor": "white"
           },
           "yaxis": {
            "backgroundcolor": "#E5ECF6",
            "gridcolor": "white",
            "gridwidth": 2,
            "linecolor": "white",
            "showbackground": true,
            "ticks": "",
            "zerolinecolor": "white"
           },
           "zaxis": {
            "backgroundcolor": "#E5ECF6",
            "gridcolor": "white",
            "gridwidth": 2,
            "linecolor": "white",
            "showbackground": true,
            "ticks": "",
            "zerolinecolor": "white"
           }
          },
          "shapedefaults": {
           "line": {
            "color": "#2a3f5f"
           }
          },
          "ternary": {
           "aaxis": {
            "gridcolor": "white",
            "linecolor": "white",
            "ticks": ""
           },
           "baxis": {
            "gridcolor": "white",
            "linecolor": "white",
            "ticks": ""
           },
           "bgcolor": "#E5ECF6",
           "caxis": {
            "gridcolor": "white",
            "linecolor": "white",
            "ticks": ""
           }
          },
          "title": {
           "x": 0.05
          },
          "xaxis": {
           "automargin": true,
           "gridcolor": "white",
           "linecolor": "white",
           "ticks": "",
           "title": {
            "standoff": 15
           },
           "zerolinecolor": "white",
           "zerolinewidth": 2
          },
          "yaxis": {
           "automargin": true,
           "gridcolor": "white",
           "linecolor": "white",
           "ticks": "",
           "title": {
            "standoff": 15
           },
           "zerolinecolor": "white",
           "zerolinewidth": 2
          }
         }
        },
        "title": {
         "font": {
          "color": "#4D5663"
         }
        },
        "xaxis": {
         "gridcolor": "#E1E5ED",
         "showgrid": true,
         "tickfont": {
          "color": "#4D5663"
         },
         "title": {
          "font": {
           "color": "#4D5663"
          },
          "text": ""
         },
         "zerolinecolor": "#E1E5ED"
        },
        "yaxis": {
         "gridcolor": "#E1E5ED",
         "showgrid": true,
         "tickfont": {
          "color": "#4D5663"
         },
         "title": {
          "font": {
           "color": "#4D5663"
          },
          "text": ""
         },
         "zerolinecolor": "#E1E5ED"
        }
       }
      },
      "text/html": [
       "<div>                            <div id=\"8792f3a5-230f-492b-b2fb-f0cb49d14c8c\" class=\"plotly-graph-div\" style=\"height:525px; width:100%;\"></div>            <script type=\"text/javascript\">                require([\"plotly\"], function(Plotly) {                    window.PLOTLYENV=window.PLOTLYENV || {};\n",
       "                    window.PLOTLYENV.BASE_URL='https://plot.ly';                                    if (document.getElementById(\"8792f3a5-230f-492b-b2fb-f0cb49d14c8c\")) {                    Plotly.newPlot(                        \"8792f3a5-230f-492b-b2fb-f0cb49d14c8c\",                        [{\"line\":{\"color\":\"rgba(255, 153, 51, 1.0)\",\"dash\":\"solid\",\"shape\":\"linear\",\"width\":1.3},\"marker\":{\"size\":10,\"symbol\":\"circle\"},\"mode\":\"markers\",\"name\":\"B\",\"text\":\"\",\"x\":[1.8511519134780592,0.9932635503226296,-0.20359937233167702,1.5257768804344916,0.7989148705029956,-0.7401919047073051,-0.8630213226964086,0.7013687303870811,-0.6247974874205289,0.10910461350500907,-0.11538038639040019,-0.02648740437455768,-0.43732218661342515,-0.7125768681585045,1.0133586523249136,-0.8616519633585347,-2.1230616381436356,-0.9749949035547446,0.5043444129264993,0.18825104298423934,-0.1432776826929805,0.5868807139113783,-0.5195842176454574,0.5736013901487871,-0.8173712354802753,0.6609920652626308,0.4168308410755578,0.5852219339927222,0.010802370600104156,-0.41273169823065897,-0.20857735228632088,-0.8416615204104636,0.052944189995554204,0.005686937411339467,0.3844520636603806,-1.0631481481915048,-0.11724016976317891,0.6630852320859335,0.5115801618934522,2.2561195936427705,0.3109656972874523,1.0994549480156748,-0.7208326396818907,-0.1977387682776627,-0.16040121850252212,0.794102216112637,0.7464271735955996,-0.647542908423245,-1.4984047157520854,-0.04075648099172144,2.264819816919803,-0.5552027566980382,-0.6748951474162486,-1.007916433892245,-1.3106915777664427,-1.8225142752914754,1.334030713362875,0.07572488075553528,-0.5830773501448417,0.38454318739022125,1.6110776348434117,-0.3174845924378902,0.8445097695504995,-0.41461007268988176,0.365775246787856,-1.496269233552682,0.3008252693310851,-0.39326338113914816,0.5008110351639224,-0.672608996952311,-1.0421214869609523,-0.11156295997918914,0.3092029035122308,0.28260084055062595,0.6949297525981041,-0.9319657740427375,-1.9514085275441992,-0.7841155550829054,-0.2998409331653889,0.03951669010773553,-0.0727240387013017,-1.9518606100277855,0.9883285146195404,0.7508231282590799,1.209982615480504,0.7921753321761256,-0.9946655537151281,1.3067058404422474,0.5712332382845726,-0.5386093862850266,0.30013330235114466,-1.4869281940691312,0.9620169121202278,1.114277142834589,-1.3650422850750878,0.3298673585324569,0.9810828436899907,-0.9471938559777627,-0.6557976449379221,0.5954509216804071],\"y\":[0.45782172851946584,0.4344214900313023,0.6658987220489518,2.895439169924277,-0.04735765933408375,0.14131190059074383,-0.6793167129790467,-1.33376156241096,0.5129051932325256,-1.8426154108364827,0.5414409748569157,1.5180507825544969,0.6886450990269172,-0.2934527411501007,1.247504281758502,-0.6923792689440722,1.3358752949438544,3.3009912281541745,-1.1772677491504626,3.0413738620919792,0.1939145630185375,1.316173538909124,0.4568857268531616,-0.45612992746179104,0.36962784918045843,-1.0872283818862274,-1.268507848017612,1.3690989346946598,2.404028688631945,0.6953932785311059,0.16957159952658565,-0.820430620044971,1.3622920559583251,1.2194783554864315,0.5270262370309676,0.12673147173592114,0.6274228407561939,2.1519729621866612,-0.1503870682355416,-0.8032647853869308,-1.7334754959923606,1.1498738436198657,0.9024715532142299,-0.6299946110464666,-0.10479446190246755,0.3807627473851706,0.30429400869494144,-0.09747668965216076,0.034130483643344964,2.3125818412357924,-0.1195421817947865,-1.1451149065169193,-0.10831608455742575,0.7369917906053898,0.26648976296350796,0.04793412305608602,0.9135049453782854,-0.10974581209473559,1.2973055112154592,1.409109018811545,-0.4880439368583151,-0.41255478657338274,-1.6652247217350953,-0.3571409627887695,0.05774639003035528,-0.47989239854050036,-0.675449156696727,-1.1430868805095362,-0.006663393609728982,-1.0620327924289885,1.4718999257473302,-0.6113357749066433,0.36148596789055853,-0.24393747075538624,1.0748240094017911,1.4315036978476303,-1.2193491756829018,1.0785112055318675,1.0922663616955144,-0.5271205263605011,-0.27374315353472867,0.028154193665865107,-1.1351935382309162,1.4612941727462698,-0.3509454137365033,0.6106125561226777,0.7478186327737351,-0.7425042942314749,1.916765223828547,1.240873891099306,-0.4406511100190365,1.346795532600243,-1.4120166335488293,-0.9726486257162662,-0.2852448153129776,-3.0108073083457927,-1.7635744867048033,-1.0166029223919701,0.6767572035278194,0.14883919105469573],\"type\":\"scatter\"}],                        {\"legend\":{\"bgcolor\":\"#F5F6F9\",\"font\":{\"color\":\"#4D5663\"}},\"paper_bgcolor\":\"#F5F6F9\",\"plot_bgcolor\":\"#F5F6F9\",\"template\":{\"data\":{\"barpolar\":[{\"marker\":{\"line\":{\"color\":\"#E5ECF6\",\"width\":0.5},\"pattern\":{\"fillmode\":\"overlay\",\"size\":10,\"solidity\":0.2}},\"type\":\"barpolar\"}],\"bar\":[{\"error_x\":{\"color\":\"#2a3f5f\"},\"error_y\":{\"color\":\"#2a3f5f\"},\"marker\":{\"line\":{\"color\":\"#E5ECF6\",\"width\":0.5},\"pattern\":{\"fillmode\":\"overlay\",\"size\":10,\"solidity\":0.2}},\"type\":\"bar\"}],\"carpet\":[{\"aaxis\":{\"endlinecolor\":\"#2a3f5f\",\"gridcolor\":\"white\",\"linecolor\":\"white\",\"minorgridcolor\":\"white\",\"startlinecolor\":\"#2a3f5f\"},\"baxis\":{\"endlinecolor\":\"#2a3f5f\",\"gridcolor\":\"white\",\"linecolor\":\"white\",\"minorgridcolor\":\"white\",\"startlinecolor\":\"#2a3f5f\"},\"type\":\"carpet\"}],\"choropleth\":[{\"colorbar\":{\"outlinewidth\":0,\"ticks\":\"\"},\"type\":\"choropleth\"}],\"contourcarpet\":[{\"colorbar\":{\"outlinewidth\":0,\"ticks\":\"\"},\"type\":\"contourcarpet\"}],\"contour\":[{\"colorbar\":{\"outlinewidth\":0,\"ticks\":\"\"},\"colorscale\":[[0.0,\"#0d0887\"],[0.1111111111111111,\"#46039f\"],[0.2222222222222222,\"#7201a8\"],[0.3333333333333333,\"#9c179e\"],[0.4444444444444444,\"#bd3786\"],[0.5555555555555556,\"#d8576b\"],[0.6666666666666666,\"#ed7953\"],[0.7777777777777778,\"#fb9f3a\"],[0.8888888888888888,\"#fdca26\"],[1.0,\"#f0f921\"]],\"type\":\"contour\"}],\"heatmapgl\":[{\"colorbar\":{\"outlinewidth\":0,\"ticks\":\"\"},\"colorscale\":[[0.0,\"#0d0887\"],[0.1111111111111111,\"#46039f\"],[0.2222222222222222,\"#7201a8\"],[0.3333333333333333,\"#9c179e\"],[0.4444444444444444,\"#bd3786\"],[0.5555555555555556,\"#d8576b\"],[0.6666666666666666,\"#ed7953\"],[0.7777777777777778,\"#fb9f3a\"],[0.8888888888888888,\"#fdca26\"],[1.0,\"#f0f921\"]],\"type\":\"heatmapgl\"}],\"heatmap\":[{\"colorbar\":{\"outlinewidth\":0,\"ticks\":\"\"},\"colorscale\":[[0.0,\"#0d0887\"],[0.1111111111111111,\"#46039f\"],[0.2222222222222222,\"#7201a8\"],[0.3333333333333333,\"#9c179e\"],[0.4444444444444444,\"#bd3786\"],[0.5555555555555556,\"#d8576b\"],[0.6666666666666666,\"#ed7953\"],[0.7777777777777778,\"#fb9f3a\"],[0.8888888888888888,\"#fdca26\"],[1.0,\"#f0f921\"]],\"type\":\"heatmap\"}],\"histogram2dcontour\":[{\"colorbar\":{\"outlinewidth\":0,\"ticks\":\"\"},\"colorscale\":[[0.0,\"#0d0887\"],[0.1111111111111111,\"#46039f\"],[0.2222222222222222,\"#7201a8\"],[0.3333333333333333,\"#9c179e\"],[0.4444444444444444,\"#bd3786\"],[0.5555555555555556,\"#d8576b\"],[0.6666666666666666,\"#ed7953\"],[0.7777777777777778,\"#fb9f3a\"],[0.8888888888888888,\"#fdca26\"],[1.0,\"#f0f921\"]],\"type\":\"histogram2dcontour\"}],\"histogram2d\":[{\"colorbar\":{\"outlinewidth\":0,\"ticks\":\"\"},\"colorscale\":[[0.0,\"#0d0887\"],[0.1111111111111111,\"#46039f\"],[0.2222222222222222,\"#7201a8\"],[0.3333333333333333,\"#9c179e\"],[0.4444444444444444,\"#bd3786\"],[0.5555555555555556,\"#d8576b\"],[0.6666666666666666,\"#ed7953\"],[0.7777777777777778,\"#fb9f3a\"],[0.8888888888888888,\"#fdca26\"],[1.0,\"#f0f921\"]],\"type\":\"histogram2d\"}],\"histogram\":[{\"marker\":{\"pattern\":{\"fillmode\":\"overlay\",\"size\":10,\"solidity\":0.2}},\"type\":\"histogram\"}],\"mesh3d\":[{\"colorbar\":{\"outlinewidth\":0,\"ticks\":\"\"},\"type\":\"mesh3d\"}],\"parcoords\":[{\"line\":{\"colorbar\":{\"outlinewidth\":0,\"ticks\":\"\"}},\"type\":\"parcoords\"}],\"pie\":[{\"automargin\":true,\"type\":\"pie\"}],\"scatter3d\":[{\"line\":{\"colorbar\":{\"outlinewidth\":0,\"ticks\":\"\"}},\"marker\":{\"colorbar\":{\"outlinewidth\":0,\"ticks\":\"\"}},\"type\":\"scatter3d\"}],\"scattercarpet\":[{\"marker\":{\"colorbar\":{\"outlinewidth\":0,\"ticks\":\"\"}},\"type\":\"scattercarpet\"}],\"scattergeo\":[{\"marker\":{\"colorbar\":{\"outlinewidth\":0,\"ticks\":\"\"}},\"type\":\"scattergeo\"}],\"scattergl\":[{\"marker\":{\"colorbar\":{\"outlinewidth\":0,\"ticks\":\"\"}},\"type\":\"scattergl\"}],\"scattermapbox\":[{\"marker\":{\"colorbar\":{\"outlinewidth\":0,\"ticks\":\"\"}},\"type\":\"scattermapbox\"}],\"scatterpolargl\":[{\"marker\":{\"colorbar\":{\"outlinewidth\":0,\"ticks\":\"\"}},\"type\":\"scatterpolargl\"}],\"scatterpolar\":[{\"marker\":{\"colorbar\":{\"outlinewidth\":0,\"ticks\":\"\"}},\"type\":\"scatterpolar\"}],\"scatter\":[{\"fillpattern\":{\"fillmode\":\"overlay\",\"size\":10,\"solidity\":0.2},\"type\":\"scatter\"}],\"scatterternary\":[{\"marker\":{\"colorbar\":{\"outlinewidth\":0,\"ticks\":\"\"}},\"type\":\"scatterternary\"}],\"surface\":[{\"colorbar\":{\"outlinewidth\":0,\"ticks\":\"\"},\"colorscale\":[[0.0,\"#0d0887\"],[0.1111111111111111,\"#46039f\"],[0.2222222222222222,\"#7201a8\"],[0.3333333333333333,\"#9c179e\"],[0.4444444444444444,\"#bd3786\"],[0.5555555555555556,\"#d8576b\"],[0.6666666666666666,\"#ed7953\"],[0.7777777777777778,\"#fb9f3a\"],[0.8888888888888888,\"#fdca26\"],[1.0,\"#f0f921\"]],\"type\":\"surface\"}],\"table\":[{\"cells\":{\"fill\":{\"color\":\"#EBF0F8\"},\"line\":{\"color\":\"white\"}},\"header\":{\"fill\":{\"color\":\"#C8D4E3\"},\"line\":{\"color\":\"white\"}},\"type\":\"table\"}]},\"layout\":{\"annotationdefaults\":{\"arrowcolor\":\"#2a3f5f\",\"arrowhead\":0,\"arrowwidth\":1},\"autotypenumbers\":\"strict\",\"coloraxis\":{\"colorbar\":{\"outlinewidth\":0,\"ticks\":\"\"}},\"colorscale\":{\"diverging\":[[0,\"#8e0152\"],[0.1,\"#c51b7d\"],[0.2,\"#de77ae\"],[0.3,\"#f1b6da\"],[0.4,\"#fde0ef\"],[0.5,\"#f7f7f7\"],[0.6,\"#e6f5d0\"],[0.7,\"#b8e186\"],[0.8,\"#7fbc41\"],[0.9,\"#4d9221\"],[1,\"#276419\"]],\"sequential\":[[0.0,\"#0d0887\"],[0.1111111111111111,\"#46039f\"],[0.2222222222222222,\"#7201a8\"],[0.3333333333333333,\"#9c179e\"],[0.4444444444444444,\"#bd3786\"],[0.5555555555555556,\"#d8576b\"],[0.6666666666666666,\"#ed7953\"],[0.7777777777777778,\"#fb9f3a\"],[0.8888888888888888,\"#fdca26\"],[1.0,\"#f0f921\"]],\"sequentialminus\":[[0.0,\"#0d0887\"],[0.1111111111111111,\"#46039f\"],[0.2222222222222222,\"#7201a8\"],[0.3333333333333333,\"#9c179e\"],[0.4444444444444444,\"#bd3786\"],[0.5555555555555556,\"#d8576b\"],[0.6666666666666666,\"#ed7953\"],[0.7777777777777778,\"#fb9f3a\"],[0.8888888888888888,\"#fdca26\"],[1.0,\"#f0f921\"]]},\"colorway\":[\"#636efa\",\"#EF553B\",\"#00cc96\",\"#ab63fa\",\"#FFA15A\",\"#19d3f3\",\"#FF6692\",\"#B6E880\",\"#FF97FF\",\"#FECB52\"],\"font\":{\"color\":\"#2a3f5f\"},\"geo\":{\"bgcolor\":\"white\",\"lakecolor\":\"white\",\"landcolor\":\"#E5ECF6\",\"showlakes\":true,\"showland\":true,\"subunitcolor\":\"white\"},\"hoverlabel\":{\"align\":\"left\"},\"hovermode\":\"closest\",\"mapbox\":{\"style\":\"light\"},\"paper_bgcolor\":\"white\",\"plot_bgcolor\":\"#E5ECF6\",\"polar\":{\"angularaxis\":{\"gridcolor\":\"white\",\"linecolor\":\"white\",\"ticks\":\"\"},\"bgcolor\":\"#E5ECF6\",\"radialaxis\":{\"gridcolor\":\"white\",\"linecolor\":\"white\",\"ticks\":\"\"}},\"scene\":{\"xaxis\":{\"backgroundcolor\":\"#E5ECF6\",\"gridcolor\":\"white\",\"gridwidth\":2,\"linecolor\":\"white\",\"showbackground\":true,\"ticks\":\"\",\"zerolinecolor\":\"white\"},\"yaxis\":{\"backgroundcolor\":\"#E5ECF6\",\"gridcolor\":\"white\",\"gridwidth\":2,\"linecolor\":\"white\",\"showbackground\":true,\"ticks\":\"\",\"zerolinecolor\":\"white\"},\"zaxis\":{\"backgroundcolor\":\"#E5ECF6\",\"gridcolor\":\"white\",\"gridwidth\":2,\"linecolor\":\"white\",\"showbackground\":true,\"ticks\":\"\",\"zerolinecolor\":\"white\"}},\"shapedefaults\":{\"line\":{\"color\":\"#2a3f5f\"}},\"ternary\":{\"aaxis\":{\"gridcolor\":\"white\",\"linecolor\":\"white\",\"ticks\":\"\"},\"baxis\":{\"gridcolor\":\"white\",\"linecolor\":\"white\",\"ticks\":\"\"},\"bgcolor\":\"#E5ECF6\",\"caxis\":{\"gridcolor\":\"white\",\"linecolor\":\"white\",\"ticks\":\"\"}},\"title\":{\"x\":0.05},\"xaxis\":{\"automargin\":true,\"gridcolor\":\"white\",\"linecolor\":\"white\",\"ticks\":\"\",\"title\":{\"standoff\":15},\"zerolinecolor\":\"white\",\"zerolinewidth\":2},\"yaxis\":{\"automargin\":true,\"gridcolor\":\"white\",\"linecolor\":\"white\",\"ticks\":\"\",\"title\":{\"standoff\":15},\"zerolinecolor\":\"white\",\"zerolinewidth\":2}}},\"title\":{\"font\":{\"color\":\"#4D5663\"}},\"xaxis\":{\"gridcolor\":\"#E1E5ED\",\"showgrid\":true,\"tickfont\":{\"color\":\"#4D5663\"},\"title\":{\"font\":{\"color\":\"#4D5663\"},\"text\":\"\"},\"zerolinecolor\":\"#E1E5ED\"},\"yaxis\":{\"gridcolor\":\"#E1E5ED\",\"showgrid\":true,\"tickfont\":{\"color\":\"#4D5663\"},\"title\":{\"font\":{\"color\":\"#4D5663\"},\"text\":\"\"},\"zerolinecolor\":\"#E1E5ED\"}},                        {\"showLink\": true, \"linkText\": \"Export to plot.ly\", \"plotlyServerURL\": \"https://plot.ly\", \"responsive\": true}                    ).then(function(){\n",
       "                            \n",
       "var gd = document.getElementById('8792f3a5-230f-492b-b2fb-f0cb49d14c8c');\n",
       "var x = new MutationObserver(function (mutations, observer) {{\n",
       "        var display = window.getComputedStyle(gd).display;\n",
       "        if (!display || display === 'none') {{\n",
       "            console.log([gd, 'removed!']);\n",
       "            Plotly.purge(gd);\n",
       "            observer.disconnect();\n",
       "        }}\n",
       "}});\n",
       "\n",
       "// Listen for the removal of the full notebook cells\n",
       "var notebookContainer = gd.closest('#notebook-container');\n",
       "if (notebookContainer) {{\n",
       "    x.observe(notebookContainer, {childList: true});\n",
       "}}\n",
       "\n",
       "// Listen for the clearing of the current output cell\n",
       "var outputEl = gd.closest('.output');\n",
       "if (outputEl) {{\n",
       "    x.observe(outputEl, {childList: true});\n",
       "}}\n",
       "\n",
       "                        })                };                });            </script>        </div>"
      ]
     },
     "metadata": {},
     "output_type": "display_data"
    }
   ],
   "source": [
    "df.iplot(kind='scatter',x='A',y='B',mode='markers',size=10)"
   ]
  },
  {
   "cell_type": "markdown",
   "metadata": {},
   "source": [
    "## Bar Plots"
   ]
  },
  {
   "cell_type": "code",
   "execution_count": 21,
   "metadata": {},
   "outputs": [
    {
     "data": {
      "application/vnd.plotly.v1+json": {
       "config": {
        "linkText": "Export to plot.ly",
        "plotlyServerURL": "https://plot.ly",
        "showLink": true
       },
       "data": [
        {
         "marker": {
          "color": "rgba(255, 153, 51, 0.6)",
          "line": {
           "color": "rgba(255, 153, 51, 1.0)",
           "width": 1
          }
         },
         "name": "Values",
         "orientation": "v",
         "text": "",
         "type": "bar",
         "x": [
          "A",
          "B",
          "C"
         ],
         "y": [
          32,
          43,
          50
         ]
        }
       ],
       "layout": {
        "legend": {
         "bgcolor": "#F5F6F9",
         "font": {
          "color": "#4D5663"
         }
        },
        "paper_bgcolor": "#F5F6F9",
        "plot_bgcolor": "#F5F6F9",
        "template": {
         "data": {
          "bar": [
           {
            "error_x": {
             "color": "#2a3f5f"
            },
            "error_y": {
             "color": "#2a3f5f"
            },
            "marker": {
             "line": {
              "color": "#E5ECF6",
              "width": 0.5
             },
             "pattern": {
              "fillmode": "overlay",
              "size": 10,
              "solidity": 0.2
             }
            },
            "type": "bar"
           }
          ],
          "barpolar": [
           {
            "marker": {
             "line": {
              "color": "#E5ECF6",
              "width": 0.5
             },
             "pattern": {
              "fillmode": "overlay",
              "size": 10,
              "solidity": 0.2
             }
            },
            "type": "barpolar"
           }
          ],
          "carpet": [
           {
            "aaxis": {
             "endlinecolor": "#2a3f5f",
             "gridcolor": "white",
             "linecolor": "white",
             "minorgridcolor": "white",
             "startlinecolor": "#2a3f5f"
            },
            "baxis": {
             "endlinecolor": "#2a3f5f",
             "gridcolor": "white",
             "linecolor": "white",
             "minorgridcolor": "white",
             "startlinecolor": "#2a3f5f"
            },
            "type": "carpet"
           }
          ],
          "choropleth": [
           {
            "colorbar": {
             "outlinewidth": 0,
             "ticks": ""
            },
            "type": "choropleth"
           }
          ],
          "contour": [
           {
            "colorbar": {
             "outlinewidth": 0,
             "ticks": ""
            },
            "colorscale": [
             [
              0,
              "#0d0887"
             ],
             [
              0.1111111111111111,
              "#46039f"
             ],
             [
              0.2222222222222222,
              "#7201a8"
             ],
             [
              0.3333333333333333,
              "#9c179e"
             ],
             [
              0.4444444444444444,
              "#bd3786"
             ],
             [
              0.5555555555555556,
              "#d8576b"
             ],
             [
              0.6666666666666666,
              "#ed7953"
             ],
             [
              0.7777777777777778,
              "#fb9f3a"
             ],
             [
              0.8888888888888888,
              "#fdca26"
             ],
             [
              1,
              "#f0f921"
             ]
            ],
            "type": "contour"
           }
          ],
          "contourcarpet": [
           {
            "colorbar": {
             "outlinewidth": 0,
             "ticks": ""
            },
            "type": "contourcarpet"
           }
          ],
          "heatmap": [
           {
            "colorbar": {
             "outlinewidth": 0,
             "ticks": ""
            },
            "colorscale": [
             [
              0,
              "#0d0887"
             ],
             [
              0.1111111111111111,
              "#46039f"
             ],
             [
              0.2222222222222222,
              "#7201a8"
             ],
             [
              0.3333333333333333,
              "#9c179e"
             ],
             [
              0.4444444444444444,
              "#bd3786"
             ],
             [
              0.5555555555555556,
              "#d8576b"
             ],
             [
              0.6666666666666666,
              "#ed7953"
             ],
             [
              0.7777777777777778,
              "#fb9f3a"
             ],
             [
              0.8888888888888888,
              "#fdca26"
             ],
             [
              1,
              "#f0f921"
             ]
            ],
            "type": "heatmap"
           }
          ],
          "heatmapgl": [
           {
            "colorbar": {
             "outlinewidth": 0,
             "ticks": ""
            },
            "colorscale": [
             [
              0,
              "#0d0887"
             ],
             [
              0.1111111111111111,
              "#46039f"
             ],
             [
              0.2222222222222222,
              "#7201a8"
             ],
             [
              0.3333333333333333,
              "#9c179e"
             ],
             [
              0.4444444444444444,
              "#bd3786"
             ],
             [
              0.5555555555555556,
              "#d8576b"
             ],
             [
              0.6666666666666666,
              "#ed7953"
             ],
             [
              0.7777777777777778,
              "#fb9f3a"
             ],
             [
              0.8888888888888888,
              "#fdca26"
             ],
             [
              1,
              "#f0f921"
             ]
            ],
            "type": "heatmapgl"
           }
          ],
          "histogram": [
           {
            "marker": {
             "pattern": {
              "fillmode": "overlay",
              "size": 10,
              "solidity": 0.2
             }
            },
            "type": "histogram"
           }
          ],
          "histogram2d": [
           {
            "colorbar": {
             "outlinewidth": 0,
             "ticks": ""
            },
            "colorscale": [
             [
              0,
              "#0d0887"
             ],
             [
              0.1111111111111111,
              "#46039f"
             ],
             [
              0.2222222222222222,
              "#7201a8"
             ],
             [
              0.3333333333333333,
              "#9c179e"
             ],
             [
              0.4444444444444444,
              "#bd3786"
             ],
             [
              0.5555555555555556,
              "#d8576b"
             ],
             [
              0.6666666666666666,
              "#ed7953"
             ],
             [
              0.7777777777777778,
              "#fb9f3a"
             ],
             [
              0.8888888888888888,
              "#fdca26"
             ],
             [
              1,
              "#f0f921"
             ]
            ],
            "type": "histogram2d"
           }
          ],
          "histogram2dcontour": [
           {
            "colorbar": {
             "outlinewidth": 0,
             "ticks": ""
            },
            "colorscale": [
             [
              0,
              "#0d0887"
             ],
             [
              0.1111111111111111,
              "#46039f"
             ],
             [
              0.2222222222222222,
              "#7201a8"
             ],
             [
              0.3333333333333333,
              "#9c179e"
             ],
             [
              0.4444444444444444,
              "#bd3786"
             ],
             [
              0.5555555555555556,
              "#d8576b"
             ],
             [
              0.6666666666666666,
              "#ed7953"
             ],
             [
              0.7777777777777778,
              "#fb9f3a"
             ],
             [
              0.8888888888888888,
              "#fdca26"
             ],
             [
              1,
              "#f0f921"
             ]
            ],
            "type": "histogram2dcontour"
           }
          ],
          "mesh3d": [
           {
            "colorbar": {
             "outlinewidth": 0,
             "ticks": ""
            },
            "type": "mesh3d"
           }
          ],
          "parcoords": [
           {
            "line": {
             "colorbar": {
              "outlinewidth": 0,
              "ticks": ""
             }
            },
            "type": "parcoords"
           }
          ],
          "pie": [
           {
            "automargin": true,
            "type": "pie"
           }
          ],
          "scatter": [
           {
            "fillpattern": {
             "fillmode": "overlay",
             "size": 10,
             "solidity": 0.2
            },
            "type": "scatter"
           }
          ],
          "scatter3d": [
           {
            "line": {
             "colorbar": {
              "outlinewidth": 0,
              "ticks": ""
             }
            },
            "marker": {
             "colorbar": {
              "outlinewidth": 0,
              "ticks": ""
             }
            },
            "type": "scatter3d"
           }
          ],
          "scattercarpet": [
           {
            "marker": {
             "colorbar": {
              "outlinewidth": 0,
              "ticks": ""
             }
            },
            "type": "scattercarpet"
           }
          ],
          "scattergeo": [
           {
            "marker": {
             "colorbar": {
              "outlinewidth": 0,
              "ticks": ""
             }
            },
            "type": "scattergeo"
           }
          ],
          "scattergl": [
           {
            "marker": {
             "colorbar": {
              "outlinewidth": 0,
              "ticks": ""
             }
            },
            "type": "scattergl"
           }
          ],
          "scattermapbox": [
           {
            "marker": {
             "colorbar": {
              "outlinewidth": 0,
              "ticks": ""
             }
            },
            "type": "scattermapbox"
           }
          ],
          "scatterpolar": [
           {
            "marker": {
             "colorbar": {
              "outlinewidth": 0,
              "ticks": ""
             }
            },
            "type": "scatterpolar"
           }
          ],
          "scatterpolargl": [
           {
            "marker": {
             "colorbar": {
              "outlinewidth": 0,
              "ticks": ""
             }
            },
            "type": "scatterpolargl"
           }
          ],
          "scatterternary": [
           {
            "marker": {
             "colorbar": {
              "outlinewidth": 0,
              "ticks": ""
             }
            },
            "type": "scatterternary"
           }
          ],
          "surface": [
           {
            "colorbar": {
             "outlinewidth": 0,
             "ticks": ""
            },
            "colorscale": [
             [
              0,
              "#0d0887"
             ],
             [
              0.1111111111111111,
              "#46039f"
             ],
             [
              0.2222222222222222,
              "#7201a8"
             ],
             [
              0.3333333333333333,
              "#9c179e"
             ],
             [
              0.4444444444444444,
              "#bd3786"
             ],
             [
              0.5555555555555556,
              "#d8576b"
             ],
             [
              0.6666666666666666,
              "#ed7953"
             ],
             [
              0.7777777777777778,
              "#fb9f3a"
             ],
             [
              0.8888888888888888,
              "#fdca26"
             ],
             [
              1,
              "#f0f921"
             ]
            ],
            "type": "surface"
           }
          ],
          "table": [
           {
            "cells": {
             "fill": {
              "color": "#EBF0F8"
             },
             "line": {
              "color": "white"
             }
            },
            "header": {
             "fill": {
              "color": "#C8D4E3"
             },
             "line": {
              "color": "white"
             }
            },
            "type": "table"
           }
          ]
         },
         "layout": {
          "annotationdefaults": {
           "arrowcolor": "#2a3f5f",
           "arrowhead": 0,
           "arrowwidth": 1
          },
          "autotypenumbers": "strict",
          "coloraxis": {
           "colorbar": {
            "outlinewidth": 0,
            "ticks": ""
           }
          },
          "colorscale": {
           "diverging": [
            [
             0,
             "#8e0152"
            ],
            [
             0.1,
             "#c51b7d"
            ],
            [
             0.2,
             "#de77ae"
            ],
            [
             0.3,
             "#f1b6da"
            ],
            [
             0.4,
             "#fde0ef"
            ],
            [
             0.5,
             "#f7f7f7"
            ],
            [
             0.6,
             "#e6f5d0"
            ],
            [
             0.7,
             "#b8e186"
            ],
            [
             0.8,
             "#7fbc41"
            ],
            [
             0.9,
             "#4d9221"
            ],
            [
             1,
             "#276419"
            ]
           ],
           "sequential": [
            [
             0,
             "#0d0887"
            ],
            [
             0.1111111111111111,
             "#46039f"
            ],
            [
             0.2222222222222222,
             "#7201a8"
            ],
            [
             0.3333333333333333,
             "#9c179e"
            ],
            [
             0.4444444444444444,
             "#bd3786"
            ],
            [
             0.5555555555555556,
             "#d8576b"
            ],
            [
             0.6666666666666666,
             "#ed7953"
            ],
            [
             0.7777777777777778,
             "#fb9f3a"
            ],
            [
             0.8888888888888888,
             "#fdca26"
            ],
            [
             1,
             "#f0f921"
            ]
           ],
           "sequentialminus": [
            [
             0,
             "#0d0887"
            ],
            [
             0.1111111111111111,
             "#46039f"
            ],
            [
             0.2222222222222222,
             "#7201a8"
            ],
            [
             0.3333333333333333,
             "#9c179e"
            ],
            [
             0.4444444444444444,
             "#bd3786"
            ],
            [
             0.5555555555555556,
             "#d8576b"
            ],
            [
             0.6666666666666666,
             "#ed7953"
            ],
            [
             0.7777777777777778,
             "#fb9f3a"
            ],
            [
             0.8888888888888888,
             "#fdca26"
            ],
            [
             1,
             "#f0f921"
            ]
           ]
          },
          "colorway": [
           "#636efa",
           "#EF553B",
           "#00cc96",
           "#ab63fa",
           "#FFA15A",
           "#19d3f3",
           "#FF6692",
           "#B6E880",
           "#FF97FF",
           "#FECB52"
          ],
          "font": {
           "color": "#2a3f5f"
          },
          "geo": {
           "bgcolor": "white",
           "lakecolor": "white",
           "landcolor": "#E5ECF6",
           "showlakes": true,
           "showland": true,
           "subunitcolor": "white"
          },
          "hoverlabel": {
           "align": "left"
          },
          "hovermode": "closest",
          "mapbox": {
           "style": "light"
          },
          "paper_bgcolor": "white",
          "plot_bgcolor": "#E5ECF6",
          "polar": {
           "angularaxis": {
            "gridcolor": "white",
            "linecolor": "white",
            "ticks": ""
           },
           "bgcolor": "#E5ECF6",
           "radialaxis": {
            "gridcolor": "white",
            "linecolor": "white",
            "ticks": ""
           }
          },
          "scene": {
           "xaxis": {
            "backgroundcolor": "#E5ECF6",
            "gridcolor": "white",
            "gridwidth": 2,
            "linecolor": "white",
            "showbackground": true,
            "ticks": "",
            "zerolinecolor": "white"
           },
           "yaxis": {
            "backgroundcolor": "#E5ECF6",
            "gridcolor": "white",
            "gridwidth": 2,
            "linecolor": "white",
            "showbackground": true,
            "ticks": "",
            "zerolinecolor": "white"
           },
           "zaxis": {
            "backgroundcolor": "#E5ECF6",
            "gridcolor": "white",
            "gridwidth": 2,
            "linecolor": "white",
            "showbackground": true,
            "ticks": "",
            "zerolinecolor": "white"
           }
          },
          "shapedefaults": {
           "line": {
            "color": "#2a3f5f"
           }
          },
          "ternary": {
           "aaxis": {
            "gridcolor": "white",
            "linecolor": "white",
            "ticks": ""
           },
           "baxis": {
            "gridcolor": "white",
            "linecolor": "white",
            "ticks": ""
           },
           "bgcolor": "#E5ECF6",
           "caxis": {
            "gridcolor": "white",
            "linecolor": "white",
            "ticks": ""
           }
          },
          "title": {
           "x": 0.05
          },
          "xaxis": {
           "automargin": true,
           "gridcolor": "white",
           "linecolor": "white",
           "ticks": "",
           "title": {
            "standoff": 15
           },
           "zerolinecolor": "white",
           "zerolinewidth": 2
          },
          "yaxis": {
           "automargin": true,
           "gridcolor": "white",
           "linecolor": "white",
           "ticks": "",
           "title": {
            "standoff": 15
           },
           "zerolinecolor": "white",
           "zerolinewidth": 2
          }
         }
        },
        "title": {
         "font": {
          "color": "#4D5663"
         }
        },
        "xaxis": {
         "gridcolor": "#E1E5ED",
         "showgrid": true,
         "tickfont": {
          "color": "#4D5663"
         },
         "title": {
          "font": {
           "color": "#4D5663"
          },
          "text": ""
         },
         "zerolinecolor": "#E1E5ED"
        },
        "yaxis": {
         "gridcolor": "#E1E5ED",
         "showgrid": true,
         "tickfont": {
          "color": "#4D5663"
         },
         "title": {
          "font": {
           "color": "#4D5663"
          },
          "text": ""
         },
         "zerolinecolor": "#E1E5ED"
        }
       }
      },
      "text/html": [
       "<div>                            <div id=\"3658172f-94e7-4cb3-924a-d863a48589df\" class=\"plotly-graph-div\" style=\"height:525px; width:100%;\"></div>            <script type=\"text/javascript\">                require([\"plotly\"], function(Plotly) {                    window.PLOTLYENV=window.PLOTLYENV || {};\n",
       "                    window.PLOTLYENV.BASE_URL='https://plot.ly';                                    if (document.getElementById(\"3658172f-94e7-4cb3-924a-d863a48589df\")) {                    Plotly.newPlot(                        \"3658172f-94e7-4cb3-924a-d863a48589df\",                        [{\"marker\":{\"color\":\"rgba(255, 153, 51, 0.6)\",\"line\":{\"color\":\"rgba(255, 153, 51, 1.0)\",\"width\":1}},\"name\":\"Values\",\"orientation\":\"v\",\"text\":\"\",\"x\":[\"A\",\"B\",\"C\"],\"y\":[32,43,50],\"type\":\"bar\"}],                        {\"legend\":{\"bgcolor\":\"#F5F6F9\",\"font\":{\"color\":\"#4D5663\"}},\"paper_bgcolor\":\"#F5F6F9\",\"plot_bgcolor\":\"#F5F6F9\",\"template\":{\"data\":{\"barpolar\":[{\"marker\":{\"line\":{\"color\":\"#E5ECF6\",\"width\":0.5},\"pattern\":{\"fillmode\":\"overlay\",\"size\":10,\"solidity\":0.2}},\"type\":\"barpolar\"}],\"bar\":[{\"error_x\":{\"color\":\"#2a3f5f\"},\"error_y\":{\"color\":\"#2a3f5f\"},\"marker\":{\"line\":{\"color\":\"#E5ECF6\",\"width\":0.5},\"pattern\":{\"fillmode\":\"overlay\",\"size\":10,\"solidity\":0.2}},\"type\":\"bar\"}],\"carpet\":[{\"aaxis\":{\"endlinecolor\":\"#2a3f5f\",\"gridcolor\":\"white\",\"linecolor\":\"white\",\"minorgridcolor\":\"white\",\"startlinecolor\":\"#2a3f5f\"},\"baxis\":{\"endlinecolor\":\"#2a3f5f\",\"gridcolor\":\"white\",\"linecolor\":\"white\",\"minorgridcolor\":\"white\",\"startlinecolor\":\"#2a3f5f\"},\"type\":\"carpet\"}],\"choropleth\":[{\"colorbar\":{\"outlinewidth\":0,\"ticks\":\"\"},\"type\":\"choropleth\"}],\"contourcarpet\":[{\"colorbar\":{\"outlinewidth\":0,\"ticks\":\"\"},\"type\":\"contourcarpet\"}],\"contour\":[{\"colorbar\":{\"outlinewidth\":0,\"ticks\":\"\"},\"colorscale\":[[0.0,\"#0d0887\"],[0.1111111111111111,\"#46039f\"],[0.2222222222222222,\"#7201a8\"],[0.3333333333333333,\"#9c179e\"],[0.4444444444444444,\"#bd3786\"],[0.5555555555555556,\"#d8576b\"],[0.6666666666666666,\"#ed7953\"],[0.7777777777777778,\"#fb9f3a\"],[0.8888888888888888,\"#fdca26\"],[1.0,\"#f0f921\"]],\"type\":\"contour\"}],\"heatmapgl\":[{\"colorbar\":{\"outlinewidth\":0,\"ticks\":\"\"},\"colorscale\":[[0.0,\"#0d0887\"],[0.1111111111111111,\"#46039f\"],[0.2222222222222222,\"#7201a8\"],[0.3333333333333333,\"#9c179e\"],[0.4444444444444444,\"#bd3786\"],[0.5555555555555556,\"#d8576b\"],[0.6666666666666666,\"#ed7953\"],[0.7777777777777778,\"#fb9f3a\"],[0.8888888888888888,\"#fdca26\"],[1.0,\"#f0f921\"]],\"type\":\"heatmapgl\"}],\"heatmap\":[{\"colorbar\":{\"outlinewidth\":0,\"ticks\":\"\"},\"colorscale\":[[0.0,\"#0d0887\"],[0.1111111111111111,\"#46039f\"],[0.2222222222222222,\"#7201a8\"],[0.3333333333333333,\"#9c179e\"],[0.4444444444444444,\"#bd3786\"],[0.5555555555555556,\"#d8576b\"],[0.6666666666666666,\"#ed7953\"],[0.7777777777777778,\"#fb9f3a\"],[0.8888888888888888,\"#fdca26\"],[1.0,\"#f0f921\"]],\"type\":\"heatmap\"}],\"histogram2dcontour\":[{\"colorbar\":{\"outlinewidth\":0,\"ticks\":\"\"},\"colorscale\":[[0.0,\"#0d0887\"],[0.1111111111111111,\"#46039f\"],[0.2222222222222222,\"#7201a8\"],[0.3333333333333333,\"#9c179e\"],[0.4444444444444444,\"#bd3786\"],[0.5555555555555556,\"#d8576b\"],[0.6666666666666666,\"#ed7953\"],[0.7777777777777778,\"#fb9f3a\"],[0.8888888888888888,\"#fdca26\"],[1.0,\"#f0f921\"]],\"type\":\"histogram2dcontour\"}],\"histogram2d\":[{\"colorbar\":{\"outlinewidth\":0,\"ticks\":\"\"},\"colorscale\":[[0.0,\"#0d0887\"],[0.1111111111111111,\"#46039f\"],[0.2222222222222222,\"#7201a8\"],[0.3333333333333333,\"#9c179e\"],[0.4444444444444444,\"#bd3786\"],[0.5555555555555556,\"#d8576b\"],[0.6666666666666666,\"#ed7953\"],[0.7777777777777778,\"#fb9f3a\"],[0.8888888888888888,\"#fdca26\"],[1.0,\"#f0f921\"]],\"type\":\"histogram2d\"}],\"histogram\":[{\"marker\":{\"pattern\":{\"fillmode\":\"overlay\",\"size\":10,\"solidity\":0.2}},\"type\":\"histogram\"}],\"mesh3d\":[{\"colorbar\":{\"outlinewidth\":0,\"ticks\":\"\"},\"type\":\"mesh3d\"}],\"parcoords\":[{\"line\":{\"colorbar\":{\"outlinewidth\":0,\"ticks\":\"\"}},\"type\":\"parcoords\"}],\"pie\":[{\"automargin\":true,\"type\":\"pie\"}],\"scatter3d\":[{\"line\":{\"colorbar\":{\"outlinewidth\":0,\"ticks\":\"\"}},\"marker\":{\"colorbar\":{\"outlinewidth\":0,\"ticks\":\"\"}},\"type\":\"scatter3d\"}],\"scattercarpet\":[{\"marker\":{\"colorbar\":{\"outlinewidth\":0,\"ticks\":\"\"}},\"type\":\"scattercarpet\"}],\"scattergeo\":[{\"marker\":{\"colorbar\":{\"outlinewidth\":0,\"ticks\":\"\"}},\"type\":\"scattergeo\"}],\"scattergl\":[{\"marker\":{\"colorbar\":{\"outlinewidth\":0,\"ticks\":\"\"}},\"type\":\"scattergl\"}],\"scattermapbox\":[{\"marker\":{\"colorbar\":{\"outlinewidth\":0,\"ticks\":\"\"}},\"type\":\"scattermapbox\"}],\"scatterpolargl\":[{\"marker\":{\"colorbar\":{\"outlinewidth\":0,\"ticks\":\"\"}},\"type\":\"scatterpolargl\"}],\"scatterpolar\":[{\"marker\":{\"colorbar\":{\"outlinewidth\":0,\"ticks\":\"\"}},\"type\":\"scatterpolar\"}],\"scatter\":[{\"fillpattern\":{\"fillmode\":\"overlay\",\"size\":10,\"solidity\":0.2},\"type\":\"scatter\"}],\"scatterternary\":[{\"marker\":{\"colorbar\":{\"outlinewidth\":0,\"ticks\":\"\"}},\"type\":\"scatterternary\"}],\"surface\":[{\"colorbar\":{\"outlinewidth\":0,\"ticks\":\"\"},\"colorscale\":[[0.0,\"#0d0887\"],[0.1111111111111111,\"#46039f\"],[0.2222222222222222,\"#7201a8\"],[0.3333333333333333,\"#9c179e\"],[0.4444444444444444,\"#bd3786\"],[0.5555555555555556,\"#d8576b\"],[0.6666666666666666,\"#ed7953\"],[0.7777777777777778,\"#fb9f3a\"],[0.8888888888888888,\"#fdca26\"],[1.0,\"#f0f921\"]],\"type\":\"surface\"}],\"table\":[{\"cells\":{\"fill\":{\"color\":\"#EBF0F8\"},\"line\":{\"color\":\"white\"}},\"header\":{\"fill\":{\"color\":\"#C8D4E3\"},\"line\":{\"color\":\"white\"}},\"type\":\"table\"}]},\"layout\":{\"annotationdefaults\":{\"arrowcolor\":\"#2a3f5f\",\"arrowhead\":0,\"arrowwidth\":1},\"autotypenumbers\":\"strict\",\"coloraxis\":{\"colorbar\":{\"outlinewidth\":0,\"ticks\":\"\"}},\"colorscale\":{\"diverging\":[[0,\"#8e0152\"],[0.1,\"#c51b7d\"],[0.2,\"#de77ae\"],[0.3,\"#f1b6da\"],[0.4,\"#fde0ef\"],[0.5,\"#f7f7f7\"],[0.6,\"#e6f5d0\"],[0.7,\"#b8e186\"],[0.8,\"#7fbc41\"],[0.9,\"#4d9221\"],[1,\"#276419\"]],\"sequential\":[[0.0,\"#0d0887\"],[0.1111111111111111,\"#46039f\"],[0.2222222222222222,\"#7201a8\"],[0.3333333333333333,\"#9c179e\"],[0.4444444444444444,\"#bd3786\"],[0.5555555555555556,\"#d8576b\"],[0.6666666666666666,\"#ed7953\"],[0.7777777777777778,\"#fb9f3a\"],[0.8888888888888888,\"#fdca26\"],[1.0,\"#f0f921\"]],\"sequentialminus\":[[0.0,\"#0d0887\"],[0.1111111111111111,\"#46039f\"],[0.2222222222222222,\"#7201a8\"],[0.3333333333333333,\"#9c179e\"],[0.4444444444444444,\"#bd3786\"],[0.5555555555555556,\"#d8576b\"],[0.6666666666666666,\"#ed7953\"],[0.7777777777777778,\"#fb9f3a\"],[0.8888888888888888,\"#fdca26\"],[1.0,\"#f0f921\"]]},\"colorway\":[\"#636efa\",\"#EF553B\",\"#00cc96\",\"#ab63fa\",\"#FFA15A\",\"#19d3f3\",\"#FF6692\",\"#B6E880\",\"#FF97FF\",\"#FECB52\"],\"font\":{\"color\":\"#2a3f5f\"},\"geo\":{\"bgcolor\":\"white\",\"lakecolor\":\"white\",\"landcolor\":\"#E5ECF6\",\"showlakes\":true,\"showland\":true,\"subunitcolor\":\"white\"},\"hoverlabel\":{\"align\":\"left\"},\"hovermode\":\"closest\",\"mapbox\":{\"style\":\"light\"},\"paper_bgcolor\":\"white\",\"plot_bgcolor\":\"#E5ECF6\",\"polar\":{\"angularaxis\":{\"gridcolor\":\"white\",\"linecolor\":\"white\",\"ticks\":\"\"},\"bgcolor\":\"#E5ECF6\",\"radialaxis\":{\"gridcolor\":\"white\",\"linecolor\":\"white\",\"ticks\":\"\"}},\"scene\":{\"xaxis\":{\"backgroundcolor\":\"#E5ECF6\",\"gridcolor\":\"white\",\"gridwidth\":2,\"linecolor\":\"white\",\"showbackground\":true,\"ticks\":\"\",\"zerolinecolor\":\"white\"},\"yaxis\":{\"backgroundcolor\":\"#E5ECF6\",\"gridcolor\":\"white\",\"gridwidth\":2,\"linecolor\":\"white\",\"showbackground\":true,\"ticks\":\"\",\"zerolinecolor\":\"white\"},\"zaxis\":{\"backgroundcolor\":\"#E5ECF6\",\"gridcolor\":\"white\",\"gridwidth\":2,\"linecolor\":\"white\",\"showbackground\":true,\"ticks\":\"\",\"zerolinecolor\":\"white\"}},\"shapedefaults\":{\"line\":{\"color\":\"#2a3f5f\"}},\"ternary\":{\"aaxis\":{\"gridcolor\":\"white\",\"linecolor\":\"white\",\"ticks\":\"\"},\"baxis\":{\"gridcolor\":\"white\",\"linecolor\":\"white\",\"ticks\":\"\"},\"bgcolor\":\"#E5ECF6\",\"caxis\":{\"gridcolor\":\"white\",\"linecolor\":\"white\",\"ticks\":\"\"}},\"title\":{\"x\":0.05},\"xaxis\":{\"automargin\":true,\"gridcolor\":\"white\",\"linecolor\":\"white\",\"ticks\":\"\",\"title\":{\"standoff\":15},\"zerolinecolor\":\"white\",\"zerolinewidth\":2},\"yaxis\":{\"automargin\":true,\"gridcolor\":\"white\",\"linecolor\":\"white\",\"ticks\":\"\",\"title\":{\"standoff\":15},\"zerolinecolor\":\"white\",\"zerolinewidth\":2}}},\"title\":{\"font\":{\"color\":\"#4D5663\"}},\"xaxis\":{\"gridcolor\":\"#E1E5ED\",\"showgrid\":true,\"tickfont\":{\"color\":\"#4D5663\"},\"title\":{\"font\":{\"color\":\"#4D5663\"},\"text\":\"\"},\"zerolinecolor\":\"#E1E5ED\"},\"yaxis\":{\"gridcolor\":\"#E1E5ED\",\"showgrid\":true,\"tickfont\":{\"color\":\"#4D5663\"},\"title\":{\"font\":{\"color\":\"#4D5663\"},\"text\":\"\"},\"zerolinecolor\":\"#E1E5ED\"}},                        {\"showLink\": true, \"linkText\": \"Export to plot.ly\", \"plotlyServerURL\": \"https://plot.ly\", \"responsive\": true}                    ).then(function(){\n",
       "                            \n",
       "var gd = document.getElementById('3658172f-94e7-4cb3-924a-d863a48589df');\n",
       "var x = new MutationObserver(function (mutations, observer) {{\n",
       "        var display = window.getComputedStyle(gd).display;\n",
       "        if (!display || display === 'none') {{\n",
       "            console.log([gd, 'removed!']);\n",
       "            Plotly.purge(gd);\n",
       "            observer.disconnect();\n",
       "        }}\n",
       "}});\n",
       "\n",
       "// Listen for the removal of the full notebook cells\n",
       "var notebookContainer = gd.closest('#notebook-container');\n",
       "if (notebookContainer) {{\n",
       "    x.observe(notebookContainer, {childList: true});\n",
       "}}\n",
       "\n",
       "// Listen for the clearing of the current output cell\n",
       "var outputEl = gd.closest('.output');\n",
       "if (outputEl) {{\n",
       "    x.observe(outputEl, {childList: true});\n",
       "}}\n",
       "\n",
       "                        })                };                });            </script>        </div>"
      ]
     },
     "metadata": {},
     "output_type": "display_data"
    }
   ],
   "source": [
    "df2.iplot(kind='bar',x='Category',y='Values')"
   ]
  },
  {
   "cell_type": "markdown",
   "metadata": {},
   "source": [
    "How to call grouping/aggregate on data when you don't have categorical data"
   ]
  },
  {
   "cell_type": "code",
   "execution_count": 22,
   "metadata": {},
   "outputs": [
    {
     "data": {
      "application/vnd.plotly.v1+json": {
       "config": {
        "linkText": "Export to plot.ly",
        "plotlyServerURL": "https://plot.ly",
        "showLink": true
       },
       "data": [
        {
         "marker": {
          "color": "rgba(255, 153, 51, 0.6)",
          "line": {
           "color": "rgba(255, 153, 51, 1.0)",
           "width": 1
          }
         },
         "name": "None",
         "orientation": "v",
         "text": "",
         "type": "bar",
         "x": [
          "A",
          "B",
          "C",
          "D"
         ],
         "y": [
          100,
          100,
          100,
          100
         ]
        }
       ],
       "layout": {
        "legend": {
         "bgcolor": "#F5F6F9",
         "font": {
          "color": "#4D5663"
         }
        },
        "paper_bgcolor": "#F5F6F9",
        "plot_bgcolor": "#F5F6F9",
        "template": {
         "data": {
          "bar": [
           {
            "error_x": {
             "color": "#2a3f5f"
            },
            "error_y": {
             "color": "#2a3f5f"
            },
            "marker": {
             "line": {
              "color": "#E5ECF6",
              "width": 0.5
             },
             "pattern": {
              "fillmode": "overlay",
              "size": 10,
              "solidity": 0.2
             }
            },
            "type": "bar"
           }
          ],
          "barpolar": [
           {
            "marker": {
             "line": {
              "color": "#E5ECF6",
              "width": 0.5
             },
             "pattern": {
              "fillmode": "overlay",
              "size": 10,
              "solidity": 0.2
             }
            },
            "type": "barpolar"
           }
          ],
          "carpet": [
           {
            "aaxis": {
             "endlinecolor": "#2a3f5f",
             "gridcolor": "white",
             "linecolor": "white",
             "minorgridcolor": "white",
             "startlinecolor": "#2a3f5f"
            },
            "baxis": {
             "endlinecolor": "#2a3f5f",
             "gridcolor": "white",
             "linecolor": "white",
             "minorgridcolor": "white",
             "startlinecolor": "#2a3f5f"
            },
            "type": "carpet"
           }
          ],
          "choropleth": [
           {
            "colorbar": {
             "outlinewidth": 0,
             "ticks": ""
            },
            "type": "choropleth"
           }
          ],
          "contour": [
           {
            "colorbar": {
             "outlinewidth": 0,
             "ticks": ""
            },
            "colorscale": [
             [
              0,
              "#0d0887"
             ],
             [
              0.1111111111111111,
              "#46039f"
             ],
             [
              0.2222222222222222,
              "#7201a8"
             ],
             [
              0.3333333333333333,
              "#9c179e"
             ],
             [
              0.4444444444444444,
              "#bd3786"
             ],
             [
              0.5555555555555556,
              "#d8576b"
             ],
             [
              0.6666666666666666,
              "#ed7953"
             ],
             [
              0.7777777777777778,
              "#fb9f3a"
             ],
             [
              0.8888888888888888,
              "#fdca26"
             ],
             [
              1,
              "#f0f921"
             ]
            ],
            "type": "contour"
           }
          ],
          "contourcarpet": [
           {
            "colorbar": {
             "outlinewidth": 0,
             "ticks": ""
            },
            "type": "contourcarpet"
           }
          ],
          "heatmap": [
           {
            "colorbar": {
             "outlinewidth": 0,
             "ticks": ""
            },
            "colorscale": [
             [
              0,
              "#0d0887"
             ],
             [
              0.1111111111111111,
              "#46039f"
             ],
             [
              0.2222222222222222,
              "#7201a8"
             ],
             [
              0.3333333333333333,
              "#9c179e"
             ],
             [
              0.4444444444444444,
              "#bd3786"
             ],
             [
              0.5555555555555556,
              "#d8576b"
             ],
             [
              0.6666666666666666,
              "#ed7953"
             ],
             [
              0.7777777777777778,
              "#fb9f3a"
             ],
             [
              0.8888888888888888,
              "#fdca26"
             ],
             [
              1,
              "#f0f921"
             ]
            ],
            "type": "heatmap"
           }
          ],
          "heatmapgl": [
           {
            "colorbar": {
             "outlinewidth": 0,
             "ticks": ""
            },
            "colorscale": [
             [
              0,
              "#0d0887"
             ],
             [
              0.1111111111111111,
              "#46039f"
             ],
             [
              0.2222222222222222,
              "#7201a8"
             ],
             [
              0.3333333333333333,
              "#9c179e"
             ],
             [
              0.4444444444444444,
              "#bd3786"
             ],
             [
              0.5555555555555556,
              "#d8576b"
             ],
             [
              0.6666666666666666,
              "#ed7953"
             ],
             [
              0.7777777777777778,
              "#fb9f3a"
             ],
             [
              0.8888888888888888,
              "#fdca26"
             ],
             [
              1,
              "#f0f921"
             ]
            ],
            "type": "heatmapgl"
           }
          ],
          "histogram": [
           {
            "marker": {
             "pattern": {
              "fillmode": "overlay",
              "size": 10,
              "solidity": 0.2
             }
            },
            "type": "histogram"
           }
          ],
          "histogram2d": [
           {
            "colorbar": {
             "outlinewidth": 0,
             "ticks": ""
            },
            "colorscale": [
             [
              0,
              "#0d0887"
             ],
             [
              0.1111111111111111,
              "#46039f"
             ],
             [
              0.2222222222222222,
              "#7201a8"
             ],
             [
              0.3333333333333333,
              "#9c179e"
             ],
             [
              0.4444444444444444,
              "#bd3786"
             ],
             [
              0.5555555555555556,
              "#d8576b"
             ],
             [
              0.6666666666666666,
              "#ed7953"
             ],
             [
              0.7777777777777778,
              "#fb9f3a"
             ],
             [
              0.8888888888888888,
              "#fdca26"
             ],
             [
              1,
              "#f0f921"
             ]
            ],
            "type": "histogram2d"
           }
          ],
          "histogram2dcontour": [
           {
            "colorbar": {
             "outlinewidth": 0,
             "ticks": ""
            },
            "colorscale": [
             [
              0,
              "#0d0887"
             ],
             [
              0.1111111111111111,
              "#46039f"
             ],
             [
              0.2222222222222222,
              "#7201a8"
             ],
             [
              0.3333333333333333,
              "#9c179e"
             ],
             [
              0.4444444444444444,
              "#bd3786"
             ],
             [
              0.5555555555555556,
              "#d8576b"
             ],
             [
              0.6666666666666666,
              "#ed7953"
             ],
             [
              0.7777777777777778,
              "#fb9f3a"
             ],
             [
              0.8888888888888888,
              "#fdca26"
             ],
             [
              1,
              "#f0f921"
             ]
            ],
            "type": "histogram2dcontour"
           }
          ],
          "mesh3d": [
           {
            "colorbar": {
             "outlinewidth": 0,
             "ticks": ""
            },
            "type": "mesh3d"
           }
          ],
          "parcoords": [
           {
            "line": {
             "colorbar": {
              "outlinewidth": 0,
              "ticks": ""
             }
            },
            "type": "parcoords"
           }
          ],
          "pie": [
           {
            "automargin": true,
            "type": "pie"
           }
          ],
          "scatter": [
           {
            "fillpattern": {
             "fillmode": "overlay",
             "size": 10,
             "solidity": 0.2
            },
            "type": "scatter"
           }
          ],
          "scatter3d": [
           {
            "line": {
             "colorbar": {
              "outlinewidth": 0,
              "ticks": ""
             }
            },
            "marker": {
             "colorbar": {
              "outlinewidth": 0,
              "ticks": ""
             }
            },
            "type": "scatter3d"
           }
          ],
          "scattercarpet": [
           {
            "marker": {
             "colorbar": {
              "outlinewidth": 0,
              "ticks": ""
             }
            },
            "type": "scattercarpet"
           }
          ],
          "scattergeo": [
           {
            "marker": {
             "colorbar": {
              "outlinewidth": 0,
              "ticks": ""
             }
            },
            "type": "scattergeo"
           }
          ],
          "scattergl": [
           {
            "marker": {
             "colorbar": {
              "outlinewidth": 0,
              "ticks": ""
             }
            },
            "type": "scattergl"
           }
          ],
          "scattermapbox": [
           {
            "marker": {
             "colorbar": {
              "outlinewidth": 0,
              "ticks": ""
             }
            },
            "type": "scattermapbox"
           }
          ],
          "scatterpolar": [
           {
            "marker": {
             "colorbar": {
              "outlinewidth": 0,
              "ticks": ""
             }
            },
            "type": "scatterpolar"
           }
          ],
          "scatterpolargl": [
           {
            "marker": {
             "colorbar": {
              "outlinewidth": 0,
              "ticks": ""
             }
            },
            "type": "scatterpolargl"
           }
          ],
          "scatterternary": [
           {
            "marker": {
             "colorbar": {
              "outlinewidth": 0,
              "ticks": ""
             }
            },
            "type": "scatterternary"
           }
          ],
          "surface": [
           {
            "colorbar": {
             "outlinewidth": 0,
             "ticks": ""
            },
            "colorscale": [
             [
              0,
              "#0d0887"
             ],
             [
              0.1111111111111111,
              "#46039f"
             ],
             [
              0.2222222222222222,
              "#7201a8"
             ],
             [
              0.3333333333333333,
              "#9c179e"
             ],
             [
              0.4444444444444444,
              "#bd3786"
             ],
             [
              0.5555555555555556,
              "#d8576b"
             ],
             [
              0.6666666666666666,
              "#ed7953"
             ],
             [
              0.7777777777777778,
              "#fb9f3a"
             ],
             [
              0.8888888888888888,
              "#fdca26"
             ],
             [
              1,
              "#f0f921"
             ]
            ],
            "type": "surface"
           }
          ],
          "table": [
           {
            "cells": {
             "fill": {
              "color": "#EBF0F8"
             },
             "line": {
              "color": "white"
             }
            },
            "header": {
             "fill": {
              "color": "#C8D4E3"
             },
             "line": {
              "color": "white"
             }
            },
            "type": "table"
           }
          ]
         },
         "layout": {
          "annotationdefaults": {
           "arrowcolor": "#2a3f5f",
           "arrowhead": 0,
           "arrowwidth": 1
          },
          "autotypenumbers": "strict",
          "coloraxis": {
           "colorbar": {
            "outlinewidth": 0,
            "ticks": ""
           }
          },
          "colorscale": {
           "diverging": [
            [
             0,
             "#8e0152"
            ],
            [
             0.1,
             "#c51b7d"
            ],
            [
             0.2,
             "#de77ae"
            ],
            [
             0.3,
             "#f1b6da"
            ],
            [
             0.4,
             "#fde0ef"
            ],
            [
             0.5,
             "#f7f7f7"
            ],
            [
             0.6,
             "#e6f5d0"
            ],
            [
             0.7,
             "#b8e186"
            ],
            [
             0.8,
             "#7fbc41"
            ],
            [
             0.9,
             "#4d9221"
            ],
            [
             1,
             "#276419"
            ]
           ],
           "sequential": [
            [
             0,
             "#0d0887"
            ],
            [
             0.1111111111111111,
             "#46039f"
            ],
            [
             0.2222222222222222,
             "#7201a8"
            ],
            [
             0.3333333333333333,
             "#9c179e"
            ],
            [
             0.4444444444444444,
             "#bd3786"
            ],
            [
             0.5555555555555556,
             "#d8576b"
            ],
            [
             0.6666666666666666,
             "#ed7953"
            ],
            [
             0.7777777777777778,
             "#fb9f3a"
            ],
            [
             0.8888888888888888,
             "#fdca26"
            ],
            [
             1,
             "#f0f921"
            ]
           ],
           "sequentialminus": [
            [
             0,
             "#0d0887"
            ],
            [
             0.1111111111111111,
             "#46039f"
            ],
            [
             0.2222222222222222,
             "#7201a8"
            ],
            [
             0.3333333333333333,
             "#9c179e"
            ],
            [
             0.4444444444444444,
             "#bd3786"
            ],
            [
             0.5555555555555556,
             "#d8576b"
            ],
            [
             0.6666666666666666,
             "#ed7953"
            ],
            [
             0.7777777777777778,
             "#fb9f3a"
            ],
            [
             0.8888888888888888,
             "#fdca26"
            ],
            [
             1,
             "#f0f921"
            ]
           ]
          },
          "colorway": [
           "#636efa",
           "#EF553B",
           "#00cc96",
           "#ab63fa",
           "#FFA15A",
           "#19d3f3",
           "#FF6692",
           "#B6E880",
           "#FF97FF",
           "#FECB52"
          ],
          "font": {
           "color": "#2a3f5f"
          },
          "geo": {
           "bgcolor": "white",
           "lakecolor": "white",
           "landcolor": "#E5ECF6",
           "showlakes": true,
           "showland": true,
           "subunitcolor": "white"
          },
          "hoverlabel": {
           "align": "left"
          },
          "hovermode": "closest",
          "mapbox": {
           "style": "light"
          },
          "paper_bgcolor": "white",
          "plot_bgcolor": "#E5ECF6",
          "polar": {
           "angularaxis": {
            "gridcolor": "white",
            "linecolor": "white",
            "ticks": ""
           },
           "bgcolor": "#E5ECF6",
           "radialaxis": {
            "gridcolor": "white",
            "linecolor": "white",
            "ticks": ""
           }
          },
          "scene": {
           "xaxis": {
            "backgroundcolor": "#E5ECF6",
            "gridcolor": "white",
            "gridwidth": 2,
            "linecolor": "white",
            "showbackground": true,
            "ticks": "",
            "zerolinecolor": "white"
           },
           "yaxis": {
            "backgroundcolor": "#E5ECF6",
            "gridcolor": "white",
            "gridwidth": 2,
            "linecolor": "white",
            "showbackground": true,
            "ticks": "",
            "zerolinecolor": "white"
           },
           "zaxis": {
            "backgroundcolor": "#E5ECF6",
            "gridcolor": "white",
            "gridwidth": 2,
            "linecolor": "white",
            "showbackground": true,
            "ticks": "",
            "zerolinecolor": "white"
           }
          },
          "shapedefaults": {
           "line": {
            "color": "#2a3f5f"
           }
          },
          "ternary": {
           "aaxis": {
            "gridcolor": "white",
            "linecolor": "white",
            "ticks": ""
           },
           "baxis": {
            "gridcolor": "white",
            "linecolor": "white",
            "ticks": ""
           },
           "bgcolor": "#E5ECF6",
           "caxis": {
            "gridcolor": "white",
            "linecolor": "white",
            "ticks": ""
           }
          },
          "title": {
           "x": 0.05
          },
          "xaxis": {
           "automargin": true,
           "gridcolor": "white",
           "linecolor": "white",
           "ticks": "",
           "title": {
            "standoff": 15
           },
           "zerolinecolor": "white",
           "zerolinewidth": 2
          },
          "yaxis": {
           "automargin": true,
           "gridcolor": "white",
           "linecolor": "white",
           "ticks": "",
           "title": {
            "standoff": 15
           },
           "zerolinecolor": "white",
           "zerolinewidth": 2
          }
         }
        },
        "title": {
         "font": {
          "color": "#4D5663"
         }
        },
        "xaxis": {
         "gridcolor": "#E1E5ED",
         "showgrid": true,
         "tickfont": {
          "color": "#4D5663"
         },
         "title": {
          "font": {
           "color": "#4D5663"
          },
          "text": ""
         },
         "zerolinecolor": "#E1E5ED"
        },
        "yaxis": {
         "gridcolor": "#E1E5ED",
         "showgrid": true,
         "tickfont": {
          "color": "#4D5663"
         },
         "title": {
          "font": {
           "color": "#4D5663"
          },
          "text": ""
         },
         "zerolinecolor": "#E1E5ED"
        }
       }
      },
      "text/html": [
       "<div>                            <div id=\"5d4fdca2-8285-41fc-83b8-755d07f3aec3\" class=\"plotly-graph-div\" style=\"height:525px; width:100%;\"></div>            <script type=\"text/javascript\">                require([\"plotly\"], function(Plotly) {                    window.PLOTLYENV=window.PLOTLYENV || {};\n",
       "                    window.PLOTLYENV.BASE_URL='https://plot.ly';                                    if (document.getElementById(\"5d4fdca2-8285-41fc-83b8-755d07f3aec3\")) {                    Plotly.newPlot(                        \"5d4fdca2-8285-41fc-83b8-755d07f3aec3\",                        [{\"marker\":{\"color\":\"rgba(255, 153, 51, 0.6)\",\"line\":{\"color\":\"rgba(255, 153, 51, 1.0)\",\"width\":1}},\"name\":\"None\",\"orientation\":\"v\",\"text\":\"\",\"x\":[\"A\",\"B\",\"C\",\"D\"],\"y\":[100,100,100,100],\"type\":\"bar\"}],                        {\"legend\":{\"bgcolor\":\"#F5F6F9\",\"font\":{\"color\":\"#4D5663\"}},\"paper_bgcolor\":\"#F5F6F9\",\"plot_bgcolor\":\"#F5F6F9\",\"template\":{\"data\":{\"barpolar\":[{\"marker\":{\"line\":{\"color\":\"#E5ECF6\",\"width\":0.5},\"pattern\":{\"fillmode\":\"overlay\",\"size\":10,\"solidity\":0.2}},\"type\":\"barpolar\"}],\"bar\":[{\"error_x\":{\"color\":\"#2a3f5f\"},\"error_y\":{\"color\":\"#2a3f5f\"},\"marker\":{\"line\":{\"color\":\"#E5ECF6\",\"width\":0.5},\"pattern\":{\"fillmode\":\"overlay\",\"size\":10,\"solidity\":0.2}},\"type\":\"bar\"}],\"carpet\":[{\"aaxis\":{\"endlinecolor\":\"#2a3f5f\",\"gridcolor\":\"white\",\"linecolor\":\"white\",\"minorgridcolor\":\"white\",\"startlinecolor\":\"#2a3f5f\"},\"baxis\":{\"endlinecolor\":\"#2a3f5f\",\"gridcolor\":\"white\",\"linecolor\":\"white\",\"minorgridcolor\":\"white\",\"startlinecolor\":\"#2a3f5f\"},\"type\":\"carpet\"}],\"choropleth\":[{\"colorbar\":{\"outlinewidth\":0,\"ticks\":\"\"},\"type\":\"choropleth\"}],\"contourcarpet\":[{\"colorbar\":{\"outlinewidth\":0,\"ticks\":\"\"},\"type\":\"contourcarpet\"}],\"contour\":[{\"colorbar\":{\"outlinewidth\":0,\"ticks\":\"\"},\"colorscale\":[[0.0,\"#0d0887\"],[0.1111111111111111,\"#46039f\"],[0.2222222222222222,\"#7201a8\"],[0.3333333333333333,\"#9c179e\"],[0.4444444444444444,\"#bd3786\"],[0.5555555555555556,\"#d8576b\"],[0.6666666666666666,\"#ed7953\"],[0.7777777777777778,\"#fb9f3a\"],[0.8888888888888888,\"#fdca26\"],[1.0,\"#f0f921\"]],\"type\":\"contour\"}],\"heatmapgl\":[{\"colorbar\":{\"outlinewidth\":0,\"ticks\":\"\"},\"colorscale\":[[0.0,\"#0d0887\"],[0.1111111111111111,\"#46039f\"],[0.2222222222222222,\"#7201a8\"],[0.3333333333333333,\"#9c179e\"],[0.4444444444444444,\"#bd3786\"],[0.5555555555555556,\"#d8576b\"],[0.6666666666666666,\"#ed7953\"],[0.7777777777777778,\"#fb9f3a\"],[0.8888888888888888,\"#fdca26\"],[1.0,\"#f0f921\"]],\"type\":\"heatmapgl\"}],\"heatmap\":[{\"colorbar\":{\"outlinewidth\":0,\"ticks\":\"\"},\"colorscale\":[[0.0,\"#0d0887\"],[0.1111111111111111,\"#46039f\"],[0.2222222222222222,\"#7201a8\"],[0.3333333333333333,\"#9c179e\"],[0.4444444444444444,\"#bd3786\"],[0.5555555555555556,\"#d8576b\"],[0.6666666666666666,\"#ed7953\"],[0.7777777777777778,\"#fb9f3a\"],[0.8888888888888888,\"#fdca26\"],[1.0,\"#f0f921\"]],\"type\":\"heatmap\"}],\"histogram2dcontour\":[{\"colorbar\":{\"outlinewidth\":0,\"ticks\":\"\"},\"colorscale\":[[0.0,\"#0d0887\"],[0.1111111111111111,\"#46039f\"],[0.2222222222222222,\"#7201a8\"],[0.3333333333333333,\"#9c179e\"],[0.4444444444444444,\"#bd3786\"],[0.5555555555555556,\"#d8576b\"],[0.6666666666666666,\"#ed7953\"],[0.7777777777777778,\"#fb9f3a\"],[0.8888888888888888,\"#fdca26\"],[1.0,\"#f0f921\"]],\"type\":\"histogram2dcontour\"}],\"histogram2d\":[{\"colorbar\":{\"outlinewidth\":0,\"ticks\":\"\"},\"colorscale\":[[0.0,\"#0d0887\"],[0.1111111111111111,\"#46039f\"],[0.2222222222222222,\"#7201a8\"],[0.3333333333333333,\"#9c179e\"],[0.4444444444444444,\"#bd3786\"],[0.5555555555555556,\"#d8576b\"],[0.6666666666666666,\"#ed7953\"],[0.7777777777777778,\"#fb9f3a\"],[0.8888888888888888,\"#fdca26\"],[1.0,\"#f0f921\"]],\"type\":\"histogram2d\"}],\"histogram\":[{\"marker\":{\"pattern\":{\"fillmode\":\"overlay\",\"size\":10,\"solidity\":0.2}},\"type\":\"histogram\"}],\"mesh3d\":[{\"colorbar\":{\"outlinewidth\":0,\"ticks\":\"\"},\"type\":\"mesh3d\"}],\"parcoords\":[{\"line\":{\"colorbar\":{\"outlinewidth\":0,\"ticks\":\"\"}},\"type\":\"parcoords\"}],\"pie\":[{\"automargin\":true,\"type\":\"pie\"}],\"scatter3d\":[{\"line\":{\"colorbar\":{\"outlinewidth\":0,\"ticks\":\"\"}},\"marker\":{\"colorbar\":{\"outlinewidth\":0,\"ticks\":\"\"}},\"type\":\"scatter3d\"}],\"scattercarpet\":[{\"marker\":{\"colorbar\":{\"outlinewidth\":0,\"ticks\":\"\"}},\"type\":\"scattercarpet\"}],\"scattergeo\":[{\"marker\":{\"colorbar\":{\"outlinewidth\":0,\"ticks\":\"\"}},\"type\":\"scattergeo\"}],\"scattergl\":[{\"marker\":{\"colorbar\":{\"outlinewidth\":0,\"ticks\":\"\"}},\"type\":\"scattergl\"}],\"scattermapbox\":[{\"marker\":{\"colorbar\":{\"outlinewidth\":0,\"ticks\":\"\"}},\"type\":\"scattermapbox\"}],\"scatterpolargl\":[{\"marker\":{\"colorbar\":{\"outlinewidth\":0,\"ticks\":\"\"}},\"type\":\"scatterpolargl\"}],\"scatterpolar\":[{\"marker\":{\"colorbar\":{\"outlinewidth\":0,\"ticks\":\"\"}},\"type\":\"scatterpolar\"}],\"scatter\":[{\"fillpattern\":{\"fillmode\":\"overlay\",\"size\":10,\"solidity\":0.2},\"type\":\"scatter\"}],\"scatterternary\":[{\"marker\":{\"colorbar\":{\"outlinewidth\":0,\"ticks\":\"\"}},\"type\":\"scatterternary\"}],\"surface\":[{\"colorbar\":{\"outlinewidth\":0,\"ticks\":\"\"},\"colorscale\":[[0.0,\"#0d0887\"],[0.1111111111111111,\"#46039f\"],[0.2222222222222222,\"#7201a8\"],[0.3333333333333333,\"#9c179e\"],[0.4444444444444444,\"#bd3786\"],[0.5555555555555556,\"#d8576b\"],[0.6666666666666666,\"#ed7953\"],[0.7777777777777778,\"#fb9f3a\"],[0.8888888888888888,\"#fdca26\"],[1.0,\"#f0f921\"]],\"type\":\"surface\"}],\"table\":[{\"cells\":{\"fill\":{\"color\":\"#EBF0F8\"},\"line\":{\"color\":\"white\"}},\"header\":{\"fill\":{\"color\":\"#C8D4E3\"},\"line\":{\"color\":\"white\"}},\"type\":\"table\"}]},\"layout\":{\"annotationdefaults\":{\"arrowcolor\":\"#2a3f5f\",\"arrowhead\":0,\"arrowwidth\":1},\"autotypenumbers\":\"strict\",\"coloraxis\":{\"colorbar\":{\"outlinewidth\":0,\"ticks\":\"\"}},\"colorscale\":{\"diverging\":[[0,\"#8e0152\"],[0.1,\"#c51b7d\"],[0.2,\"#de77ae\"],[0.3,\"#f1b6da\"],[0.4,\"#fde0ef\"],[0.5,\"#f7f7f7\"],[0.6,\"#e6f5d0\"],[0.7,\"#b8e186\"],[0.8,\"#7fbc41\"],[0.9,\"#4d9221\"],[1,\"#276419\"]],\"sequential\":[[0.0,\"#0d0887\"],[0.1111111111111111,\"#46039f\"],[0.2222222222222222,\"#7201a8\"],[0.3333333333333333,\"#9c179e\"],[0.4444444444444444,\"#bd3786\"],[0.5555555555555556,\"#d8576b\"],[0.6666666666666666,\"#ed7953\"],[0.7777777777777778,\"#fb9f3a\"],[0.8888888888888888,\"#fdca26\"],[1.0,\"#f0f921\"]],\"sequentialminus\":[[0.0,\"#0d0887\"],[0.1111111111111111,\"#46039f\"],[0.2222222222222222,\"#7201a8\"],[0.3333333333333333,\"#9c179e\"],[0.4444444444444444,\"#bd3786\"],[0.5555555555555556,\"#d8576b\"],[0.6666666666666666,\"#ed7953\"],[0.7777777777777778,\"#fb9f3a\"],[0.8888888888888888,\"#fdca26\"],[1.0,\"#f0f921\"]]},\"colorway\":[\"#636efa\",\"#EF553B\",\"#00cc96\",\"#ab63fa\",\"#FFA15A\",\"#19d3f3\",\"#FF6692\",\"#B6E880\",\"#FF97FF\",\"#FECB52\"],\"font\":{\"color\":\"#2a3f5f\"},\"geo\":{\"bgcolor\":\"white\",\"lakecolor\":\"white\",\"landcolor\":\"#E5ECF6\",\"showlakes\":true,\"showland\":true,\"subunitcolor\":\"white\"},\"hoverlabel\":{\"align\":\"left\"},\"hovermode\":\"closest\",\"mapbox\":{\"style\":\"light\"},\"paper_bgcolor\":\"white\",\"plot_bgcolor\":\"#E5ECF6\",\"polar\":{\"angularaxis\":{\"gridcolor\":\"white\",\"linecolor\":\"white\",\"ticks\":\"\"},\"bgcolor\":\"#E5ECF6\",\"radialaxis\":{\"gridcolor\":\"white\",\"linecolor\":\"white\",\"ticks\":\"\"}},\"scene\":{\"xaxis\":{\"backgroundcolor\":\"#E5ECF6\",\"gridcolor\":\"white\",\"gridwidth\":2,\"linecolor\":\"white\",\"showbackground\":true,\"ticks\":\"\",\"zerolinecolor\":\"white\"},\"yaxis\":{\"backgroundcolor\":\"#E5ECF6\",\"gridcolor\":\"white\",\"gridwidth\":2,\"linecolor\":\"white\",\"showbackground\":true,\"ticks\":\"\",\"zerolinecolor\":\"white\"},\"zaxis\":{\"backgroundcolor\":\"#E5ECF6\",\"gridcolor\":\"white\",\"gridwidth\":2,\"linecolor\":\"white\",\"showbackground\":true,\"ticks\":\"\",\"zerolinecolor\":\"white\"}},\"shapedefaults\":{\"line\":{\"color\":\"#2a3f5f\"}},\"ternary\":{\"aaxis\":{\"gridcolor\":\"white\",\"linecolor\":\"white\",\"ticks\":\"\"},\"baxis\":{\"gridcolor\":\"white\",\"linecolor\":\"white\",\"ticks\":\"\"},\"bgcolor\":\"#E5ECF6\",\"caxis\":{\"gridcolor\":\"white\",\"linecolor\":\"white\",\"ticks\":\"\"}},\"title\":{\"x\":0.05},\"xaxis\":{\"automargin\":true,\"gridcolor\":\"white\",\"linecolor\":\"white\",\"ticks\":\"\",\"title\":{\"standoff\":15},\"zerolinecolor\":\"white\",\"zerolinewidth\":2},\"yaxis\":{\"automargin\":true,\"gridcolor\":\"white\",\"linecolor\":\"white\",\"ticks\":\"\",\"title\":{\"standoff\":15},\"zerolinecolor\":\"white\",\"zerolinewidth\":2}}},\"title\":{\"font\":{\"color\":\"#4D5663\"}},\"xaxis\":{\"gridcolor\":\"#E1E5ED\",\"showgrid\":true,\"tickfont\":{\"color\":\"#4D5663\"},\"title\":{\"font\":{\"color\":\"#4D5663\"},\"text\":\"\"},\"zerolinecolor\":\"#E1E5ED\"},\"yaxis\":{\"gridcolor\":\"#E1E5ED\",\"showgrid\":true,\"tickfont\":{\"color\":\"#4D5663\"},\"title\":{\"font\":{\"color\":\"#4D5663\"},\"text\":\"\"},\"zerolinecolor\":\"#E1E5ED\"}},                        {\"showLink\": true, \"linkText\": \"Export to plot.ly\", \"plotlyServerURL\": \"https://plot.ly\", \"responsive\": true}                    ).then(function(){\n",
       "                            \n",
       "var gd = document.getElementById('5d4fdca2-8285-41fc-83b8-755d07f3aec3');\n",
       "var x = new MutationObserver(function (mutations, observer) {{\n",
       "        var display = window.getComputedStyle(gd).display;\n",
       "        if (!display || display === 'none') {{\n",
       "            console.log([gd, 'removed!']);\n",
       "            Plotly.purge(gd);\n",
       "            observer.disconnect();\n",
       "        }}\n",
       "}});\n",
       "\n",
       "// Listen for the removal of the full notebook cells\n",
       "var notebookContainer = gd.closest('#notebook-container');\n",
       "if (notebookContainer) {{\n",
       "    x.observe(notebookContainer, {childList: true});\n",
       "}}\n",
       "\n",
       "// Listen for the clearing of the current output cell\n",
       "var outputEl = gd.closest('.output');\n",
       "if (outputEl) {{\n",
       "    x.observe(outputEl, {childList: true});\n",
       "}}\n",
       "\n",
       "                        })                };                });            </script>        </div>"
      ]
     },
     "metadata": {},
     "output_type": "display_data"
    }
   ],
   "source": [
    "df.count().iplot(kind='bar')"
   ]
  },
  {
   "cell_type": "markdown",
   "metadata": {},
   "source": [
    "## Boxplots"
   ]
  },
  {
   "cell_type": "markdown",
   "metadata": {},
   "source": [
    "NOTE: can turn columns on or off my clicking them in legend"
   ]
  },
  {
   "cell_type": "code",
   "execution_count": 24,
   "metadata": {},
   "outputs": [
    {
     "data": {
      "application/vnd.plotly.v1+json": {
       "config": {
        "linkText": "Export to plot.ly",
        "plotlyServerURL": "https://plot.ly",
        "showLink": true
       },
       "data": [
        {
         "boxpoints": false,
         "line": {
          "width": 1.3
         },
         "marker": {
          "color": "rgba(255, 153, 51, 1.0)"
         },
         "name": "A",
         "orientation": "v",
         "type": "box",
         "y": [
          1.8511519134780592,
          0.9932635503226296,
          -0.20359937233167702,
          1.5257768804344916,
          0.7989148705029956,
          -0.7401919047073051,
          -0.8630213226964086,
          0.7013687303870811,
          -0.6247974874205289,
          0.10910461350500907,
          -0.11538038639040019,
          -0.02648740437455768,
          -0.43732218661342515,
          -0.7125768681585045,
          1.0133586523249136,
          -0.8616519633585347,
          -2.1230616381436356,
          -0.9749949035547446,
          0.5043444129264993,
          0.18825104298423934,
          -0.1432776826929805,
          0.5868807139113783,
          -0.5195842176454574,
          0.5736013901487871,
          -0.8173712354802753,
          0.6609920652626308,
          0.4168308410755578,
          0.5852219339927222,
          0.010802370600104156,
          -0.41273169823065897,
          -0.20857735228632088,
          -0.8416615204104636,
          0.052944189995554204,
          0.005686937411339467,
          0.3844520636603806,
          -1.0631481481915048,
          -0.11724016976317891,
          0.6630852320859335,
          0.5115801618934522,
          2.2561195936427705,
          0.3109656972874523,
          1.0994549480156748,
          -0.7208326396818907,
          -0.1977387682776627,
          -0.16040121850252212,
          0.794102216112637,
          0.7464271735955996,
          -0.647542908423245,
          -1.4984047157520854,
          -0.04075648099172144,
          2.264819816919803,
          -0.5552027566980382,
          -0.6748951474162486,
          -1.007916433892245,
          -1.3106915777664427,
          -1.8225142752914754,
          1.334030713362875,
          0.07572488075553528,
          -0.5830773501448417,
          0.38454318739022125,
          1.6110776348434117,
          -0.3174845924378902,
          0.8445097695504995,
          -0.41461007268988176,
          0.365775246787856,
          -1.496269233552682,
          0.3008252693310851,
          -0.39326338113914816,
          0.5008110351639224,
          -0.672608996952311,
          -1.0421214869609523,
          -0.11156295997918914,
          0.3092029035122308,
          0.28260084055062595,
          0.6949297525981041,
          -0.9319657740427375,
          -1.9514085275441992,
          -0.7841155550829054,
          -0.2998409331653889,
          0.03951669010773553,
          -0.0727240387013017,
          -1.9518606100277855,
          0.9883285146195404,
          0.7508231282590799,
          1.209982615480504,
          0.7921753321761256,
          -0.9946655537151281,
          1.3067058404422474,
          0.5712332382845726,
          -0.5386093862850266,
          0.30013330235114466,
          -1.4869281940691312,
          0.9620169121202278,
          1.114277142834589,
          -1.3650422850750878,
          0.3298673585324569,
          0.9810828436899907,
          -0.9471938559777627,
          -0.6557976449379221,
          0.5954509216804071
         ]
        },
        {
         "boxpoints": false,
         "line": {
          "width": 1.3
         },
         "marker": {
          "color": "rgba(55, 128, 191, 1.0)"
         },
         "name": "B",
         "orientation": "v",
         "type": "box",
         "y": [
          0.45782172851946584,
          0.4344214900313023,
          0.6658987220489518,
          2.895439169924277,
          -0.04735765933408375,
          0.14131190059074383,
          -0.6793167129790467,
          -1.33376156241096,
          0.5129051932325256,
          -1.8426154108364827,
          0.5414409748569157,
          1.5180507825544969,
          0.6886450990269172,
          -0.2934527411501007,
          1.247504281758502,
          -0.6923792689440722,
          1.3358752949438544,
          3.3009912281541745,
          -1.1772677491504626,
          3.0413738620919792,
          0.1939145630185375,
          1.316173538909124,
          0.4568857268531616,
          -0.45612992746179104,
          0.36962784918045843,
          -1.0872283818862274,
          -1.268507848017612,
          1.3690989346946598,
          2.404028688631945,
          0.6953932785311059,
          0.16957159952658565,
          -0.820430620044971,
          1.3622920559583251,
          1.2194783554864315,
          0.5270262370309676,
          0.12673147173592114,
          0.6274228407561939,
          2.1519729621866612,
          -0.1503870682355416,
          -0.8032647853869308,
          -1.7334754959923606,
          1.1498738436198657,
          0.9024715532142299,
          -0.6299946110464666,
          -0.10479446190246755,
          0.3807627473851706,
          0.30429400869494144,
          -0.09747668965216076,
          0.034130483643344964,
          2.3125818412357924,
          -0.1195421817947865,
          -1.1451149065169193,
          -0.10831608455742575,
          0.7369917906053898,
          0.26648976296350796,
          0.04793412305608602,
          0.9135049453782854,
          -0.10974581209473559,
          1.2973055112154592,
          1.409109018811545,
          -0.4880439368583151,
          -0.41255478657338274,
          -1.6652247217350953,
          -0.3571409627887695,
          0.05774639003035528,
          -0.47989239854050036,
          -0.675449156696727,
          -1.1430868805095362,
          -0.006663393609728982,
          -1.0620327924289885,
          1.4718999257473302,
          -0.6113357749066433,
          0.36148596789055853,
          -0.24393747075538624,
          1.0748240094017911,
          1.4315036978476303,
          -1.2193491756829018,
          1.0785112055318675,
          1.0922663616955144,
          -0.5271205263605011,
          -0.27374315353472867,
          0.028154193665865107,
          -1.1351935382309162,
          1.4612941727462698,
          -0.3509454137365033,
          0.6106125561226777,
          0.7478186327737351,
          -0.7425042942314749,
          1.916765223828547,
          1.240873891099306,
          -0.4406511100190365,
          1.346795532600243,
          -1.4120166335488293,
          -0.9726486257162662,
          -0.2852448153129776,
          -3.0108073083457927,
          -1.7635744867048033,
          -1.0166029223919701,
          0.6767572035278194,
          0.14883919105469573
         ]
        },
        {
         "boxpoints": false,
         "line": {
          "width": 1.3
         },
         "marker": {
          "color": "rgba(50, 171, 96, 1.0)"
         },
         "name": "C",
         "orientation": "v",
         "type": "box",
         "y": [
          -0.02618591574760387,
          -0.377594300707286,
          -0.40092302383041983,
          0.6226015130997402,
          1.7867408483882843,
          0.7007119925230211,
          2.0235266876031255,
          0.7310226916111957,
          -0.8653414905893465,
          0.07584612501092945,
          -0.28599575196194454,
          -1.1679062585670845,
          -1.5640424278658303,
          0.69945694861903,
          0.041094356317120245,
          -0.702094853390491,
          0.31749661894888925,
          0.6083667193106708,
          -0.13474980077139592,
          -0.021430909192688186,
          -0.25663331565876724,
          0.23446811217305416,
          -1.2019860895329175,
          0.9817031913314874,
          -1.1533314435179867,
          2.0537614550794383,
          0.31522051812578417,
          1.0356187024343126,
          0.6342422355054017,
          -0.053210739129649465,
          -1.0455114507622878,
          0.6593770973632015,
          -0.4269000489697485,
          -0.12334687895820025,
          0.2597387514760385,
          0.9080627172498368,
          -1.309092634952256,
          -0.3177438413176344,
          1.4491035428322692,
          -0.09189578438614497,
          -2.230077254290799,
          0.280010974541339,
          -0.6347446551844496,
          1.2737692460698924,
          2.2294210032717627,
          0.17808348459587112,
          -0.37426670210173707,
          -0.0069816754418047435,
          -0.46872482270574406,
          0.17977023674502898,
          -0.26884064984389405,
          0.590495165917698,
          -0.17716040762618426,
          0.20066817442639379,
          -0.7701778334238273,
          0.8914670475143059,
          -0.5225005737966002,
          0.44816652712536914,
          -2.96785333476731,
          -1.2653497639013929,
          0.1650183037865434,
          -0.05002056688627636,
          -0.8630009351378776,
          -1.5512253786732901,
          0.6326789472654919,
          -0.04081108924705931,
          0.039061581133283126,
          1.5497856366840013,
          -0.848995416695419,
          0.6339309928561057,
          -0.8910189407837548,
          0.9002056587236599,
          -0.2587337492688455,
          0.11279051279112261,
          -0.15365937140649974,
          -0.4910663874110523,
          1.2612638182302032,
          -2.4757182497454018,
          -1.7216730571254608,
          1.2725049971883207,
          -0.9929844025457848,
          -1.2821966314575877,
          -0.11954916159591458,
          -0.4564407666493159,
          1.508318000816078,
          -0.0934703839230235,
          1.2501652187292178,
          -0.46879820846883025,
          0.19844961707997533,
          -2.1459365572956846,
          -2.071426215645999,
          0.5888089437087306,
          -0.5112900157331203,
          -0.21275179229777214,
          -1.0890805879098995,
          -1.7598988719797426,
          -0.927097618061559,
          1.454395971413865,
          -1.6146175916064411,
          -1.0087391627527382
         ]
        },
        {
         "boxpoints": false,
         "line": {
          "width": 1.3
         },
         "marker": {
          "color": "rgba(128, 0, 128, 1.0)"
         },
         "name": "D",
         "orientation": "v",
         "type": "box",
         "y": [
          -1.1378255351906068,
          -1.9324290264990547,
          0.412873950725174,
          -1.8278889943930452,
          0.26505636248391123,
          -0.4511448776762043,
          -0.16429593523549452,
          0.0441634524289908,
          0.8901929140789799,
          0.9528293002879427,
          -0.4164940835430671,
          2.092922924567059,
          1.4940839215309305,
          -0.2669443534103714,
          -0.1625073651105624,
          -1.0277864531700824,
          0.2714354464139936,
          0.7652238166343336,
          -0.6185867486415615,
          -0.3386571617039138,
          -0.3161248120466677,
          0.5710324792283733,
          -1.5249464802738668,
          -1.334373160303245,
          0.14496818123002284,
          0.45608868102679767,
          1.8003104449689311,
          -0.14253677500263165,
          0.3618331353222978,
          -1.0487580358894426,
          0.4168789695894866,
          -0.25965569714086006,
          -0.5990700644206105,
          -0.12754730946254858,
          0.1609097100695703,
          -0.612772377898927,
          0.5893269219618965,
          -0.007587308662248082,
          -1.2396321553365013,
          -0.3228524676932316,
          2.0691877262518066,
          0.21575433288173168,
          -0.33688431639229416,
          -0.584943042777959,
          -0.021978302530539635,
          0.7760964928004312,
          0.2341124389450538,
          -0.6804767518930187,
          0.29743695826935995,
          -1.2995657384445818,
          -1.1731514576749118,
          1.775715051156065,
          -0.26136178641767793,
          1.5428154798082716,
          0.34932184123664994,
          -0.15885079640979533,
          0.24607230937253333,
          0.2935565236057475,
          0.059958085203068945,
          0.6811151621009519,
          0.3124443053318358,
          0.35737431918893203,
          -0.4378153347902127,
          -0.09958545939881695,
          0.9507249410063682,
          -1.2055051283131741,
          -0.967407806976702,
          -0.5250235543538504,
          -1.3263512258412549,
          -0.5974841819256089,
          0.7858376437377379,
          0.16259035468987162,
          -0.7902561073258011,
          0.1382269110475103,
          1.6266262871594164,
          1.1377555894088582,
          -2.1287698279677607,
          0.7312169085870153,
          -0.286878671127475,
          0.5019090793008186,
          0.9090457145830573,
          -1.8404050305770792,
          0.21917425845647676,
          0.9400268734050679,
          0.07307879979290297,
          0.06257165723555402,
          0.41662989125303784,
          0.4517203457412141,
          0.6543843691753921,
          -0.7668755560446119,
          -0.020854012382010814,
          0.46738215329666766,
          0.6650453240884444,
          0.5787135254319014,
          -1.0381663200426428,
          0.025476372190832014,
          1.3203897331098426,
          -0.2783016747545439,
          1.919420967279771,
          -0.29386813886300417
         ]
        }
       ],
       "layout": {
        "legend": {
         "bgcolor": "#F5F6F9",
         "font": {
          "color": "#4D5663"
         }
        },
        "paper_bgcolor": "#F5F6F9",
        "plot_bgcolor": "#F5F6F9",
        "template": {
         "data": {
          "bar": [
           {
            "error_x": {
             "color": "#2a3f5f"
            },
            "error_y": {
             "color": "#2a3f5f"
            },
            "marker": {
             "line": {
              "color": "#E5ECF6",
              "width": 0.5
             },
             "pattern": {
              "fillmode": "overlay",
              "size": 10,
              "solidity": 0.2
             }
            },
            "type": "bar"
           }
          ],
          "barpolar": [
           {
            "marker": {
             "line": {
              "color": "#E5ECF6",
              "width": 0.5
             },
             "pattern": {
              "fillmode": "overlay",
              "size": 10,
              "solidity": 0.2
             }
            },
            "type": "barpolar"
           }
          ],
          "carpet": [
           {
            "aaxis": {
             "endlinecolor": "#2a3f5f",
             "gridcolor": "white",
             "linecolor": "white",
             "minorgridcolor": "white",
             "startlinecolor": "#2a3f5f"
            },
            "baxis": {
             "endlinecolor": "#2a3f5f",
             "gridcolor": "white",
             "linecolor": "white",
             "minorgridcolor": "white",
             "startlinecolor": "#2a3f5f"
            },
            "type": "carpet"
           }
          ],
          "choropleth": [
           {
            "colorbar": {
             "outlinewidth": 0,
             "ticks": ""
            },
            "type": "choropleth"
           }
          ],
          "contour": [
           {
            "colorbar": {
             "outlinewidth": 0,
             "ticks": ""
            },
            "colorscale": [
             [
              0,
              "#0d0887"
             ],
             [
              0.1111111111111111,
              "#46039f"
             ],
             [
              0.2222222222222222,
              "#7201a8"
             ],
             [
              0.3333333333333333,
              "#9c179e"
             ],
             [
              0.4444444444444444,
              "#bd3786"
             ],
             [
              0.5555555555555556,
              "#d8576b"
             ],
             [
              0.6666666666666666,
              "#ed7953"
             ],
             [
              0.7777777777777778,
              "#fb9f3a"
             ],
             [
              0.8888888888888888,
              "#fdca26"
             ],
             [
              1,
              "#f0f921"
             ]
            ],
            "type": "contour"
           }
          ],
          "contourcarpet": [
           {
            "colorbar": {
             "outlinewidth": 0,
             "ticks": ""
            },
            "type": "contourcarpet"
           }
          ],
          "heatmap": [
           {
            "colorbar": {
             "outlinewidth": 0,
             "ticks": ""
            },
            "colorscale": [
             [
              0,
              "#0d0887"
             ],
             [
              0.1111111111111111,
              "#46039f"
             ],
             [
              0.2222222222222222,
              "#7201a8"
             ],
             [
              0.3333333333333333,
              "#9c179e"
             ],
             [
              0.4444444444444444,
              "#bd3786"
             ],
             [
              0.5555555555555556,
              "#d8576b"
             ],
             [
              0.6666666666666666,
              "#ed7953"
             ],
             [
              0.7777777777777778,
              "#fb9f3a"
             ],
             [
              0.8888888888888888,
              "#fdca26"
             ],
             [
              1,
              "#f0f921"
             ]
            ],
            "type": "heatmap"
           }
          ],
          "heatmapgl": [
           {
            "colorbar": {
             "outlinewidth": 0,
             "ticks": ""
            },
            "colorscale": [
             [
              0,
              "#0d0887"
             ],
             [
              0.1111111111111111,
              "#46039f"
             ],
             [
              0.2222222222222222,
              "#7201a8"
             ],
             [
              0.3333333333333333,
              "#9c179e"
             ],
             [
              0.4444444444444444,
              "#bd3786"
             ],
             [
              0.5555555555555556,
              "#d8576b"
             ],
             [
              0.6666666666666666,
              "#ed7953"
             ],
             [
              0.7777777777777778,
              "#fb9f3a"
             ],
             [
              0.8888888888888888,
              "#fdca26"
             ],
             [
              1,
              "#f0f921"
             ]
            ],
            "type": "heatmapgl"
           }
          ],
          "histogram": [
           {
            "marker": {
             "pattern": {
              "fillmode": "overlay",
              "size": 10,
              "solidity": 0.2
             }
            },
            "type": "histogram"
           }
          ],
          "histogram2d": [
           {
            "colorbar": {
             "outlinewidth": 0,
             "ticks": ""
            },
            "colorscale": [
             [
              0,
              "#0d0887"
             ],
             [
              0.1111111111111111,
              "#46039f"
             ],
             [
              0.2222222222222222,
              "#7201a8"
             ],
             [
              0.3333333333333333,
              "#9c179e"
             ],
             [
              0.4444444444444444,
              "#bd3786"
             ],
             [
              0.5555555555555556,
              "#d8576b"
             ],
             [
              0.6666666666666666,
              "#ed7953"
             ],
             [
              0.7777777777777778,
              "#fb9f3a"
             ],
             [
              0.8888888888888888,
              "#fdca26"
             ],
             [
              1,
              "#f0f921"
             ]
            ],
            "type": "histogram2d"
           }
          ],
          "histogram2dcontour": [
           {
            "colorbar": {
             "outlinewidth": 0,
             "ticks": ""
            },
            "colorscale": [
             [
              0,
              "#0d0887"
             ],
             [
              0.1111111111111111,
              "#46039f"
             ],
             [
              0.2222222222222222,
              "#7201a8"
             ],
             [
              0.3333333333333333,
              "#9c179e"
             ],
             [
              0.4444444444444444,
              "#bd3786"
             ],
             [
              0.5555555555555556,
              "#d8576b"
             ],
             [
              0.6666666666666666,
              "#ed7953"
             ],
             [
              0.7777777777777778,
              "#fb9f3a"
             ],
             [
              0.8888888888888888,
              "#fdca26"
             ],
             [
              1,
              "#f0f921"
             ]
            ],
            "type": "histogram2dcontour"
           }
          ],
          "mesh3d": [
           {
            "colorbar": {
             "outlinewidth": 0,
             "ticks": ""
            },
            "type": "mesh3d"
           }
          ],
          "parcoords": [
           {
            "line": {
             "colorbar": {
              "outlinewidth": 0,
              "ticks": ""
             }
            },
            "type": "parcoords"
           }
          ],
          "pie": [
           {
            "automargin": true,
            "type": "pie"
           }
          ],
          "scatter": [
           {
            "fillpattern": {
             "fillmode": "overlay",
             "size": 10,
             "solidity": 0.2
            },
            "type": "scatter"
           }
          ],
          "scatter3d": [
           {
            "line": {
             "colorbar": {
              "outlinewidth": 0,
              "ticks": ""
             }
            },
            "marker": {
             "colorbar": {
              "outlinewidth": 0,
              "ticks": ""
             }
            },
            "type": "scatter3d"
           }
          ],
          "scattercarpet": [
           {
            "marker": {
             "colorbar": {
              "outlinewidth": 0,
              "ticks": ""
             }
            },
            "type": "scattercarpet"
           }
          ],
          "scattergeo": [
           {
            "marker": {
             "colorbar": {
              "outlinewidth": 0,
              "ticks": ""
             }
            },
            "type": "scattergeo"
           }
          ],
          "scattergl": [
           {
            "marker": {
             "colorbar": {
              "outlinewidth": 0,
              "ticks": ""
             }
            },
            "type": "scattergl"
           }
          ],
          "scattermapbox": [
           {
            "marker": {
             "colorbar": {
              "outlinewidth": 0,
              "ticks": ""
             }
            },
            "type": "scattermapbox"
           }
          ],
          "scatterpolar": [
           {
            "marker": {
             "colorbar": {
              "outlinewidth": 0,
              "ticks": ""
             }
            },
            "type": "scatterpolar"
           }
          ],
          "scatterpolargl": [
           {
            "marker": {
             "colorbar": {
              "outlinewidth": 0,
              "ticks": ""
             }
            },
            "type": "scatterpolargl"
           }
          ],
          "scatterternary": [
           {
            "marker": {
             "colorbar": {
              "outlinewidth": 0,
              "ticks": ""
             }
            },
            "type": "scatterternary"
           }
          ],
          "surface": [
           {
            "colorbar": {
             "outlinewidth": 0,
             "ticks": ""
            },
            "colorscale": [
             [
              0,
              "#0d0887"
             ],
             [
              0.1111111111111111,
              "#46039f"
             ],
             [
              0.2222222222222222,
              "#7201a8"
             ],
             [
              0.3333333333333333,
              "#9c179e"
             ],
             [
              0.4444444444444444,
              "#bd3786"
             ],
             [
              0.5555555555555556,
              "#d8576b"
             ],
             [
              0.6666666666666666,
              "#ed7953"
             ],
             [
              0.7777777777777778,
              "#fb9f3a"
             ],
             [
              0.8888888888888888,
              "#fdca26"
             ],
             [
              1,
              "#f0f921"
             ]
            ],
            "type": "surface"
           }
          ],
          "table": [
           {
            "cells": {
             "fill": {
              "color": "#EBF0F8"
             },
             "line": {
              "color": "white"
             }
            },
            "header": {
             "fill": {
              "color": "#C8D4E3"
             },
             "line": {
              "color": "white"
             }
            },
            "type": "table"
           }
          ]
         },
         "layout": {
          "annotationdefaults": {
           "arrowcolor": "#2a3f5f",
           "arrowhead": 0,
           "arrowwidth": 1
          },
          "autotypenumbers": "strict",
          "coloraxis": {
           "colorbar": {
            "outlinewidth": 0,
            "ticks": ""
           }
          },
          "colorscale": {
           "diverging": [
            [
             0,
             "#8e0152"
            ],
            [
             0.1,
             "#c51b7d"
            ],
            [
             0.2,
             "#de77ae"
            ],
            [
             0.3,
             "#f1b6da"
            ],
            [
             0.4,
             "#fde0ef"
            ],
            [
             0.5,
             "#f7f7f7"
            ],
            [
             0.6,
             "#e6f5d0"
            ],
            [
             0.7,
             "#b8e186"
            ],
            [
             0.8,
             "#7fbc41"
            ],
            [
             0.9,
             "#4d9221"
            ],
            [
             1,
             "#276419"
            ]
           ],
           "sequential": [
            [
             0,
             "#0d0887"
            ],
            [
             0.1111111111111111,
             "#46039f"
            ],
            [
             0.2222222222222222,
             "#7201a8"
            ],
            [
             0.3333333333333333,
             "#9c179e"
            ],
            [
             0.4444444444444444,
             "#bd3786"
            ],
            [
             0.5555555555555556,
             "#d8576b"
            ],
            [
             0.6666666666666666,
             "#ed7953"
            ],
            [
             0.7777777777777778,
             "#fb9f3a"
            ],
            [
             0.8888888888888888,
             "#fdca26"
            ],
            [
             1,
             "#f0f921"
            ]
           ],
           "sequentialminus": [
            [
             0,
             "#0d0887"
            ],
            [
             0.1111111111111111,
             "#46039f"
            ],
            [
             0.2222222222222222,
             "#7201a8"
            ],
            [
             0.3333333333333333,
             "#9c179e"
            ],
            [
             0.4444444444444444,
             "#bd3786"
            ],
            [
             0.5555555555555556,
             "#d8576b"
            ],
            [
             0.6666666666666666,
             "#ed7953"
            ],
            [
             0.7777777777777778,
             "#fb9f3a"
            ],
            [
             0.8888888888888888,
             "#fdca26"
            ],
            [
             1,
             "#f0f921"
            ]
           ]
          },
          "colorway": [
           "#636efa",
           "#EF553B",
           "#00cc96",
           "#ab63fa",
           "#FFA15A",
           "#19d3f3",
           "#FF6692",
           "#B6E880",
           "#FF97FF",
           "#FECB52"
          ],
          "font": {
           "color": "#2a3f5f"
          },
          "geo": {
           "bgcolor": "white",
           "lakecolor": "white",
           "landcolor": "#E5ECF6",
           "showlakes": true,
           "showland": true,
           "subunitcolor": "white"
          },
          "hoverlabel": {
           "align": "left"
          },
          "hovermode": "closest",
          "mapbox": {
           "style": "light"
          },
          "paper_bgcolor": "white",
          "plot_bgcolor": "#E5ECF6",
          "polar": {
           "angularaxis": {
            "gridcolor": "white",
            "linecolor": "white",
            "ticks": ""
           },
           "bgcolor": "#E5ECF6",
           "radialaxis": {
            "gridcolor": "white",
            "linecolor": "white",
            "ticks": ""
           }
          },
          "scene": {
           "xaxis": {
            "backgroundcolor": "#E5ECF6",
            "gridcolor": "white",
            "gridwidth": 2,
            "linecolor": "white",
            "showbackground": true,
            "ticks": "",
            "zerolinecolor": "white"
           },
           "yaxis": {
            "backgroundcolor": "#E5ECF6",
            "gridcolor": "white",
            "gridwidth": 2,
            "linecolor": "white",
            "showbackground": true,
            "ticks": "",
            "zerolinecolor": "white"
           },
           "zaxis": {
            "backgroundcolor": "#E5ECF6",
            "gridcolor": "white",
            "gridwidth": 2,
            "linecolor": "white",
            "showbackground": true,
            "ticks": "",
            "zerolinecolor": "white"
           }
          },
          "shapedefaults": {
           "line": {
            "color": "#2a3f5f"
           }
          },
          "ternary": {
           "aaxis": {
            "gridcolor": "white",
            "linecolor": "white",
            "ticks": ""
           },
           "baxis": {
            "gridcolor": "white",
            "linecolor": "white",
            "ticks": ""
           },
           "bgcolor": "#E5ECF6",
           "caxis": {
            "gridcolor": "white",
            "linecolor": "white",
            "ticks": ""
           }
          },
          "title": {
           "x": 0.05
          },
          "xaxis": {
           "automargin": true,
           "gridcolor": "white",
           "linecolor": "white",
           "ticks": "",
           "title": {
            "standoff": 15
           },
           "zerolinecolor": "white",
           "zerolinewidth": 2
          },
          "yaxis": {
           "automargin": true,
           "gridcolor": "white",
           "linecolor": "white",
           "ticks": "",
           "title": {
            "standoff": 15
           },
           "zerolinecolor": "white",
           "zerolinewidth": 2
          }
         }
        },
        "title": {
         "font": {
          "color": "#4D5663"
         }
        },
        "xaxis": {
         "gridcolor": "#E1E5ED",
         "showgrid": true,
         "tickfont": {
          "color": "#4D5663"
         },
         "title": {
          "font": {
           "color": "#4D5663"
          },
          "text": ""
         },
         "zerolinecolor": "#E1E5ED"
        },
        "yaxis": {
         "gridcolor": "#E1E5ED",
         "showgrid": true,
         "tickfont": {
          "color": "#4D5663"
         },
         "title": {
          "font": {
           "color": "#4D5663"
          },
          "text": ""
         },
         "zerolinecolor": "#E1E5ED"
        }
       }
      },
      "text/html": [
       "<div>                            <div id=\"1923bf34-3494-4728-995a-4df7c33300c7\" class=\"plotly-graph-div\" style=\"height:525px; width:100%;\"></div>            <script type=\"text/javascript\">                require([\"plotly\"], function(Plotly) {                    window.PLOTLYENV=window.PLOTLYENV || {};\n",
       "                    window.PLOTLYENV.BASE_URL='https://plot.ly';                                    if (document.getElementById(\"1923bf34-3494-4728-995a-4df7c33300c7\")) {                    Plotly.newPlot(                        \"1923bf34-3494-4728-995a-4df7c33300c7\",                        [{\"boxpoints\":false,\"line\":{\"width\":1.3},\"marker\":{\"color\":\"rgba(255, 153, 51, 1.0)\"},\"name\":\"A\",\"orientation\":\"v\",\"y\":[1.8511519134780592,0.9932635503226296,-0.20359937233167702,1.5257768804344916,0.7989148705029956,-0.7401919047073051,-0.8630213226964086,0.7013687303870811,-0.6247974874205289,0.10910461350500907,-0.11538038639040019,-0.02648740437455768,-0.43732218661342515,-0.7125768681585045,1.0133586523249136,-0.8616519633585347,-2.1230616381436356,-0.9749949035547446,0.5043444129264993,0.18825104298423934,-0.1432776826929805,0.5868807139113783,-0.5195842176454574,0.5736013901487871,-0.8173712354802753,0.6609920652626308,0.4168308410755578,0.5852219339927222,0.010802370600104156,-0.41273169823065897,-0.20857735228632088,-0.8416615204104636,0.052944189995554204,0.005686937411339467,0.3844520636603806,-1.0631481481915048,-0.11724016976317891,0.6630852320859335,0.5115801618934522,2.2561195936427705,0.3109656972874523,1.0994549480156748,-0.7208326396818907,-0.1977387682776627,-0.16040121850252212,0.794102216112637,0.7464271735955996,-0.647542908423245,-1.4984047157520854,-0.04075648099172144,2.264819816919803,-0.5552027566980382,-0.6748951474162486,-1.007916433892245,-1.3106915777664427,-1.8225142752914754,1.334030713362875,0.07572488075553528,-0.5830773501448417,0.38454318739022125,1.6110776348434117,-0.3174845924378902,0.8445097695504995,-0.41461007268988176,0.365775246787856,-1.496269233552682,0.3008252693310851,-0.39326338113914816,0.5008110351639224,-0.672608996952311,-1.0421214869609523,-0.11156295997918914,0.3092029035122308,0.28260084055062595,0.6949297525981041,-0.9319657740427375,-1.9514085275441992,-0.7841155550829054,-0.2998409331653889,0.03951669010773553,-0.0727240387013017,-1.9518606100277855,0.9883285146195404,0.7508231282590799,1.209982615480504,0.7921753321761256,-0.9946655537151281,1.3067058404422474,0.5712332382845726,-0.5386093862850266,0.30013330235114466,-1.4869281940691312,0.9620169121202278,1.114277142834589,-1.3650422850750878,0.3298673585324569,0.9810828436899907,-0.9471938559777627,-0.6557976449379221,0.5954509216804071],\"type\":\"box\"},{\"boxpoints\":false,\"line\":{\"width\":1.3},\"marker\":{\"color\":\"rgba(55, 128, 191, 1.0)\"},\"name\":\"B\",\"orientation\":\"v\",\"y\":[0.45782172851946584,0.4344214900313023,0.6658987220489518,2.895439169924277,-0.04735765933408375,0.14131190059074383,-0.6793167129790467,-1.33376156241096,0.5129051932325256,-1.8426154108364827,0.5414409748569157,1.5180507825544969,0.6886450990269172,-0.2934527411501007,1.247504281758502,-0.6923792689440722,1.3358752949438544,3.3009912281541745,-1.1772677491504626,3.0413738620919792,0.1939145630185375,1.316173538909124,0.4568857268531616,-0.45612992746179104,0.36962784918045843,-1.0872283818862274,-1.268507848017612,1.3690989346946598,2.404028688631945,0.6953932785311059,0.16957159952658565,-0.820430620044971,1.3622920559583251,1.2194783554864315,0.5270262370309676,0.12673147173592114,0.6274228407561939,2.1519729621866612,-0.1503870682355416,-0.8032647853869308,-1.7334754959923606,1.1498738436198657,0.9024715532142299,-0.6299946110464666,-0.10479446190246755,0.3807627473851706,0.30429400869494144,-0.09747668965216076,0.034130483643344964,2.3125818412357924,-0.1195421817947865,-1.1451149065169193,-0.10831608455742575,0.7369917906053898,0.26648976296350796,0.04793412305608602,0.9135049453782854,-0.10974581209473559,1.2973055112154592,1.409109018811545,-0.4880439368583151,-0.41255478657338274,-1.6652247217350953,-0.3571409627887695,0.05774639003035528,-0.47989239854050036,-0.675449156696727,-1.1430868805095362,-0.006663393609728982,-1.0620327924289885,1.4718999257473302,-0.6113357749066433,0.36148596789055853,-0.24393747075538624,1.0748240094017911,1.4315036978476303,-1.2193491756829018,1.0785112055318675,1.0922663616955144,-0.5271205263605011,-0.27374315353472867,0.028154193665865107,-1.1351935382309162,1.4612941727462698,-0.3509454137365033,0.6106125561226777,0.7478186327737351,-0.7425042942314749,1.916765223828547,1.240873891099306,-0.4406511100190365,1.346795532600243,-1.4120166335488293,-0.9726486257162662,-0.2852448153129776,-3.0108073083457927,-1.7635744867048033,-1.0166029223919701,0.6767572035278194,0.14883919105469573],\"type\":\"box\"},{\"boxpoints\":false,\"line\":{\"width\":1.3},\"marker\":{\"color\":\"rgba(50, 171, 96, 1.0)\"},\"name\":\"C\",\"orientation\":\"v\",\"y\":[-0.02618591574760387,-0.377594300707286,-0.40092302383041983,0.6226015130997402,1.7867408483882843,0.7007119925230211,2.0235266876031255,0.7310226916111957,-0.8653414905893465,0.07584612501092945,-0.28599575196194454,-1.1679062585670845,-1.5640424278658303,0.69945694861903,0.041094356317120245,-0.702094853390491,0.31749661894888925,0.6083667193106708,-0.13474980077139592,-0.021430909192688186,-0.25663331565876724,0.23446811217305416,-1.2019860895329175,0.9817031913314874,-1.1533314435179867,2.0537614550794383,0.31522051812578417,1.0356187024343126,0.6342422355054017,-0.053210739129649465,-1.0455114507622878,0.6593770973632015,-0.4269000489697485,-0.12334687895820025,0.2597387514760385,0.9080627172498368,-1.309092634952256,-0.3177438413176344,1.4491035428322692,-0.09189578438614497,-2.230077254290799,0.280010974541339,-0.6347446551844496,1.2737692460698924,2.2294210032717627,0.17808348459587112,-0.37426670210173707,-0.0069816754418047435,-0.46872482270574406,0.17977023674502898,-0.26884064984389405,0.590495165917698,-0.17716040762618426,0.20066817442639379,-0.7701778334238273,0.8914670475143059,-0.5225005737966002,0.44816652712536914,-2.96785333476731,-1.2653497639013929,0.1650183037865434,-0.05002056688627636,-0.8630009351378776,-1.5512253786732901,0.6326789472654919,-0.04081108924705931,0.039061581133283126,1.5497856366840013,-0.848995416695419,0.6339309928561057,-0.8910189407837548,0.9002056587236599,-0.2587337492688455,0.11279051279112261,-0.15365937140649974,-0.4910663874110523,1.2612638182302032,-2.4757182497454018,-1.7216730571254608,1.2725049971883207,-0.9929844025457848,-1.2821966314575877,-0.11954916159591458,-0.4564407666493159,1.508318000816078,-0.0934703839230235,1.2501652187292178,-0.46879820846883025,0.19844961707997533,-2.1459365572956846,-2.071426215645999,0.5888089437087306,-0.5112900157331203,-0.21275179229777214,-1.0890805879098995,-1.7598988719797426,-0.927097618061559,1.454395971413865,-1.6146175916064411,-1.0087391627527382],\"type\":\"box\"},{\"boxpoints\":false,\"line\":{\"width\":1.3},\"marker\":{\"color\":\"rgba(128, 0, 128, 1.0)\"},\"name\":\"D\",\"orientation\":\"v\",\"y\":[-1.1378255351906068,-1.9324290264990547,0.412873950725174,-1.8278889943930452,0.26505636248391123,-0.4511448776762043,-0.16429593523549452,0.0441634524289908,0.8901929140789799,0.9528293002879427,-0.4164940835430671,2.092922924567059,1.4940839215309305,-0.2669443534103714,-0.1625073651105624,-1.0277864531700824,0.2714354464139936,0.7652238166343336,-0.6185867486415615,-0.3386571617039138,-0.3161248120466677,0.5710324792283733,-1.5249464802738668,-1.334373160303245,0.14496818123002284,0.45608868102679767,1.8003104449689311,-0.14253677500263165,0.3618331353222978,-1.0487580358894426,0.4168789695894866,-0.25965569714086006,-0.5990700644206105,-0.12754730946254858,0.1609097100695703,-0.612772377898927,0.5893269219618965,-0.007587308662248082,-1.2396321553365013,-0.3228524676932316,2.0691877262518066,0.21575433288173168,-0.33688431639229416,-0.584943042777959,-0.021978302530539635,0.7760964928004312,0.2341124389450538,-0.6804767518930187,0.29743695826935995,-1.2995657384445818,-1.1731514576749118,1.775715051156065,-0.26136178641767793,1.5428154798082716,0.34932184123664994,-0.15885079640979533,0.24607230937253333,0.2935565236057475,0.059958085203068945,0.6811151621009519,0.3124443053318358,0.35737431918893203,-0.4378153347902127,-0.09958545939881695,0.9507249410063682,-1.2055051283131741,-0.967407806976702,-0.5250235543538504,-1.3263512258412549,-0.5974841819256089,0.7858376437377379,0.16259035468987162,-0.7902561073258011,0.1382269110475103,1.6266262871594164,1.1377555894088582,-2.1287698279677607,0.7312169085870153,-0.286878671127475,0.5019090793008186,0.9090457145830573,-1.8404050305770792,0.21917425845647676,0.9400268734050679,0.07307879979290297,0.06257165723555402,0.41662989125303784,0.4517203457412141,0.6543843691753921,-0.7668755560446119,-0.020854012382010814,0.46738215329666766,0.6650453240884444,0.5787135254319014,-1.0381663200426428,0.025476372190832014,1.3203897331098426,-0.2783016747545439,1.919420967279771,-0.29386813886300417],\"type\":\"box\"}],                        {\"legend\":{\"bgcolor\":\"#F5F6F9\",\"font\":{\"color\":\"#4D5663\"}},\"paper_bgcolor\":\"#F5F6F9\",\"plot_bgcolor\":\"#F5F6F9\",\"template\":{\"data\":{\"barpolar\":[{\"marker\":{\"line\":{\"color\":\"#E5ECF6\",\"width\":0.5},\"pattern\":{\"fillmode\":\"overlay\",\"size\":10,\"solidity\":0.2}},\"type\":\"barpolar\"}],\"bar\":[{\"error_x\":{\"color\":\"#2a3f5f\"},\"error_y\":{\"color\":\"#2a3f5f\"},\"marker\":{\"line\":{\"color\":\"#E5ECF6\",\"width\":0.5},\"pattern\":{\"fillmode\":\"overlay\",\"size\":10,\"solidity\":0.2}},\"type\":\"bar\"}],\"carpet\":[{\"aaxis\":{\"endlinecolor\":\"#2a3f5f\",\"gridcolor\":\"white\",\"linecolor\":\"white\",\"minorgridcolor\":\"white\",\"startlinecolor\":\"#2a3f5f\"},\"baxis\":{\"endlinecolor\":\"#2a3f5f\",\"gridcolor\":\"white\",\"linecolor\":\"white\",\"minorgridcolor\":\"white\",\"startlinecolor\":\"#2a3f5f\"},\"type\":\"carpet\"}],\"choropleth\":[{\"colorbar\":{\"outlinewidth\":0,\"ticks\":\"\"},\"type\":\"choropleth\"}],\"contourcarpet\":[{\"colorbar\":{\"outlinewidth\":0,\"ticks\":\"\"},\"type\":\"contourcarpet\"}],\"contour\":[{\"colorbar\":{\"outlinewidth\":0,\"ticks\":\"\"},\"colorscale\":[[0.0,\"#0d0887\"],[0.1111111111111111,\"#46039f\"],[0.2222222222222222,\"#7201a8\"],[0.3333333333333333,\"#9c179e\"],[0.4444444444444444,\"#bd3786\"],[0.5555555555555556,\"#d8576b\"],[0.6666666666666666,\"#ed7953\"],[0.7777777777777778,\"#fb9f3a\"],[0.8888888888888888,\"#fdca26\"],[1.0,\"#f0f921\"]],\"type\":\"contour\"}],\"heatmapgl\":[{\"colorbar\":{\"outlinewidth\":0,\"ticks\":\"\"},\"colorscale\":[[0.0,\"#0d0887\"],[0.1111111111111111,\"#46039f\"],[0.2222222222222222,\"#7201a8\"],[0.3333333333333333,\"#9c179e\"],[0.4444444444444444,\"#bd3786\"],[0.5555555555555556,\"#d8576b\"],[0.6666666666666666,\"#ed7953\"],[0.7777777777777778,\"#fb9f3a\"],[0.8888888888888888,\"#fdca26\"],[1.0,\"#f0f921\"]],\"type\":\"heatmapgl\"}],\"heatmap\":[{\"colorbar\":{\"outlinewidth\":0,\"ticks\":\"\"},\"colorscale\":[[0.0,\"#0d0887\"],[0.1111111111111111,\"#46039f\"],[0.2222222222222222,\"#7201a8\"],[0.3333333333333333,\"#9c179e\"],[0.4444444444444444,\"#bd3786\"],[0.5555555555555556,\"#d8576b\"],[0.6666666666666666,\"#ed7953\"],[0.7777777777777778,\"#fb9f3a\"],[0.8888888888888888,\"#fdca26\"],[1.0,\"#f0f921\"]],\"type\":\"heatmap\"}],\"histogram2dcontour\":[{\"colorbar\":{\"outlinewidth\":0,\"ticks\":\"\"},\"colorscale\":[[0.0,\"#0d0887\"],[0.1111111111111111,\"#46039f\"],[0.2222222222222222,\"#7201a8\"],[0.3333333333333333,\"#9c179e\"],[0.4444444444444444,\"#bd3786\"],[0.5555555555555556,\"#d8576b\"],[0.6666666666666666,\"#ed7953\"],[0.7777777777777778,\"#fb9f3a\"],[0.8888888888888888,\"#fdca26\"],[1.0,\"#f0f921\"]],\"type\":\"histogram2dcontour\"}],\"histogram2d\":[{\"colorbar\":{\"outlinewidth\":0,\"ticks\":\"\"},\"colorscale\":[[0.0,\"#0d0887\"],[0.1111111111111111,\"#46039f\"],[0.2222222222222222,\"#7201a8\"],[0.3333333333333333,\"#9c179e\"],[0.4444444444444444,\"#bd3786\"],[0.5555555555555556,\"#d8576b\"],[0.6666666666666666,\"#ed7953\"],[0.7777777777777778,\"#fb9f3a\"],[0.8888888888888888,\"#fdca26\"],[1.0,\"#f0f921\"]],\"type\":\"histogram2d\"}],\"histogram\":[{\"marker\":{\"pattern\":{\"fillmode\":\"overlay\",\"size\":10,\"solidity\":0.2}},\"type\":\"histogram\"}],\"mesh3d\":[{\"colorbar\":{\"outlinewidth\":0,\"ticks\":\"\"},\"type\":\"mesh3d\"}],\"parcoords\":[{\"line\":{\"colorbar\":{\"outlinewidth\":0,\"ticks\":\"\"}},\"type\":\"parcoords\"}],\"pie\":[{\"automargin\":true,\"type\":\"pie\"}],\"scatter3d\":[{\"line\":{\"colorbar\":{\"outlinewidth\":0,\"ticks\":\"\"}},\"marker\":{\"colorbar\":{\"outlinewidth\":0,\"ticks\":\"\"}},\"type\":\"scatter3d\"}],\"scattercarpet\":[{\"marker\":{\"colorbar\":{\"outlinewidth\":0,\"ticks\":\"\"}},\"type\":\"scattercarpet\"}],\"scattergeo\":[{\"marker\":{\"colorbar\":{\"outlinewidth\":0,\"ticks\":\"\"}},\"type\":\"scattergeo\"}],\"scattergl\":[{\"marker\":{\"colorbar\":{\"outlinewidth\":0,\"ticks\":\"\"}},\"type\":\"scattergl\"}],\"scattermapbox\":[{\"marker\":{\"colorbar\":{\"outlinewidth\":0,\"ticks\":\"\"}},\"type\":\"scattermapbox\"}],\"scatterpolargl\":[{\"marker\":{\"colorbar\":{\"outlinewidth\":0,\"ticks\":\"\"}},\"type\":\"scatterpolargl\"}],\"scatterpolar\":[{\"marker\":{\"colorbar\":{\"outlinewidth\":0,\"ticks\":\"\"}},\"type\":\"scatterpolar\"}],\"scatter\":[{\"fillpattern\":{\"fillmode\":\"overlay\",\"size\":10,\"solidity\":0.2},\"type\":\"scatter\"}],\"scatterternary\":[{\"marker\":{\"colorbar\":{\"outlinewidth\":0,\"ticks\":\"\"}},\"type\":\"scatterternary\"}],\"surface\":[{\"colorbar\":{\"outlinewidth\":0,\"ticks\":\"\"},\"colorscale\":[[0.0,\"#0d0887\"],[0.1111111111111111,\"#46039f\"],[0.2222222222222222,\"#7201a8\"],[0.3333333333333333,\"#9c179e\"],[0.4444444444444444,\"#bd3786\"],[0.5555555555555556,\"#d8576b\"],[0.6666666666666666,\"#ed7953\"],[0.7777777777777778,\"#fb9f3a\"],[0.8888888888888888,\"#fdca26\"],[1.0,\"#f0f921\"]],\"type\":\"surface\"}],\"table\":[{\"cells\":{\"fill\":{\"color\":\"#EBF0F8\"},\"line\":{\"color\":\"white\"}},\"header\":{\"fill\":{\"color\":\"#C8D4E3\"},\"line\":{\"color\":\"white\"}},\"type\":\"table\"}]},\"layout\":{\"annotationdefaults\":{\"arrowcolor\":\"#2a3f5f\",\"arrowhead\":0,\"arrowwidth\":1},\"autotypenumbers\":\"strict\",\"coloraxis\":{\"colorbar\":{\"outlinewidth\":0,\"ticks\":\"\"}},\"colorscale\":{\"diverging\":[[0,\"#8e0152\"],[0.1,\"#c51b7d\"],[0.2,\"#de77ae\"],[0.3,\"#f1b6da\"],[0.4,\"#fde0ef\"],[0.5,\"#f7f7f7\"],[0.6,\"#e6f5d0\"],[0.7,\"#b8e186\"],[0.8,\"#7fbc41\"],[0.9,\"#4d9221\"],[1,\"#276419\"]],\"sequential\":[[0.0,\"#0d0887\"],[0.1111111111111111,\"#46039f\"],[0.2222222222222222,\"#7201a8\"],[0.3333333333333333,\"#9c179e\"],[0.4444444444444444,\"#bd3786\"],[0.5555555555555556,\"#d8576b\"],[0.6666666666666666,\"#ed7953\"],[0.7777777777777778,\"#fb9f3a\"],[0.8888888888888888,\"#fdca26\"],[1.0,\"#f0f921\"]],\"sequentialminus\":[[0.0,\"#0d0887\"],[0.1111111111111111,\"#46039f\"],[0.2222222222222222,\"#7201a8\"],[0.3333333333333333,\"#9c179e\"],[0.4444444444444444,\"#bd3786\"],[0.5555555555555556,\"#d8576b\"],[0.6666666666666666,\"#ed7953\"],[0.7777777777777778,\"#fb9f3a\"],[0.8888888888888888,\"#fdca26\"],[1.0,\"#f0f921\"]]},\"colorway\":[\"#636efa\",\"#EF553B\",\"#00cc96\",\"#ab63fa\",\"#FFA15A\",\"#19d3f3\",\"#FF6692\",\"#B6E880\",\"#FF97FF\",\"#FECB52\"],\"font\":{\"color\":\"#2a3f5f\"},\"geo\":{\"bgcolor\":\"white\",\"lakecolor\":\"white\",\"landcolor\":\"#E5ECF6\",\"showlakes\":true,\"showland\":true,\"subunitcolor\":\"white\"},\"hoverlabel\":{\"align\":\"left\"},\"hovermode\":\"closest\",\"mapbox\":{\"style\":\"light\"},\"paper_bgcolor\":\"white\",\"plot_bgcolor\":\"#E5ECF6\",\"polar\":{\"angularaxis\":{\"gridcolor\":\"white\",\"linecolor\":\"white\",\"ticks\":\"\"},\"bgcolor\":\"#E5ECF6\",\"radialaxis\":{\"gridcolor\":\"white\",\"linecolor\":\"white\",\"ticks\":\"\"}},\"scene\":{\"xaxis\":{\"backgroundcolor\":\"#E5ECF6\",\"gridcolor\":\"white\",\"gridwidth\":2,\"linecolor\":\"white\",\"showbackground\":true,\"ticks\":\"\",\"zerolinecolor\":\"white\"},\"yaxis\":{\"backgroundcolor\":\"#E5ECF6\",\"gridcolor\":\"white\",\"gridwidth\":2,\"linecolor\":\"white\",\"showbackground\":true,\"ticks\":\"\",\"zerolinecolor\":\"white\"},\"zaxis\":{\"backgroundcolor\":\"#E5ECF6\",\"gridcolor\":\"white\",\"gridwidth\":2,\"linecolor\":\"white\",\"showbackground\":true,\"ticks\":\"\",\"zerolinecolor\":\"white\"}},\"shapedefaults\":{\"line\":{\"color\":\"#2a3f5f\"}},\"ternary\":{\"aaxis\":{\"gridcolor\":\"white\",\"linecolor\":\"white\",\"ticks\":\"\"},\"baxis\":{\"gridcolor\":\"white\",\"linecolor\":\"white\",\"ticks\":\"\"},\"bgcolor\":\"#E5ECF6\",\"caxis\":{\"gridcolor\":\"white\",\"linecolor\":\"white\",\"ticks\":\"\"}},\"title\":{\"x\":0.05},\"xaxis\":{\"automargin\":true,\"gridcolor\":\"white\",\"linecolor\":\"white\",\"ticks\":\"\",\"title\":{\"standoff\":15},\"zerolinecolor\":\"white\",\"zerolinewidth\":2},\"yaxis\":{\"automargin\":true,\"gridcolor\":\"white\",\"linecolor\":\"white\",\"ticks\":\"\",\"title\":{\"standoff\":15},\"zerolinecolor\":\"white\",\"zerolinewidth\":2}}},\"title\":{\"font\":{\"color\":\"#4D5663\"}},\"xaxis\":{\"gridcolor\":\"#E1E5ED\",\"showgrid\":true,\"tickfont\":{\"color\":\"#4D5663\"},\"title\":{\"font\":{\"color\":\"#4D5663\"},\"text\":\"\"},\"zerolinecolor\":\"#E1E5ED\"},\"yaxis\":{\"gridcolor\":\"#E1E5ED\",\"showgrid\":true,\"tickfont\":{\"color\":\"#4D5663\"},\"title\":{\"font\":{\"color\":\"#4D5663\"},\"text\":\"\"},\"zerolinecolor\":\"#E1E5ED\"}},                        {\"showLink\": true, \"linkText\": \"Export to plot.ly\", \"plotlyServerURL\": \"https://plot.ly\", \"responsive\": true}                    ).then(function(){\n",
       "                            \n",
       "var gd = document.getElementById('1923bf34-3494-4728-995a-4df7c33300c7');\n",
       "var x = new MutationObserver(function (mutations, observer) {{\n",
       "        var display = window.getComputedStyle(gd).display;\n",
       "        if (!display || display === 'none') {{\n",
       "            console.log([gd, 'removed!']);\n",
       "            Plotly.purge(gd);\n",
       "            observer.disconnect();\n",
       "        }}\n",
       "}});\n",
       "\n",
       "// Listen for the removal of the full notebook cells\n",
       "var notebookContainer = gd.closest('#notebook-container');\n",
       "if (notebookContainer) {{\n",
       "    x.observe(notebookContainer, {childList: true});\n",
       "}}\n",
       "\n",
       "// Listen for the clearing of the current output cell\n",
       "var outputEl = gd.closest('.output');\n",
       "if (outputEl) {{\n",
       "    x.observe(outputEl, {childList: true});\n",
       "}}\n",
       "\n",
       "                        })                };                });            </script>        </div>"
      ]
     },
     "metadata": {},
     "output_type": "display_data"
    }
   ],
   "source": [
    "df.iplot(kind='box')"
   ]
  },
  {
   "cell_type": "markdown",
   "metadata": {},
   "source": [
    "## 3d Surface"
   ]
  },
  {
   "cell_type": "markdown",
   "metadata": {},
   "source": [
    "Check docs for colorscale language"
   ]
  },
  {
   "cell_type": "code",
   "execution_count": 25,
   "metadata": {},
   "outputs": [
    {
     "data": {
      "application/vnd.plotly.v1+json": {
       "config": {
        "linkText": "Export to plot.ly",
        "plotlyServerURL": "https://plot.ly",
        "showLink": true
       },
       "data": [
        {
         "colorscale": [
          [
           0,
           "rgb(165,0,38)"
          ],
          [
           0.1,
           "rgb(215,48,39)"
          ],
          [
           0.2,
           "rgb(244,109,67)"
          ],
          [
           0.3,
           "rgb(253,174,97)"
          ],
          [
           0.4,
           "rgb(254,224,144)"
          ],
          [
           0.5,
           "rgb(255,255,191)"
          ],
          [
           0.6,
           "rgb(224,243,248)"
          ],
          [
           0.7,
           "rgb(171,217,233)"
          ],
          [
           0.8,
           "rgb(116,173,209)"
          ],
          [
           0.9,
           "rgb(69,117,180)"
          ],
          [
           1,
           "rgb(49,54,149)"
          ]
         ],
         "type": "surface",
         "x": [
          0,
          1,
          2,
          3,
          4
         ],
         "y": [
          "x",
          "y",
          "z"
         ],
         "z": [
          [
           1,
           2,
           3,
           4,
           5
          ],
          [
           10,
           20,
           30,
           20,
           10
          ],
          [
           5,
           4,
           3,
           2,
           1
          ]
         ]
        }
       ],
       "layout": {
        "legend": {
         "bgcolor": "#F5F6F9",
         "font": {
          "color": "#4D5663"
         }
        },
        "paper_bgcolor": "#F5F6F9",
        "plot_bgcolor": "#F5F6F9",
        "template": {
         "data": {
          "bar": [
           {
            "error_x": {
             "color": "#2a3f5f"
            },
            "error_y": {
             "color": "#2a3f5f"
            },
            "marker": {
             "line": {
              "color": "#E5ECF6",
              "width": 0.5
             },
             "pattern": {
              "fillmode": "overlay",
              "size": 10,
              "solidity": 0.2
             }
            },
            "type": "bar"
           }
          ],
          "barpolar": [
           {
            "marker": {
             "line": {
              "color": "#E5ECF6",
              "width": 0.5
             },
             "pattern": {
              "fillmode": "overlay",
              "size": 10,
              "solidity": 0.2
             }
            },
            "type": "barpolar"
           }
          ],
          "carpet": [
           {
            "aaxis": {
             "endlinecolor": "#2a3f5f",
             "gridcolor": "white",
             "linecolor": "white",
             "minorgridcolor": "white",
             "startlinecolor": "#2a3f5f"
            },
            "baxis": {
             "endlinecolor": "#2a3f5f",
             "gridcolor": "white",
             "linecolor": "white",
             "minorgridcolor": "white",
             "startlinecolor": "#2a3f5f"
            },
            "type": "carpet"
           }
          ],
          "choropleth": [
           {
            "colorbar": {
             "outlinewidth": 0,
             "ticks": ""
            },
            "type": "choropleth"
           }
          ],
          "contour": [
           {
            "colorbar": {
             "outlinewidth": 0,
             "ticks": ""
            },
            "colorscale": [
             [
              0,
              "#0d0887"
             ],
             [
              0.1111111111111111,
              "#46039f"
             ],
             [
              0.2222222222222222,
              "#7201a8"
             ],
             [
              0.3333333333333333,
              "#9c179e"
             ],
             [
              0.4444444444444444,
              "#bd3786"
             ],
             [
              0.5555555555555556,
              "#d8576b"
             ],
             [
              0.6666666666666666,
              "#ed7953"
             ],
             [
              0.7777777777777778,
              "#fb9f3a"
             ],
             [
              0.8888888888888888,
              "#fdca26"
             ],
             [
              1,
              "#f0f921"
             ]
            ],
            "type": "contour"
           }
          ],
          "contourcarpet": [
           {
            "colorbar": {
             "outlinewidth": 0,
             "ticks": ""
            },
            "type": "contourcarpet"
           }
          ],
          "heatmap": [
           {
            "colorbar": {
             "outlinewidth": 0,
             "ticks": ""
            },
            "colorscale": [
             [
              0,
              "#0d0887"
             ],
             [
              0.1111111111111111,
              "#46039f"
             ],
             [
              0.2222222222222222,
              "#7201a8"
             ],
             [
              0.3333333333333333,
              "#9c179e"
             ],
             [
              0.4444444444444444,
              "#bd3786"
             ],
             [
              0.5555555555555556,
              "#d8576b"
             ],
             [
              0.6666666666666666,
              "#ed7953"
             ],
             [
              0.7777777777777778,
              "#fb9f3a"
             ],
             [
              0.8888888888888888,
              "#fdca26"
             ],
             [
              1,
              "#f0f921"
             ]
            ],
            "type": "heatmap"
           }
          ],
          "heatmapgl": [
           {
            "colorbar": {
             "outlinewidth": 0,
             "ticks": ""
            },
            "colorscale": [
             [
              0,
              "#0d0887"
             ],
             [
              0.1111111111111111,
              "#46039f"
             ],
             [
              0.2222222222222222,
              "#7201a8"
             ],
             [
              0.3333333333333333,
              "#9c179e"
             ],
             [
              0.4444444444444444,
              "#bd3786"
             ],
             [
              0.5555555555555556,
              "#d8576b"
             ],
             [
              0.6666666666666666,
              "#ed7953"
             ],
             [
              0.7777777777777778,
              "#fb9f3a"
             ],
             [
              0.8888888888888888,
              "#fdca26"
             ],
             [
              1,
              "#f0f921"
             ]
            ],
            "type": "heatmapgl"
           }
          ],
          "histogram": [
           {
            "marker": {
             "pattern": {
              "fillmode": "overlay",
              "size": 10,
              "solidity": 0.2
             }
            },
            "type": "histogram"
           }
          ],
          "histogram2d": [
           {
            "colorbar": {
             "outlinewidth": 0,
             "ticks": ""
            },
            "colorscale": [
             [
              0,
              "#0d0887"
             ],
             [
              0.1111111111111111,
              "#46039f"
             ],
             [
              0.2222222222222222,
              "#7201a8"
             ],
             [
              0.3333333333333333,
              "#9c179e"
             ],
             [
              0.4444444444444444,
              "#bd3786"
             ],
             [
              0.5555555555555556,
              "#d8576b"
             ],
             [
              0.6666666666666666,
              "#ed7953"
             ],
             [
              0.7777777777777778,
              "#fb9f3a"
             ],
             [
              0.8888888888888888,
              "#fdca26"
             ],
             [
              1,
              "#f0f921"
             ]
            ],
            "type": "histogram2d"
           }
          ],
          "histogram2dcontour": [
           {
            "colorbar": {
             "outlinewidth": 0,
             "ticks": ""
            },
            "colorscale": [
             [
              0,
              "#0d0887"
             ],
             [
              0.1111111111111111,
              "#46039f"
             ],
             [
              0.2222222222222222,
              "#7201a8"
             ],
             [
              0.3333333333333333,
              "#9c179e"
             ],
             [
              0.4444444444444444,
              "#bd3786"
             ],
             [
              0.5555555555555556,
              "#d8576b"
             ],
             [
              0.6666666666666666,
              "#ed7953"
             ],
             [
              0.7777777777777778,
              "#fb9f3a"
             ],
             [
              0.8888888888888888,
              "#fdca26"
             ],
             [
              1,
              "#f0f921"
             ]
            ],
            "type": "histogram2dcontour"
           }
          ],
          "mesh3d": [
           {
            "colorbar": {
             "outlinewidth": 0,
             "ticks": ""
            },
            "type": "mesh3d"
           }
          ],
          "parcoords": [
           {
            "line": {
             "colorbar": {
              "outlinewidth": 0,
              "ticks": ""
             }
            },
            "type": "parcoords"
           }
          ],
          "pie": [
           {
            "automargin": true,
            "type": "pie"
           }
          ],
          "scatter": [
           {
            "fillpattern": {
             "fillmode": "overlay",
             "size": 10,
             "solidity": 0.2
            },
            "type": "scatter"
           }
          ],
          "scatter3d": [
           {
            "line": {
             "colorbar": {
              "outlinewidth": 0,
              "ticks": ""
             }
            },
            "marker": {
             "colorbar": {
              "outlinewidth": 0,
              "ticks": ""
             }
            },
            "type": "scatter3d"
           }
          ],
          "scattercarpet": [
           {
            "marker": {
             "colorbar": {
              "outlinewidth": 0,
              "ticks": ""
             }
            },
            "type": "scattercarpet"
           }
          ],
          "scattergeo": [
           {
            "marker": {
             "colorbar": {
              "outlinewidth": 0,
              "ticks": ""
             }
            },
            "type": "scattergeo"
           }
          ],
          "scattergl": [
           {
            "marker": {
             "colorbar": {
              "outlinewidth": 0,
              "ticks": ""
             }
            },
            "type": "scattergl"
           }
          ],
          "scattermapbox": [
           {
            "marker": {
             "colorbar": {
              "outlinewidth": 0,
              "ticks": ""
             }
            },
            "type": "scattermapbox"
           }
          ],
          "scatterpolar": [
           {
            "marker": {
             "colorbar": {
              "outlinewidth": 0,
              "ticks": ""
             }
            },
            "type": "scatterpolar"
           }
          ],
          "scatterpolargl": [
           {
            "marker": {
             "colorbar": {
              "outlinewidth": 0,
              "ticks": ""
             }
            },
            "type": "scatterpolargl"
           }
          ],
          "scatterternary": [
           {
            "marker": {
             "colorbar": {
              "outlinewidth": 0,
              "ticks": ""
             }
            },
            "type": "scatterternary"
           }
          ],
          "surface": [
           {
            "colorbar": {
             "outlinewidth": 0,
             "ticks": ""
            },
            "colorscale": [
             [
              0,
              "#0d0887"
             ],
             [
              0.1111111111111111,
              "#46039f"
             ],
             [
              0.2222222222222222,
              "#7201a8"
             ],
             [
              0.3333333333333333,
              "#9c179e"
             ],
             [
              0.4444444444444444,
              "#bd3786"
             ],
             [
              0.5555555555555556,
              "#d8576b"
             ],
             [
              0.6666666666666666,
              "#ed7953"
             ],
             [
              0.7777777777777778,
              "#fb9f3a"
             ],
             [
              0.8888888888888888,
              "#fdca26"
             ],
             [
              1,
              "#f0f921"
             ]
            ],
            "type": "surface"
           }
          ],
          "table": [
           {
            "cells": {
             "fill": {
              "color": "#EBF0F8"
             },
             "line": {
              "color": "white"
             }
            },
            "header": {
             "fill": {
              "color": "#C8D4E3"
             },
             "line": {
              "color": "white"
             }
            },
            "type": "table"
           }
          ]
         },
         "layout": {
          "annotationdefaults": {
           "arrowcolor": "#2a3f5f",
           "arrowhead": 0,
           "arrowwidth": 1
          },
          "autotypenumbers": "strict",
          "coloraxis": {
           "colorbar": {
            "outlinewidth": 0,
            "ticks": ""
           }
          },
          "colorscale": {
           "diverging": [
            [
             0,
             "#8e0152"
            ],
            [
             0.1,
             "#c51b7d"
            ],
            [
             0.2,
             "#de77ae"
            ],
            [
             0.3,
             "#f1b6da"
            ],
            [
             0.4,
             "#fde0ef"
            ],
            [
             0.5,
             "#f7f7f7"
            ],
            [
             0.6,
             "#e6f5d0"
            ],
            [
             0.7,
             "#b8e186"
            ],
            [
             0.8,
             "#7fbc41"
            ],
            [
             0.9,
             "#4d9221"
            ],
            [
             1,
             "#276419"
            ]
           ],
           "sequential": [
            [
             0,
             "#0d0887"
            ],
            [
             0.1111111111111111,
             "#46039f"
            ],
            [
             0.2222222222222222,
             "#7201a8"
            ],
            [
             0.3333333333333333,
             "#9c179e"
            ],
            [
             0.4444444444444444,
             "#bd3786"
            ],
            [
             0.5555555555555556,
             "#d8576b"
            ],
            [
             0.6666666666666666,
             "#ed7953"
            ],
            [
             0.7777777777777778,
             "#fb9f3a"
            ],
            [
             0.8888888888888888,
             "#fdca26"
            ],
            [
             1,
             "#f0f921"
            ]
           ],
           "sequentialminus": [
            [
             0,
             "#0d0887"
            ],
            [
             0.1111111111111111,
             "#46039f"
            ],
            [
             0.2222222222222222,
             "#7201a8"
            ],
            [
             0.3333333333333333,
             "#9c179e"
            ],
            [
             0.4444444444444444,
             "#bd3786"
            ],
            [
             0.5555555555555556,
             "#d8576b"
            ],
            [
             0.6666666666666666,
             "#ed7953"
            ],
            [
             0.7777777777777778,
             "#fb9f3a"
            ],
            [
             0.8888888888888888,
             "#fdca26"
            ],
            [
             1,
             "#f0f921"
            ]
           ]
          },
          "colorway": [
           "#636efa",
           "#EF553B",
           "#00cc96",
           "#ab63fa",
           "#FFA15A",
           "#19d3f3",
           "#FF6692",
           "#B6E880",
           "#FF97FF",
           "#FECB52"
          ],
          "font": {
           "color": "#2a3f5f"
          },
          "geo": {
           "bgcolor": "white",
           "lakecolor": "white",
           "landcolor": "#E5ECF6",
           "showlakes": true,
           "showland": true,
           "subunitcolor": "white"
          },
          "hoverlabel": {
           "align": "left"
          },
          "hovermode": "closest",
          "mapbox": {
           "style": "light"
          },
          "paper_bgcolor": "white",
          "plot_bgcolor": "#E5ECF6",
          "polar": {
           "angularaxis": {
            "gridcolor": "white",
            "linecolor": "white",
            "ticks": ""
           },
           "bgcolor": "#E5ECF6",
           "radialaxis": {
            "gridcolor": "white",
            "linecolor": "white",
            "ticks": ""
           }
          },
          "scene": {
           "xaxis": {
            "backgroundcolor": "#E5ECF6",
            "gridcolor": "white",
            "gridwidth": 2,
            "linecolor": "white",
            "showbackground": true,
            "ticks": "",
            "zerolinecolor": "white"
           },
           "yaxis": {
            "backgroundcolor": "#E5ECF6",
            "gridcolor": "white",
            "gridwidth": 2,
            "linecolor": "white",
            "showbackground": true,
            "ticks": "",
            "zerolinecolor": "white"
           },
           "zaxis": {
            "backgroundcolor": "#E5ECF6",
            "gridcolor": "white",
            "gridwidth": 2,
            "linecolor": "white",
            "showbackground": true,
            "ticks": "",
            "zerolinecolor": "white"
           }
          },
          "shapedefaults": {
           "line": {
            "color": "#2a3f5f"
           }
          },
          "ternary": {
           "aaxis": {
            "gridcolor": "white",
            "linecolor": "white",
            "ticks": ""
           },
           "baxis": {
            "gridcolor": "white",
            "linecolor": "white",
            "ticks": ""
           },
           "bgcolor": "#E5ECF6",
           "caxis": {
            "gridcolor": "white",
            "linecolor": "white",
            "ticks": ""
           }
          },
          "title": {
           "x": 0.05
          },
          "xaxis": {
           "automargin": true,
           "gridcolor": "white",
           "linecolor": "white",
           "ticks": "",
           "title": {
            "standoff": 15
           },
           "zerolinecolor": "white",
           "zerolinewidth": 2
          },
          "yaxis": {
           "automargin": true,
           "gridcolor": "white",
           "linecolor": "white",
           "ticks": "",
           "title": {
            "standoff": 15
           },
           "zerolinecolor": "white",
           "zerolinewidth": 2
          }
         }
        },
        "title": {
         "font": {
          "color": "#4D5663"
         }
        },
        "xaxis": {
         "gridcolor": "#E1E5ED",
         "showgrid": true,
         "tickfont": {
          "color": "#4D5663"
         },
         "title": {
          "font": {
           "color": "#4D5663"
          },
          "text": ""
         },
         "zerolinecolor": "#E1E5ED"
        },
        "yaxis": {
         "gridcolor": "#E1E5ED",
         "showgrid": true,
         "tickfont": {
          "color": "#4D5663"
         },
         "title": {
          "font": {
           "color": "#4D5663"
          },
          "text": ""
         },
         "zerolinecolor": "#E1E5ED"
        }
       }
      },
      "text/html": [
       "<div>                            <div id=\"bbf2740e-b8e6-4771-870c-d679b942450c\" class=\"plotly-graph-div\" style=\"height:525px; width:100%;\"></div>            <script type=\"text/javascript\">                require([\"plotly\"], function(Plotly) {                    window.PLOTLYENV=window.PLOTLYENV || {};\n",
       "                    window.PLOTLYENV.BASE_URL='https://plot.ly';                                    if (document.getElementById(\"bbf2740e-b8e6-4771-870c-d679b942450c\")) {                    Plotly.newPlot(                        \"bbf2740e-b8e6-4771-870c-d679b942450c\",                        [{\"colorscale\":[[0.0,\"rgb(165,0,38)\"],[0.1,\"rgb(215,48,39)\"],[0.2,\"rgb(244,109,67)\"],[0.3,\"rgb(253,174,97)\"],[0.4,\"rgb(254,224,144)\"],[0.5,\"rgb(255,255,191)\"],[0.6,\"rgb(224,243,248)\"],[0.7,\"rgb(171,217,233)\"],[0.8,\"rgb(116,173,209)\"],[0.9,\"rgb(69,117,180)\"],[1.0,\"rgb(49,54,149)\"]],\"x\":[0,1,2,3,4],\"y\":[\"x\",\"y\",\"z\"],\"z\":[[1,2,3,4,5],[10,20,30,20,10],[5,4,3,2,1]],\"type\":\"surface\"}],                        {\"legend\":{\"bgcolor\":\"#F5F6F9\",\"font\":{\"color\":\"#4D5663\"}},\"paper_bgcolor\":\"#F5F6F9\",\"plot_bgcolor\":\"#F5F6F9\",\"template\":{\"data\":{\"barpolar\":[{\"marker\":{\"line\":{\"color\":\"#E5ECF6\",\"width\":0.5},\"pattern\":{\"fillmode\":\"overlay\",\"size\":10,\"solidity\":0.2}},\"type\":\"barpolar\"}],\"bar\":[{\"error_x\":{\"color\":\"#2a3f5f\"},\"error_y\":{\"color\":\"#2a3f5f\"},\"marker\":{\"line\":{\"color\":\"#E5ECF6\",\"width\":0.5},\"pattern\":{\"fillmode\":\"overlay\",\"size\":10,\"solidity\":0.2}},\"type\":\"bar\"}],\"carpet\":[{\"aaxis\":{\"endlinecolor\":\"#2a3f5f\",\"gridcolor\":\"white\",\"linecolor\":\"white\",\"minorgridcolor\":\"white\",\"startlinecolor\":\"#2a3f5f\"},\"baxis\":{\"endlinecolor\":\"#2a3f5f\",\"gridcolor\":\"white\",\"linecolor\":\"white\",\"minorgridcolor\":\"white\",\"startlinecolor\":\"#2a3f5f\"},\"type\":\"carpet\"}],\"choropleth\":[{\"colorbar\":{\"outlinewidth\":0,\"ticks\":\"\"},\"type\":\"choropleth\"}],\"contourcarpet\":[{\"colorbar\":{\"outlinewidth\":0,\"ticks\":\"\"},\"type\":\"contourcarpet\"}],\"contour\":[{\"colorbar\":{\"outlinewidth\":0,\"ticks\":\"\"},\"colorscale\":[[0.0,\"#0d0887\"],[0.1111111111111111,\"#46039f\"],[0.2222222222222222,\"#7201a8\"],[0.3333333333333333,\"#9c179e\"],[0.4444444444444444,\"#bd3786\"],[0.5555555555555556,\"#d8576b\"],[0.6666666666666666,\"#ed7953\"],[0.7777777777777778,\"#fb9f3a\"],[0.8888888888888888,\"#fdca26\"],[1.0,\"#f0f921\"]],\"type\":\"contour\"}],\"heatmapgl\":[{\"colorbar\":{\"outlinewidth\":0,\"ticks\":\"\"},\"colorscale\":[[0.0,\"#0d0887\"],[0.1111111111111111,\"#46039f\"],[0.2222222222222222,\"#7201a8\"],[0.3333333333333333,\"#9c179e\"],[0.4444444444444444,\"#bd3786\"],[0.5555555555555556,\"#d8576b\"],[0.6666666666666666,\"#ed7953\"],[0.7777777777777778,\"#fb9f3a\"],[0.8888888888888888,\"#fdca26\"],[1.0,\"#f0f921\"]],\"type\":\"heatmapgl\"}],\"heatmap\":[{\"colorbar\":{\"outlinewidth\":0,\"ticks\":\"\"},\"colorscale\":[[0.0,\"#0d0887\"],[0.1111111111111111,\"#46039f\"],[0.2222222222222222,\"#7201a8\"],[0.3333333333333333,\"#9c179e\"],[0.4444444444444444,\"#bd3786\"],[0.5555555555555556,\"#d8576b\"],[0.6666666666666666,\"#ed7953\"],[0.7777777777777778,\"#fb9f3a\"],[0.8888888888888888,\"#fdca26\"],[1.0,\"#f0f921\"]],\"type\":\"heatmap\"}],\"histogram2dcontour\":[{\"colorbar\":{\"outlinewidth\":0,\"ticks\":\"\"},\"colorscale\":[[0.0,\"#0d0887\"],[0.1111111111111111,\"#46039f\"],[0.2222222222222222,\"#7201a8\"],[0.3333333333333333,\"#9c179e\"],[0.4444444444444444,\"#bd3786\"],[0.5555555555555556,\"#d8576b\"],[0.6666666666666666,\"#ed7953\"],[0.7777777777777778,\"#fb9f3a\"],[0.8888888888888888,\"#fdca26\"],[1.0,\"#f0f921\"]],\"type\":\"histogram2dcontour\"}],\"histogram2d\":[{\"colorbar\":{\"outlinewidth\":0,\"ticks\":\"\"},\"colorscale\":[[0.0,\"#0d0887\"],[0.1111111111111111,\"#46039f\"],[0.2222222222222222,\"#7201a8\"],[0.3333333333333333,\"#9c179e\"],[0.4444444444444444,\"#bd3786\"],[0.5555555555555556,\"#d8576b\"],[0.6666666666666666,\"#ed7953\"],[0.7777777777777778,\"#fb9f3a\"],[0.8888888888888888,\"#fdca26\"],[1.0,\"#f0f921\"]],\"type\":\"histogram2d\"}],\"histogram\":[{\"marker\":{\"pattern\":{\"fillmode\":\"overlay\",\"size\":10,\"solidity\":0.2}},\"type\":\"histogram\"}],\"mesh3d\":[{\"colorbar\":{\"outlinewidth\":0,\"ticks\":\"\"},\"type\":\"mesh3d\"}],\"parcoords\":[{\"line\":{\"colorbar\":{\"outlinewidth\":0,\"ticks\":\"\"}},\"type\":\"parcoords\"}],\"pie\":[{\"automargin\":true,\"type\":\"pie\"}],\"scatter3d\":[{\"line\":{\"colorbar\":{\"outlinewidth\":0,\"ticks\":\"\"}},\"marker\":{\"colorbar\":{\"outlinewidth\":0,\"ticks\":\"\"}},\"type\":\"scatter3d\"}],\"scattercarpet\":[{\"marker\":{\"colorbar\":{\"outlinewidth\":0,\"ticks\":\"\"}},\"type\":\"scattercarpet\"}],\"scattergeo\":[{\"marker\":{\"colorbar\":{\"outlinewidth\":0,\"ticks\":\"\"}},\"type\":\"scattergeo\"}],\"scattergl\":[{\"marker\":{\"colorbar\":{\"outlinewidth\":0,\"ticks\":\"\"}},\"type\":\"scattergl\"}],\"scattermapbox\":[{\"marker\":{\"colorbar\":{\"outlinewidth\":0,\"ticks\":\"\"}},\"type\":\"scattermapbox\"}],\"scatterpolargl\":[{\"marker\":{\"colorbar\":{\"outlinewidth\":0,\"ticks\":\"\"}},\"type\":\"scatterpolargl\"}],\"scatterpolar\":[{\"marker\":{\"colorbar\":{\"outlinewidth\":0,\"ticks\":\"\"}},\"type\":\"scatterpolar\"}],\"scatter\":[{\"fillpattern\":{\"fillmode\":\"overlay\",\"size\":10,\"solidity\":0.2},\"type\":\"scatter\"}],\"scatterternary\":[{\"marker\":{\"colorbar\":{\"outlinewidth\":0,\"ticks\":\"\"}},\"type\":\"scatterternary\"}],\"surface\":[{\"colorbar\":{\"outlinewidth\":0,\"ticks\":\"\"},\"colorscale\":[[0.0,\"#0d0887\"],[0.1111111111111111,\"#46039f\"],[0.2222222222222222,\"#7201a8\"],[0.3333333333333333,\"#9c179e\"],[0.4444444444444444,\"#bd3786\"],[0.5555555555555556,\"#d8576b\"],[0.6666666666666666,\"#ed7953\"],[0.7777777777777778,\"#fb9f3a\"],[0.8888888888888888,\"#fdca26\"],[1.0,\"#f0f921\"]],\"type\":\"surface\"}],\"table\":[{\"cells\":{\"fill\":{\"color\":\"#EBF0F8\"},\"line\":{\"color\":\"white\"}},\"header\":{\"fill\":{\"color\":\"#C8D4E3\"},\"line\":{\"color\":\"white\"}},\"type\":\"table\"}]},\"layout\":{\"annotationdefaults\":{\"arrowcolor\":\"#2a3f5f\",\"arrowhead\":0,\"arrowwidth\":1},\"autotypenumbers\":\"strict\",\"coloraxis\":{\"colorbar\":{\"outlinewidth\":0,\"ticks\":\"\"}},\"colorscale\":{\"diverging\":[[0,\"#8e0152\"],[0.1,\"#c51b7d\"],[0.2,\"#de77ae\"],[0.3,\"#f1b6da\"],[0.4,\"#fde0ef\"],[0.5,\"#f7f7f7\"],[0.6,\"#e6f5d0\"],[0.7,\"#b8e186\"],[0.8,\"#7fbc41\"],[0.9,\"#4d9221\"],[1,\"#276419\"]],\"sequential\":[[0.0,\"#0d0887\"],[0.1111111111111111,\"#46039f\"],[0.2222222222222222,\"#7201a8\"],[0.3333333333333333,\"#9c179e\"],[0.4444444444444444,\"#bd3786\"],[0.5555555555555556,\"#d8576b\"],[0.6666666666666666,\"#ed7953\"],[0.7777777777777778,\"#fb9f3a\"],[0.8888888888888888,\"#fdca26\"],[1.0,\"#f0f921\"]],\"sequentialminus\":[[0.0,\"#0d0887\"],[0.1111111111111111,\"#46039f\"],[0.2222222222222222,\"#7201a8\"],[0.3333333333333333,\"#9c179e\"],[0.4444444444444444,\"#bd3786\"],[0.5555555555555556,\"#d8576b\"],[0.6666666666666666,\"#ed7953\"],[0.7777777777777778,\"#fb9f3a\"],[0.8888888888888888,\"#fdca26\"],[1.0,\"#f0f921\"]]},\"colorway\":[\"#636efa\",\"#EF553B\",\"#00cc96\",\"#ab63fa\",\"#FFA15A\",\"#19d3f3\",\"#FF6692\",\"#B6E880\",\"#FF97FF\",\"#FECB52\"],\"font\":{\"color\":\"#2a3f5f\"},\"geo\":{\"bgcolor\":\"white\",\"lakecolor\":\"white\",\"landcolor\":\"#E5ECF6\",\"showlakes\":true,\"showland\":true,\"subunitcolor\":\"white\"},\"hoverlabel\":{\"align\":\"left\"},\"hovermode\":\"closest\",\"mapbox\":{\"style\":\"light\"},\"paper_bgcolor\":\"white\",\"plot_bgcolor\":\"#E5ECF6\",\"polar\":{\"angularaxis\":{\"gridcolor\":\"white\",\"linecolor\":\"white\",\"ticks\":\"\"},\"bgcolor\":\"#E5ECF6\",\"radialaxis\":{\"gridcolor\":\"white\",\"linecolor\":\"white\",\"ticks\":\"\"}},\"scene\":{\"xaxis\":{\"backgroundcolor\":\"#E5ECF6\",\"gridcolor\":\"white\",\"gridwidth\":2,\"linecolor\":\"white\",\"showbackground\":true,\"ticks\":\"\",\"zerolinecolor\":\"white\"},\"yaxis\":{\"backgroundcolor\":\"#E5ECF6\",\"gridcolor\":\"white\",\"gridwidth\":2,\"linecolor\":\"white\",\"showbackground\":true,\"ticks\":\"\",\"zerolinecolor\":\"white\"},\"zaxis\":{\"backgroundcolor\":\"#E5ECF6\",\"gridcolor\":\"white\",\"gridwidth\":2,\"linecolor\":\"white\",\"showbackground\":true,\"ticks\":\"\",\"zerolinecolor\":\"white\"}},\"shapedefaults\":{\"line\":{\"color\":\"#2a3f5f\"}},\"ternary\":{\"aaxis\":{\"gridcolor\":\"white\",\"linecolor\":\"white\",\"ticks\":\"\"},\"baxis\":{\"gridcolor\":\"white\",\"linecolor\":\"white\",\"ticks\":\"\"},\"bgcolor\":\"#E5ECF6\",\"caxis\":{\"gridcolor\":\"white\",\"linecolor\":\"white\",\"ticks\":\"\"}},\"title\":{\"x\":0.05},\"xaxis\":{\"automargin\":true,\"gridcolor\":\"white\",\"linecolor\":\"white\",\"ticks\":\"\",\"title\":{\"standoff\":15},\"zerolinecolor\":\"white\",\"zerolinewidth\":2},\"yaxis\":{\"automargin\":true,\"gridcolor\":\"white\",\"linecolor\":\"white\",\"ticks\":\"\",\"title\":{\"standoff\":15},\"zerolinecolor\":\"white\",\"zerolinewidth\":2}}},\"title\":{\"font\":{\"color\":\"#4D5663\"}},\"xaxis\":{\"gridcolor\":\"#E1E5ED\",\"showgrid\":true,\"tickfont\":{\"color\":\"#4D5663\"},\"title\":{\"font\":{\"color\":\"#4D5663\"},\"text\":\"\"},\"zerolinecolor\":\"#E1E5ED\"},\"yaxis\":{\"gridcolor\":\"#E1E5ED\",\"showgrid\":true,\"tickfont\":{\"color\":\"#4D5663\"},\"title\":{\"font\":{\"color\":\"#4D5663\"},\"text\":\"\"},\"zerolinecolor\":\"#E1E5ED\"}},                        {\"showLink\": true, \"linkText\": \"Export to plot.ly\", \"plotlyServerURL\": \"https://plot.ly\", \"responsive\": true}                    ).then(function(){\n",
       "                            \n",
       "var gd = document.getElementById('bbf2740e-b8e6-4771-870c-d679b942450c');\n",
       "var x = new MutationObserver(function (mutations, observer) {{\n",
       "        var display = window.getComputedStyle(gd).display;\n",
       "        if (!display || display === 'none') {{\n",
       "            console.log([gd, 'removed!']);\n",
       "            Plotly.purge(gd);\n",
       "            observer.disconnect();\n",
       "        }}\n",
       "}});\n",
       "\n",
       "// Listen for the removal of the full notebook cells\n",
       "var notebookContainer = gd.closest('#notebook-container');\n",
       "if (notebookContainer) {{\n",
       "    x.observe(notebookContainer, {childList: true});\n",
       "}}\n",
       "\n",
       "// Listen for the clearing of the current output cell\n",
       "var outputEl = gd.closest('.output');\n",
       "if (outputEl) {{\n",
       "    x.observe(outputEl, {childList: true});\n",
       "}}\n",
       "\n",
       "                        })                };                });            </script>        </div>"
      ]
     },
     "metadata": {},
     "output_type": "display_data"
    }
   ],
   "source": [
    "df3 = pd.DataFrame({'x':[1,2,3,4,5],'y':[10,20,30,20,10],'z':[5,4,3,2,1]})\n",
    "df3.iplot(kind='surface',colorscale='rdylbu')"
   ]
  },
  {
   "cell_type": "markdown",
   "metadata": {},
   "source": [
    "## Spread"
   ]
  },
  {
   "cell_type": "code",
   "execution_count": 26,
   "metadata": {},
   "outputs": [
    {
     "name": "stderr",
     "output_type": "stream",
     "text": [
      "C:\\Users\\ksgun\\anaconda3\\lib\\site-packages\\cufflinks\\plotlytools.py:849: FutureWarning:\n",
      "\n",
      "The pandas.np module is deprecated and will be removed from pandas in a future version. Import numpy directly instead.\n",
      "\n",
      "C:\\Users\\ksgun\\anaconda3\\lib\\site-packages\\cufflinks\\plotlytools.py:850: FutureWarning:\n",
      "\n",
      "The pandas.np module is deprecated and will be removed from pandas in a future version. Import numpy directly instead.\n",
      "\n"
     ]
    },
    {
     "data": {
      "application/vnd.plotly.v1+json": {
       "config": {
        "linkText": "Export to plot.ly",
        "plotlyServerURL": "https://plot.ly",
        "showLink": true
       },
       "data": [
        {
         "line": {
          "color": "rgba(255, 153, 51, 1.0)",
          "dash": "solid",
          "shape": "linear",
          "width": 1.3
         },
         "mode": "lines",
         "name": "A",
         "text": "",
         "type": "scatter",
         "x": [
          0,
          1,
          2,
          3,
          4,
          5,
          6,
          7,
          8,
          9,
          10,
          11,
          12,
          13,
          14,
          15,
          16,
          17,
          18,
          19,
          20,
          21,
          22,
          23,
          24,
          25,
          26,
          27,
          28,
          29,
          30,
          31,
          32,
          33,
          34,
          35,
          36,
          37,
          38,
          39,
          40,
          41,
          42,
          43,
          44,
          45,
          46,
          47,
          48,
          49,
          50,
          51,
          52,
          53,
          54,
          55,
          56,
          57,
          58,
          59,
          60,
          61,
          62,
          63,
          64,
          65,
          66,
          67,
          68,
          69,
          70,
          71,
          72,
          73,
          74,
          75,
          76,
          77,
          78,
          79,
          80,
          81,
          82,
          83,
          84,
          85,
          86,
          87,
          88,
          89,
          90,
          91,
          92,
          93,
          94,
          95,
          96,
          97,
          98,
          99
         ],
         "y": [
          1.8511519134780592,
          0.9932635503226296,
          -0.20359937233167702,
          1.5257768804344916,
          0.7989148705029956,
          -0.7401919047073051,
          -0.8630213226964086,
          0.7013687303870811,
          -0.6247974874205289,
          0.10910461350500907,
          -0.11538038639040019,
          -0.02648740437455768,
          -0.43732218661342515,
          -0.7125768681585045,
          1.0133586523249136,
          -0.8616519633585347,
          -2.1230616381436356,
          -0.9749949035547446,
          0.5043444129264993,
          0.18825104298423934,
          -0.1432776826929805,
          0.5868807139113783,
          -0.5195842176454574,
          0.5736013901487871,
          -0.8173712354802753,
          0.6609920652626308,
          0.4168308410755578,
          0.5852219339927222,
          0.010802370600104156,
          -0.41273169823065897,
          -0.20857735228632088,
          -0.8416615204104636,
          0.052944189995554204,
          0.005686937411339467,
          0.3844520636603806,
          -1.0631481481915048,
          -0.11724016976317891,
          0.6630852320859335,
          0.5115801618934522,
          2.2561195936427705,
          0.3109656972874523,
          1.0994549480156748,
          -0.7208326396818907,
          -0.1977387682776627,
          -0.16040121850252212,
          0.794102216112637,
          0.7464271735955996,
          -0.647542908423245,
          -1.4984047157520854,
          -0.04075648099172144,
          2.264819816919803,
          -0.5552027566980382,
          -0.6748951474162486,
          -1.007916433892245,
          -1.3106915777664427,
          -1.8225142752914754,
          1.334030713362875,
          0.07572488075553528,
          -0.5830773501448417,
          0.38454318739022125,
          1.6110776348434117,
          -0.3174845924378902,
          0.8445097695504995,
          -0.41461007268988176,
          0.365775246787856,
          -1.496269233552682,
          0.3008252693310851,
          -0.39326338113914816,
          0.5008110351639224,
          -0.672608996952311,
          -1.0421214869609523,
          -0.11156295997918914,
          0.3092029035122308,
          0.28260084055062595,
          0.6949297525981041,
          -0.9319657740427375,
          -1.9514085275441992,
          -0.7841155550829054,
          -0.2998409331653889,
          0.03951669010773553,
          -0.0727240387013017,
          -1.9518606100277855,
          0.9883285146195404,
          0.7508231282590799,
          1.209982615480504,
          0.7921753321761256,
          -0.9946655537151281,
          1.3067058404422474,
          0.5712332382845726,
          -0.5386093862850266,
          0.30013330235114466,
          -1.4869281940691312,
          0.9620169121202278,
          1.114277142834589,
          -1.3650422850750878,
          0.3298673585324569,
          0.9810828436899907,
          -0.9471938559777627,
          -0.6557976449379221,
          0.5954509216804071
         ]
        },
        {
         "line": {
          "color": "rgba(55, 128, 191, 1.0)",
          "dash": "solid",
          "shape": "linear",
          "width": 1.3
         },
         "mode": "lines",
         "name": "B",
         "text": "",
         "type": "scatter",
         "x": [
          0,
          1,
          2,
          3,
          4,
          5,
          6,
          7,
          8,
          9,
          10,
          11,
          12,
          13,
          14,
          15,
          16,
          17,
          18,
          19,
          20,
          21,
          22,
          23,
          24,
          25,
          26,
          27,
          28,
          29,
          30,
          31,
          32,
          33,
          34,
          35,
          36,
          37,
          38,
          39,
          40,
          41,
          42,
          43,
          44,
          45,
          46,
          47,
          48,
          49,
          50,
          51,
          52,
          53,
          54,
          55,
          56,
          57,
          58,
          59,
          60,
          61,
          62,
          63,
          64,
          65,
          66,
          67,
          68,
          69,
          70,
          71,
          72,
          73,
          74,
          75,
          76,
          77,
          78,
          79,
          80,
          81,
          82,
          83,
          84,
          85,
          86,
          87,
          88,
          89,
          90,
          91,
          92,
          93,
          94,
          95,
          96,
          97,
          98,
          99
         ],
         "y": [
          0.45782172851946584,
          0.4344214900313023,
          0.6658987220489518,
          2.895439169924277,
          -0.04735765933408375,
          0.14131190059074383,
          -0.6793167129790467,
          -1.33376156241096,
          0.5129051932325256,
          -1.8426154108364827,
          0.5414409748569157,
          1.5180507825544969,
          0.6886450990269172,
          -0.2934527411501007,
          1.247504281758502,
          -0.6923792689440722,
          1.3358752949438544,
          3.3009912281541745,
          -1.1772677491504626,
          3.0413738620919792,
          0.1939145630185375,
          1.316173538909124,
          0.4568857268531616,
          -0.45612992746179104,
          0.36962784918045843,
          -1.0872283818862274,
          -1.268507848017612,
          1.3690989346946598,
          2.404028688631945,
          0.6953932785311059,
          0.16957159952658565,
          -0.820430620044971,
          1.3622920559583251,
          1.2194783554864315,
          0.5270262370309676,
          0.12673147173592114,
          0.6274228407561939,
          2.1519729621866612,
          -0.1503870682355416,
          -0.8032647853869308,
          -1.7334754959923606,
          1.1498738436198657,
          0.9024715532142299,
          -0.6299946110464666,
          -0.10479446190246755,
          0.3807627473851706,
          0.30429400869494144,
          -0.09747668965216076,
          0.034130483643344964,
          2.3125818412357924,
          -0.1195421817947865,
          -1.1451149065169193,
          -0.10831608455742575,
          0.7369917906053898,
          0.26648976296350796,
          0.04793412305608602,
          0.9135049453782854,
          -0.10974581209473559,
          1.2973055112154592,
          1.409109018811545,
          -0.4880439368583151,
          -0.41255478657338274,
          -1.6652247217350953,
          -0.3571409627887695,
          0.05774639003035528,
          -0.47989239854050036,
          -0.675449156696727,
          -1.1430868805095362,
          -0.006663393609728982,
          -1.0620327924289885,
          1.4718999257473302,
          -0.6113357749066433,
          0.36148596789055853,
          -0.24393747075538624,
          1.0748240094017911,
          1.4315036978476303,
          -1.2193491756829018,
          1.0785112055318675,
          1.0922663616955144,
          -0.5271205263605011,
          -0.27374315353472867,
          0.028154193665865107,
          -1.1351935382309162,
          1.4612941727462698,
          -0.3509454137365033,
          0.6106125561226777,
          0.7478186327737351,
          -0.7425042942314749,
          1.916765223828547,
          1.240873891099306,
          -0.4406511100190365,
          1.346795532600243,
          -1.4120166335488293,
          -0.9726486257162662,
          -0.2852448153129776,
          -3.0108073083457927,
          -1.7635744867048033,
          -1.0166029223919701,
          0.6767572035278194,
          0.14883919105469573
         ]
        },
        {
         "connectgaps": false,
         "fill": "tozeroy",
         "line": {
          "color": "green",
          "dash": "solid",
          "shape": "linear",
          "width": 0.5
         },
         "mode": "lines",
         "name": "Spread",
         "showlegend": false,
         "type": "scatter",
         "x": [
          0,
          1,
          2,
          3,
          4,
          5,
          6,
          7,
          8,
          9,
          10,
          11,
          12,
          13,
          14,
          15,
          16,
          17,
          18,
          19,
          20,
          21,
          22,
          23,
          24,
          25,
          26,
          27,
          28,
          29,
          30,
          31,
          32,
          33,
          34,
          35,
          36,
          37,
          38,
          39,
          40,
          41,
          42,
          43,
          44,
          45,
          46,
          47,
          48,
          49,
          50,
          51,
          52,
          53,
          54,
          55,
          56,
          57,
          58,
          59,
          60,
          61,
          62,
          63,
          64,
          65,
          66,
          67,
          68,
          69,
          70,
          71,
          72,
          73,
          74,
          75,
          76,
          77,
          78,
          79,
          80,
          81,
          82,
          83,
          84,
          85,
          86,
          87,
          88,
          89,
          90,
          91,
          92,
          93,
          94,
          95,
          96,
          97,
          98,
          99
         ],
         "xaxis": "x2",
         "y": [
          1.3933301849585933,
          0.5588420602913273,
          "",
          "",
          0.8462725298370793,
          "",
          "",
          2.035130292798041,
          "",
          1.9517200243414918,
          "",
          "",
          "",
          "",
          "",
          "",
          "",
          "",
          1.681612162076962,
          "",
          "",
          "",
          "",
          1.0297313176105782,
          "",
          1.7482204471488583,
          1.6853386890931699,
          "",
          "",
          "",
          "",
          "",
          "",
          "",
          "",
          "",
          "",
          "",
          0.6619672301289938,
          3.0593843790297015,
          2.044441193279813,
          "",
          "",
          0.4322558427688039,
          "",
          0.4133394687274664,
          0.4421331649006582,
          "",
          "",
          "",
          2.3843619987145894,
          0.5899121498188811,
          "",
          "",
          "",
          "",
          0.4205257679845896,
          0.18547069285027087,
          "",
          "",
          2.0991215717017266,
          0.09507019413549256,
          2.509734491285595,
          "",
          0.3080288567575007,
          "",
          0.9762744260278121,
          0.7498234993703881,
          0.5074744287736515,
          0.3894237954766775,
          "",
          0.4997728149274541,
          "",
          0.5265383113060123,
          "",
          "",
          "",
          "",
          "",
          0.5666372164682366,
          0.20101911483342697,
          "",
          2.123522052850457,
          "",
          1.5609280292170074,
          0.18156277605344784,
          "",
          2.0492101346737224,
          "",
          "",
          0.7407844123701812,
          "",
          2.3740335456690573,
          2.0869257685508553,
          "",
          3.3406746668782494,
          2.744657330394794,
          0.06940906641420741,
          "",
          0.4466117306257114
         ],
         "yaxis": "y2"
        },
        {
         "connectgaps": false,
         "fill": "tozeroy",
         "line": {
          "color": "red",
          "dash": "solid",
          "shape": "linear",
          "width": 0.5
         },
         "mode": "lines",
         "name": "Spread",
         "showlegend": false,
         "type": "scatter",
         "x": [
          0,
          1,
          2,
          3,
          4,
          5,
          6,
          7,
          8,
          9,
          10,
          11,
          12,
          13,
          14,
          15,
          16,
          17,
          18,
          19,
          20,
          21,
          22,
          23,
          24,
          25,
          26,
          27,
          28,
          29,
          30,
          31,
          32,
          33,
          34,
          35,
          36,
          37,
          38,
          39,
          40,
          41,
          42,
          43,
          44,
          45,
          46,
          47,
          48,
          49,
          50,
          51,
          52,
          53,
          54,
          55,
          56,
          57,
          58,
          59,
          60,
          61,
          62,
          63,
          64,
          65,
          66,
          67,
          68,
          69,
          70,
          71,
          72,
          73,
          74,
          75,
          76,
          77,
          78,
          79,
          80,
          81,
          82,
          83,
          84,
          85,
          86,
          87,
          88,
          89,
          90,
          91,
          92,
          93,
          94,
          95,
          96,
          97,
          98,
          99
         ],
         "xaxis": "x2",
         "y": [
          "",
          "",
          -0.8694980943806289,
          -1.3696622894897854,
          "",
          -0.881503805298049,
          -0.1837046097173619,
          "",
          -1.1377026806530544,
          "",
          -0.6568213612473158,
          -1.5445381869290546,
          -1.1259672856403422,
          -0.4191241270084038,
          -0.2341456294335884,
          -0.16927269441446247,
          -3.45893693308749,
          -4.275986131708919,
          "",
          -2.85312281910774,
          -0.33719224571151796,
          -0.7292928249977457,
          -0.9764699444986189,
          "",
          -1.1869990846607337,
          "",
          "",
          -0.7838770007019377,
          -2.3932263180318407,
          -1.108124976761765,
          -0.37814895181290653,
          -0.021230900365492578,
          -1.3093478659627709,
          -1.213791418075092,
          -0.14257417337058703,
          -1.189879619927426,
          -0.7446630105193728,
          -1.4888877301007277,
          "",
          "",
          "",
          -0.05041889560419088,
          -1.6233041928961205,
          "",
          -0.05560675660005457,
          "",
          "",
          -0.5500662187710843,
          -1.5325351993954304,
          -2.353338322227514,
          "",
          "",
          -0.5665790628588228,
          -1.7449082244976348,
          -1.5771813407299506,
          -1.8704483983475613,
          "",
          "",
          -1.8803828613603009,
          -1.0245658314213237,
          "",
          "",
          "",
          -0.05746910990111226,
          "",
          -1.0163768350121816,
          "",
          "",
          "",
          "",
          -2.5140214127082823,
          "",
          -0.05228306437832775,
          "",
          -0.37989425680368705,
          -2.363469471890368,
          -0.7320593518612974,
          -1.862626760614773,
          -1.3921072948609032,
          "",
          "",
          -1.9800148036936507,
          "",
          -0.7104710444871899,
          "",
          "",
          -1.7424841864888632,
          "",
          -1.3455319855439745,
          -1.7794832773843328,
          "",
          -2.8337237266693744,
          "",
          "",
          -1.0797974697621102,
          "",
          "",
          "",
          -1.3325548484657417,
          ""
         ],
         "yaxis": "y2"
        }
       ],
       "layout": {
        "hovermode": "x",
        "legend": {
         "bgcolor": "#F5F6F9",
         "font": {
          "color": "#4D5663"
         }
        },
        "paper_bgcolor": "#F5F6F9",
        "plot_bgcolor": "#F5F6F9",
        "template": {
         "data": {
          "bar": [
           {
            "error_x": {
             "color": "#2a3f5f"
            },
            "error_y": {
             "color": "#2a3f5f"
            },
            "marker": {
             "line": {
              "color": "#E5ECF6",
              "width": 0.5
             },
             "pattern": {
              "fillmode": "overlay",
              "size": 10,
              "solidity": 0.2
             }
            },
            "type": "bar"
           }
          ],
          "barpolar": [
           {
            "marker": {
             "line": {
              "color": "#E5ECF6",
              "width": 0.5
             },
             "pattern": {
              "fillmode": "overlay",
              "size": 10,
              "solidity": 0.2
             }
            },
            "type": "barpolar"
           }
          ],
          "carpet": [
           {
            "aaxis": {
             "endlinecolor": "#2a3f5f",
             "gridcolor": "white",
             "linecolor": "white",
             "minorgridcolor": "white",
             "startlinecolor": "#2a3f5f"
            },
            "baxis": {
             "endlinecolor": "#2a3f5f",
             "gridcolor": "white",
             "linecolor": "white",
             "minorgridcolor": "white",
             "startlinecolor": "#2a3f5f"
            },
            "type": "carpet"
           }
          ],
          "choropleth": [
           {
            "colorbar": {
             "outlinewidth": 0,
             "ticks": ""
            },
            "type": "choropleth"
           }
          ],
          "contour": [
           {
            "colorbar": {
             "outlinewidth": 0,
             "ticks": ""
            },
            "colorscale": [
             [
              0,
              "#0d0887"
             ],
             [
              0.1111111111111111,
              "#46039f"
             ],
             [
              0.2222222222222222,
              "#7201a8"
             ],
             [
              0.3333333333333333,
              "#9c179e"
             ],
             [
              0.4444444444444444,
              "#bd3786"
             ],
             [
              0.5555555555555556,
              "#d8576b"
             ],
             [
              0.6666666666666666,
              "#ed7953"
             ],
             [
              0.7777777777777778,
              "#fb9f3a"
             ],
             [
              0.8888888888888888,
              "#fdca26"
             ],
             [
              1,
              "#f0f921"
             ]
            ],
            "type": "contour"
           }
          ],
          "contourcarpet": [
           {
            "colorbar": {
             "outlinewidth": 0,
             "ticks": ""
            },
            "type": "contourcarpet"
           }
          ],
          "heatmap": [
           {
            "colorbar": {
             "outlinewidth": 0,
             "ticks": ""
            },
            "colorscale": [
             [
              0,
              "#0d0887"
             ],
             [
              0.1111111111111111,
              "#46039f"
             ],
             [
              0.2222222222222222,
              "#7201a8"
             ],
             [
              0.3333333333333333,
              "#9c179e"
             ],
             [
              0.4444444444444444,
              "#bd3786"
             ],
             [
              0.5555555555555556,
              "#d8576b"
             ],
             [
              0.6666666666666666,
              "#ed7953"
             ],
             [
              0.7777777777777778,
              "#fb9f3a"
             ],
             [
              0.8888888888888888,
              "#fdca26"
             ],
             [
              1,
              "#f0f921"
             ]
            ],
            "type": "heatmap"
           }
          ],
          "heatmapgl": [
           {
            "colorbar": {
             "outlinewidth": 0,
             "ticks": ""
            },
            "colorscale": [
             [
              0,
              "#0d0887"
             ],
             [
              0.1111111111111111,
              "#46039f"
             ],
             [
              0.2222222222222222,
              "#7201a8"
             ],
             [
              0.3333333333333333,
              "#9c179e"
             ],
             [
              0.4444444444444444,
              "#bd3786"
             ],
             [
              0.5555555555555556,
              "#d8576b"
             ],
             [
              0.6666666666666666,
              "#ed7953"
             ],
             [
              0.7777777777777778,
              "#fb9f3a"
             ],
             [
              0.8888888888888888,
              "#fdca26"
             ],
             [
              1,
              "#f0f921"
             ]
            ],
            "type": "heatmapgl"
           }
          ],
          "histogram": [
           {
            "marker": {
             "pattern": {
              "fillmode": "overlay",
              "size": 10,
              "solidity": 0.2
             }
            },
            "type": "histogram"
           }
          ],
          "histogram2d": [
           {
            "colorbar": {
             "outlinewidth": 0,
             "ticks": ""
            },
            "colorscale": [
             [
              0,
              "#0d0887"
             ],
             [
              0.1111111111111111,
              "#46039f"
             ],
             [
              0.2222222222222222,
              "#7201a8"
             ],
             [
              0.3333333333333333,
              "#9c179e"
             ],
             [
              0.4444444444444444,
              "#bd3786"
             ],
             [
              0.5555555555555556,
              "#d8576b"
             ],
             [
              0.6666666666666666,
              "#ed7953"
             ],
             [
              0.7777777777777778,
              "#fb9f3a"
             ],
             [
              0.8888888888888888,
              "#fdca26"
             ],
             [
              1,
              "#f0f921"
             ]
            ],
            "type": "histogram2d"
           }
          ],
          "histogram2dcontour": [
           {
            "colorbar": {
             "outlinewidth": 0,
             "ticks": ""
            },
            "colorscale": [
             [
              0,
              "#0d0887"
             ],
             [
              0.1111111111111111,
              "#46039f"
             ],
             [
              0.2222222222222222,
              "#7201a8"
             ],
             [
              0.3333333333333333,
              "#9c179e"
             ],
             [
              0.4444444444444444,
              "#bd3786"
             ],
             [
              0.5555555555555556,
              "#d8576b"
             ],
             [
              0.6666666666666666,
              "#ed7953"
             ],
             [
              0.7777777777777778,
              "#fb9f3a"
             ],
             [
              0.8888888888888888,
              "#fdca26"
             ],
             [
              1,
              "#f0f921"
             ]
            ],
            "type": "histogram2dcontour"
           }
          ],
          "mesh3d": [
           {
            "colorbar": {
             "outlinewidth": 0,
             "ticks": ""
            },
            "type": "mesh3d"
           }
          ],
          "parcoords": [
           {
            "line": {
             "colorbar": {
              "outlinewidth": 0,
              "ticks": ""
             }
            },
            "type": "parcoords"
           }
          ],
          "pie": [
           {
            "automargin": true,
            "type": "pie"
           }
          ],
          "scatter": [
           {
            "fillpattern": {
             "fillmode": "overlay",
             "size": 10,
             "solidity": 0.2
            },
            "type": "scatter"
           }
          ],
          "scatter3d": [
           {
            "line": {
             "colorbar": {
              "outlinewidth": 0,
              "ticks": ""
             }
            },
            "marker": {
             "colorbar": {
              "outlinewidth": 0,
              "ticks": ""
             }
            },
            "type": "scatter3d"
           }
          ],
          "scattercarpet": [
           {
            "marker": {
             "colorbar": {
              "outlinewidth": 0,
              "ticks": ""
             }
            },
            "type": "scattercarpet"
           }
          ],
          "scattergeo": [
           {
            "marker": {
             "colorbar": {
              "outlinewidth": 0,
              "ticks": ""
             }
            },
            "type": "scattergeo"
           }
          ],
          "scattergl": [
           {
            "marker": {
             "colorbar": {
              "outlinewidth": 0,
              "ticks": ""
             }
            },
            "type": "scattergl"
           }
          ],
          "scattermapbox": [
           {
            "marker": {
             "colorbar": {
              "outlinewidth": 0,
              "ticks": ""
             }
            },
            "type": "scattermapbox"
           }
          ],
          "scatterpolar": [
           {
            "marker": {
             "colorbar": {
              "outlinewidth": 0,
              "ticks": ""
             }
            },
            "type": "scatterpolar"
           }
          ],
          "scatterpolargl": [
           {
            "marker": {
             "colorbar": {
              "outlinewidth": 0,
              "ticks": ""
             }
            },
            "type": "scatterpolargl"
           }
          ],
          "scatterternary": [
           {
            "marker": {
             "colorbar": {
              "outlinewidth": 0,
              "ticks": ""
             }
            },
            "type": "scatterternary"
           }
          ],
          "surface": [
           {
            "colorbar": {
             "outlinewidth": 0,
             "ticks": ""
            },
            "colorscale": [
             [
              0,
              "#0d0887"
             ],
             [
              0.1111111111111111,
              "#46039f"
             ],
             [
              0.2222222222222222,
              "#7201a8"
             ],
             [
              0.3333333333333333,
              "#9c179e"
             ],
             [
              0.4444444444444444,
              "#bd3786"
             ],
             [
              0.5555555555555556,
              "#d8576b"
             ],
             [
              0.6666666666666666,
              "#ed7953"
             ],
             [
              0.7777777777777778,
              "#fb9f3a"
             ],
             [
              0.8888888888888888,
              "#fdca26"
             ],
             [
              1,
              "#f0f921"
             ]
            ],
            "type": "surface"
           }
          ],
          "table": [
           {
            "cells": {
             "fill": {
              "color": "#EBF0F8"
             },
             "line": {
              "color": "white"
             }
            },
            "header": {
             "fill": {
              "color": "#C8D4E3"
             },
             "line": {
              "color": "white"
             }
            },
            "type": "table"
           }
          ]
         },
         "layout": {
          "annotationdefaults": {
           "arrowcolor": "#2a3f5f",
           "arrowhead": 0,
           "arrowwidth": 1
          },
          "autotypenumbers": "strict",
          "coloraxis": {
           "colorbar": {
            "outlinewidth": 0,
            "ticks": ""
           }
          },
          "colorscale": {
           "diverging": [
            [
             0,
             "#8e0152"
            ],
            [
             0.1,
             "#c51b7d"
            ],
            [
             0.2,
             "#de77ae"
            ],
            [
             0.3,
             "#f1b6da"
            ],
            [
             0.4,
             "#fde0ef"
            ],
            [
             0.5,
             "#f7f7f7"
            ],
            [
             0.6,
             "#e6f5d0"
            ],
            [
             0.7,
             "#b8e186"
            ],
            [
             0.8,
             "#7fbc41"
            ],
            [
             0.9,
             "#4d9221"
            ],
            [
             1,
             "#276419"
            ]
           ],
           "sequential": [
            [
             0,
             "#0d0887"
            ],
            [
             0.1111111111111111,
             "#46039f"
            ],
            [
             0.2222222222222222,
             "#7201a8"
            ],
            [
             0.3333333333333333,
             "#9c179e"
            ],
            [
             0.4444444444444444,
             "#bd3786"
            ],
            [
             0.5555555555555556,
             "#d8576b"
            ],
            [
             0.6666666666666666,
             "#ed7953"
            ],
            [
             0.7777777777777778,
             "#fb9f3a"
            ],
            [
             0.8888888888888888,
             "#fdca26"
            ],
            [
             1,
             "#f0f921"
            ]
           ],
           "sequentialminus": [
            [
             0,
             "#0d0887"
            ],
            [
             0.1111111111111111,
             "#46039f"
            ],
            [
             0.2222222222222222,
             "#7201a8"
            ],
            [
             0.3333333333333333,
             "#9c179e"
            ],
            [
             0.4444444444444444,
             "#bd3786"
            ],
            [
             0.5555555555555556,
             "#d8576b"
            ],
            [
             0.6666666666666666,
             "#ed7953"
            ],
            [
             0.7777777777777778,
             "#fb9f3a"
            ],
            [
             0.8888888888888888,
             "#fdca26"
            ],
            [
             1,
             "#f0f921"
            ]
           ]
          },
          "colorway": [
           "#636efa",
           "#EF553B",
           "#00cc96",
           "#ab63fa",
           "#FFA15A",
           "#19d3f3",
           "#FF6692",
           "#B6E880",
           "#FF97FF",
           "#FECB52"
          ],
          "font": {
           "color": "#2a3f5f"
          },
          "geo": {
           "bgcolor": "white",
           "lakecolor": "white",
           "landcolor": "#E5ECF6",
           "showlakes": true,
           "showland": true,
           "subunitcolor": "white"
          },
          "hoverlabel": {
           "align": "left"
          },
          "hovermode": "closest",
          "mapbox": {
           "style": "light"
          },
          "paper_bgcolor": "white",
          "plot_bgcolor": "#E5ECF6",
          "polar": {
           "angularaxis": {
            "gridcolor": "white",
            "linecolor": "white",
            "ticks": ""
           },
           "bgcolor": "#E5ECF6",
           "radialaxis": {
            "gridcolor": "white",
            "linecolor": "white",
            "ticks": ""
           }
          },
          "scene": {
           "xaxis": {
            "backgroundcolor": "#E5ECF6",
            "gridcolor": "white",
            "gridwidth": 2,
            "linecolor": "white",
            "showbackground": true,
            "ticks": "",
            "zerolinecolor": "white"
           },
           "yaxis": {
            "backgroundcolor": "#E5ECF6",
            "gridcolor": "white",
            "gridwidth": 2,
            "linecolor": "white",
            "showbackground": true,
            "ticks": "",
            "zerolinecolor": "white"
           },
           "zaxis": {
            "backgroundcolor": "#E5ECF6",
            "gridcolor": "white",
            "gridwidth": 2,
            "linecolor": "white",
            "showbackground": true,
            "ticks": "",
            "zerolinecolor": "white"
           }
          },
          "shapedefaults": {
           "line": {
            "color": "#2a3f5f"
           }
          },
          "ternary": {
           "aaxis": {
            "gridcolor": "white",
            "linecolor": "white",
            "ticks": ""
           },
           "baxis": {
            "gridcolor": "white",
            "linecolor": "white",
            "ticks": ""
           },
           "bgcolor": "#E5ECF6",
           "caxis": {
            "gridcolor": "white",
            "linecolor": "white",
            "ticks": ""
           }
          },
          "title": {
           "x": 0.05
          },
          "xaxis": {
           "automargin": true,
           "gridcolor": "white",
           "linecolor": "white",
           "ticks": "",
           "title": {
            "standoff": 15
           },
           "zerolinecolor": "white",
           "zerolinewidth": 2
          },
          "yaxis": {
           "automargin": true,
           "gridcolor": "white",
           "linecolor": "white",
           "ticks": "",
           "title": {
            "standoff": 15
           },
           "zerolinecolor": "white",
           "zerolinewidth": 2
          }
         }
        },
        "title": {
         "font": {
          "color": "#4D5663"
         }
        },
        "xaxis": {
         "gridcolor": "#E1E5ED",
         "showgrid": true,
         "tickfont": {
          "color": "#4D5663"
         },
         "title": {
          "font": {
           "color": "#4D5663"
          },
          "text": ""
         },
         "zerolinecolor": "#E1E5ED"
        },
        "xaxis2": {
         "anchor": "y2",
         "gridcolor": "#E1E5ED",
         "showgrid": true,
         "showticklabels": false,
         "tickfont": {
          "color": "#4D5663"
         },
         "title": {
          "font": {
           "color": "#4D5663"
          },
          "text": ""
         },
         "zerolinecolor": "#E1E5ED"
        },
        "yaxis": {
         "domain": [
          0.3,
          1
         ],
         "gridcolor": "#E1E5ED",
         "showgrid": true,
         "tickfont": {
          "color": "#4D5663"
         },
         "title": {
          "font": {
           "color": "#4D5663"
          },
          "text": ""
         },
         "zerolinecolor": "#E1E5ED"
        },
        "yaxis2": {
         "domain": [
          0,
          0.25
         ],
         "gridcolor": "#E1E5ED",
         "showgrid": true,
         "tickfont": {
          "color": "#4D5663"
         },
         "title": {
          "font": {
           "color": "#4D5663"
          },
          "text": "Spread"
         },
         "zerolinecolor": "#E1E5ED"
        }
       }
      },
      "text/html": [
       "<div>                            <div id=\"bf5f7fb1-75c6-4f33-a16c-211734d3a544\" class=\"plotly-graph-div\" style=\"height:525px; width:100%;\"></div>            <script type=\"text/javascript\">                require([\"plotly\"], function(Plotly) {                    window.PLOTLYENV=window.PLOTLYENV || {};\n",
       "                    window.PLOTLYENV.BASE_URL='https://plot.ly';                                    if (document.getElementById(\"bf5f7fb1-75c6-4f33-a16c-211734d3a544\")) {                    Plotly.newPlot(                        \"bf5f7fb1-75c6-4f33-a16c-211734d3a544\",                        [{\"line\":{\"color\":\"rgba(255, 153, 51, 1.0)\",\"dash\":\"solid\",\"shape\":\"linear\",\"width\":1.3},\"mode\":\"lines\",\"name\":\"A\",\"text\":\"\",\"x\":[0,1,2,3,4,5,6,7,8,9,10,11,12,13,14,15,16,17,18,19,20,21,22,23,24,25,26,27,28,29,30,31,32,33,34,35,36,37,38,39,40,41,42,43,44,45,46,47,48,49,50,51,52,53,54,55,56,57,58,59,60,61,62,63,64,65,66,67,68,69,70,71,72,73,74,75,76,77,78,79,80,81,82,83,84,85,86,87,88,89,90,91,92,93,94,95,96,97,98,99],\"y\":[1.8511519134780592,0.9932635503226296,-0.20359937233167702,1.5257768804344916,0.7989148705029956,-0.7401919047073051,-0.8630213226964086,0.7013687303870811,-0.6247974874205289,0.10910461350500907,-0.11538038639040019,-0.02648740437455768,-0.43732218661342515,-0.7125768681585045,1.0133586523249136,-0.8616519633585347,-2.1230616381436356,-0.9749949035547446,0.5043444129264993,0.18825104298423934,-0.1432776826929805,0.5868807139113783,-0.5195842176454574,0.5736013901487871,-0.8173712354802753,0.6609920652626308,0.4168308410755578,0.5852219339927222,0.010802370600104156,-0.41273169823065897,-0.20857735228632088,-0.8416615204104636,0.052944189995554204,0.005686937411339467,0.3844520636603806,-1.0631481481915048,-0.11724016976317891,0.6630852320859335,0.5115801618934522,2.2561195936427705,0.3109656972874523,1.0994549480156748,-0.7208326396818907,-0.1977387682776627,-0.16040121850252212,0.794102216112637,0.7464271735955996,-0.647542908423245,-1.4984047157520854,-0.04075648099172144,2.264819816919803,-0.5552027566980382,-0.6748951474162486,-1.007916433892245,-1.3106915777664427,-1.8225142752914754,1.334030713362875,0.07572488075553528,-0.5830773501448417,0.38454318739022125,1.6110776348434117,-0.3174845924378902,0.8445097695504995,-0.41461007268988176,0.365775246787856,-1.496269233552682,0.3008252693310851,-0.39326338113914816,0.5008110351639224,-0.672608996952311,-1.0421214869609523,-0.11156295997918914,0.3092029035122308,0.28260084055062595,0.6949297525981041,-0.9319657740427375,-1.9514085275441992,-0.7841155550829054,-0.2998409331653889,0.03951669010773553,-0.0727240387013017,-1.9518606100277855,0.9883285146195404,0.7508231282590799,1.209982615480504,0.7921753321761256,-0.9946655537151281,1.3067058404422474,0.5712332382845726,-0.5386093862850266,0.30013330235114466,-1.4869281940691312,0.9620169121202278,1.114277142834589,-1.3650422850750878,0.3298673585324569,0.9810828436899907,-0.9471938559777627,-0.6557976449379221,0.5954509216804071],\"type\":\"scatter\"},{\"line\":{\"color\":\"rgba(55, 128, 191, 1.0)\",\"dash\":\"solid\",\"shape\":\"linear\",\"width\":1.3},\"mode\":\"lines\",\"name\":\"B\",\"text\":\"\",\"x\":[0,1,2,3,4,5,6,7,8,9,10,11,12,13,14,15,16,17,18,19,20,21,22,23,24,25,26,27,28,29,30,31,32,33,34,35,36,37,38,39,40,41,42,43,44,45,46,47,48,49,50,51,52,53,54,55,56,57,58,59,60,61,62,63,64,65,66,67,68,69,70,71,72,73,74,75,76,77,78,79,80,81,82,83,84,85,86,87,88,89,90,91,92,93,94,95,96,97,98,99],\"y\":[0.45782172851946584,0.4344214900313023,0.6658987220489518,2.895439169924277,-0.04735765933408375,0.14131190059074383,-0.6793167129790467,-1.33376156241096,0.5129051932325256,-1.8426154108364827,0.5414409748569157,1.5180507825544969,0.6886450990269172,-0.2934527411501007,1.247504281758502,-0.6923792689440722,1.3358752949438544,3.3009912281541745,-1.1772677491504626,3.0413738620919792,0.1939145630185375,1.316173538909124,0.4568857268531616,-0.45612992746179104,0.36962784918045843,-1.0872283818862274,-1.268507848017612,1.3690989346946598,2.404028688631945,0.6953932785311059,0.16957159952658565,-0.820430620044971,1.3622920559583251,1.2194783554864315,0.5270262370309676,0.12673147173592114,0.6274228407561939,2.1519729621866612,-0.1503870682355416,-0.8032647853869308,-1.7334754959923606,1.1498738436198657,0.9024715532142299,-0.6299946110464666,-0.10479446190246755,0.3807627473851706,0.30429400869494144,-0.09747668965216076,0.034130483643344964,2.3125818412357924,-0.1195421817947865,-1.1451149065169193,-0.10831608455742575,0.7369917906053898,0.26648976296350796,0.04793412305608602,0.9135049453782854,-0.10974581209473559,1.2973055112154592,1.409109018811545,-0.4880439368583151,-0.41255478657338274,-1.6652247217350953,-0.3571409627887695,0.05774639003035528,-0.47989239854050036,-0.675449156696727,-1.1430868805095362,-0.006663393609728982,-1.0620327924289885,1.4718999257473302,-0.6113357749066433,0.36148596789055853,-0.24393747075538624,1.0748240094017911,1.4315036978476303,-1.2193491756829018,1.0785112055318675,1.0922663616955144,-0.5271205263605011,-0.27374315353472867,0.028154193665865107,-1.1351935382309162,1.4612941727462698,-0.3509454137365033,0.6106125561226777,0.7478186327737351,-0.7425042942314749,1.916765223828547,1.240873891099306,-0.4406511100190365,1.346795532600243,-1.4120166335488293,-0.9726486257162662,-0.2852448153129776,-3.0108073083457927,-1.7635744867048033,-1.0166029223919701,0.6767572035278194,0.14883919105469573],\"type\":\"scatter\"},{\"connectgaps\":false,\"fill\":\"tozeroy\",\"line\":{\"color\":\"green\",\"dash\":\"solid\",\"shape\":\"linear\",\"width\":0.5},\"mode\":\"lines\",\"name\":\"Spread\",\"showlegend\":false,\"x\":[0,1,2,3,4,5,6,7,8,9,10,11,12,13,14,15,16,17,18,19,20,21,22,23,24,25,26,27,28,29,30,31,32,33,34,35,36,37,38,39,40,41,42,43,44,45,46,47,48,49,50,51,52,53,54,55,56,57,58,59,60,61,62,63,64,65,66,67,68,69,70,71,72,73,74,75,76,77,78,79,80,81,82,83,84,85,86,87,88,89,90,91,92,93,94,95,96,97,98,99],\"xaxis\":\"x2\",\"y\":[1.3933301849585933,0.5588420602913273,\"\",\"\",0.8462725298370793,\"\",\"\",2.035130292798041,\"\",1.9517200243414918,\"\",\"\",\"\",\"\",\"\",\"\",\"\",\"\",1.681612162076962,\"\",\"\",\"\",\"\",1.0297313176105782,\"\",1.7482204471488583,1.6853386890931699,\"\",\"\",\"\",\"\",\"\",\"\",\"\",\"\",\"\",\"\",\"\",0.6619672301289938,3.0593843790297015,2.044441193279813,\"\",\"\",0.4322558427688039,\"\",0.4133394687274664,0.4421331649006582,\"\",\"\",\"\",2.3843619987145894,0.5899121498188811,\"\",\"\",\"\",\"\",0.4205257679845896,0.18547069285027087,\"\",\"\",2.0991215717017266,0.09507019413549256,2.509734491285595,\"\",0.3080288567575007,\"\",0.9762744260278121,0.7498234993703881,0.5074744287736515,0.3894237954766775,\"\",0.4997728149274541,\"\",0.5265383113060123,\"\",\"\",\"\",\"\",\"\",0.5666372164682366,0.20101911483342697,\"\",2.123522052850457,\"\",1.5609280292170074,0.18156277605344784,\"\",2.0492101346737224,\"\",\"\",0.7407844123701812,\"\",2.3740335456690573,2.0869257685508553,\"\",3.3406746668782494,2.744657330394794,0.06940906641420741,\"\",0.4466117306257114],\"yaxis\":\"y2\",\"type\":\"scatter\"},{\"connectgaps\":false,\"fill\":\"tozeroy\",\"line\":{\"color\":\"red\",\"dash\":\"solid\",\"shape\":\"linear\",\"width\":0.5},\"mode\":\"lines\",\"name\":\"Spread\",\"showlegend\":false,\"x\":[0,1,2,3,4,5,6,7,8,9,10,11,12,13,14,15,16,17,18,19,20,21,22,23,24,25,26,27,28,29,30,31,32,33,34,35,36,37,38,39,40,41,42,43,44,45,46,47,48,49,50,51,52,53,54,55,56,57,58,59,60,61,62,63,64,65,66,67,68,69,70,71,72,73,74,75,76,77,78,79,80,81,82,83,84,85,86,87,88,89,90,91,92,93,94,95,96,97,98,99],\"xaxis\":\"x2\",\"y\":[\"\",\"\",-0.8694980943806289,-1.3696622894897854,\"\",-0.881503805298049,-0.1837046097173619,\"\",-1.1377026806530544,\"\",-0.6568213612473158,-1.5445381869290546,-1.1259672856403422,-0.4191241270084038,-0.2341456294335884,-0.16927269441446247,-3.45893693308749,-4.275986131708919,\"\",-2.85312281910774,-0.33719224571151796,-0.7292928249977457,-0.9764699444986189,\"\",-1.1869990846607337,\"\",\"\",-0.7838770007019377,-2.3932263180318407,-1.108124976761765,-0.37814895181290653,-0.021230900365492578,-1.3093478659627709,-1.213791418075092,-0.14257417337058703,-1.189879619927426,-0.7446630105193728,-1.4888877301007277,\"\",\"\",\"\",-0.05041889560419088,-1.6233041928961205,\"\",-0.05560675660005457,\"\",\"\",-0.5500662187710843,-1.5325351993954304,-2.353338322227514,\"\",\"\",-0.5665790628588228,-1.7449082244976348,-1.5771813407299506,-1.8704483983475613,\"\",\"\",-1.8803828613603009,-1.0245658314213237,\"\",\"\",\"\",-0.05746910990111226,\"\",-1.0163768350121816,\"\",\"\",\"\",\"\",-2.5140214127082823,\"\",-0.05228306437832775,\"\",-0.37989425680368705,-2.363469471890368,-0.7320593518612974,-1.862626760614773,-1.3921072948609032,\"\",\"\",-1.9800148036936507,\"\",-0.7104710444871899,\"\",\"\",-1.7424841864888632,\"\",-1.3455319855439745,-1.7794832773843328,\"\",-2.8337237266693744,\"\",\"\",-1.0797974697621102,\"\",\"\",\"\",-1.3325548484657417,\"\"],\"yaxis\":\"y2\",\"type\":\"scatter\"}],                        {\"hovermode\":\"x\",\"legend\":{\"bgcolor\":\"#F5F6F9\",\"font\":{\"color\":\"#4D5663\"}},\"paper_bgcolor\":\"#F5F6F9\",\"plot_bgcolor\":\"#F5F6F9\",\"template\":{\"data\":{\"barpolar\":[{\"marker\":{\"line\":{\"color\":\"#E5ECF6\",\"width\":0.5},\"pattern\":{\"fillmode\":\"overlay\",\"size\":10,\"solidity\":0.2}},\"type\":\"barpolar\"}],\"bar\":[{\"error_x\":{\"color\":\"#2a3f5f\"},\"error_y\":{\"color\":\"#2a3f5f\"},\"marker\":{\"line\":{\"color\":\"#E5ECF6\",\"width\":0.5},\"pattern\":{\"fillmode\":\"overlay\",\"size\":10,\"solidity\":0.2}},\"type\":\"bar\"}],\"carpet\":[{\"aaxis\":{\"endlinecolor\":\"#2a3f5f\",\"gridcolor\":\"white\",\"linecolor\":\"white\",\"minorgridcolor\":\"white\",\"startlinecolor\":\"#2a3f5f\"},\"baxis\":{\"endlinecolor\":\"#2a3f5f\",\"gridcolor\":\"white\",\"linecolor\":\"white\",\"minorgridcolor\":\"white\",\"startlinecolor\":\"#2a3f5f\"},\"type\":\"carpet\"}],\"choropleth\":[{\"colorbar\":{\"outlinewidth\":0,\"ticks\":\"\"},\"type\":\"choropleth\"}],\"contourcarpet\":[{\"colorbar\":{\"outlinewidth\":0,\"ticks\":\"\"},\"type\":\"contourcarpet\"}],\"contour\":[{\"colorbar\":{\"outlinewidth\":0,\"ticks\":\"\"},\"colorscale\":[[0.0,\"#0d0887\"],[0.1111111111111111,\"#46039f\"],[0.2222222222222222,\"#7201a8\"],[0.3333333333333333,\"#9c179e\"],[0.4444444444444444,\"#bd3786\"],[0.5555555555555556,\"#d8576b\"],[0.6666666666666666,\"#ed7953\"],[0.7777777777777778,\"#fb9f3a\"],[0.8888888888888888,\"#fdca26\"],[1.0,\"#f0f921\"]],\"type\":\"contour\"}],\"heatmapgl\":[{\"colorbar\":{\"outlinewidth\":0,\"ticks\":\"\"},\"colorscale\":[[0.0,\"#0d0887\"],[0.1111111111111111,\"#46039f\"],[0.2222222222222222,\"#7201a8\"],[0.3333333333333333,\"#9c179e\"],[0.4444444444444444,\"#bd3786\"],[0.5555555555555556,\"#d8576b\"],[0.6666666666666666,\"#ed7953\"],[0.7777777777777778,\"#fb9f3a\"],[0.8888888888888888,\"#fdca26\"],[1.0,\"#f0f921\"]],\"type\":\"heatmapgl\"}],\"heatmap\":[{\"colorbar\":{\"outlinewidth\":0,\"ticks\":\"\"},\"colorscale\":[[0.0,\"#0d0887\"],[0.1111111111111111,\"#46039f\"],[0.2222222222222222,\"#7201a8\"],[0.3333333333333333,\"#9c179e\"],[0.4444444444444444,\"#bd3786\"],[0.5555555555555556,\"#d8576b\"],[0.6666666666666666,\"#ed7953\"],[0.7777777777777778,\"#fb9f3a\"],[0.8888888888888888,\"#fdca26\"],[1.0,\"#f0f921\"]],\"type\":\"heatmap\"}],\"histogram2dcontour\":[{\"colorbar\":{\"outlinewidth\":0,\"ticks\":\"\"},\"colorscale\":[[0.0,\"#0d0887\"],[0.1111111111111111,\"#46039f\"],[0.2222222222222222,\"#7201a8\"],[0.3333333333333333,\"#9c179e\"],[0.4444444444444444,\"#bd3786\"],[0.5555555555555556,\"#d8576b\"],[0.6666666666666666,\"#ed7953\"],[0.7777777777777778,\"#fb9f3a\"],[0.8888888888888888,\"#fdca26\"],[1.0,\"#f0f921\"]],\"type\":\"histogram2dcontour\"}],\"histogram2d\":[{\"colorbar\":{\"outlinewidth\":0,\"ticks\":\"\"},\"colorscale\":[[0.0,\"#0d0887\"],[0.1111111111111111,\"#46039f\"],[0.2222222222222222,\"#7201a8\"],[0.3333333333333333,\"#9c179e\"],[0.4444444444444444,\"#bd3786\"],[0.5555555555555556,\"#d8576b\"],[0.6666666666666666,\"#ed7953\"],[0.7777777777777778,\"#fb9f3a\"],[0.8888888888888888,\"#fdca26\"],[1.0,\"#f0f921\"]],\"type\":\"histogram2d\"}],\"histogram\":[{\"marker\":{\"pattern\":{\"fillmode\":\"overlay\",\"size\":10,\"solidity\":0.2}},\"type\":\"histogram\"}],\"mesh3d\":[{\"colorbar\":{\"outlinewidth\":0,\"ticks\":\"\"},\"type\":\"mesh3d\"}],\"parcoords\":[{\"line\":{\"colorbar\":{\"outlinewidth\":0,\"ticks\":\"\"}},\"type\":\"parcoords\"}],\"pie\":[{\"automargin\":true,\"type\":\"pie\"}],\"scatter3d\":[{\"line\":{\"colorbar\":{\"outlinewidth\":0,\"ticks\":\"\"}},\"marker\":{\"colorbar\":{\"outlinewidth\":0,\"ticks\":\"\"}},\"type\":\"scatter3d\"}],\"scattercarpet\":[{\"marker\":{\"colorbar\":{\"outlinewidth\":0,\"ticks\":\"\"}},\"type\":\"scattercarpet\"}],\"scattergeo\":[{\"marker\":{\"colorbar\":{\"outlinewidth\":0,\"ticks\":\"\"}},\"type\":\"scattergeo\"}],\"scattergl\":[{\"marker\":{\"colorbar\":{\"outlinewidth\":0,\"ticks\":\"\"}},\"type\":\"scattergl\"}],\"scattermapbox\":[{\"marker\":{\"colorbar\":{\"outlinewidth\":0,\"ticks\":\"\"}},\"type\":\"scattermapbox\"}],\"scatterpolargl\":[{\"marker\":{\"colorbar\":{\"outlinewidth\":0,\"ticks\":\"\"}},\"type\":\"scatterpolargl\"}],\"scatterpolar\":[{\"marker\":{\"colorbar\":{\"outlinewidth\":0,\"ticks\":\"\"}},\"type\":\"scatterpolar\"}],\"scatter\":[{\"fillpattern\":{\"fillmode\":\"overlay\",\"size\":10,\"solidity\":0.2},\"type\":\"scatter\"}],\"scatterternary\":[{\"marker\":{\"colorbar\":{\"outlinewidth\":0,\"ticks\":\"\"}},\"type\":\"scatterternary\"}],\"surface\":[{\"colorbar\":{\"outlinewidth\":0,\"ticks\":\"\"},\"colorscale\":[[0.0,\"#0d0887\"],[0.1111111111111111,\"#46039f\"],[0.2222222222222222,\"#7201a8\"],[0.3333333333333333,\"#9c179e\"],[0.4444444444444444,\"#bd3786\"],[0.5555555555555556,\"#d8576b\"],[0.6666666666666666,\"#ed7953\"],[0.7777777777777778,\"#fb9f3a\"],[0.8888888888888888,\"#fdca26\"],[1.0,\"#f0f921\"]],\"type\":\"surface\"}],\"table\":[{\"cells\":{\"fill\":{\"color\":\"#EBF0F8\"},\"line\":{\"color\":\"white\"}},\"header\":{\"fill\":{\"color\":\"#C8D4E3\"},\"line\":{\"color\":\"white\"}},\"type\":\"table\"}]},\"layout\":{\"annotationdefaults\":{\"arrowcolor\":\"#2a3f5f\",\"arrowhead\":0,\"arrowwidth\":1},\"autotypenumbers\":\"strict\",\"coloraxis\":{\"colorbar\":{\"outlinewidth\":0,\"ticks\":\"\"}},\"colorscale\":{\"diverging\":[[0,\"#8e0152\"],[0.1,\"#c51b7d\"],[0.2,\"#de77ae\"],[0.3,\"#f1b6da\"],[0.4,\"#fde0ef\"],[0.5,\"#f7f7f7\"],[0.6,\"#e6f5d0\"],[0.7,\"#b8e186\"],[0.8,\"#7fbc41\"],[0.9,\"#4d9221\"],[1,\"#276419\"]],\"sequential\":[[0.0,\"#0d0887\"],[0.1111111111111111,\"#46039f\"],[0.2222222222222222,\"#7201a8\"],[0.3333333333333333,\"#9c179e\"],[0.4444444444444444,\"#bd3786\"],[0.5555555555555556,\"#d8576b\"],[0.6666666666666666,\"#ed7953\"],[0.7777777777777778,\"#fb9f3a\"],[0.8888888888888888,\"#fdca26\"],[1.0,\"#f0f921\"]],\"sequentialminus\":[[0.0,\"#0d0887\"],[0.1111111111111111,\"#46039f\"],[0.2222222222222222,\"#7201a8\"],[0.3333333333333333,\"#9c179e\"],[0.4444444444444444,\"#bd3786\"],[0.5555555555555556,\"#d8576b\"],[0.6666666666666666,\"#ed7953\"],[0.7777777777777778,\"#fb9f3a\"],[0.8888888888888888,\"#fdca26\"],[1.0,\"#f0f921\"]]},\"colorway\":[\"#636efa\",\"#EF553B\",\"#00cc96\",\"#ab63fa\",\"#FFA15A\",\"#19d3f3\",\"#FF6692\",\"#B6E880\",\"#FF97FF\",\"#FECB52\"],\"font\":{\"color\":\"#2a3f5f\"},\"geo\":{\"bgcolor\":\"white\",\"lakecolor\":\"white\",\"landcolor\":\"#E5ECF6\",\"showlakes\":true,\"showland\":true,\"subunitcolor\":\"white\"},\"hoverlabel\":{\"align\":\"left\"},\"hovermode\":\"closest\",\"mapbox\":{\"style\":\"light\"},\"paper_bgcolor\":\"white\",\"plot_bgcolor\":\"#E5ECF6\",\"polar\":{\"angularaxis\":{\"gridcolor\":\"white\",\"linecolor\":\"white\",\"ticks\":\"\"},\"bgcolor\":\"#E5ECF6\",\"radialaxis\":{\"gridcolor\":\"white\",\"linecolor\":\"white\",\"ticks\":\"\"}},\"scene\":{\"xaxis\":{\"backgroundcolor\":\"#E5ECF6\",\"gridcolor\":\"white\",\"gridwidth\":2,\"linecolor\":\"white\",\"showbackground\":true,\"ticks\":\"\",\"zerolinecolor\":\"white\"},\"yaxis\":{\"backgroundcolor\":\"#E5ECF6\",\"gridcolor\":\"white\",\"gridwidth\":2,\"linecolor\":\"white\",\"showbackground\":true,\"ticks\":\"\",\"zerolinecolor\":\"white\"},\"zaxis\":{\"backgroundcolor\":\"#E5ECF6\",\"gridcolor\":\"white\",\"gridwidth\":2,\"linecolor\":\"white\",\"showbackground\":true,\"ticks\":\"\",\"zerolinecolor\":\"white\"}},\"shapedefaults\":{\"line\":{\"color\":\"#2a3f5f\"}},\"ternary\":{\"aaxis\":{\"gridcolor\":\"white\",\"linecolor\":\"white\",\"ticks\":\"\"},\"baxis\":{\"gridcolor\":\"white\",\"linecolor\":\"white\",\"ticks\":\"\"},\"bgcolor\":\"#E5ECF6\",\"caxis\":{\"gridcolor\":\"white\",\"linecolor\":\"white\",\"ticks\":\"\"}},\"title\":{\"x\":0.05},\"xaxis\":{\"automargin\":true,\"gridcolor\":\"white\",\"linecolor\":\"white\",\"ticks\":\"\",\"title\":{\"standoff\":15},\"zerolinecolor\":\"white\",\"zerolinewidth\":2},\"yaxis\":{\"automargin\":true,\"gridcolor\":\"white\",\"linecolor\":\"white\",\"ticks\":\"\",\"title\":{\"standoff\":15},\"zerolinecolor\":\"white\",\"zerolinewidth\":2}}},\"title\":{\"font\":{\"color\":\"#4D5663\"}},\"xaxis\":{\"gridcolor\":\"#E1E5ED\",\"showgrid\":true,\"tickfont\":{\"color\":\"#4D5663\"},\"title\":{\"font\":{\"color\":\"#4D5663\"},\"text\":\"\"},\"zerolinecolor\":\"#E1E5ED\"},\"yaxis\":{\"domain\":[0.3,1],\"gridcolor\":\"#E1E5ED\",\"showgrid\":true,\"tickfont\":{\"color\":\"#4D5663\"},\"title\":{\"font\":{\"color\":\"#4D5663\"},\"text\":\"\"},\"zerolinecolor\":\"#E1E5ED\"},\"yaxis2\":{\"domain\":[0,0.25],\"gridcolor\":\"#E1E5ED\",\"showgrid\":true,\"tickfont\":{\"color\":\"#4D5663\"},\"title\":{\"font\":{\"color\":\"#4D5663\"},\"text\":\"Spread\"},\"zerolinecolor\":\"#E1E5ED\"},\"xaxis2\":{\"anchor\":\"y2\",\"gridcolor\":\"#E1E5ED\",\"showgrid\":true,\"showticklabels\":false,\"tickfont\":{\"color\":\"#4D5663\"},\"title\":{\"font\":{\"color\":\"#4D5663\"},\"text\":\"\"},\"zerolinecolor\":\"#E1E5ED\"}},                        {\"showLink\": true, \"linkText\": \"Export to plot.ly\", \"plotlyServerURL\": \"https://plot.ly\", \"responsive\": true}                    ).then(function(){\n",
       "                            \n",
       "var gd = document.getElementById('bf5f7fb1-75c6-4f33-a16c-211734d3a544');\n",
       "var x = new MutationObserver(function (mutations, observer) {{\n",
       "        var display = window.getComputedStyle(gd).display;\n",
       "        if (!display || display === 'none') {{\n",
       "            console.log([gd, 'removed!']);\n",
       "            Plotly.purge(gd);\n",
       "            observer.disconnect();\n",
       "        }}\n",
       "}});\n",
       "\n",
       "// Listen for the removal of the full notebook cells\n",
       "var notebookContainer = gd.closest('#notebook-container');\n",
       "if (notebookContainer) {{\n",
       "    x.observe(notebookContainer, {childList: true});\n",
       "}}\n",
       "\n",
       "// Listen for the clearing of the current output cell\n",
       "var outputEl = gd.closest('.output');\n",
       "if (outputEl) {{\n",
       "    x.observe(outputEl, {childList: true});\n",
       "}}\n",
       "\n",
       "                        })                };                });            </script>        </div>"
      ]
     },
     "metadata": {},
     "output_type": "display_data"
    }
   ],
   "source": [
    "df[['A','B']].iplot(kind='spread')"
   ]
  },
  {
   "cell_type": "markdown",
   "metadata": {},
   "source": [
    "## histogram"
   ]
  },
  {
   "cell_type": "code",
   "execution_count": 29,
   "metadata": {},
   "outputs": [
    {
     "data": {
      "application/vnd.plotly.v1+json": {
       "config": {
        "linkText": "Export to plot.ly",
        "plotlyServerURL": "https://plot.ly",
        "showLink": true
       },
       "data": [
        {
         "histfunc": "count",
         "histnorm": "",
         "marker": {
          "color": "rgba(255, 153, 51, 1.0)",
          "line": {
           "color": "#4D5663",
           "width": 1.3
          }
         },
         "name": "A",
         "nbinsx": 25,
         "opacity": 0.8,
         "orientation": "v",
         "type": "histogram",
         "x": [
          1.8511519134780592,
          0.9932635503226296,
          -0.20359937233167702,
          1.5257768804344916,
          0.7989148705029956,
          -0.7401919047073051,
          -0.8630213226964086,
          0.7013687303870811,
          -0.6247974874205289,
          0.10910461350500907,
          -0.11538038639040019,
          -0.02648740437455768,
          -0.43732218661342515,
          -0.7125768681585045,
          1.0133586523249136,
          -0.8616519633585347,
          -2.1230616381436356,
          -0.9749949035547446,
          0.5043444129264993,
          0.18825104298423934,
          -0.1432776826929805,
          0.5868807139113783,
          -0.5195842176454574,
          0.5736013901487871,
          -0.8173712354802753,
          0.6609920652626308,
          0.4168308410755578,
          0.5852219339927222,
          0.010802370600104156,
          -0.41273169823065897,
          -0.20857735228632088,
          -0.8416615204104636,
          0.052944189995554204,
          0.005686937411339467,
          0.3844520636603806,
          -1.0631481481915048,
          -0.11724016976317891,
          0.6630852320859335,
          0.5115801618934522,
          2.2561195936427705,
          0.3109656972874523,
          1.0994549480156748,
          -0.7208326396818907,
          -0.1977387682776627,
          -0.16040121850252212,
          0.794102216112637,
          0.7464271735955996,
          -0.647542908423245,
          -1.4984047157520854,
          -0.04075648099172144,
          2.264819816919803,
          -0.5552027566980382,
          -0.6748951474162486,
          -1.007916433892245,
          -1.3106915777664427,
          -1.8225142752914754,
          1.334030713362875,
          0.07572488075553528,
          -0.5830773501448417,
          0.38454318739022125,
          1.6110776348434117,
          -0.3174845924378902,
          0.8445097695504995,
          -0.41461007268988176,
          0.365775246787856,
          -1.496269233552682,
          0.3008252693310851,
          -0.39326338113914816,
          0.5008110351639224,
          -0.672608996952311,
          -1.0421214869609523,
          -0.11156295997918914,
          0.3092029035122308,
          0.28260084055062595,
          0.6949297525981041,
          -0.9319657740427375,
          -1.9514085275441992,
          -0.7841155550829054,
          -0.2998409331653889,
          0.03951669010773553,
          -0.0727240387013017,
          -1.9518606100277855,
          0.9883285146195404,
          0.7508231282590799,
          1.209982615480504,
          0.7921753321761256,
          -0.9946655537151281,
          1.3067058404422474,
          0.5712332382845726,
          -0.5386093862850266,
          0.30013330235114466,
          -1.4869281940691312,
          0.9620169121202278,
          1.114277142834589,
          -1.3650422850750878,
          0.3298673585324569,
          0.9810828436899907,
          -0.9471938559777627,
          -0.6557976449379221,
          0.5954509216804071
         ]
        }
       ],
       "layout": {
        "barmode": "overlay",
        "legend": {
         "bgcolor": "#F5F6F9",
         "font": {
          "color": "#4D5663"
         }
        },
        "paper_bgcolor": "#F5F6F9",
        "plot_bgcolor": "#F5F6F9",
        "template": {
         "data": {
          "bar": [
           {
            "error_x": {
             "color": "#2a3f5f"
            },
            "error_y": {
             "color": "#2a3f5f"
            },
            "marker": {
             "line": {
              "color": "#E5ECF6",
              "width": 0.5
             },
             "pattern": {
              "fillmode": "overlay",
              "size": 10,
              "solidity": 0.2
             }
            },
            "type": "bar"
           }
          ],
          "barpolar": [
           {
            "marker": {
             "line": {
              "color": "#E5ECF6",
              "width": 0.5
             },
             "pattern": {
              "fillmode": "overlay",
              "size": 10,
              "solidity": 0.2
             }
            },
            "type": "barpolar"
           }
          ],
          "carpet": [
           {
            "aaxis": {
             "endlinecolor": "#2a3f5f",
             "gridcolor": "white",
             "linecolor": "white",
             "minorgridcolor": "white",
             "startlinecolor": "#2a3f5f"
            },
            "baxis": {
             "endlinecolor": "#2a3f5f",
             "gridcolor": "white",
             "linecolor": "white",
             "minorgridcolor": "white",
             "startlinecolor": "#2a3f5f"
            },
            "type": "carpet"
           }
          ],
          "choropleth": [
           {
            "colorbar": {
             "outlinewidth": 0,
             "ticks": ""
            },
            "type": "choropleth"
           }
          ],
          "contour": [
           {
            "colorbar": {
             "outlinewidth": 0,
             "ticks": ""
            },
            "colorscale": [
             [
              0,
              "#0d0887"
             ],
             [
              0.1111111111111111,
              "#46039f"
             ],
             [
              0.2222222222222222,
              "#7201a8"
             ],
             [
              0.3333333333333333,
              "#9c179e"
             ],
             [
              0.4444444444444444,
              "#bd3786"
             ],
             [
              0.5555555555555556,
              "#d8576b"
             ],
             [
              0.6666666666666666,
              "#ed7953"
             ],
             [
              0.7777777777777778,
              "#fb9f3a"
             ],
             [
              0.8888888888888888,
              "#fdca26"
             ],
             [
              1,
              "#f0f921"
             ]
            ],
            "type": "contour"
           }
          ],
          "contourcarpet": [
           {
            "colorbar": {
             "outlinewidth": 0,
             "ticks": ""
            },
            "type": "contourcarpet"
           }
          ],
          "heatmap": [
           {
            "colorbar": {
             "outlinewidth": 0,
             "ticks": ""
            },
            "colorscale": [
             [
              0,
              "#0d0887"
             ],
             [
              0.1111111111111111,
              "#46039f"
             ],
             [
              0.2222222222222222,
              "#7201a8"
             ],
             [
              0.3333333333333333,
              "#9c179e"
             ],
             [
              0.4444444444444444,
              "#bd3786"
             ],
             [
              0.5555555555555556,
              "#d8576b"
             ],
             [
              0.6666666666666666,
              "#ed7953"
             ],
             [
              0.7777777777777778,
              "#fb9f3a"
             ],
             [
              0.8888888888888888,
              "#fdca26"
             ],
             [
              1,
              "#f0f921"
             ]
            ],
            "type": "heatmap"
           }
          ],
          "heatmapgl": [
           {
            "colorbar": {
             "outlinewidth": 0,
             "ticks": ""
            },
            "colorscale": [
             [
              0,
              "#0d0887"
             ],
             [
              0.1111111111111111,
              "#46039f"
             ],
             [
              0.2222222222222222,
              "#7201a8"
             ],
             [
              0.3333333333333333,
              "#9c179e"
             ],
             [
              0.4444444444444444,
              "#bd3786"
             ],
             [
              0.5555555555555556,
              "#d8576b"
             ],
             [
              0.6666666666666666,
              "#ed7953"
             ],
             [
              0.7777777777777778,
              "#fb9f3a"
             ],
             [
              0.8888888888888888,
              "#fdca26"
             ],
             [
              1,
              "#f0f921"
             ]
            ],
            "type": "heatmapgl"
           }
          ],
          "histogram": [
           {
            "marker": {
             "pattern": {
              "fillmode": "overlay",
              "size": 10,
              "solidity": 0.2
             }
            },
            "type": "histogram"
           }
          ],
          "histogram2d": [
           {
            "colorbar": {
             "outlinewidth": 0,
             "ticks": ""
            },
            "colorscale": [
             [
              0,
              "#0d0887"
             ],
             [
              0.1111111111111111,
              "#46039f"
             ],
             [
              0.2222222222222222,
              "#7201a8"
             ],
             [
              0.3333333333333333,
              "#9c179e"
             ],
             [
              0.4444444444444444,
              "#bd3786"
             ],
             [
              0.5555555555555556,
              "#d8576b"
             ],
             [
              0.6666666666666666,
              "#ed7953"
             ],
             [
              0.7777777777777778,
              "#fb9f3a"
             ],
             [
              0.8888888888888888,
              "#fdca26"
             ],
             [
              1,
              "#f0f921"
             ]
            ],
            "type": "histogram2d"
           }
          ],
          "histogram2dcontour": [
           {
            "colorbar": {
             "outlinewidth": 0,
             "ticks": ""
            },
            "colorscale": [
             [
              0,
              "#0d0887"
             ],
             [
              0.1111111111111111,
              "#46039f"
             ],
             [
              0.2222222222222222,
              "#7201a8"
             ],
             [
              0.3333333333333333,
              "#9c179e"
             ],
             [
              0.4444444444444444,
              "#bd3786"
             ],
             [
              0.5555555555555556,
              "#d8576b"
             ],
             [
              0.6666666666666666,
              "#ed7953"
             ],
             [
              0.7777777777777778,
              "#fb9f3a"
             ],
             [
              0.8888888888888888,
              "#fdca26"
             ],
             [
              1,
              "#f0f921"
             ]
            ],
            "type": "histogram2dcontour"
           }
          ],
          "mesh3d": [
           {
            "colorbar": {
             "outlinewidth": 0,
             "ticks": ""
            },
            "type": "mesh3d"
           }
          ],
          "parcoords": [
           {
            "line": {
             "colorbar": {
              "outlinewidth": 0,
              "ticks": ""
             }
            },
            "type": "parcoords"
           }
          ],
          "pie": [
           {
            "automargin": true,
            "type": "pie"
           }
          ],
          "scatter": [
           {
            "fillpattern": {
             "fillmode": "overlay",
             "size": 10,
             "solidity": 0.2
            },
            "type": "scatter"
           }
          ],
          "scatter3d": [
           {
            "line": {
             "colorbar": {
              "outlinewidth": 0,
              "ticks": ""
             }
            },
            "marker": {
             "colorbar": {
              "outlinewidth": 0,
              "ticks": ""
             }
            },
            "type": "scatter3d"
           }
          ],
          "scattercarpet": [
           {
            "marker": {
             "colorbar": {
              "outlinewidth": 0,
              "ticks": ""
             }
            },
            "type": "scattercarpet"
           }
          ],
          "scattergeo": [
           {
            "marker": {
             "colorbar": {
              "outlinewidth": 0,
              "ticks": ""
             }
            },
            "type": "scattergeo"
           }
          ],
          "scattergl": [
           {
            "marker": {
             "colorbar": {
              "outlinewidth": 0,
              "ticks": ""
             }
            },
            "type": "scattergl"
           }
          ],
          "scattermapbox": [
           {
            "marker": {
             "colorbar": {
              "outlinewidth": 0,
              "ticks": ""
             }
            },
            "type": "scattermapbox"
           }
          ],
          "scatterpolar": [
           {
            "marker": {
             "colorbar": {
              "outlinewidth": 0,
              "ticks": ""
             }
            },
            "type": "scatterpolar"
           }
          ],
          "scatterpolargl": [
           {
            "marker": {
             "colorbar": {
              "outlinewidth": 0,
              "ticks": ""
             }
            },
            "type": "scatterpolargl"
           }
          ],
          "scatterternary": [
           {
            "marker": {
             "colorbar": {
              "outlinewidth": 0,
              "ticks": ""
             }
            },
            "type": "scatterternary"
           }
          ],
          "surface": [
           {
            "colorbar": {
             "outlinewidth": 0,
             "ticks": ""
            },
            "colorscale": [
             [
              0,
              "#0d0887"
             ],
             [
              0.1111111111111111,
              "#46039f"
             ],
             [
              0.2222222222222222,
              "#7201a8"
             ],
             [
              0.3333333333333333,
              "#9c179e"
             ],
             [
              0.4444444444444444,
              "#bd3786"
             ],
             [
              0.5555555555555556,
              "#d8576b"
             ],
             [
              0.6666666666666666,
              "#ed7953"
             ],
             [
              0.7777777777777778,
              "#fb9f3a"
             ],
             [
              0.8888888888888888,
              "#fdca26"
             ],
             [
              1,
              "#f0f921"
             ]
            ],
            "type": "surface"
           }
          ],
          "table": [
           {
            "cells": {
             "fill": {
              "color": "#EBF0F8"
             },
             "line": {
              "color": "white"
             }
            },
            "header": {
             "fill": {
              "color": "#C8D4E3"
             },
             "line": {
              "color": "white"
             }
            },
            "type": "table"
           }
          ]
         },
         "layout": {
          "annotationdefaults": {
           "arrowcolor": "#2a3f5f",
           "arrowhead": 0,
           "arrowwidth": 1
          },
          "autotypenumbers": "strict",
          "coloraxis": {
           "colorbar": {
            "outlinewidth": 0,
            "ticks": ""
           }
          },
          "colorscale": {
           "diverging": [
            [
             0,
             "#8e0152"
            ],
            [
             0.1,
             "#c51b7d"
            ],
            [
             0.2,
             "#de77ae"
            ],
            [
             0.3,
             "#f1b6da"
            ],
            [
             0.4,
             "#fde0ef"
            ],
            [
             0.5,
             "#f7f7f7"
            ],
            [
             0.6,
             "#e6f5d0"
            ],
            [
             0.7,
             "#b8e186"
            ],
            [
             0.8,
             "#7fbc41"
            ],
            [
             0.9,
             "#4d9221"
            ],
            [
             1,
             "#276419"
            ]
           ],
           "sequential": [
            [
             0,
             "#0d0887"
            ],
            [
             0.1111111111111111,
             "#46039f"
            ],
            [
             0.2222222222222222,
             "#7201a8"
            ],
            [
             0.3333333333333333,
             "#9c179e"
            ],
            [
             0.4444444444444444,
             "#bd3786"
            ],
            [
             0.5555555555555556,
             "#d8576b"
            ],
            [
             0.6666666666666666,
             "#ed7953"
            ],
            [
             0.7777777777777778,
             "#fb9f3a"
            ],
            [
             0.8888888888888888,
             "#fdca26"
            ],
            [
             1,
             "#f0f921"
            ]
           ],
           "sequentialminus": [
            [
             0,
             "#0d0887"
            ],
            [
             0.1111111111111111,
             "#46039f"
            ],
            [
             0.2222222222222222,
             "#7201a8"
            ],
            [
             0.3333333333333333,
             "#9c179e"
            ],
            [
             0.4444444444444444,
             "#bd3786"
            ],
            [
             0.5555555555555556,
             "#d8576b"
            ],
            [
             0.6666666666666666,
             "#ed7953"
            ],
            [
             0.7777777777777778,
             "#fb9f3a"
            ],
            [
             0.8888888888888888,
             "#fdca26"
            ],
            [
             1,
             "#f0f921"
            ]
           ]
          },
          "colorway": [
           "#636efa",
           "#EF553B",
           "#00cc96",
           "#ab63fa",
           "#FFA15A",
           "#19d3f3",
           "#FF6692",
           "#B6E880",
           "#FF97FF",
           "#FECB52"
          ],
          "font": {
           "color": "#2a3f5f"
          },
          "geo": {
           "bgcolor": "white",
           "lakecolor": "white",
           "landcolor": "#E5ECF6",
           "showlakes": true,
           "showland": true,
           "subunitcolor": "white"
          },
          "hoverlabel": {
           "align": "left"
          },
          "hovermode": "closest",
          "mapbox": {
           "style": "light"
          },
          "paper_bgcolor": "white",
          "plot_bgcolor": "#E5ECF6",
          "polar": {
           "angularaxis": {
            "gridcolor": "white",
            "linecolor": "white",
            "ticks": ""
           },
           "bgcolor": "#E5ECF6",
           "radialaxis": {
            "gridcolor": "white",
            "linecolor": "white",
            "ticks": ""
           }
          },
          "scene": {
           "xaxis": {
            "backgroundcolor": "#E5ECF6",
            "gridcolor": "white",
            "gridwidth": 2,
            "linecolor": "white",
            "showbackground": true,
            "ticks": "",
            "zerolinecolor": "white"
           },
           "yaxis": {
            "backgroundcolor": "#E5ECF6",
            "gridcolor": "white",
            "gridwidth": 2,
            "linecolor": "white",
            "showbackground": true,
            "ticks": "",
            "zerolinecolor": "white"
           },
           "zaxis": {
            "backgroundcolor": "#E5ECF6",
            "gridcolor": "white",
            "gridwidth": 2,
            "linecolor": "white",
            "showbackground": true,
            "ticks": "",
            "zerolinecolor": "white"
           }
          },
          "shapedefaults": {
           "line": {
            "color": "#2a3f5f"
           }
          },
          "ternary": {
           "aaxis": {
            "gridcolor": "white",
            "linecolor": "white",
            "ticks": ""
           },
           "baxis": {
            "gridcolor": "white",
            "linecolor": "white",
            "ticks": ""
           },
           "bgcolor": "#E5ECF6",
           "caxis": {
            "gridcolor": "white",
            "linecolor": "white",
            "ticks": ""
           }
          },
          "title": {
           "x": 0.05
          },
          "xaxis": {
           "automargin": true,
           "gridcolor": "white",
           "linecolor": "white",
           "ticks": "",
           "title": {
            "standoff": 15
           },
           "zerolinecolor": "white",
           "zerolinewidth": 2
          },
          "yaxis": {
           "automargin": true,
           "gridcolor": "white",
           "linecolor": "white",
           "ticks": "",
           "title": {
            "standoff": 15
           },
           "zerolinecolor": "white",
           "zerolinewidth": 2
          }
         }
        },
        "title": {
         "font": {
          "color": "#4D5663"
         }
        },
        "xaxis": {
         "gridcolor": "#E1E5ED",
         "showgrid": true,
         "tickfont": {
          "color": "#4D5663"
         },
         "title": {
          "font": {
           "color": "#4D5663"
          },
          "text": ""
         },
         "zerolinecolor": "#E1E5ED"
        },
        "yaxis": {
         "gridcolor": "#E1E5ED",
         "showgrid": true,
         "tickfont": {
          "color": "#4D5663"
         },
         "title": {
          "font": {
           "color": "#4D5663"
          },
          "text": ""
         },
         "zerolinecolor": "#E1E5ED"
        }
       }
      },
      "text/html": [
       "<div>                            <div id=\"832acfd5-99b9-47fb-b2c7-98f20d3b87ba\" class=\"plotly-graph-div\" style=\"height:525px; width:100%;\"></div>            <script type=\"text/javascript\">                require([\"plotly\"], function(Plotly) {                    window.PLOTLYENV=window.PLOTLYENV || {};\n",
       "                    window.PLOTLYENV.BASE_URL='https://plot.ly';                                    if (document.getElementById(\"832acfd5-99b9-47fb-b2c7-98f20d3b87ba\")) {                    Plotly.newPlot(                        \"832acfd5-99b9-47fb-b2c7-98f20d3b87ba\",                        [{\"histfunc\":\"count\",\"histnorm\":\"\",\"marker\":{\"color\":\"rgba(255, 153, 51, 1.0)\",\"line\":{\"color\":\"#4D5663\",\"width\":1.3}},\"name\":\"A\",\"nbinsx\":25,\"opacity\":0.8,\"orientation\":\"v\",\"x\":[1.8511519134780592,0.9932635503226296,-0.20359937233167702,1.5257768804344916,0.7989148705029956,-0.7401919047073051,-0.8630213226964086,0.7013687303870811,-0.6247974874205289,0.10910461350500907,-0.11538038639040019,-0.02648740437455768,-0.43732218661342515,-0.7125768681585045,1.0133586523249136,-0.8616519633585347,-2.1230616381436356,-0.9749949035547446,0.5043444129264993,0.18825104298423934,-0.1432776826929805,0.5868807139113783,-0.5195842176454574,0.5736013901487871,-0.8173712354802753,0.6609920652626308,0.4168308410755578,0.5852219339927222,0.010802370600104156,-0.41273169823065897,-0.20857735228632088,-0.8416615204104636,0.052944189995554204,0.005686937411339467,0.3844520636603806,-1.0631481481915048,-0.11724016976317891,0.6630852320859335,0.5115801618934522,2.2561195936427705,0.3109656972874523,1.0994549480156748,-0.7208326396818907,-0.1977387682776627,-0.16040121850252212,0.794102216112637,0.7464271735955996,-0.647542908423245,-1.4984047157520854,-0.04075648099172144,2.264819816919803,-0.5552027566980382,-0.6748951474162486,-1.007916433892245,-1.3106915777664427,-1.8225142752914754,1.334030713362875,0.07572488075553528,-0.5830773501448417,0.38454318739022125,1.6110776348434117,-0.3174845924378902,0.8445097695504995,-0.41461007268988176,0.365775246787856,-1.496269233552682,0.3008252693310851,-0.39326338113914816,0.5008110351639224,-0.672608996952311,-1.0421214869609523,-0.11156295997918914,0.3092029035122308,0.28260084055062595,0.6949297525981041,-0.9319657740427375,-1.9514085275441992,-0.7841155550829054,-0.2998409331653889,0.03951669010773553,-0.0727240387013017,-1.9518606100277855,0.9883285146195404,0.7508231282590799,1.209982615480504,0.7921753321761256,-0.9946655537151281,1.3067058404422474,0.5712332382845726,-0.5386093862850266,0.30013330235114466,-1.4869281940691312,0.9620169121202278,1.114277142834589,-1.3650422850750878,0.3298673585324569,0.9810828436899907,-0.9471938559777627,-0.6557976449379221,0.5954509216804071],\"type\":\"histogram\"}],                        {\"barmode\":\"overlay\",\"legend\":{\"bgcolor\":\"#F5F6F9\",\"font\":{\"color\":\"#4D5663\"}},\"paper_bgcolor\":\"#F5F6F9\",\"plot_bgcolor\":\"#F5F6F9\",\"template\":{\"data\":{\"barpolar\":[{\"marker\":{\"line\":{\"color\":\"#E5ECF6\",\"width\":0.5},\"pattern\":{\"fillmode\":\"overlay\",\"size\":10,\"solidity\":0.2}},\"type\":\"barpolar\"}],\"bar\":[{\"error_x\":{\"color\":\"#2a3f5f\"},\"error_y\":{\"color\":\"#2a3f5f\"},\"marker\":{\"line\":{\"color\":\"#E5ECF6\",\"width\":0.5},\"pattern\":{\"fillmode\":\"overlay\",\"size\":10,\"solidity\":0.2}},\"type\":\"bar\"}],\"carpet\":[{\"aaxis\":{\"endlinecolor\":\"#2a3f5f\",\"gridcolor\":\"white\",\"linecolor\":\"white\",\"minorgridcolor\":\"white\",\"startlinecolor\":\"#2a3f5f\"},\"baxis\":{\"endlinecolor\":\"#2a3f5f\",\"gridcolor\":\"white\",\"linecolor\":\"white\",\"minorgridcolor\":\"white\",\"startlinecolor\":\"#2a3f5f\"},\"type\":\"carpet\"}],\"choropleth\":[{\"colorbar\":{\"outlinewidth\":0,\"ticks\":\"\"},\"type\":\"choropleth\"}],\"contourcarpet\":[{\"colorbar\":{\"outlinewidth\":0,\"ticks\":\"\"},\"type\":\"contourcarpet\"}],\"contour\":[{\"colorbar\":{\"outlinewidth\":0,\"ticks\":\"\"},\"colorscale\":[[0.0,\"#0d0887\"],[0.1111111111111111,\"#46039f\"],[0.2222222222222222,\"#7201a8\"],[0.3333333333333333,\"#9c179e\"],[0.4444444444444444,\"#bd3786\"],[0.5555555555555556,\"#d8576b\"],[0.6666666666666666,\"#ed7953\"],[0.7777777777777778,\"#fb9f3a\"],[0.8888888888888888,\"#fdca26\"],[1.0,\"#f0f921\"]],\"type\":\"contour\"}],\"heatmapgl\":[{\"colorbar\":{\"outlinewidth\":0,\"ticks\":\"\"},\"colorscale\":[[0.0,\"#0d0887\"],[0.1111111111111111,\"#46039f\"],[0.2222222222222222,\"#7201a8\"],[0.3333333333333333,\"#9c179e\"],[0.4444444444444444,\"#bd3786\"],[0.5555555555555556,\"#d8576b\"],[0.6666666666666666,\"#ed7953\"],[0.7777777777777778,\"#fb9f3a\"],[0.8888888888888888,\"#fdca26\"],[1.0,\"#f0f921\"]],\"type\":\"heatmapgl\"}],\"heatmap\":[{\"colorbar\":{\"outlinewidth\":0,\"ticks\":\"\"},\"colorscale\":[[0.0,\"#0d0887\"],[0.1111111111111111,\"#46039f\"],[0.2222222222222222,\"#7201a8\"],[0.3333333333333333,\"#9c179e\"],[0.4444444444444444,\"#bd3786\"],[0.5555555555555556,\"#d8576b\"],[0.6666666666666666,\"#ed7953\"],[0.7777777777777778,\"#fb9f3a\"],[0.8888888888888888,\"#fdca26\"],[1.0,\"#f0f921\"]],\"type\":\"heatmap\"}],\"histogram2dcontour\":[{\"colorbar\":{\"outlinewidth\":0,\"ticks\":\"\"},\"colorscale\":[[0.0,\"#0d0887\"],[0.1111111111111111,\"#46039f\"],[0.2222222222222222,\"#7201a8\"],[0.3333333333333333,\"#9c179e\"],[0.4444444444444444,\"#bd3786\"],[0.5555555555555556,\"#d8576b\"],[0.6666666666666666,\"#ed7953\"],[0.7777777777777778,\"#fb9f3a\"],[0.8888888888888888,\"#fdca26\"],[1.0,\"#f0f921\"]],\"type\":\"histogram2dcontour\"}],\"histogram2d\":[{\"colorbar\":{\"outlinewidth\":0,\"ticks\":\"\"},\"colorscale\":[[0.0,\"#0d0887\"],[0.1111111111111111,\"#46039f\"],[0.2222222222222222,\"#7201a8\"],[0.3333333333333333,\"#9c179e\"],[0.4444444444444444,\"#bd3786\"],[0.5555555555555556,\"#d8576b\"],[0.6666666666666666,\"#ed7953\"],[0.7777777777777778,\"#fb9f3a\"],[0.8888888888888888,\"#fdca26\"],[1.0,\"#f0f921\"]],\"type\":\"histogram2d\"}],\"histogram\":[{\"marker\":{\"pattern\":{\"fillmode\":\"overlay\",\"size\":10,\"solidity\":0.2}},\"type\":\"histogram\"}],\"mesh3d\":[{\"colorbar\":{\"outlinewidth\":0,\"ticks\":\"\"},\"type\":\"mesh3d\"}],\"parcoords\":[{\"line\":{\"colorbar\":{\"outlinewidth\":0,\"ticks\":\"\"}},\"type\":\"parcoords\"}],\"pie\":[{\"automargin\":true,\"type\":\"pie\"}],\"scatter3d\":[{\"line\":{\"colorbar\":{\"outlinewidth\":0,\"ticks\":\"\"}},\"marker\":{\"colorbar\":{\"outlinewidth\":0,\"ticks\":\"\"}},\"type\":\"scatter3d\"}],\"scattercarpet\":[{\"marker\":{\"colorbar\":{\"outlinewidth\":0,\"ticks\":\"\"}},\"type\":\"scattercarpet\"}],\"scattergeo\":[{\"marker\":{\"colorbar\":{\"outlinewidth\":0,\"ticks\":\"\"}},\"type\":\"scattergeo\"}],\"scattergl\":[{\"marker\":{\"colorbar\":{\"outlinewidth\":0,\"ticks\":\"\"}},\"type\":\"scattergl\"}],\"scattermapbox\":[{\"marker\":{\"colorbar\":{\"outlinewidth\":0,\"ticks\":\"\"}},\"type\":\"scattermapbox\"}],\"scatterpolargl\":[{\"marker\":{\"colorbar\":{\"outlinewidth\":0,\"ticks\":\"\"}},\"type\":\"scatterpolargl\"}],\"scatterpolar\":[{\"marker\":{\"colorbar\":{\"outlinewidth\":0,\"ticks\":\"\"}},\"type\":\"scatterpolar\"}],\"scatter\":[{\"fillpattern\":{\"fillmode\":\"overlay\",\"size\":10,\"solidity\":0.2},\"type\":\"scatter\"}],\"scatterternary\":[{\"marker\":{\"colorbar\":{\"outlinewidth\":0,\"ticks\":\"\"}},\"type\":\"scatterternary\"}],\"surface\":[{\"colorbar\":{\"outlinewidth\":0,\"ticks\":\"\"},\"colorscale\":[[0.0,\"#0d0887\"],[0.1111111111111111,\"#46039f\"],[0.2222222222222222,\"#7201a8\"],[0.3333333333333333,\"#9c179e\"],[0.4444444444444444,\"#bd3786\"],[0.5555555555555556,\"#d8576b\"],[0.6666666666666666,\"#ed7953\"],[0.7777777777777778,\"#fb9f3a\"],[0.8888888888888888,\"#fdca26\"],[1.0,\"#f0f921\"]],\"type\":\"surface\"}],\"table\":[{\"cells\":{\"fill\":{\"color\":\"#EBF0F8\"},\"line\":{\"color\":\"white\"}},\"header\":{\"fill\":{\"color\":\"#C8D4E3\"},\"line\":{\"color\":\"white\"}},\"type\":\"table\"}]},\"layout\":{\"annotationdefaults\":{\"arrowcolor\":\"#2a3f5f\",\"arrowhead\":0,\"arrowwidth\":1},\"autotypenumbers\":\"strict\",\"coloraxis\":{\"colorbar\":{\"outlinewidth\":0,\"ticks\":\"\"}},\"colorscale\":{\"diverging\":[[0,\"#8e0152\"],[0.1,\"#c51b7d\"],[0.2,\"#de77ae\"],[0.3,\"#f1b6da\"],[0.4,\"#fde0ef\"],[0.5,\"#f7f7f7\"],[0.6,\"#e6f5d0\"],[0.7,\"#b8e186\"],[0.8,\"#7fbc41\"],[0.9,\"#4d9221\"],[1,\"#276419\"]],\"sequential\":[[0.0,\"#0d0887\"],[0.1111111111111111,\"#46039f\"],[0.2222222222222222,\"#7201a8\"],[0.3333333333333333,\"#9c179e\"],[0.4444444444444444,\"#bd3786\"],[0.5555555555555556,\"#d8576b\"],[0.6666666666666666,\"#ed7953\"],[0.7777777777777778,\"#fb9f3a\"],[0.8888888888888888,\"#fdca26\"],[1.0,\"#f0f921\"]],\"sequentialminus\":[[0.0,\"#0d0887\"],[0.1111111111111111,\"#46039f\"],[0.2222222222222222,\"#7201a8\"],[0.3333333333333333,\"#9c179e\"],[0.4444444444444444,\"#bd3786\"],[0.5555555555555556,\"#d8576b\"],[0.6666666666666666,\"#ed7953\"],[0.7777777777777778,\"#fb9f3a\"],[0.8888888888888888,\"#fdca26\"],[1.0,\"#f0f921\"]]},\"colorway\":[\"#636efa\",\"#EF553B\",\"#00cc96\",\"#ab63fa\",\"#FFA15A\",\"#19d3f3\",\"#FF6692\",\"#B6E880\",\"#FF97FF\",\"#FECB52\"],\"font\":{\"color\":\"#2a3f5f\"},\"geo\":{\"bgcolor\":\"white\",\"lakecolor\":\"white\",\"landcolor\":\"#E5ECF6\",\"showlakes\":true,\"showland\":true,\"subunitcolor\":\"white\"},\"hoverlabel\":{\"align\":\"left\"},\"hovermode\":\"closest\",\"mapbox\":{\"style\":\"light\"},\"paper_bgcolor\":\"white\",\"plot_bgcolor\":\"#E5ECF6\",\"polar\":{\"angularaxis\":{\"gridcolor\":\"white\",\"linecolor\":\"white\",\"ticks\":\"\"},\"bgcolor\":\"#E5ECF6\",\"radialaxis\":{\"gridcolor\":\"white\",\"linecolor\":\"white\",\"ticks\":\"\"}},\"scene\":{\"xaxis\":{\"backgroundcolor\":\"#E5ECF6\",\"gridcolor\":\"white\",\"gridwidth\":2,\"linecolor\":\"white\",\"showbackground\":true,\"ticks\":\"\",\"zerolinecolor\":\"white\"},\"yaxis\":{\"backgroundcolor\":\"#E5ECF6\",\"gridcolor\":\"white\",\"gridwidth\":2,\"linecolor\":\"white\",\"showbackground\":true,\"ticks\":\"\",\"zerolinecolor\":\"white\"},\"zaxis\":{\"backgroundcolor\":\"#E5ECF6\",\"gridcolor\":\"white\",\"gridwidth\":2,\"linecolor\":\"white\",\"showbackground\":true,\"ticks\":\"\",\"zerolinecolor\":\"white\"}},\"shapedefaults\":{\"line\":{\"color\":\"#2a3f5f\"}},\"ternary\":{\"aaxis\":{\"gridcolor\":\"white\",\"linecolor\":\"white\",\"ticks\":\"\"},\"baxis\":{\"gridcolor\":\"white\",\"linecolor\":\"white\",\"ticks\":\"\"},\"bgcolor\":\"#E5ECF6\",\"caxis\":{\"gridcolor\":\"white\",\"linecolor\":\"white\",\"ticks\":\"\"}},\"title\":{\"x\":0.05},\"xaxis\":{\"automargin\":true,\"gridcolor\":\"white\",\"linecolor\":\"white\",\"ticks\":\"\",\"title\":{\"standoff\":15},\"zerolinecolor\":\"white\",\"zerolinewidth\":2},\"yaxis\":{\"automargin\":true,\"gridcolor\":\"white\",\"linecolor\":\"white\",\"ticks\":\"\",\"title\":{\"standoff\":15},\"zerolinecolor\":\"white\",\"zerolinewidth\":2}}},\"title\":{\"font\":{\"color\":\"#4D5663\"}},\"xaxis\":{\"gridcolor\":\"#E1E5ED\",\"showgrid\":true,\"tickfont\":{\"color\":\"#4D5663\"},\"title\":{\"font\":{\"color\":\"#4D5663\"},\"text\":\"\"},\"zerolinecolor\":\"#E1E5ED\"},\"yaxis\":{\"gridcolor\":\"#E1E5ED\",\"showgrid\":true,\"tickfont\":{\"color\":\"#4D5663\"},\"title\":{\"font\":{\"color\":\"#4D5663\"},\"text\":\"\"},\"zerolinecolor\":\"#E1E5ED\"}},                        {\"showLink\": true, \"linkText\": \"Export to plot.ly\", \"plotlyServerURL\": \"https://plot.ly\", \"responsive\": true}                    ).then(function(){\n",
       "                            \n",
       "var gd = document.getElementById('832acfd5-99b9-47fb-b2c7-98f20d3b87ba');\n",
       "var x = new MutationObserver(function (mutations, observer) {{\n",
       "        var display = window.getComputedStyle(gd).display;\n",
       "        if (!display || display === 'none') {{\n",
       "            console.log([gd, 'removed!']);\n",
       "            Plotly.purge(gd);\n",
       "            observer.disconnect();\n",
       "        }}\n",
       "}});\n",
       "\n",
       "// Listen for the removal of the full notebook cells\n",
       "var notebookContainer = gd.closest('#notebook-container');\n",
       "if (notebookContainer) {{\n",
       "    x.observe(notebookContainer, {childList: true});\n",
       "}}\n",
       "\n",
       "// Listen for the clearing of the current output cell\n",
       "var outputEl = gd.closest('.output');\n",
       "if (outputEl) {{\n",
       "    x.observe(outputEl, {childList: true});\n",
       "}}\n",
       "\n",
       "                        })                };                });            </script>        </div>"
      ]
     },
     "metadata": {},
     "output_type": "display_data"
    }
   ],
   "source": [
    "df['A'].iplot(kind='hist',bins=25)"
   ]
  },
  {
   "cell_type": "code",
   "execution_count": 31,
   "metadata": {},
   "outputs": [
    {
     "data": {
      "application/vnd.plotly.v1+json": {
       "config": {
        "linkText": "Export to plot.ly",
        "plotlyServerURL": "https://plot.ly",
        "showLink": true
       },
       "data": [
        {
         "histfunc": "count",
         "histnorm": "",
         "marker": {
          "color": "rgba(255, 153, 51, 1.0)",
          "line": {
           "color": "#4D5663",
           "width": 1.3
          }
         },
         "name": "A",
         "opacity": 0.8,
         "orientation": "v",
         "type": "histogram",
         "x": [
          1.8511519134780592,
          0.9932635503226296,
          -0.20359937233167702,
          1.5257768804344916,
          0.7989148705029956,
          -0.7401919047073051,
          -0.8630213226964086,
          0.7013687303870811,
          -0.6247974874205289,
          0.10910461350500907,
          -0.11538038639040019,
          -0.02648740437455768,
          -0.43732218661342515,
          -0.7125768681585045,
          1.0133586523249136,
          -0.8616519633585347,
          -2.1230616381436356,
          -0.9749949035547446,
          0.5043444129264993,
          0.18825104298423934,
          -0.1432776826929805,
          0.5868807139113783,
          -0.5195842176454574,
          0.5736013901487871,
          -0.8173712354802753,
          0.6609920652626308,
          0.4168308410755578,
          0.5852219339927222,
          0.010802370600104156,
          -0.41273169823065897,
          -0.20857735228632088,
          -0.8416615204104636,
          0.052944189995554204,
          0.005686937411339467,
          0.3844520636603806,
          -1.0631481481915048,
          -0.11724016976317891,
          0.6630852320859335,
          0.5115801618934522,
          2.2561195936427705,
          0.3109656972874523,
          1.0994549480156748,
          -0.7208326396818907,
          -0.1977387682776627,
          -0.16040121850252212,
          0.794102216112637,
          0.7464271735955996,
          -0.647542908423245,
          -1.4984047157520854,
          -0.04075648099172144,
          2.264819816919803,
          -0.5552027566980382,
          -0.6748951474162486,
          -1.007916433892245,
          -1.3106915777664427,
          -1.8225142752914754,
          1.334030713362875,
          0.07572488075553528,
          -0.5830773501448417,
          0.38454318739022125,
          1.6110776348434117,
          -0.3174845924378902,
          0.8445097695504995,
          -0.41461007268988176,
          0.365775246787856,
          -1.496269233552682,
          0.3008252693310851,
          -0.39326338113914816,
          0.5008110351639224,
          -0.672608996952311,
          -1.0421214869609523,
          -0.11156295997918914,
          0.3092029035122308,
          0.28260084055062595,
          0.6949297525981041,
          -0.9319657740427375,
          -1.9514085275441992,
          -0.7841155550829054,
          -0.2998409331653889,
          0.03951669010773553,
          -0.0727240387013017,
          -1.9518606100277855,
          0.9883285146195404,
          0.7508231282590799,
          1.209982615480504,
          0.7921753321761256,
          -0.9946655537151281,
          1.3067058404422474,
          0.5712332382845726,
          -0.5386093862850266,
          0.30013330235114466,
          -1.4869281940691312,
          0.9620169121202278,
          1.114277142834589,
          -1.3650422850750878,
          0.3298673585324569,
          0.9810828436899907,
          -0.9471938559777627,
          -0.6557976449379221,
          0.5954509216804071
         ]
        },
        {
         "histfunc": "count",
         "histnorm": "",
         "marker": {
          "color": "rgba(55, 128, 191, 1.0)",
          "line": {
           "color": "#4D5663",
           "width": 1.3
          }
         },
         "name": "B",
         "opacity": 0.8,
         "orientation": "v",
         "type": "histogram",
         "x": [
          0.45782172851946584,
          0.4344214900313023,
          0.6658987220489518,
          2.895439169924277,
          -0.04735765933408375,
          0.14131190059074383,
          -0.6793167129790467,
          -1.33376156241096,
          0.5129051932325256,
          -1.8426154108364827,
          0.5414409748569157,
          1.5180507825544969,
          0.6886450990269172,
          -0.2934527411501007,
          1.247504281758502,
          -0.6923792689440722,
          1.3358752949438544,
          3.3009912281541745,
          -1.1772677491504626,
          3.0413738620919792,
          0.1939145630185375,
          1.316173538909124,
          0.4568857268531616,
          -0.45612992746179104,
          0.36962784918045843,
          -1.0872283818862274,
          -1.268507848017612,
          1.3690989346946598,
          2.404028688631945,
          0.6953932785311059,
          0.16957159952658565,
          -0.820430620044971,
          1.3622920559583251,
          1.2194783554864315,
          0.5270262370309676,
          0.12673147173592114,
          0.6274228407561939,
          2.1519729621866612,
          -0.1503870682355416,
          -0.8032647853869308,
          -1.7334754959923606,
          1.1498738436198657,
          0.9024715532142299,
          -0.6299946110464666,
          -0.10479446190246755,
          0.3807627473851706,
          0.30429400869494144,
          -0.09747668965216076,
          0.034130483643344964,
          2.3125818412357924,
          -0.1195421817947865,
          -1.1451149065169193,
          -0.10831608455742575,
          0.7369917906053898,
          0.26648976296350796,
          0.04793412305608602,
          0.9135049453782854,
          -0.10974581209473559,
          1.2973055112154592,
          1.409109018811545,
          -0.4880439368583151,
          -0.41255478657338274,
          -1.6652247217350953,
          -0.3571409627887695,
          0.05774639003035528,
          -0.47989239854050036,
          -0.675449156696727,
          -1.1430868805095362,
          -0.006663393609728982,
          -1.0620327924289885,
          1.4718999257473302,
          -0.6113357749066433,
          0.36148596789055853,
          -0.24393747075538624,
          1.0748240094017911,
          1.4315036978476303,
          -1.2193491756829018,
          1.0785112055318675,
          1.0922663616955144,
          -0.5271205263605011,
          -0.27374315353472867,
          0.028154193665865107,
          -1.1351935382309162,
          1.4612941727462698,
          -0.3509454137365033,
          0.6106125561226777,
          0.7478186327737351,
          -0.7425042942314749,
          1.916765223828547,
          1.240873891099306,
          -0.4406511100190365,
          1.346795532600243,
          -1.4120166335488293,
          -0.9726486257162662,
          -0.2852448153129776,
          -3.0108073083457927,
          -1.7635744867048033,
          -1.0166029223919701,
          0.6767572035278194,
          0.14883919105469573
         ]
        },
        {
         "histfunc": "count",
         "histnorm": "",
         "marker": {
          "color": "rgba(50, 171, 96, 1.0)",
          "line": {
           "color": "#4D5663",
           "width": 1.3
          }
         },
         "name": "C",
         "opacity": 0.8,
         "orientation": "v",
         "type": "histogram",
         "x": [
          -0.02618591574760387,
          -0.377594300707286,
          -0.40092302383041983,
          0.6226015130997402,
          1.7867408483882843,
          0.7007119925230211,
          2.0235266876031255,
          0.7310226916111957,
          -0.8653414905893465,
          0.07584612501092945,
          -0.28599575196194454,
          -1.1679062585670845,
          -1.5640424278658303,
          0.69945694861903,
          0.041094356317120245,
          -0.702094853390491,
          0.31749661894888925,
          0.6083667193106708,
          -0.13474980077139592,
          -0.021430909192688186,
          -0.25663331565876724,
          0.23446811217305416,
          -1.2019860895329175,
          0.9817031913314874,
          -1.1533314435179867,
          2.0537614550794383,
          0.31522051812578417,
          1.0356187024343126,
          0.6342422355054017,
          -0.053210739129649465,
          -1.0455114507622878,
          0.6593770973632015,
          -0.4269000489697485,
          -0.12334687895820025,
          0.2597387514760385,
          0.9080627172498368,
          -1.309092634952256,
          -0.3177438413176344,
          1.4491035428322692,
          -0.09189578438614497,
          -2.230077254290799,
          0.280010974541339,
          -0.6347446551844496,
          1.2737692460698924,
          2.2294210032717627,
          0.17808348459587112,
          -0.37426670210173707,
          -0.0069816754418047435,
          -0.46872482270574406,
          0.17977023674502898,
          -0.26884064984389405,
          0.590495165917698,
          -0.17716040762618426,
          0.20066817442639379,
          -0.7701778334238273,
          0.8914670475143059,
          -0.5225005737966002,
          0.44816652712536914,
          -2.96785333476731,
          -1.2653497639013929,
          0.1650183037865434,
          -0.05002056688627636,
          -0.8630009351378776,
          -1.5512253786732901,
          0.6326789472654919,
          -0.04081108924705931,
          0.039061581133283126,
          1.5497856366840013,
          -0.848995416695419,
          0.6339309928561057,
          -0.8910189407837548,
          0.9002056587236599,
          -0.2587337492688455,
          0.11279051279112261,
          -0.15365937140649974,
          -0.4910663874110523,
          1.2612638182302032,
          -2.4757182497454018,
          -1.7216730571254608,
          1.2725049971883207,
          -0.9929844025457848,
          -1.2821966314575877,
          -0.11954916159591458,
          -0.4564407666493159,
          1.508318000816078,
          -0.0934703839230235,
          1.2501652187292178,
          -0.46879820846883025,
          0.19844961707997533,
          -2.1459365572956846,
          -2.071426215645999,
          0.5888089437087306,
          -0.5112900157331203,
          -0.21275179229777214,
          -1.0890805879098995,
          -1.7598988719797426,
          -0.927097618061559,
          1.454395971413865,
          -1.6146175916064411,
          -1.0087391627527382
         ]
        },
        {
         "histfunc": "count",
         "histnorm": "",
         "marker": {
          "color": "rgba(128, 0, 128, 1.0)",
          "line": {
           "color": "#4D5663",
           "width": 1.3
          }
         },
         "name": "D",
         "opacity": 0.8,
         "orientation": "v",
         "type": "histogram",
         "x": [
          -1.1378255351906068,
          -1.9324290264990547,
          0.412873950725174,
          -1.8278889943930452,
          0.26505636248391123,
          -0.4511448776762043,
          -0.16429593523549452,
          0.0441634524289908,
          0.8901929140789799,
          0.9528293002879427,
          -0.4164940835430671,
          2.092922924567059,
          1.4940839215309305,
          -0.2669443534103714,
          -0.1625073651105624,
          -1.0277864531700824,
          0.2714354464139936,
          0.7652238166343336,
          -0.6185867486415615,
          -0.3386571617039138,
          -0.3161248120466677,
          0.5710324792283733,
          -1.5249464802738668,
          -1.334373160303245,
          0.14496818123002284,
          0.45608868102679767,
          1.8003104449689311,
          -0.14253677500263165,
          0.3618331353222978,
          -1.0487580358894426,
          0.4168789695894866,
          -0.25965569714086006,
          -0.5990700644206105,
          -0.12754730946254858,
          0.1609097100695703,
          -0.612772377898927,
          0.5893269219618965,
          -0.007587308662248082,
          -1.2396321553365013,
          -0.3228524676932316,
          2.0691877262518066,
          0.21575433288173168,
          -0.33688431639229416,
          -0.584943042777959,
          -0.021978302530539635,
          0.7760964928004312,
          0.2341124389450538,
          -0.6804767518930187,
          0.29743695826935995,
          -1.2995657384445818,
          -1.1731514576749118,
          1.775715051156065,
          -0.26136178641767793,
          1.5428154798082716,
          0.34932184123664994,
          -0.15885079640979533,
          0.24607230937253333,
          0.2935565236057475,
          0.059958085203068945,
          0.6811151621009519,
          0.3124443053318358,
          0.35737431918893203,
          -0.4378153347902127,
          -0.09958545939881695,
          0.9507249410063682,
          -1.2055051283131741,
          -0.967407806976702,
          -0.5250235543538504,
          -1.3263512258412549,
          -0.5974841819256089,
          0.7858376437377379,
          0.16259035468987162,
          -0.7902561073258011,
          0.1382269110475103,
          1.6266262871594164,
          1.1377555894088582,
          -2.1287698279677607,
          0.7312169085870153,
          -0.286878671127475,
          0.5019090793008186,
          0.9090457145830573,
          -1.8404050305770792,
          0.21917425845647676,
          0.9400268734050679,
          0.07307879979290297,
          0.06257165723555402,
          0.41662989125303784,
          0.4517203457412141,
          0.6543843691753921,
          -0.7668755560446119,
          -0.020854012382010814,
          0.46738215329666766,
          0.6650453240884444,
          0.5787135254319014,
          -1.0381663200426428,
          0.025476372190832014,
          1.3203897331098426,
          -0.2783016747545439,
          1.919420967279771,
          -0.29386813886300417
         ]
        }
       ],
       "layout": {
        "barmode": "overlay",
        "legend": {
         "bgcolor": "#F5F6F9",
         "font": {
          "color": "#4D5663"
         }
        },
        "paper_bgcolor": "#F5F6F9",
        "plot_bgcolor": "#F5F6F9",
        "template": {
         "data": {
          "bar": [
           {
            "error_x": {
             "color": "#2a3f5f"
            },
            "error_y": {
             "color": "#2a3f5f"
            },
            "marker": {
             "line": {
              "color": "#E5ECF6",
              "width": 0.5
             },
             "pattern": {
              "fillmode": "overlay",
              "size": 10,
              "solidity": 0.2
             }
            },
            "type": "bar"
           }
          ],
          "barpolar": [
           {
            "marker": {
             "line": {
              "color": "#E5ECF6",
              "width": 0.5
             },
             "pattern": {
              "fillmode": "overlay",
              "size": 10,
              "solidity": 0.2
             }
            },
            "type": "barpolar"
           }
          ],
          "carpet": [
           {
            "aaxis": {
             "endlinecolor": "#2a3f5f",
             "gridcolor": "white",
             "linecolor": "white",
             "minorgridcolor": "white",
             "startlinecolor": "#2a3f5f"
            },
            "baxis": {
             "endlinecolor": "#2a3f5f",
             "gridcolor": "white",
             "linecolor": "white",
             "minorgridcolor": "white",
             "startlinecolor": "#2a3f5f"
            },
            "type": "carpet"
           }
          ],
          "choropleth": [
           {
            "colorbar": {
             "outlinewidth": 0,
             "ticks": ""
            },
            "type": "choropleth"
           }
          ],
          "contour": [
           {
            "colorbar": {
             "outlinewidth": 0,
             "ticks": ""
            },
            "colorscale": [
             [
              0,
              "#0d0887"
             ],
             [
              0.1111111111111111,
              "#46039f"
             ],
             [
              0.2222222222222222,
              "#7201a8"
             ],
             [
              0.3333333333333333,
              "#9c179e"
             ],
             [
              0.4444444444444444,
              "#bd3786"
             ],
             [
              0.5555555555555556,
              "#d8576b"
             ],
             [
              0.6666666666666666,
              "#ed7953"
             ],
             [
              0.7777777777777778,
              "#fb9f3a"
             ],
             [
              0.8888888888888888,
              "#fdca26"
             ],
             [
              1,
              "#f0f921"
             ]
            ],
            "type": "contour"
           }
          ],
          "contourcarpet": [
           {
            "colorbar": {
             "outlinewidth": 0,
             "ticks": ""
            },
            "type": "contourcarpet"
           }
          ],
          "heatmap": [
           {
            "colorbar": {
             "outlinewidth": 0,
             "ticks": ""
            },
            "colorscale": [
             [
              0,
              "#0d0887"
             ],
             [
              0.1111111111111111,
              "#46039f"
             ],
             [
              0.2222222222222222,
              "#7201a8"
             ],
             [
              0.3333333333333333,
              "#9c179e"
             ],
             [
              0.4444444444444444,
              "#bd3786"
             ],
             [
              0.5555555555555556,
              "#d8576b"
             ],
             [
              0.6666666666666666,
              "#ed7953"
             ],
             [
              0.7777777777777778,
              "#fb9f3a"
             ],
             [
              0.8888888888888888,
              "#fdca26"
             ],
             [
              1,
              "#f0f921"
             ]
            ],
            "type": "heatmap"
           }
          ],
          "heatmapgl": [
           {
            "colorbar": {
             "outlinewidth": 0,
             "ticks": ""
            },
            "colorscale": [
             [
              0,
              "#0d0887"
             ],
             [
              0.1111111111111111,
              "#46039f"
             ],
             [
              0.2222222222222222,
              "#7201a8"
             ],
             [
              0.3333333333333333,
              "#9c179e"
             ],
             [
              0.4444444444444444,
              "#bd3786"
             ],
             [
              0.5555555555555556,
              "#d8576b"
             ],
             [
              0.6666666666666666,
              "#ed7953"
             ],
             [
              0.7777777777777778,
              "#fb9f3a"
             ],
             [
              0.8888888888888888,
              "#fdca26"
             ],
             [
              1,
              "#f0f921"
             ]
            ],
            "type": "heatmapgl"
           }
          ],
          "histogram": [
           {
            "marker": {
             "pattern": {
              "fillmode": "overlay",
              "size": 10,
              "solidity": 0.2
             }
            },
            "type": "histogram"
           }
          ],
          "histogram2d": [
           {
            "colorbar": {
             "outlinewidth": 0,
             "ticks": ""
            },
            "colorscale": [
             [
              0,
              "#0d0887"
             ],
             [
              0.1111111111111111,
              "#46039f"
             ],
             [
              0.2222222222222222,
              "#7201a8"
             ],
             [
              0.3333333333333333,
              "#9c179e"
             ],
             [
              0.4444444444444444,
              "#bd3786"
             ],
             [
              0.5555555555555556,
              "#d8576b"
             ],
             [
              0.6666666666666666,
              "#ed7953"
             ],
             [
              0.7777777777777778,
              "#fb9f3a"
             ],
             [
              0.8888888888888888,
              "#fdca26"
             ],
             [
              1,
              "#f0f921"
             ]
            ],
            "type": "histogram2d"
           }
          ],
          "histogram2dcontour": [
           {
            "colorbar": {
             "outlinewidth": 0,
             "ticks": ""
            },
            "colorscale": [
             [
              0,
              "#0d0887"
             ],
             [
              0.1111111111111111,
              "#46039f"
             ],
             [
              0.2222222222222222,
              "#7201a8"
             ],
             [
              0.3333333333333333,
              "#9c179e"
             ],
             [
              0.4444444444444444,
              "#bd3786"
             ],
             [
              0.5555555555555556,
              "#d8576b"
             ],
             [
              0.6666666666666666,
              "#ed7953"
             ],
             [
              0.7777777777777778,
              "#fb9f3a"
             ],
             [
              0.8888888888888888,
              "#fdca26"
             ],
             [
              1,
              "#f0f921"
             ]
            ],
            "type": "histogram2dcontour"
           }
          ],
          "mesh3d": [
           {
            "colorbar": {
             "outlinewidth": 0,
             "ticks": ""
            },
            "type": "mesh3d"
           }
          ],
          "parcoords": [
           {
            "line": {
             "colorbar": {
              "outlinewidth": 0,
              "ticks": ""
             }
            },
            "type": "parcoords"
           }
          ],
          "pie": [
           {
            "automargin": true,
            "type": "pie"
           }
          ],
          "scatter": [
           {
            "fillpattern": {
             "fillmode": "overlay",
             "size": 10,
             "solidity": 0.2
            },
            "type": "scatter"
           }
          ],
          "scatter3d": [
           {
            "line": {
             "colorbar": {
              "outlinewidth": 0,
              "ticks": ""
             }
            },
            "marker": {
             "colorbar": {
              "outlinewidth": 0,
              "ticks": ""
             }
            },
            "type": "scatter3d"
           }
          ],
          "scattercarpet": [
           {
            "marker": {
             "colorbar": {
              "outlinewidth": 0,
              "ticks": ""
             }
            },
            "type": "scattercarpet"
           }
          ],
          "scattergeo": [
           {
            "marker": {
             "colorbar": {
              "outlinewidth": 0,
              "ticks": ""
             }
            },
            "type": "scattergeo"
           }
          ],
          "scattergl": [
           {
            "marker": {
             "colorbar": {
              "outlinewidth": 0,
              "ticks": ""
             }
            },
            "type": "scattergl"
           }
          ],
          "scattermapbox": [
           {
            "marker": {
             "colorbar": {
              "outlinewidth": 0,
              "ticks": ""
             }
            },
            "type": "scattermapbox"
           }
          ],
          "scatterpolar": [
           {
            "marker": {
             "colorbar": {
              "outlinewidth": 0,
              "ticks": ""
             }
            },
            "type": "scatterpolar"
           }
          ],
          "scatterpolargl": [
           {
            "marker": {
             "colorbar": {
              "outlinewidth": 0,
              "ticks": ""
             }
            },
            "type": "scatterpolargl"
           }
          ],
          "scatterternary": [
           {
            "marker": {
             "colorbar": {
              "outlinewidth": 0,
              "ticks": ""
             }
            },
            "type": "scatterternary"
           }
          ],
          "surface": [
           {
            "colorbar": {
             "outlinewidth": 0,
             "ticks": ""
            },
            "colorscale": [
             [
              0,
              "#0d0887"
             ],
             [
              0.1111111111111111,
              "#46039f"
             ],
             [
              0.2222222222222222,
              "#7201a8"
             ],
             [
              0.3333333333333333,
              "#9c179e"
             ],
             [
              0.4444444444444444,
              "#bd3786"
             ],
             [
              0.5555555555555556,
              "#d8576b"
             ],
             [
              0.6666666666666666,
              "#ed7953"
             ],
             [
              0.7777777777777778,
              "#fb9f3a"
             ],
             [
              0.8888888888888888,
              "#fdca26"
             ],
             [
              1,
              "#f0f921"
             ]
            ],
            "type": "surface"
           }
          ],
          "table": [
           {
            "cells": {
             "fill": {
              "color": "#EBF0F8"
             },
             "line": {
              "color": "white"
             }
            },
            "header": {
             "fill": {
              "color": "#C8D4E3"
             },
             "line": {
              "color": "white"
             }
            },
            "type": "table"
           }
          ]
         },
         "layout": {
          "annotationdefaults": {
           "arrowcolor": "#2a3f5f",
           "arrowhead": 0,
           "arrowwidth": 1
          },
          "autotypenumbers": "strict",
          "coloraxis": {
           "colorbar": {
            "outlinewidth": 0,
            "ticks": ""
           }
          },
          "colorscale": {
           "diverging": [
            [
             0,
             "#8e0152"
            ],
            [
             0.1,
             "#c51b7d"
            ],
            [
             0.2,
             "#de77ae"
            ],
            [
             0.3,
             "#f1b6da"
            ],
            [
             0.4,
             "#fde0ef"
            ],
            [
             0.5,
             "#f7f7f7"
            ],
            [
             0.6,
             "#e6f5d0"
            ],
            [
             0.7,
             "#b8e186"
            ],
            [
             0.8,
             "#7fbc41"
            ],
            [
             0.9,
             "#4d9221"
            ],
            [
             1,
             "#276419"
            ]
           ],
           "sequential": [
            [
             0,
             "#0d0887"
            ],
            [
             0.1111111111111111,
             "#46039f"
            ],
            [
             0.2222222222222222,
             "#7201a8"
            ],
            [
             0.3333333333333333,
             "#9c179e"
            ],
            [
             0.4444444444444444,
             "#bd3786"
            ],
            [
             0.5555555555555556,
             "#d8576b"
            ],
            [
             0.6666666666666666,
             "#ed7953"
            ],
            [
             0.7777777777777778,
             "#fb9f3a"
            ],
            [
             0.8888888888888888,
             "#fdca26"
            ],
            [
             1,
             "#f0f921"
            ]
           ],
           "sequentialminus": [
            [
             0,
             "#0d0887"
            ],
            [
             0.1111111111111111,
             "#46039f"
            ],
            [
             0.2222222222222222,
             "#7201a8"
            ],
            [
             0.3333333333333333,
             "#9c179e"
            ],
            [
             0.4444444444444444,
             "#bd3786"
            ],
            [
             0.5555555555555556,
             "#d8576b"
            ],
            [
             0.6666666666666666,
             "#ed7953"
            ],
            [
             0.7777777777777778,
             "#fb9f3a"
            ],
            [
             0.8888888888888888,
             "#fdca26"
            ],
            [
             1,
             "#f0f921"
            ]
           ]
          },
          "colorway": [
           "#636efa",
           "#EF553B",
           "#00cc96",
           "#ab63fa",
           "#FFA15A",
           "#19d3f3",
           "#FF6692",
           "#B6E880",
           "#FF97FF",
           "#FECB52"
          ],
          "font": {
           "color": "#2a3f5f"
          },
          "geo": {
           "bgcolor": "white",
           "lakecolor": "white",
           "landcolor": "#E5ECF6",
           "showlakes": true,
           "showland": true,
           "subunitcolor": "white"
          },
          "hoverlabel": {
           "align": "left"
          },
          "hovermode": "closest",
          "mapbox": {
           "style": "light"
          },
          "paper_bgcolor": "white",
          "plot_bgcolor": "#E5ECF6",
          "polar": {
           "angularaxis": {
            "gridcolor": "white",
            "linecolor": "white",
            "ticks": ""
           },
           "bgcolor": "#E5ECF6",
           "radialaxis": {
            "gridcolor": "white",
            "linecolor": "white",
            "ticks": ""
           }
          },
          "scene": {
           "xaxis": {
            "backgroundcolor": "#E5ECF6",
            "gridcolor": "white",
            "gridwidth": 2,
            "linecolor": "white",
            "showbackground": true,
            "ticks": "",
            "zerolinecolor": "white"
           },
           "yaxis": {
            "backgroundcolor": "#E5ECF6",
            "gridcolor": "white",
            "gridwidth": 2,
            "linecolor": "white",
            "showbackground": true,
            "ticks": "",
            "zerolinecolor": "white"
           },
           "zaxis": {
            "backgroundcolor": "#E5ECF6",
            "gridcolor": "white",
            "gridwidth": 2,
            "linecolor": "white",
            "showbackground": true,
            "ticks": "",
            "zerolinecolor": "white"
           }
          },
          "shapedefaults": {
           "line": {
            "color": "#2a3f5f"
           }
          },
          "ternary": {
           "aaxis": {
            "gridcolor": "white",
            "linecolor": "white",
            "ticks": ""
           },
           "baxis": {
            "gridcolor": "white",
            "linecolor": "white",
            "ticks": ""
           },
           "bgcolor": "#E5ECF6",
           "caxis": {
            "gridcolor": "white",
            "linecolor": "white",
            "ticks": ""
           }
          },
          "title": {
           "x": 0.05
          },
          "xaxis": {
           "automargin": true,
           "gridcolor": "white",
           "linecolor": "white",
           "ticks": "",
           "title": {
            "standoff": 15
           },
           "zerolinecolor": "white",
           "zerolinewidth": 2
          },
          "yaxis": {
           "automargin": true,
           "gridcolor": "white",
           "linecolor": "white",
           "ticks": "",
           "title": {
            "standoff": 15
           },
           "zerolinecolor": "white",
           "zerolinewidth": 2
          }
         }
        },
        "title": {
         "font": {
          "color": "#4D5663"
         }
        },
        "xaxis": {
         "gridcolor": "#E1E5ED",
         "showgrid": true,
         "tickfont": {
          "color": "#4D5663"
         },
         "title": {
          "font": {
           "color": "#4D5663"
          },
          "text": ""
         },
         "zerolinecolor": "#E1E5ED"
        },
        "yaxis": {
         "gridcolor": "#E1E5ED",
         "showgrid": true,
         "tickfont": {
          "color": "#4D5663"
         },
         "title": {
          "font": {
           "color": "#4D5663"
          },
          "text": ""
         },
         "zerolinecolor": "#E1E5ED"
        }
       }
      },
      "text/html": [
       "<div>                            <div id=\"101a80b4-b217-44ce-9ed2-83722315d74e\" class=\"plotly-graph-div\" style=\"height:525px; width:100%;\"></div>            <script type=\"text/javascript\">                require([\"plotly\"], function(Plotly) {                    window.PLOTLYENV=window.PLOTLYENV || {};\n",
       "                    window.PLOTLYENV.BASE_URL='https://plot.ly';                                    if (document.getElementById(\"101a80b4-b217-44ce-9ed2-83722315d74e\")) {                    Plotly.newPlot(                        \"101a80b4-b217-44ce-9ed2-83722315d74e\",                        [{\"histfunc\":\"count\",\"histnorm\":\"\",\"marker\":{\"color\":\"rgba(255, 153, 51, 1.0)\",\"line\":{\"color\":\"#4D5663\",\"width\":1.3}},\"name\":\"A\",\"opacity\":0.8,\"orientation\":\"v\",\"x\":[1.8511519134780592,0.9932635503226296,-0.20359937233167702,1.5257768804344916,0.7989148705029956,-0.7401919047073051,-0.8630213226964086,0.7013687303870811,-0.6247974874205289,0.10910461350500907,-0.11538038639040019,-0.02648740437455768,-0.43732218661342515,-0.7125768681585045,1.0133586523249136,-0.8616519633585347,-2.1230616381436356,-0.9749949035547446,0.5043444129264993,0.18825104298423934,-0.1432776826929805,0.5868807139113783,-0.5195842176454574,0.5736013901487871,-0.8173712354802753,0.6609920652626308,0.4168308410755578,0.5852219339927222,0.010802370600104156,-0.41273169823065897,-0.20857735228632088,-0.8416615204104636,0.052944189995554204,0.005686937411339467,0.3844520636603806,-1.0631481481915048,-0.11724016976317891,0.6630852320859335,0.5115801618934522,2.2561195936427705,0.3109656972874523,1.0994549480156748,-0.7208326396818907,-0.1977387682776627,-0.16040121850252212,0.794102216112637,0.7464271735955996,-0.647542908423245,-1.4984047157520854,-0.04075648099172144,2.264819816919803,-0.5552027566980382,-0.6748951474162486,-1.007916433892245,-1.3106915777664427,-1.8225142752914754,1.334030713362875,0.07572488075553528,-0.5830773501448417,0.38454318739022125,1.6110776348434117,-0.3174845924378902,0.8445097695504995,-0.41461007268988176,0.365775246787856,-1.496269233552682,0.3008252693310851,-0.39326338113914816,0.5008110351639224,-0.672608996952311,-1.0421214869609523,-0.11156295997918914,0.3092029035122308,0.28260084055062595,0.6949297525981041,-0.9319657740427375,-1.9514085275441992,-0.7841155550829054,-0.2998409331653889,0.03951669010773553,-0.0727240387013017,-1.9518606100277855,0.9883285146195404,0.7508231282590799,1.209982615480504,0.7921753321761256,-0.9946655537151281,1.3067058404422474,0.5712332382845726,-0.5386093862850266,0.30013330235114466,-1.4869281940691312,0.9620169121202278,1.114277142834589,-1.3650422850750878,0.3298673585324569,0.9810828436899907,-0.9471938559777627,-0.6557976449379221,0.5954509216804071],\"type\":\"histogram\"},{\"histfunc\":\"count\",\"histnorm\":\"\",\"marker\":{\"color\":\"rgba(55, 128, 191, 1.0)\",\"line\":{\"color\":\"#4D5663\",\"width\":1.3}},\"name\":\"B\",\"opacity\":0.8,\"orientation\":\"v\",\"x\":[0.45782172851946584,0.4344214900313023,0.6658987220489518,2.895439169924277,-0.04735765933408375,0.14131190059074383,-0.6793167129790467,-1.33376156241096,0.5129051932325256,-1.8426154108364827,0.5414409748569157,1.5180507825544969,0.6886450990269172,-0.2934527411501007,1.247504281758502,-0.6923792689440722,1.3358752949438544,3.3009912281541745,-1.1772677491504626,3.0413738620919792,0.1939145630185375,1.316173538909124,0.4568857268531616,-0.45612992746179104,0.36962784918045843,-1.0872283818862274,-1.268507848017612,1.3690989346946598,2.404028688631945,0.6953932785311059,0.16957159952658565,-0.820430620044971,1.3622920559583251,1.2194783554864315,0.5270262370309676,0.12673147173592114,0.6274228407561939,2.1519729621866612,-0.1503870682355416,-0.8032647853869308,-1.7334754959923606,1.1498738436198657,0.9024715532142299,-0.6299946110464666,-0.10479446190246755,0.3807627473851706,0.30429400869494144,-0.09747668965216076,0.034130483643344964,2.3125818412357924,-0.1195421817947865,-1.1451149065169193,-0.10831608455742575,0.7369917906053898,0.26648976296350796,0.04793412305608602,0.9135049453782854,-0.10974581209473559,1.2973055112154592,1.409109018811545,-0.4880439368583151,-0.41255478657338274,-1.6652247217350953,-0.3571409627887695,0.05774639003035528,-0.47989239854050036,-0.675449156696727,-1.1430868805095362,-0.006663393609728982,-1.0620327924289885,1.4718999257473302,-0.6113357749066433,0.36148596789055853,-0.24393747075538624,1.0748240094017911,1.4315036978476303,-1.2193491756829018,1.0785112055318675,1.0922663616955144,-0.5271205263605011,-0.27374315353472867,0.028154193665865107,-1.1351935382309162,1.4612941727462698,-0.3509454137365033,0.6106125561226777,0.7478186327737351,-0.7425042942314749,1.916765223828547,1.240873891099306,-0.4406511100190365,1.346795532600243,-1.4120166335488293,-0.9726486257162662,-0.2852448153129776,-3.0108073083457927,-1.7635744867048033,-1.0166029223919701,0.6767572035278194,0.14883919105469573],\"type\":\"histogram\"},{\"histfunc\":\"count\",\"histnorm\":\"\",\"marker\":{\"color\":\"rgba(50, 171, 96, 1.0)\",\"line\":{\"color\":\"#4D5663\",\"width\":1.3}},\"name\":\"C\",\"opacity\":0.8,\"orientation\":\"v\",\"x\":[-0.02618591574760387,-0.377594300707286,-0.40092302383041983,0.6226015130997402,1.7867408483882843,0.7007119925230211,2.0235266876031255,0.7310226916111957,-0.8653414905893465,0.07584612501092945,-0.28599575196194454,-1.1679062585670845,-1.5640424278658303,0.69945694861903,0.041094356317120245,-0.702094853390491,0.31749661894888925,0.6083667193106708,-0.13474980077139592,-0.021430909192688186,-0.25663331565876724,0.23446811217305416,-1.2019860895329175,0.9817031913314874,-1.1533314435179867,2.0537614550794383,0.31522051812578417,1.0356187024343126,0.6342422355054017,-0.053210739129649465,-1.0455114507622878,0.6593770973632015,-0.4269000489697485,-0.12334687895820025,0.2597387514760385,0.9080627172498368,-1.309092634952256,-0.3177438413176344,1.4491035428322692,-0.09189578438614497,-2.230077254290799,0.280010974541339,-0.6347446551844496,1.2737692460698924,2.2294210032717627,0.17808348459587112,-0.37426670210173707,-0.0069816754418047435,-0.46872482270574406,0.17977023674502898,-0.26884064984389405,0.590495165917698,-0.17716040762618426,0.20066817442639379,-0.7701778334238273,0.8914670475143059,-0.5225005737966002,0.44816652712536914,-2.96785333476731,-1.2653497639013929,0.1650183037865434,-0.05002056688627636,-0.8630009351378776,-1.5512253786732901,0.6326789472654919,-0.04081108924705931,0.039061581133283126,1.5497856366840013,-0.848995416695419,0.6339309928561057,-0.8910189407837548,0.9002056587236599,-0.2587337492688455,0.11279051279112261,-0.15365937140649974,-0.4910663874110523,1.2612638182302032,-2.4757182497454018,-1.7216730571254608,1.2725049971883207,-0.9929844025457848,-1.2821966314575877,-0.11954916159591458,-0.4564407666493159,1.508318000816078,-0.0934703839230235,1.2501652187292178,-0.46879820846883025,0.19844961707997533,-2.1459365572956846,-2.071426215645999,0.5888089437087306,-0.5112900157331203,-0.21275179229777214,-1.0890805879098995,-1.7598988719797426,-0.927097618061559,1.454395971413865,-1.6146175916064411,-1.0087391627527382],\"type\":\"histogram\"},{\"histfunc\":\"count\",\"histnorm\":\"\",\"marker\":{\"color\":\"rgba(128, 0, 128, 1.0)\",\"line\":{\"color\":\"#4D5663\",\"width\":1.3}},\"name\":\"D\",\"opacity\":0.8,\"orientation\":\"v\",\"x\":[-1.1378255351906068,-1.9324290264990547,0.412873950725174,-1.8278889943930452,0.26505636248391123,-0.4511448776762043,-0.16429593523549452,0.0441634524289908,0.8901929140789799,0.9528293002879427,-0.4164940835430671,2.092922924567059,1.4940839215309305,-0.2669443534103714,-0.1625073651105624,-1.0277864531700824,0.2714354464139936,0.7652238166343336,-0.6185867486415615,-0.3386571617039138,-0.3161248120466677,0.5710324792283733,-1.5249464802738668,-1.334373160303245,0.14496818123002284,0.45608868102679767,1.8003104449689311,-0.14253677500263165,0.3618331353222978,-1.0487580358894426,0.4168789695894866,-0.25965569714086006,-0.5990700644206105,-0.12754730946254858,0.1609097100695703,-0.612772377898927,0.5893269219618965,-0.007587308662248082,-1.2396321553365013,-0.3228524676932316,2.0691877262518066,0.21575433288173168,-0.33688431639229416,-0.584943042777959,-0.021978302530539635,0.7760964928004312,0.2341124389450538,-0.6804767518930187,0.29743695826935995,-1.2995657384445818,-1.1731514576749118,1.775715051156065,-0.26136178641767793,1.5428154798082716,0.34932184123664994,-0.15885079640979533,0.24607230937253333,0.2935565236057475,0.059958085203068945,0.6811151621009519,0.3124443053318358,0.35737431918893203,-0.4378153347902127,-0.09958545939881695,0.9507249410063682,-1.2055051283131741,-0.967407806976702,-0.5250235543538504,-1.3263512258412549,-0.5974841819256089,0.7858376437377379,0.16259035468987162,-0.7902561073258011,0.1382269110475103,1.6266262871594164,1.1377555894088582,-2.1287698279677607,0.7312169085870153,-0.286878671127475,0.5019090793008186,0.9090457145830573,-1.8404050305770792,0.21917425845647676,0.9400268734050679,0.07307879979290297,0.06257165723555402,0.41662989125303784,0.4517203457412141,0.6543843691753921,-0.7668755560446119,-0.020854012382010814,0.46738215329666766,0.6650453240884444,0.5787135254319014,-1.0381663200426428,0.025476372190832014,1.3203897331098426,-0.2783016747545439,1.919420967279771,-0.29386813886300417],\"type\":\"histogram\"}],                        {\"barmode\":\"overlay\",\"legend\":{\"bgcolor\":\"#F5F6F9\",\"font\":{\"color\":\"#4D5663\"}},\"paper_bgcolor\":\"#F5F6F9\",\"plot_bgcolor\":\"#F5F6F9\",\"template\":{\"data\":{\"barpolar\":[{\"marker\":{\"line\":{\"color\":\"#E5ECF6\",\"width\":0.5},\"pattern\":{\"fillmode\":\"overlay\",\"size\":10,\"solidity\":0.2}},\"type\":\"barpolar\"}],\"bar\":[{\"error_x\":{\"color\":\"#2a3f5f\"},\"error_y\":{\"color\":\"#2a3f5f\"},\"marker\":{\"line\":{\"color\":\"#E5ECF6\",\"width\":0.5},\"pattern\":{\"fillmode\":\"overlay\",\"size\":10,\"solidity\":0.2}},\"type\":\"bar\"}],\"carpet\":[{\"aaxis\":{\"endlinecolor\":\"#2a3f5f\",\"gridcolor\":\"white\",\"linecolor\":\"white\",\"minorgridcolor\":\"white\",\"startlinecolor\":\"#2a3f5f\"},\"baxis\":{\"endlinecolor\":\"#2a3f5f\",\"gridcolor\":\"white\",\"linecolor\":\"white\",\"minorgridcolor\":\"white\",\"startlinecolor\":\"#2a3f5f\"},\"type\":\"carpet\"}],\"choropleth\":[{\"colorbar\":{\"outlinewidth\":0,\"ticks\":\"\"},\"type\":\"choropleth\"}],\"contourcarpet\":[{\"colorbar\":{\"outlinewidth\":0,\"ticks\":\"\"},\"type\":\"contourcarpet\"}],\"contour\":[{\"colorbar\":{\"outlinewidth\":0,\"ticks\":\"\"},\"colorscale\":[[0.0,\"#0d0887\"],[0.1111111111111111,\"#46039f\"],[0.2222222222222222,\"#7201a8\"],[0.3333333333333333,\"#9c179e\"],[0.4444444444444444,\"#bd3786\"],[0.5555555555555556,\"#d8576b\"],[0.6666666666666666,\"#ed7953\"],[0.7777777777777778,\"#fb9f3a\"],[0.8888888888888888,\"#fdca26\"],[1.0,\"#f0f921\"]],\"type\":\"contour\"}],\"heatmapgl\":[{\"colorbar\":{\"outlinewidth\":0,\"ticks\":\"\"},\"colorscale\":[[0.0,\"#0d0887\"],[0.1111111111111111,\"#46039f\"],[0.2222222222222222,\"#7201a8\"],[0.3333333333333333,\"#9c179e\"],[0.4444444444444444,\"#bd3786\"],[0.5555555555555556,\"#d8576b\"],[0.6666666666666666,\"#ed7953\"],[0.7777777777777778,\"#fb9f3a\"],[0.8888888888888888,\"#fdca26\"],[1.0,\"#f0f921\"]],\"type\":\"heatmapgl\"}],\"heatmap\":[{\"colorbar\":{\"outlinewidth\":0,\"ticks\":\"\"},\"colorscale\":[[0.0,\"#0d0887\"],[0.1111111111111111,\"#46039f\"],[0.2222222222222222,\"#7201a8\"],[0.3333333333333333,\"#9c179e\"],[0.4444444444444444,\"#bd3786\"],[0.5555555555555556,\"#d8576b\"],[0.6666666666666666,\"#ed7953\"],[0.7777777777777778,\"#fb9f3a\"],[0.8888888888888888,\"#fdca26\"],[1.0,\"#f0f921\"]],\"type\":\"heatmap\"}],\"histogram2dcontour\":[{\"colorbar\":{\"outlinewidth\":0,\"ticks\":\"\"},\"colorscale\":[[0.0,\"#0d0887\"],[0.1111111111111111,\"#46039f\"],[0.2222222222222222,\"#7201a8\"],[0.3333333333333333,\"#9c179e\"],[0.4444444444444444,\"#bd3786\"],[0.5555555555555556,\"#d8576b\"],[0.6666666666666666,\"#ed7953\"],[0.7777777777777778,\"#fb9f3a\"],[0.8888888888888888,\"#fdca26\"],[1.0,\"#f0f921\"]],\"type\":\"histogram2dcontour\"}],\"histogram2d\":[{\"colorbar\":{\"outlinewidth\":0,\"ticks\":\"\"},\"colorscale\":[[0.0,\"#0d0887\"],[0.1111111111111111,\"#46039f\"],[0.2222222222222222,\"#7201a8\"],[0.3333333333333333,\"#9c179e\"],[0.4444444444444444,\"#bd3786\"],[0.5555555555555556,\"#d8576b\"],[0.6666666666666666,\"#ed7953\"],[0.7777777777777778,\"#fb9f3a\"],[0.8888888888888888,\"#fdca26\"],[1.0,\"#f0f921\"]],\"type\":\"histogram2d\"}],\"histogram\":[{\"marker\":{\"pattern\":{\"fillmode\":\"overlay\",\"size\":10,\"solidity\":0.2}},\"type\":\"histogram\"}],\"mesh3d\":[{\"colorbar\":{\"outlinewidth\":0,\"ticks\":\"\"},\"type\":\"mesh3d\"}],\"parcoords\":[{\"line\":{\"colorbar\":{\"outlinewidth\":0,\"ticks\":\"\"}},\"type\":\"parcoords\"}],\"pie\":[{\"automargin\":true,\"type\":\"pie\"}],\"scatter3d\":[{\"line\":{\"colorbar\":{\"outlinewidth\":0,\"ticks\":\"\"}},\"marker\":{\"colorbar\":{\"outlinewidth\":0,\"ticks\":\"\"}},\"type\":\"scatter3d\"}],\"scattercarpet\":[{\"marker\":{\"colorbar\":{\"outlinewidth\":0,\"ticks\":\"\"}},\"type\":\"scattercarpet\"}],\"scattergeo\":[{\"marker\":{\"colorbar\":{\"outlinewidth\":0,\"ticks\":\"\"}},\"type\":\"scattergeo\"}],\"scattergl\":[{\"marker\":{\"colorbar\":{\"outlinewidth\":0,\"ticks\":\"\"}},\"type\":\"scattergl\"}],\"scattermapbox\":[{\"marker\":{\"colorbar\":{\"outlinewidth\":0,\"ticks\":\"\"}},\"type\":\"scattermapbox\"}],\"scatterpolargl\":[{\"marker\":{\"colorbar\":{\"outlinewidth\":0,\"ticks\":\"\"}},\"type\":\"scatterpolargl\"}],\"scatterpolar\":[{\"marker\":{\"colorbar\":{\"outlinewidth\":0,\"ticks\":\"\"}},\"type\":\"scatterpolar\"}],\"scatter\":[{\"fillpattern\":{\"fillmode\":\"overlay\",\"size\":10,\"solidity\":0.2},\"type\":\"scatter\"}],\"scatterternary\":[{\"marker\":{\"colorbar\":{\"outlinewidth\":0,\"ticks\":\"\"}},\"type\":\"scatterternary\"}],\"surface\":[{\"colorbar\":{\"outlinewidth\":0,\"ticks\":\"\"},\"colorscale\":[[0.0,\"#0d0887\"],[0.1111111111111111,\"#46039f\"],[0.2222222222222222,\"#7201a8\"],[0.3333333333333333,\"#9c179e\"],[0.4444444444444444,\"#bd3786\"],[0.5555555555555556,\"#d8576b\"],[0.6666666666666666,\"#ed7953\"],[0.7777777777777778,\"#fb9f3a\"],[0.8888888888888888,\"#fdca26\"],[1.0,\"#f0f921\"]],\"type\":\"surface\"}],\"table\":[{\"cells\":{\"fill\":{\"color\":\"#EBF0F8\"},\"line\":{\"color\":\"white\"}},\"header\":{\"fill\":{\"color\":\"#C8D4E3\"},\"line\":{\"color\":\"white\"}},\"type\":\"table\"}]},\"layout\":{\"annotationdefaults\":{\"arrowcolor\":\"#2a3f5f\",\"arrowhead\":0,\"arrowwidth\":1},\"autotypenumbers\":\"strict\",\"coloraxis\":{\"colorbar\":{\"outlinewidth\":0,\"ticks\":\"\"}},\"colorscale\":{\"diverging\":[[0,\"#8e0152\"],[0.1,\"#c51b7d\"],[0.2,\"#de77ae\"],[0.3,\"#f1b6da\"],[0.4,\"#fde0ef\"],[0.5,\"#f7f7f7\"],[0.6,\"#e6f5d0\"],[0.7,\"#b8e186\"],[0.8,\"#7fbc41\"],[0.9,\"#4d9221\"],[1,\"#276419\"]],\"sequential\":[[0.0,\"#0d0887\"],[0.1111111111111111,\"#46039f\"],[0.2222222222222222,\"#7201a8\"],[0.3333333333333333,\"#9c179e\"],[0.4444444444444444,\"#bd3786\"],[0.5555555555555556,\"#d8576b\"],[0.6666666666666666,\"#ed7953\"],[0.7777777777777778,\"#fb9f3a\"],[0.8888888888888888,\"#fdca26\"],[1.0,\"#f0f921\"]],\"sequentialminus\":[[0.0,\"#0d0887\"],[0.1111111111111111,\"#46039f\"],[0.2222222222222222,\"#7201a8\"],[0.3333333333333333,\"#9c179e\"],[0.4444444444444444,\"#bd3786\"],[0.5555555555555556,\"#d8576b\"],[0.6666666666666666,\"#ed7953\"],[0.7777777777777778,\"#fb9f3a\"],[0.8888888888888888,\"#fdca26\"],[1.0,\"#f0f921\"]]},\"colorway\":[\"#636efa\",\"#EF553B\",\"#00cc96\",\"#ab63fa\",\"#FFA15A\",\"#19d3f3\",\"#FF6692\",\"#B6E880\",\"#FF97FF\",\"#FECB52\"],\"font\":{\"color\":\"#2a3f5f\"},\"geo\":{\"bgcolor\":\"white\",\"lakecolor\":\"white\",\"landcolor\":\"#E5ECF6\",\"showlakes\":true,\"showland\":true,\"subunitcolor\":\"white\"},\"hoverlabel\":{\"align\":\"left\"},\"hovermode\":\"closest\",\"mapbox\":{\"style\":\"light\"},\"paper_bgcolor\":\"white\",\"plot_bgcolor\":\"#E5ECF6\",\"polar\":{\"angularaxis\":{\"gridcolor\":\"white\",\"linecolor\":\"white\",\"ticks\":\"\"},\"bgcolor\":\"#E5ECF6\",\"radialaxis\":{\"gridcolor\":\"white\",\"linecolor\":\"white\",\"ticks\":\"\"}},\"scene\":{\"xaxis\":{\"backgroundcolor\":\"#E5ECF6\",\"gridcolor\":\"white\",\"gridwidth\":2,\"linecolor\":\"white\",\"showbackground\":true,\"ticks\":\"\",\"zerolinecolor\":\"white\"},\"yaxis\":{\"backgroundcolor\":\"#E5ECF6\",\"gridcolor\":\"white\",\"gridwidth\":2,\"linecolor\":\"white\",\"showbackground\":true,\"ticks\":\"\",\"zerolinecolor\":\"white\"},\"zaxis\":{\"backgroundcolor\":\"#E5ECF6\",\"gridcolor\":\"white\",\"gridwidth\":2,\"linecolor\":\"white\",\"showbackground\":true,\"ticks\":\"\",\"zerolinecolor\":\"white\"}},\"shapedefaults\":{\"line\":{\"color\":\"#2a3f5f\"}},\"ternary\":{\"aaxis\":{\"gridcolor\":\"white\",\"linecolor\":\"white\",\"ticks\":\"\"},\"baxis\":{\"gridcolor\":\"white\",\"linecolor\":\"white\",\"ticks\":\"\"},\"bgcolor\":\"#E5ECF6\",\"caxis\":{\"gridcolor\":\"white\",\"linecolor\":\"white\",\"ticks\":\"\"}},\"title\":{\"x\":0.05},\"xaxis\":{\"automargin\":true,\"gridcolor\":\"white\",\"linecolor\":\"white\",\"ticks\":\"\",\"title\":{\"standoff\":15},\"zerolinecolor\":\"white\",\"zerolinewidth\":2},\"yaxis\":{\"automargin\":true,\"gridcolor\":\"white\",\"linecolor\":\"white\",\"ticks\":\"\",\"title\":{\"standoff\":15},\"zerolinecolor\":\"white\",\"zerolinewidth\":2}}},\"title\":{\"font\":{\"color\":\"#4D5663\"}},\"xaxis\":{\"gridcolor\":\"#E1E5ED\",\"showgrid\":true,\"tickfont\":{\"color\":\"#4D5663\"},\"title\":{\"font\":{\"color\":\"#4D5663\"},\"text\":\"\"},\"zerolinecolor\":\"#E1E5ED\"},\"yaxis\":{\"gridcolor\":\"#E1E5ED\",\"showgrid\":true,\"tickfont\":{\"color\":\"#4D5663\"},\"title\":{\"font\":{\"color\":\"#4D5663\"},\"text\":\"\"},\"zerolinecolor\":\"#E1E5ED\"}},                        {\"showLink\": true, \"linkText\": \"Export to plot.ly\", \"plotlyServerURL\": \"https://plot.ly\", \"responsive\": true}                    ).then(function(){\n",
       "                            \n",
       "var gd = document.getElementById('101a80b4-b217-44ce-9ed2-83722315d74e');\n",
       "var x = new MutationObserver(function (mutations, observer) {{\n",
       "        var display = window.getComputedStyle(gd).display;\n",
       "        if (!display || display === 'none') {{\n",
       "            console.log([gd, 'removed!']);\n",
       "            Plotly.purge(gd);\n",
       "            observer.disconnect();\n",
       "        }}\n",
       "}});\n",
       "\n",
       "// Listen for the removal of the full notebook cells\n",
       "var notebookContainer = gd.closest('#notebook-container');\n",
       "if (notebookContainer) {{\n",
       "    x.observe(notebookContainer, {childList: true});\n",
       "}}\n",
       "\n",
       "// Listen for the clearing of the current output cell\n",
       "var outputEl = gd.closest('.output');\n",
       "if (outputEl) {{\n",
       "    x.observe(outputEl, {childList: true});\n",
       "}}\n",
       "\n",
       "                        })                };                });            </script>        </div>"
      ]
     },
     "metadata": {},
     "output_type": "display_data"
    }
   ],
   "source": [
    "df.iplot(kind='hist')"
   ]
  },
  {
   "cell_type": "code",
   "execution_count": 28,
   "metadata": {},
   "outputs": [
    {
     "data": {
      "application/vnd.plotly.v1+json": {
       "config": {
        "linkText": "Export to plot.ly",
        "plotlyServerURL": "https://plot.ly",
        "showLink": true
       },
       "data": [
        {
         "marker": {
          "color": [
           "rgb(255, 153, 51)",
           "rgb(55, 128, 191)",
           "rgb(50, 171, 96)",
           "rgb(128, 0, 128)",
           "rgb(219, 64, 82)",
           "rgb(0, 128, 128)",
           "rgb(255, 255, 51)",
           "rgb(128, 128, 0)",
           "rgb(251, 128, 114)",
           "rgb(128, 177, 211)"
          ],
          "line": {
           "width": 1.3
          },
          "size": [
           68,
           61,
           61,
           81,
           103,
           82,
           108,
           83,
           52,
           70,
           63,
           46,
           39,
           82,
           69,
           55,
           75,
           80,
           66,
           68,
           64,
           73,
           45,
           87,
           46,
           108,
           75,
           89,
           81,
           68,
           48,
           81,
           60,
           66,
           74,
           86,
           43,
           62,
           96,
           67,
           26,
           74,
           56,
           93,
           112,
           72,
           61,
           68,
           60,
           72,
           63,
           80,
           65,
           72,
           54,
           86,
           59,
           77,
           12,
           44,
           72,
           68,
           52,
           39,
           81,
           68,
           69,
           98,
           52,
           81,
           51,
           86,
           64,
           71,
           66,
           59,
           93,
           21,
           35,
           93,
           49,
           44,
           66,
           60,
           98,
           67,
           93,
           60,
           72,
           27,
           29,
           80,
           59,
           65,
           48,
           35,
           51,
           97,
           38,
           49
          ],
          "symbol": "circle"
         },
         "mode": "markers",
         "text": "",
         "type": "scatter",
         "x": [
          1.8511519134780592,
          0.9932635503226296,
          -0.20359937233167702,
          1.5257768804344916,
          0.7989148705029956,
          -0.7401919047073051,
          -0.8630213226964086,
          0.7013687303870811,
          -0.6247974874205289,
          0.10910461350500907,
          -0.11538038639040019,
          -0.02648740437455768,
          -0.43732218661342515,
          -0.7125768681585045,
          1.0133586523249136,
          -0.8616519633585347,
          -2.1230616381436356,
          -0.9749949035547446,
          0.5043444129264993,
          0.18825104298423934,
          -0.1432776826929805,
          0.5868807139113783,
          -0.5195842176454574,
          0.5736013901487871,
          -0.8173712354802753,
          0.6609920652626308,
          0.4168308410755578,
          0.5852219339927222,
          0.010802370600104156,
          -0.41273169823065897,
          -0.20857735228632088,
          -0.8416615204104636,
          0.052944189995554204,
          0.005686937411339467,
          0.3844520636603806,
          -1.0631481481915048,
          -0.11724016976317891,
          0.6630852320859335,
          0.5115801618934522,
          2.2561195936427705,
          0.3109656972874523,
          1.0994549480156748,
          -0.7208326396818907,
          -0.1977387682776627,
          -0.16040121850252212,
          0.794102216112637,
          0.7464271735955996,
          -0.647542908423245,
          -1.4984047157520854,
          -0.04075648099172144,
          2.264819816919803,
          -0.5552027566980382,
          -0.6748951474162486,
          -1.007916433892245,
          -1.3106915777664427,
          -1.8225142752914754,
          1.334030713362875,
          0.07572488075553528,
          -0.5830773501448417,
          0.38454318739022125,
          1.6110776348434117,
          -0.3174845924378902,
          0.8445097695504995,
          -0.41461007268988176,
          0.365775246787856,
          -1.496269233552682,
          0.3008252693310851,
          -0.39326338113914816,
          0.5008110351639224,
          -0.672608996952311,
          -1.0421214869609523,
          -0.11156295997918914,
          0.3092029035122308,
          0.28260084055062595,
          0.6949297525981041,
          -0.9319657740427375,
          -1.9514085275441992,
          -0.7841155550829054,
          -0.2998409331653889,
          0.03951669010773553,
          -0.0727240387013017,
          -1.9518606100277855,
          0.9883285146195404,
          0.7508231282590799,
          1.209982615480504,
          0.7921753321761256,
          -0.9946655537151281,
          1.3067058404422474,
          0.5712332382845726,
          -0.5386093862850266,
          0.30013330235114466,
          -1.4869281940691312,
          0.9620169121202278,
          1.114277142834589,
          -1.3650422850750878,
          0.3298673585324569,
          0.9810828436899907,
          -0.9471938559777627,
          -0.6557976449379221,
          0.5954509216804071
         ],
         "y": [
          0.45782172851946584,
          0.4344214900313023,
          0.6658987220489518,
          2.895439169924277,
          -0.04735765933408375,
          0.14131190059074383,
          -0.6793167129790467,
          -1.33376156241096,
          0.5129051932325256,
          -1.8426154108364827,
          0.5414409748569157,
          1.5180507825544969,
          0.6886450990269172,
          -0.2934527411501007,
          1.247504281758502,
          -0.6923792689440722,
          1.3358752949438544,
          3.3009912281541745,
          -1.1772677491504626,
          3.0413738620919792,
          0.1939145630185375,
          1.316173538909124,
          0.4568857268531616,
          -0.45612992746179104,
          0.36962784918045843,
          -1.0872283818862274,
          -1.268507848017612,
          1.3690989346946598,
          2.404028688631945,
          0.6953932785311059,
          0.16957159952658565,
          -0.820430620044971,
          1.3622920559583251,
          1.2194783554864315,
          0.5270262370309676,
          0.12673147173592114,
          0.6274228407561939,
          2.1519729621866612,
          -0.1503870682355416,
          -0.8032647853869308,
          -1.7334754959923606,
          1.1498738436198657,
          0.9024715532142299,
          -0.6299946110464666,
          -0.10479446190246755,
          0.3807627473851706,
          0.30429400869494144,
          -0.09747668965216076,
          0.034130483643344964,
          2.3125818412357924,
          -0.1195421817947865,
          -1.1451149065169193,
          -0.10831608455742575,
          0.7369917906053898,
          0.26648976296350796,
          0.04793412305608602,
          0.9135049453782854,
          -0.10974581209473559,
          1.2973055112154592,
          1.409109018811545,
          -0.4880439368583151,
          -0.41255478657338274,
          -1.6652247217350953,
          -0.3571409627887695,
          0.05774639003035528,
          -0.47989239854050036,
          -0.675449156696727,
          -1.1430868805095362,
          -0.006663393609728982,
          -1.0620327924289885,
          1.4718999257473302,
          -0.6113357749066433,
          0.36148596789055853,
          -0.24393747075538624,
          1.0748240094017911,
          1.4315036978476303,
          -1.2193491756829018,
          1.0785112055318675,
          1.0922663616955144,
          -0.5271205263605011,
          -0.27374315353472867,
          0.028154193665865107,
          -1.1351935382309162,
          1.4612941727462698,
          -0.3509454137365033,
          0.6106125561226777,
          0.7478186327737351,
          -0.7425042942314749,
          1.916765223828547,
          1.240873891099306,
          -0.4406511100190365,
          1.346795532600243,
          -1.4120166335488293,
          -0.9726486257162662,
          -0.2852448153129776,
          -3.0108073083457927,
          -1.7635744867048033,
          -1.0166029223919701,
          0.6767572035278194,
          0.14883919105469573
         ]
        }
       ],
       "layout": {
        "legend": {
         "bgcolor": "#F5F6F9",
         "font": {
          "color": "#4D5663"
         }
        },
        "paper_bgcolor": "#F5F6F9",
        "plot_bgcolor": "#F5F6F9",
        "template": {
         "data": {
          "bar": [
           {
            "error_x": {
             "color": "#2a3f5f"
            },
            "error_y": {
             "color": "#2a3f5f"
            },
            "marker": {
             "line": {
              "color": "#E5ECF6",
              "width": 0.5
             },
             "pattern": {
              "fillmode": "overlay",
              "size": 10,
              "solidity": 0.2
             }
            },
            "type": "bar"
           }
          ],
          "barpolar": [
           {
            "marker": {
             "line": {
              "color": "#E5ECF6",
              "width": 0.5
             },
             "pattern": {
              "fillmode": "overlay",
              "size": 10,
              "solidity": 0.2
             }
            },
            "type": "barpolar"
           }
          ],
          "carpet": [
           {
            "aaxis": {
             "endlinecolor": "#2a3f5f",
             "gridcolor": "white",
             "linecolor": "white",
             "minorgridcolor": "white",
             "startlinecolor": "#2a3f5f"
            },
            "baxis": {
             "endlinecolor": "#2a3f5f",
             "gridcolor": "white",
             "linecolor": "white",
             "minorgridcolor": "white",
             "startlinecolor": "#2a3f5f"
            },
            "type": "carpet"
           }
          ],
          "choropleth": [
           {
            "colorbar": {
             "outlinewidth": 0,
             "ticks": ""
            },
            "type": "choropleth"
           }
          ],
          "contour": [
           {
            "colorbar": {
             "outlinewidth": 0,
             "ticks": ""
            },
            "colorscale": [
             [
              0,
              "#0d0887"
             ],
             [
              0.1111111111111111,
              "#46039f"
             ],
             [
              0.2222222222222222,
              "#7201a8"
             ],
             [
              0.3333333333333333,
              "#9c179e"
             ],
             [
              0.4444444444444444,
              "#bd3786"
             ],
             [
              0.5555555555555556,
              "#d8576b"
             ],
             [
              0.6666666666666666,
              "#ed7953"
             ],
             [
              0.7777777777777778,
              "#fb9f3a"
             ],
             [
              0.8888888888888888,
              "#fdca26"
             ],
             [
              1,
              "#f0f921"
             ]
            ],
            "type": "contour"
           }
          ],
          "contourcarpet": [
           {
            "colorbar": {
             "outlinewidth": 0,
             "ticks": ""
            },
            "type": "contourcarpet"
           }
          ],
          "heatmap": [
           {
            "colorbar": {
             "outlinewidth": 0,
             "ticks": ""
            },
            "colorscale": [
             [
              0,
              "#0d0887"
             ],
             [
              0.1111111111111111,
              "#46039f"
             ],
             [
              0.2222222222222222,
              "#7201a8"
             ],
             [
              0.3333333333333333,
              "#9c179e"
             ],
             [
              0.4444444444444444,
              "#bd3786"
             ],
             [
              0.5555555555555556,
              "#d8576b"
             ],
             [
              0.6666666666666666,
              "#ed7953"
             ],
             [
              0.7777777777777778,
              "#fb9f3a"
             ],
             [
              0.8888888888888888,
              "#fdca26"
             ],
             [
              1,
              "#f0f921"
             ]
            ],
            "type": "heatmap"
           }
          ],
          "heatmapgl": [
           {
            "colorbar": {
             "outlinewidth": 0,
             "ticks": ""
            },
            "colorscale": [
             [
              0,
              "#0d0887"
             ],
             [
              0.1111111111111111,
              "#46039f"
             ],
             [
              0.2222222222222222,
              "#7201a8"
             ],
             [
              0.3333333333333333,
              "#9c179e"
             ],
             [
              0.4444444444444444,
              "#bd3786"
             ],
             [
              0.5555555555555556,
              "#d8576b"
             ],
             [
              0.6666666666666666,
              "#ed7953"
             ],
             [
              0.7777777777777778,
              "#fb9f3a"
             ],
             [
              0.8888888888888888,
              "#fdca26"
             ],
             [
              1,
              "#f0f921"
             ]
            ],
            "type": "heatmapgl"
           }
          ],
          "histogram": [
           {
            "marker": {
             "pattern": {
              "fillmode": "overlay",
              "size": 10,
              "solidity": 0.2
             }
            },
            "type": "histogram"
           }
          ],
          "histogram2d": [
           {
            "colorbar": {
             "outlinewidth": 0,
             "ticks": ""
            },
            "colorscale": [
             [
              0,
              "#0d0887"
             ],
             [
              0.1111111111111111,
              "#46039f"
             ],
             [
              0.2222222222222222,
              "#7201a8"
             ],
             [
              0.3333333333333333,
              "#9c179e"
             ],
             [
              0.4444444444444444,
              "#bd3786"
             ],
             [
              0.5555555555555556,
              "#d8576b"
             ],
             [
              0.6666666666666666,
              "#ed7953"
             ],
             [
              0.7777777777777778,
              "#fb9f3a"
             ],
             [
              0.8888888888888888,
              "#fdca26"
             ],
             [
              1,
              "#f0f921"
             ]
            ],
            "type": "histogram2d"
           }
          ],
          "histogram2dcontour": [
           {
            "colorbar": {
             "outlinewidth": 0,
             "ticks": ""
            },
            "colorscale": [
             [
              0,
              "#0d0887"
             ],
             [
              0.1111111111111111,
              "#46039f"
             ],
             [
              0.2222222222222222,
              "#7201a8"
             ],
             [
              0.3333333333333333,
              "#9c179e"
             ],
             [
              0.4444444444444444,
              "#bd3786"
             ],
             [
              0.5555555555555556,
              "#d8576b"
             ],
             [
              0.6666666666666666,
              "#ed7953"
             ],
             [
              0.7777777777777778,
              "#fb9f3a"
             ],
             [
              0.8888888888888888,
              "#fdca26"
             ],
             [
              1,
              "#f0f921"
             ]
            ],
            "type": "histogram2dcontour"
           }
          ],
          "mesh3d": [
           {
            "colorbar": {
             "outlinewidth": 0,
             "ticks": ""
            },
            "type": "mesh3d"
           }
          ],
          "parcoords": [
           {
            "line": {
             "colorbar": {
              "outlinewidth": 0,
              "ticks": ""
             }
            },
            "type": "parcoords"
           }
          ],
          "pie": [
           {
            "automargin": true,
            "type": "pie"
           }
          ],
          "scatter": [
           {
            "fillpattern": {
             "fillmode": "overlay",
             "size": 10,
             "solidity": 0.2
            },
            "type": "scatter"
           }
          ],
          "scatter3d": [
           {
            "line": {
             "colorbar": {
              "outlinewidth": 0,
              "ticks": ""
             }
            },
            "marker": {
             "colorbar": {
              "outlinewidth": 0,
              "ticks": ""
             }
            },
            "type": "scatter3d"
           }
          ],
          "scattercarpet": [
           {
            "marker": {
             "colorbar": {
              "outlinewidth": 0,
              "ticks": ""
             }
            },
            "type": "scattercarpet"
           }
          ],
          "scattergeo": [
           {
            "marker": {
             "colorbar": {
              "outlinewidth": 0,
              "ticks": ""
             }
            },
            "type": "scattergeo"
           }
          ],
          "scattergl": [
           {
            "marker": {
             "colorbar": {
              "outlinewidth": 0,
              "ticks": ""
             }
            },
            "type": "scattergl"
           }
          ],
          "scattermapbox": [
           {
            "marker": {
             "colorbar": {
              "outlinewidth": 0,
              "ticks": ""
             }
            },
            "type": "scattermapbox"
           }
          ],
          "scatterpolar": [
           {
            "marker": {
             "colorbar": {
              "outlinewidth": 0,
              "ticks": ""
             }
            },
            "type": "scatterpolar"
           }
          ],
          "scatterpolargl": [
           {
            "marker": {
             "colorbar": {
              "outlinewidth": 0,
              "ticks": ""
             }
            },
            "type": "scatterpolargl"
           }
          ],
          "scatterternary": [
           {
            "marker": {
             "colorbar": {
              "outlinewidth": 0,
              "ticks": ""
             }
            },
            "type": "scatterternary"
           }
          ],
          "surface": [
           {
            "colorbar": {
             "outlinewidth": 0,
             "ticks": ""
            },
            "colorscale": [
             [
              0,
              "#0d0887"
             ],
             [
              0.1111111111111111,
              "#46039f"
             ],
             [
              0.2222222222222222,
              "#7201a8"
             ],
             [
              0.3333333333333333,
              "#9c179e"
             ],
             [
              0.4444444444444444,
              "#bd3786"
             ],
             [
              0.5555555555555556,
              "#d8576b"
             ],
             [
              0.6666666666666666,
              "#ed7953"
             ],
             [
              0.7777777777777778,
              "#fb9f3a"
             ],
             [
              0.8888888888888888,
              "#fdca26"
             ],
             [
              1,
              "#f0f921"
             ]
            ],
            "type": "surface"
           }
          ],
          "table": [
           {
            "cells": {
             "fill": {
              "color": "#EBF0F8"
             },
             "line": {
              "color": "white"
             }
            },
            "header": {
             "fill": {
              "color": "#C8D4E3"
             },
             "line": {
              "color": "white"
             }
            },
            "type": "table"
           }
          ]
         },
         "layout": {
          "annotationdefaults": {
           "arrowcolor": "#2a3f5f",
           "arrowhead": 0,
           "arrowwidth": 1
          },
          "autotypenumbers": "strict",
          "coloraxis": {
           "colorbar": {
            "outlinewidth": 0,
            "ticks": ""
           }
          },
          "colorscale": {
           "diverging": [
            [
             0,
             "#8e0152"
            ],
            [
             0.1,
             "#c51b7d"
            ],
            [
             0.2,
             "#de77ae"
            ],
            [
             0.3,
             "#f1b6da"
            ],
            [
             0.4,
             "#fde0ef"
            ],
            [
             0.5,
             "#f7f7f7"
            ],
            [
             0.6,
             "#e6f5d0"
            ],
            [
             0.7,
             "#b8e186"
            ],
            [
             0.8,
             "#7fbc41"
            ],
            [
             0.9,
             "#4d9221"
            ],
            [
             1,
             "#276419"
            ]
           ],
           "sequential": [
            [
             0,
             "#0d0887"
            ],
            [
             0.1111111111111111,
             "#46039f"
            ],
            [
             0.2222222222222222,
             "#7201a8"
            ],
            [
             0.3333333333333333,
             "#9c179e"
            ],
            [
             0.4444444444444444,
             "#bd3786"
            ],
            [
             0.5555555555555556,
             "#d8576b"
            ],
            [
             0.6666666666666666,
             "#ed7953"
            ],
            [
             0.7777777777777778,
             "#fb9f3a"
            ],
            [
             0.8888888888888888,
             "#fdca26"
            ],
            [
             1,
             "#f0f921"
            ]
           ],
           "sequentialminus": [
            [
             0,
             "#0d0887"
            ],
            [
             0.1111111111111111,
             "#46039f"
            ],
            [
             0.2222222222222222,
             "#7201a8"
            ],
            [
             0.3333333333333333,
             "#9c179e"
            ],
            [
             0.4444444444444444,
             "#bd3786"
            ],
            [
             0.5555555555555556,
             "#d8576b"
            ],
            [
             0.6666666666666666,
             "#ed7953"
            ],
            [
             0.7777777777777778,
             "#fb9f3a"
            ],
            [
             0.8888888888888888,
             "#fdca26"
            ],
            [
             1,
             "#f0f921"
            ]
           ]
          },
          "colorway": [
           "#636efa",
           "#EF553B",
           "#00cc96",
           "#ab63fa",
           "#FFA15A",
           "#19d3f3",
           "#FF6692",
           "#B6E880",
           "#FF97FF",
           "#FECB52"
          ],
          "font": {
           "color": "#2a3f5f"
          },
          "geo": {
           "bgcolor": "white",
           "lakecolor": "white",
           "landcolor": "#E5ECF6",
           "showlakes": true,
           "showland": true,
           "subunitcolor": "white"
          },
          "hoverlabel": {
           "align": "left"
          },
          "hovermode": "closest",
          "mapbox": {
           "style": "light"
          },
          "paper_bgcolor": "white",
          "plot_bgcolor": "#E5ECF6",
          "polar": {
           "angularaxis": {
            "gridcolor": "white",
            "linecolor": "white",
            "ticks": ""
           },
           "bgcolor": "#E5ECF6",
           "radialaxis": {
            "gridcolor": "white",
            "linecolor": "white",
            "ticks": ""
           }
          },
          "scene": {
           "xaxis": {
            "backgroundcolor": "#E5ECF6",
            "gridcolor": "white",
            "gridwidth": 2,
            "linecolor": "white",
            "showbackground": true,
            "ticks": "",
            "zerolinecolor": "white"
           },
           "yaxis": {
            "backgroundcolor": "#E5ECF6",
            "gridcolor": "white",
            "gridwidth": 2,
            "linecolor": "white",
            "showbackground": true,
            "ticks": "",
            "zerolinecolor": "white"
           },
           "zaxis": {
            "backgroundcolor": "#E5ECF6",
            "gridcolor": "white",
            "gridwidth": 2,
            "linecolor": "white",
            "showbackground": true,
            "ticks": "",
            "zerolinecolor": "white"
           }
          },
          "shapedefaults": {
           "line": {
            "color": "#2a3f5f"
           }
          },
          "ternary": {
           "aaxis": {
            "gridcolor": "white",
            "linecolor": "white",
            "ticks": ""
           },
           "baxis": {
            "gridcolor": "white",
            "linecolor": "white",
            "ticks": ""
           },
           "bgcolor": "#E5ECF6",
           "caxis": {
            "gridcolor": "white",
            "linecolor": "white",
            "ticks": ""
           }
          },
          "title": {
           "x": 0.05
          },
          "xaxis": {
           "automargin": true,
           "gridcolor": "white",
           "linecolor": "white",
           "ticks": "",
           "title": {
            "standoff": 15
           },
           "zerolinecolor": "white",
           "zerolinewidth": 2
          },
          "yaxis": {
           "automargin": true,
           "gridcolor": "white",
           "linecolor": "white",
           "ticks": "",
           "title": {
            "standoff": 15
           },
           "zerolinecolor": "white",
           "zerolinewidth": 2
          }
         }
        },
        "title": {
         "font": {
          "color": "#4D5663"
         }
        },
        "xaxis": {
         "gridcolor": "#E1E5ED",
         "showgrid": true,
         "tickfont": {
          "color": "#4D5663"
         },
         "title": {
          "font": {
           "color": "#4D5663"
          },
          "text": ""
         },
         "zerolinecolor": "#E1E5ED"
        },
        "yaxis": {
         "gridcolor": "#E1E5ED",
         "showgrid": true,
         "tickfont": {
          "color": "#4D5663"
         },
         "title": {
          "font": {
           "color": "#4D5663"
          },
          "text": ""
         },
         "zerolinecolor": "#E1E5ED"
        }
       }
      },
      "text/html": [
       "<div>                            <div id=\"0858da51-6e92-4cea-984c-f164194f8122\" class=\"plotly-graph-div\" style=\"height:525px; width:100%;\"></div>            <script type=\"text/javascript\">                require([\"plotly\"], function(Plotly) {                    window.PLOTLYENV=window.PLOTLYENV || {};\n",
       "                    window.PLOTLYENV.BASE_URL='https://plot.ly';                                    if (document.getElementById(\"0858da51-6e92-4cea-984c-f164194f8122\")) {                    Plotly.newPlot(                        \"0858da51-6e92-4cea-984c-f164194f8122\",                        [{\"marker\":{\"color\":[\"rgb(255, 153, 51)\",\"rgb(55, 128, 191)\",\"rgb(50, 171, 96)\",\"rgb(128, 0, 128)\",\"rgb(219, 64, 82)\",\"rgb(0, 128, 128)\",\"rgb(255, 255, 51)\",\"rgb(128, 128, 0)\",\"rgb(251, 128, 114)\",\"rgb(128, 177, 211)\"],\"line\":{\"width\":1.3},\"size\":[68,61,61,81,103,82,108,83,52,70,63,46,39,82,69,55,75,80,66,68,64,73,45,87,46,108,75,89,81,68,48,81,60,66,74,86,43,62,96,67,26,74,56,93,112,72,61,68,60,72,63,80,65,72,54,86,59,77,12,44,72,68,52,39,81,68,69,98,52,81,51,86,64,71,66,59,93,21,35,93,49,44,66,60,98,67,93,60,72,27,29,80,59,65,48,35,51,97,38,49],\"symbol\":\"circle\"},\"mode\":\"markers\",\"text\":\"\",\"x\":[1.8511519134780592,0.9932635503226296,-0.20359937233167702,1.5257768804344916,0.7989148705029956,-0.7401919047073051,-0.8630213226964086,0.7013687303870811,-0.6247974874205289,0.10910461350500907,-0.11538038639040019,-0.02648740437455768,-0.43732218661342515,-0.7125768681585045,1.0133586523249136,-0.8616519633585347,-2.1230616381436356,-0.9749949035547446,0.5043444129264993,0.18825104298423934,-0.1432776826929805,0.5868807139113783,-0.5195842176454574,0.5736013901487871,-0.8173712354802753,0.6609920652626308,0.4168308410755578,0.5852219339927222,0.010802370600104156,-0.41273169823065897,-0.20857735228632088,-0.8416615204104636,0.052944189995554204,0.005686937411339467,0.3844520636603806,-1.0631481481915048,-0.11724016976317891,0.6630852320859335,0.5115801618934522,2.2561195936427705,0.3109656972874523,1.0994549480156748,-0.7208326396818907,-0.1977387682776627,-0.16040121850252212,0.794102216112637,0.7464271735955996,-0.647542908423245,-1.4984047157520854,-0.04075648099172144,2.264819816919803,-0.5552027566980382,-0.6748951474162486,-1.007916433892245,-1.3106915777664427,-1.8225142752914754,1.334030713362875,0.07572488075553528,-0.5830773501448417,0.38454318739022125,1.6110776348434117,-0.3174845924378902,0.8445097695504995,-0.41461007268988176,0.365775246787856,-1.496269233552682,0.3008252693310851,-0.39326338113914816,0.5008110351639224,-0.672608996952311,-1.0421214869609523,-0.11156295997918914,0.3092029035122308,0.28260084055062595,0.6949297525981041,-0.9319657740427375,-1.9514085275441992,-0.7841155550829054,-0.2998409331653889,0.03951669010773553,-0.0727240387013017,-1.9518606100277855,0.9883285146195404,0.7508231282590799,1.209982615480504,0.7921753321761256,-0.9946655537151281,1.3067058404422474,0.5712332382845726,-0.5386093862850266,0.30013330235114466,-1.4869281940691312,0.9620169121202278,1.114277142834589,-1.3650422850750878,0.3298673585324569,0.9810828436899907,-0.9471938559777627,-0.6557976449379221,0.5954509216804071],\"y\":[0.45782172851946584,0.4344214900313023,0.6658987220489518,2.895439169924277,-0.04735765933408375,0.14131190059074383,-0.6793167129790467,-1.33376156241096,0.5129051932325256,-1.8426154108364827,0.5414409748569157,1.5180507825544969,0.6886450990269172,-0.2934527411501007,1.247504281758502,-0.6923792689440722,1.3358752949438544,3.3009912281541745,-1.1772677491504626,3.0413738620919792,0.1939145630185375,1.316173538909124,0.4568857268531616,-0.45612992746179104,0.36962784918045843,-1.0872283818862274,-1.268507848017612,1.3690989346946598,2.404028688631945,0.6953932785311059,0.16957159952658565,-0.820430620044971,1.3622920559583251,1.2194783554864315,0.5270262370309676,0.12673147173592114,0.6274228407561939,2.1519729621866612,-0.1503870682355416,-0.8032647853869308,-1.7334754959923606,1.1498738436198657,0.9024715532142299,-0.6299946110464666,-0.10479446190246755,0.3807627473851706,0.30429400869494144,-0.09747668965216076,0.034130483643344964,2.3125818412357924,-0.1195421817947865,-1.1451149065169193,-0.10831608455742575,0.7369917906053898,0.26648976296350796,0.04793412305608602,0.9135049453782854,-0.10974581209473559,1.2973055112154592,1.409109018811545,-0.4880439368583151,-0.41255478657338274,-1.6652247217350953,-0.3571409627887695,0.05774639003035528,-0.47989239854050036,-0.675449156696727,-1.1430868805095362,-0.006663393609728982,-1.0620327924289885,1.4718999257473302,-0.6113357749066433,0.36148596789055853,-0.24393747075538624,1.0748240094017911,1.4315036978476303,-1.2193491756829018,1.0785112055318675,1.0922663616955144,-0.5271205263605011,-0.27374315353472867,0.028154193665865107,-1.1351935382309162,1.4612941727462698,-0.3509454137365033,0.6106125561226777,0.7478186327737351,-0.7425042942314749,1.916765223828547,1.240873891099306,-0.4406511100190365,1.346795532600243,-1.4120166335488293,-0.9726486257162662,-0.2852448153129776,-3.0108073083457927,-1.7635744867048033,-1.0166029223919701,0.6767572035278194,0.14883919105469573],\"type\":\"scatter\"}],                        {\"legend\":{\"bgcolor\":\"#F5F6F9\",\"font\":{\"color\":\"#4D5663\"}},\"paper_bgcolor\":\"#F5F6F9\",\"plot_bgcolor\":\"#F5F6F9\",\"template\":{\"data\":{\"barpolar\":[{\"marker\":{\"line\":{\"color\":\"#E5ECF6\",\"width\":0.5},\"pattern\":{\"fillmode\":\"overlay\",\"size\":10,\"solidity\":0.2}},\"type\":\"barpolar\"}],\"bar\":[{\"error_x\":{\"color\":\"#2a3f5f\"},\"error_y\":{\"color\":\"#2a3f5f\"},\"marker\":{\"line\":{\"color\":\"#E5ECF6\",\"width\":0.5},\"pattern\":{\"fillmode\":\"overlay\",\"size\":10,\"solidity\":0.2}},\"type\":\"bar\"}],\"carpet\":[{\"aaxis\":{\"endlinecolor\":\"#2a3f5f\",\"gridcolor\":\"white\",\"linecolor\":\"white\",\"minorgridcolor\":\"white\",\"startlinecolor\":\"#2a3f5f\"},\"baxis\":{\"endlinecolor\":\"#2a3f5f\",\"gridcolor\":\"white\",\"linecolor\":\"white\",\"minorgridcolor\":\"white\",\"startlinecolor\":\"#2a3f5f\"},\"type\":\"carpet\"}],\"choropleth\":[{\"colorbar\":{\"outlinewidth\":0,\"ticks\":\"\"},\"type\":\"choropleth\"}],\"contourcarpet\":[{\"colorbar\":{\"outlinewidth\":0,\"ticks\":\"\"},\"type\":\"contourcarpet\"}],\"contour\":[{\"colorbar\":{\"outlinewidth\":0,\"ticks\":\"\"},\"colorscale\":[[0.0,\"#0d0887\"],[0.1111111111111111,\"#46039f\"],[0.2222222222222222,\"#7201a8\"],[0.3333333333333333,\"#9c179e\"],[0.4444444444444444,\"#bd3786\"],[0.5555555555555556,\"#d8576b\"],[0.6666666666666666,\"#ed7953\"],[0.7777777777777778,\"#fb9f3a\"],[0.8888888888888888,\"#fdca26\"],[1.0,\"#f0f921\"]],\"type\":\"contour\"}],\"heatmapgl\":[{\"colorbar\":{\"outlinewidth\":0,\"ticks\":\"\"},\"colorscale\":[[0.0,\"#0d0887\"],[0.1111111111111111,\"#46039f\"],[0.2222222222222222,\"#7201a8\"],[0.3333333333333333,\"#9c179e\"],[0.4444444444444444,\"#bd3786\"],[0.5555555555555556,\"#d8576b\"],[0.6666666666666666,\"#ed7953\"],[0.7777777777777778,\"#fb9f3a\"],[0.8888888888888888,\"#fdca26\"],[1.0,\"#f0f921\"]],\"type\":\"heatmapgl\"}],\"heatmap\":[{\"colorbar\":{\"outlinewidth\":0,\"ticks\":\"\"},\"colorscale\":[[0.0,\"#0d0887\"],[0.1111111111111111,\"#46039f\"],[0.2222222222222222,\"#7201a8\"],[0.3333333333333333,\"#9c179e\"],[0.4444444444444444,\"#bd3786\"],[0.5555555555555556,\"#d8576b\"],[0.6666666666666666,\"#ed7953\"],[0.7777777777777778,\"#fb9f3a\"],[0.8888888888888888,\"#fdca26\"],[1.0,\"#f0f921\"]],\"type\":\"heatmap\"}],\"histogram2dcontour\":[{\"colorbar\":{\"outlinewidth\":0,\"ticks\":\"\"},\"colorscale\":[[0.0,\"#0d0887\"],[0.1111111111111111,\"#46039f\"],[0.2222222222222222,\"#7201a8\"],[0.3333333333333333,\"#9c179e\"],[0.4444444444444444,\"#bd3786\"],[0.5555555555555556,\"#d8576b\"],[0.6666666666666666,\"#ed7953\"],[0.7777777777777778,\"#fb9f3a\"],[0.8888888888888888,\"#fdca26\"],[1.0,\"#f0f921\"]],\"type\":\"histogram2dcontour\"}],\"histogram2d\":[{\"colorbar\":{\"outlinewidth\":0,\"ticks\":\"\"},\"colorscale\":[[0.0,\"#0d0887\"],[0.1111111111111111,\"#46039f\"],[0.2222222222222222,\"#7201a8\"],[0.3333333333333333,\"#9c179e\"],[0.4444444444444444,\"#bd3786\"],[0.5555555555555556,\"#d8576b\"],[0.6666666666666666,\"#ed7953\"],[0.7777777777777778,\"#fb9f3a\"],[0.8888888888888888,\"#fdca26\"],[1.0,\"#f0f921\"]],\"type\":\"histogram2d\"}],\"histogram\":[{\"marker\":{\"pattern\":{\"fillmode\":\"overlay\",\"size\":10,\"solidity\":0.2}},\"type\":\"histogram\"}],\"mesh3d\":[{\"colorbar\":{\"outlinewidth\":0,\"ticks\":\"\"},\"type\":\"mesh3d\"}],\"parcoords\":[{\"line\":{\"colorbar\":{\"outlinewidth\":0,\"ticks\":\"\"}},\"type\":\"parcoords\"}],\"pie\":[{\"automargin\":true,\"type\":\"pie\"}],\"scatter3d\":[{\"line\":{\"colorbar\":{\"outlinewidth\":0,\"ticks\":\"\"}},\"marker\":{\"colorbar\":{\"outlinewidth\":0,\"ticks\":\"\"}},\"type\":\"scatter3d\"}],\"scattercarpet\":[{\"marker\":{\"colorbar\":{\"outlinewidth\":0,\"ticks\":\"\"}},\"type\":\"scattercarpet\"}],\"scattergeo\":[{\"marker\":{\"colorbar\":{\"outlinewidth\":0,\"ticks\":\"\"}},\"type\":\"scattergeo\"}],\"scattergl\":[{\"marker\":{\"colorbar\":{\"outlinewidth\":0,\"ticks\":\"\"}},\"type\":\"scattergl\"}],\"scattermapbox\":[{\"marker\":{\"colorbar\":{\"outlinewidth\":0,\"ticks\":\"\"}},\"type\":\"scattermapbox\"}],\"scatterpolargl\":[{\"marker\":{\"colorbar\":{\"outlinewidth\":0,\"ticks\":\"\"}},\"type\":\"scatterpolargl\"}],\"scatterpolar\":[{\"marker\":{\"colorbar\":{\"outlinewidth\":0,\"ticks\":\"\"}},\"type\":\"scatterpolar\"}],\"scatter\":[{\"fillpattern\":{\"fillmode\":\"overlay\",\"size\":10,\"solidity\":0.2},\"type\":\"scatter\"}],\"scatterternary\":[{\"marker\":{\"colorbar\":{\"outlinewidth\":0,\"ticks\":\"\"}},\"type\":\"scatterternary\"}],\"surface\":[{\"colorbar\":{\"outlinewidth\":0,\"ticks\":\"\"},\"colorscale\":[[0.0,\"#0d0887\"],[0.1111111111111111,\"#46039f\"],[0.2222222222222222,\"#7201a8\"],[0.3333333333333333,\"#9c179e\"],[0.4444444444444444,\"#bd3786\"],[0.5555555555555556,\"#d8576b\"],[0.6666666666666666,\"#ed7953\"],[0.7777777777777778,\"#fb9f3a\"],[0.8888888888888888,\"#fdca26\"],[1.0,\"#f0f921\"]],\"type\":\"surface\"}],\"table\":[{\"cells\":{\"fill\":{\"color\":\"#EBF0F8\"},\"line\":{\"color\":\"white\"}},\"header\":{\"fill\":{\"color\":\"#C8D4E3\"},\"line\":{\"color\":\"white\"}},\"type\":\"table\"}]},\"layout\":{\"annotationdefaults\":{\"arrowcolor\":\"#2a3f5f\",\"arrowhead\":0,\"arrowwidth\":1},\"autotypenumbers\":\"strict\",\"coloraxis\":{\"colorbar\":{\"outlinewidth\":0,\"ticks\":\"\"}},\"colorscale\":{\"diverging\":[[0,\"#8e0152\"],[0.1,\"#c51b7d\"],[0.2,\"#de77ae\"],[0.3,\"#f1b6da\"],[0.4,\"#fde0ef\"],[0.5,\"#f7f7f7\"],[0.6,\"#e6f5d0\"],[0.7,\"#b8e186\"],[0.8,\"#7fbc41\"],[0.9,\"#4d9221\"],[1,\"#276419\"]],\"sequential\":[[0.0,\"#0d0887\"],[0.1111111111111111,\"#46039f\"],[0.2222222222222222,\"#7201a8\"],[0.3333333333333333,\"#9c179e\"],[0.4444444444444444,\"#bd3786\"],[0.5555555555555556,\"#d8576b\"],[0.6666666666666666,\"#ed7953\"],[0.7777777777777778,\"#fb9f3a\"],[0.8888888888888888,\"#fdca26\"],[1.0,\"#f0f921\"]],\"sequentialminus\":[[0.0,\"#0d0887\"],[0.1111111111111111,\"#46039f\"],[0.2222222222222222,\"#7201a8\"],[0.3333333333333333,\"#9c179e\"],[0.4444444444444444,\"#bd3786\"],[0.5555555555555556,\"#d8576b\"],[0.6666666666666666,\"#ed7953\"],[0.7777777777777778,\"#fb9f3a\"],[0.8888888888888888,\"#fdca26\"],[1.0,\"#f0f921\"]]},\"colorway\":[\"#636efa\",\"#EF553B\",\"#00cc96\",\"#ab63fa\",\"#FFA15A\",\"#19d3f3\",\"#FF6692\",\"#B6E880\",\"#FF97FF\",\"#FECB52\"],\"font\":{\"color\":\"#2a3f5f\"},\"geo\":{\"bgcolor\":\"white\",\"lakecolor\":\"white\",\"landcolor\":\"#E5ECF6\",\"showlakes\":true,\"showland\":true,\"subunitcolor\":\"white\"},\"hoverlabel\":{\"align\":\"left\"},\"hovermode\":\"closest\",\"mapbox\":{\"style\":\"light\"},\"paper_bgcolor\":\"white\",\"plot_bgcolor\":\"#E5ECF6\",\"polar\":{\"angularaxis\":{\"gridcolor\":\"white\",\"linecolor\":\"white\",\"ticks\":\"\"},\"bgcolor\":\"#E5ECF6\",\"radialaxis\":{\"gridcolor\":\"white\",\"linecolor\":\"white\",\"ticks\":\"\"}},\"scene\":{\"xaxis\":{\"backgroundcolor\":\"#E5ECF6\",\"gridcolor\":\"white\",\"gridwidth\":2,\"linecolor\":\"white\",\"showbackground\":true,\"ticks\":\"\",\"zerolinecolor\":\"white\"},\"yaxis\":{\"backgroundcolor\":\"#E5ECF6\",\"gridcolor\":\"white\",\"gridwidth\":2,\"linecolor\":\"white\",\"showbackground\":true,\"ticks\":\"\",\"zerolinecolor\":\"white\"},\"zaxis\":{\"backgroundcolor\":\"#E5ECF6\",\"gridcolor\":\"white\",\"gridwidth\":2,\"linecolor\":\"white\",\"showbackground\":true,\"ticks\":\"\",\"zerolinecolor\":\"white\"}},\"shapedefaults\":{\"line\":{\"color\":\"#2a3f5f\"}},\"ternary\":{\"aaxis\":{\"gridcolor\":\"white\",\"linecolor\":\"white\",\"ticks\":\"\"},\"baxis\":{\"gridcolor\":\"white\",\"linecolor\":\"white\",\"ticks\":\"\"},\"bgcolor\":\"#E5ECF6\",\"caxis\":{\"gridcolor\":\"white\",\"linecolor\":\"white\",\"ticks\":\"\"}},\"title\":{\"x\":0.05},\"xaxis\":{\"automargin\":true,\"gridcolor\":\"white\",\"linecolor\":\"white\",\"ticks\":\"\",\"title\":{\"standoff\":15},\"zerolinecolor\":\"white\",\"zerolinewidth\":2},\"yaxis\":{\"automargin\":true,\"gridcolor\":\"white\",\"linecolor\":\"white\",\"ticks\":\"\",\"title\":{\"standoff\":15},\"zerolinecolor\":\"white\",\"zerolinewidth\":2}}},\"title\":{\"font\":{\"color\":\"#4D5663\"}},\"xaxis\":{\"gridcolor\":\"#E1E5ED\",\"showgrid\":true,\"tickfont\":{\"color\":\"#4D5663\"},\"title\":{\"font\":{\"color\":\"#4D5663\"},\"text\":\"\"},\"zerolinecolor\":\"#E1E5ED\"},\"yaxis\":{\"gridcolor\":\"#E1E5ED\",\"showgrid\":true,\"tickfont\":{\"color\":\"#4D5663\"},\"title\":{\"font\":{\"color\":\"#4D5663\"},\"text\":\"\"},\"zerolinecolor\":\"#E1E5ED\"}},                        {\"showLink\": true, \"linkText\": \"Export to plot.ly\", \"plotlyServerURL\": \"https://plot.ly\", \"responsive\": true}                    ).then(function(){\n",
       "                            \n",
       "var gd = document.getElementById('0858da51-6e92-4cea-984c-f164194f8122');\n",
       "var x = new MutationObserver(function (mutations, observer) {{\n",
       "        var display = window.getComputedStyle(gd).display;\n",
       "        if (!display || display === 'none') {{\n",
       "            console.log([gd, 'removed!']);\n",
       "            Plotly.purge(gd);\n",
       "            observer.disconnect();\n",
       "        }}\n",
       "}});\n",
       "\n",
       "// Listen for the removal of the full notebook cells\n",
       "var notebookContainer = gd.closest('#notebook-container');\n",
       "if (notebookContainer) {{\n",
       "    x.observe(notebookContainer, {childList: true});\n",
       "}}\n",
       "\n",
       "// Listen for the clearing of the current output cell\n",
       "var outputEl = gd.closest('.output');\n",
       "if (outputEl) {{\n",
       "    x.observe(outputEl, {childList: true});\n",
       "}}\n",
       "\n",
       "                        })                };                });            </script>        </div>"
      ]
     },
     "metadata": {},
     "output_type": "display_data"
    }
   ],
   "source": [
    "df.iplot(kind='bubble',x='A',y='B',size='C')"
   ]
  },
  {
   "cell_type": "markdown",
   "metadata": {},
   "source": [
    "## scatter_matrix()\n",
    "\n",
    "Similar to sns.pairplot()"
   ]
  },
  {
   "cell_type": "markdown",
   "metadata": {},
   "source": [
    "**NOTE: do not use with large datasets - may crash python kernel**"
   ]
  },
  {
   "cell_type": "code",
   "execution_count": 33,
   "metadata": {},
   "outputs": [
    {
     "data": {
      "application/vnd.plotly.v1+json": {
       "config": {
        "linkText": "Export to plot.ly",
        "plotlyServerURL": "https://plot.ly",
        "showLink": true
       },
       "data": [
        {
         "histfunc": "count",
         "histnorm": "",
         "marker": {
          "color": "rgba(255, 153, 51, 1.0)",
          "line": {
           "color": "#4D5663",
           "width": 1.3
          }
         },
         "name": "A",
         "nbinsx": 10,
         "opacity": 0.8,
         "orientation": "v",
         "type": "histogram",
         "x": [
          1.8511519134780592,
          0.9932635503226296,
          -0.20359937233167702,
          1.5257768804344916,
          0.7989148705029956,
          -0.7401919047073051,
          -0.8630213226964086,
          0.7013687303870811,
          -0.6247974874205289,
          0.10910461350500907,
          -0.11538038639040019,
          -0.02648740437455768,
          -0.43732218661342515,
          -0.7125768681585045,
          1.0133586523249136,
          -0.8616519633585347,
          -2.1230616381436356,
          -0.9749949035547446,
          0.5043444129264993,
          0.18825104298423934,
          -0.1432776826929805,
          0.5868807139113783,
          -0.5195842176454574,
          0.5736013901487871,
          -0.8173712354802753,
          0.6609920652626308,
          0.4168308410755578,
          0.5852219339927222,
          0.010802370600104156,
          -0.41273169823065897,
          -0.20857735228632088,
          -0.8416615204104636,
          0.052944189995554204,
          0.005686937411339467,
          0.3844520636603806,
          -1.0631481481915048,
          -0.11724016976317891,
          0.6630852320859335,
          0.5115801618934522,
          2.2561195936427705,
          0.3109656972874523,
          1.0994549480156748,
          -0.7208326396818907,
          -0.1977387682776627,
          -0.16040121850252212,
          0.794102216112637,
          0.7464271735955996,
          -0.647542908423245,
          -1.4984047157520854,
          -0.04075648099172144,
          2.264819816919803,
          -0.5552027566980382,
          -0.6748951474162486,
          -1.007916433892245,
          -1.3106915777664427,
          -1.8225142752914754,
          1.334030713362875,
          0.07572488075553528,
          -0.5830773501448417,
          0.38454318739022125,
          1.6110776348434117,
          -0.3174845924378902,
          0.8445097695504995,
          -0.41461007268988176,
          0.365775246787856,
          -1.496269233552682,
          0.3008252693310851,
          -0.39326338113914816,
          0.5008110351639224,
          -0.672608996952311,
          -1.0421214869609523,
          -0.11156295997918914,
          0.3092029035122308,
          0.28260084055062595,
          0.6949297525981041,
          -0.9319657740427375,
          -1.9514085275441992,
          -0.7841155550829054,
          -0.2998409331653889,
          0.03951669010773553,
          -0.0727240387013017,
          -1.9518606100277855,
          0.9883285146195404,
          0.7508231282590799,
          1.209982615480504,
          0.7921753321761256,
          -0.9946655537151281,
          1.3067058404422474,
          0.5712332382845726,
          -0.5386093862850266,
          0.30013330235114466,
          -1.4869281940691312,
          0.9620169121202278,
          1.114277142834589,
          -1.3650422850750878,
          0.3298673585324569,
          0.9810828436899907,
          -0.9471938559777627,
          -0.6557976449379221,
          0.5954509216804071
         ],
         "xaxis": "x",
         "yaxis": "y"
        },
        {
         "line": {
          "color": "rgba(128, 128, 128, 1.0)",
          "dash": "solid",
          "shape": "linear",
          "width": 1.3
         },
         "marker": {
          "size": 2,
          "symbol": "circle"
         },
         "mode": "markers",
         "name": "A",
         "text": "",
         "type": "scatter",
         "x": [
          0.45782172851946584,
          0.4344214900313023,
          0.6658987220489518,
          2.895439169924277,
          -0.04735765933408375,
          0.14131190059074383,
          -0.6793167129790467,
          -1.33376156241096,
          0.5129051932325256,
          -1.8426154108364827,
          0.5414409748569157,
          1.5180507825544969,
          0.6886450990269172,
          -0.2934527411501007,
          1.247504281758502,
          -0.6923792689440722,
          1.3358752949438544,
          3.3009912281541745,
          -1.1772677491504626,
          3.0413738620919792,
          0.1939145630185375,
          1.316173538909124,
          0.4568857268531616,
          -0.45612992746179104,
          0.36962784918045843,
          -1.0872283818862274,
          -1.268507848017612,
          1.3690989346946598,
          2.404028688631945,
          0.6953932785311059,
          0.16957159952658565,
          -0.820430620044971,
          1.3622920559583251,
          1.2194783554864315,
          0.5270262370309676,
          0.12673147173592114,
          0.6274228407561939,
          2.1519729621866612,
          -0.1503870682355416,
          -0.8032647853869308,
          -1.7334754959923606,
          1.1498738436198657,
          0.9024715532142299,
          -0.6299946110464666,
          -0.10479446190246755,
          0.3807627473851706,
          0.30429400869494144,
          -0.09747668965216076,
          0.034130483643344964,
          2.3125818412357924,
          -0.1195421817947865,
          -1.1451149065169193,
          -0.10831608455742575,
          0.7369917906053898,
          0.26648976296350796,
          0.04793412305608602,
          0.9135049453782854,
          -0.10974581209473559,
          1.2973055112154592,
          1.409109018811545,
          -0.4880439368583151,
          -0.41255478657338274,
          -1.6652247217350953,
          -0.3571409627887695,
          0.05774639003035528,
          -0.47989239854050036,
          -0.675449156696727,
          -1.1430868805095362,
          -0.006663393609728982,
          -1.0620327924289885,
          1.4718999257473302,
          -0.6113357749066433,
          0.36148596789055853,
          -0.24393747075538624,
          1.0748240094017911,
          1.4315036978476303,
          -1.2193491756829018,
          1.0785112055318675,
          1.0922663616955144,
          -0.5271205263605011,
          -0.27374315353472867,
          0.028154193665865107,
          -1.1351935382309162,
          1.4612941727462698,
          -0.3509454137365033,
          0.6106125561226777,
          0.7478186327737351,
          -0.7425042942314749,
          1.916765223828547,
          1.240873891099306,
          -0.4406511100190365,
          1.346795532600243,
          -1.4120166335488293,
          -0.9726486257162662,
          -0.2852448153129776,
          -3.0108073083457927,
          -1.7635744867048033,
          -1.0166029223919701,
          0.6767572035278194,
          0.14883919105469573
         ],
         "xaxis": "x2",
         "y": [
          1.8511519134780592,
          0.9932635503226296,
          -0.20359937233167702,
          1.5257768804344916,
          0.7989148705029956,
          -0.7401919047073051,
          -0.8630213226964086,
          0.7013687303870811,
          -0.6247974874205289,
          0.10910461350500907,
          -0.11538038639040019,
          -0.02648740437455768,
          -0.43732218661342515,
          -0.7125768681585045,
          1.0133586523249136,
          -0.8616519633585347,
          -2.1230616381436356,
          -0.9749949035547446,
          0.5043444129264993,
          0.18825104298423934,
          -0.1432776826929805,
          0.5868807139113783,
          -0.5195842176454574,
          0.5736013901487871,
          -0.8173712354802753,
          0.6609920652626308,
          0.4168308410755578,
          0.5852219339927222,
          0.010802370600104156,
          -0.41273169823065897,
          -0.20857735228632088,
          -0.8416615204104636,
          0.052944189995554204,
          0.005686937411339467,
          0.3844520636603806,
          -1.0631481481915048,
          -0.11724016976317891,
          0.6630852320859335,
          0.5115801618934522,
          2.2561195936427705,
          0.3109656972874523,
          1.0994549480156748,
          -0.7208326396818907,
          -0.1977387682776627,
          -0.16040121850252212,
          0.794102216112637,
          0.7464271735955996,
          -0.647542908423245,
          -1.4984047157520854,
          -0.04075648099172144,
          2.264819816919803,
          -0.5552027566980382,
          -0.6748951474162486,
          -1.007916433892245,
          -1.3106915777664427,
          -1.8225142752914754,
          1.334030713362875,
          0.07572488075553528,
          -0.5830773501448417,
          0.38454318739022125,
          1.6110776348434117,
          -0.3174845924378902,
          0.8445097695504995,
          -0.41461007268988176,
          0.365775246787856,
          -1.496269233552682,
          0.3008252693310851,
          -0.39326338113914816,
          0.5008110351639224,
          -0.672608996952311,
          -1.0421214869609523,
          -0.11156295997918914,
          0.3092029035122308,
          0.28260084055062595,
          0.6949297525981041,
          -0.9319657740427375,
          -1.9514085275441992,
          -0.7841155550829054,
          -0.2998409331653889,
          0.03951669010773553,
          -0.0727240387013017,
          -1.9518606100277855,
          0.9883285146195404,
          0.7508231282590799,
          1.209982615480504,
          0.7921753321761256,
          -0.9946655537151281,
          1.3067058404422474,
          0.5712332382845726,
          -0.5386093862850266,
          0.30013330235114466,
          -1.4869281940691312,
          0.9620169121202278,
          1.114277142834589,
          -1.3650422850750878,
          0.3298673585324569,
          0.9810828436899907,
          -0.9471938559777627,
          -0.6557976449379221,
          0.5954509216804071
         ],
         "yaxis": "y2"
        },
        {
         "line": {
          "color": "rgba(128, 128, 128, 1.0)",
          "dash": "solid",
          "shape": "linear",
          "width": 1.3
         },
         "marker": {
          "size": 2,
          "symbol": "circle"
         },
         "mode": "markers",
         "name": "A",
         "text": "",
         "type": "scatter",
         "x": [
          -0.02618591574760387,
          -0.377594300707286,
          -0.40092302383041983,
          0.6226015130997402,
          1.7867408483882843,
          0.7007119925230211,
          2.0235266876031255,
          0.7310226916111957,
          -0.8653414905893465,
          0.07584612501092945,
          -0.28599575196194454,
          -1.1679062585670845,
          -1.5640424278658303,
          0.69945694861903,
          0.041094356317120245,
          -0.702094853390491,
          0.31749661894888925,
          0.6083667193106708,
          -0.13474980077139592,
          -0.021430909192688186,
          -0.25663331565876724,
          0.23446811217305416,
          -1.2019860895329175,
          0.9817031913314874,
          -1.1533314435179867,
          2.0537614550794383,
          0.31522051812578417,
          1.0356187024343126,
          0.6342422355054017,
          -0.053210739129649465,
          -1.0455114507622878,
          0.6593770973632015,
          -0.4269000489697485,
          -0.12334687895820025,
          0.2597387514760385,
          0.9080627172498368,
          -1.309092634952256,
          -0.3177438413176344,
          1.4491035428322692,
          -0.09189578438614497,
          -2.230077254290799,
          0.280010974541339,
          -0.6347446551844496,
          1.2737692460698924,
          2.2294210032717627,
          0.17808348459587112,
          -0.37426670210173707,
          -0.0069816754418047435,
          -0.46872482270574406,
          0.17977023674502898,
          -0.26884064984389405,
          0.590495165917698,
          -0.17716040762618426,
          0.20066817442639379,
          -0.7701778334238273,
          0.8914670475143059,
          -0.5225005737966002,
          0.44816652712536914,
          -2.96785333476731,
          -1.2653497639013929,
          0.1650183037865434,
          -0.05002056688627636,
          -0.8630009351378776,
          -1.5512253786732901,
          0.6326789472654919,
          -0.04081108924705931,
          0.039061581133283126,
          1.5497856366840013,
          -0.848995416695419,
          0.6339309928561057,
          -0.8910189407837548,
          0.9002056587236599,
          -0.2587337492688455,
          0.11279051279112261,
          -0.15365937140649974,
          -0.4910663874110523,
          1.2612638182302032,
          -2.4757182497454018,
          -1.7216730571254608,
          1.2725049971883207,
          -0.9929844025457848,
          -1.2821966314575877,
          -0.11954916159591458,
          -0.4564407666493159,
          1.508318000816078,
          -0.0934703839230235,
          1.2501652187292178,
          -0.46879820846883025,
          0.19844961707997533,
          -2.1459365572956846,
          -2.071426215645999,
          0.5888089437087306,
          -0.5112900157331203,
          -0.21275179229777214,
          -1.0890805879098995,
          -1.7598988719797426,
          -0.927097618061559,
          1.454395971413865,
          -1.6146175916064411,
          -1.0087391627527382
         ],
         "xaxis": "x3",
         "y": [
          1.8511519134780592,
          0.9932635503226296,
          -0.20359937233167702,
          1.5257768804344916,
          0.7989148705029956,
          -0.7401919047073051,
          -0.8630213226964086,
          0.7013687303870811,
          -0.6247974874205289,
          0.10910461350500907,
          -0.11538038639040019,
          -0.02648740437455768,
          -0.43732218661342515,
          -0.7125768681585045,
          1.0133586523249136,
          -0.8616519633585347,
          -2.1230616381436356,
          -0.9749949035547446,
          0.5043444129264993,
          0.18825104298423934,
          -0.1432776826929805,
          0.5868807139113783,
          -0.5195842176454574,
          0.5736013901487871,
          -0.8173712354802753,
          0.6609920652626308,
          0.4168308410755578,
          0.5852219339927222,
          0.010802370600104156,
          -0.41273169823065897,
          -0.20857735228632088,
          -0.8416615204104636,
          0.052944189995554204,
          0.005686937411339467,
          0.3844520636603806,
          -1.0631481481915048,
          -0.11724016976317891,
          0.6630852320859335,
          0.5115801618934522,
          2.2561195936427705,
          0.3109656972874523,
          1.0994549480156748,
          -0.7208326396818907,
          -0.1977387682776627,
          -0.16040121850252212,
          0.794102216112637,
          0.7464271735955996,
          -0.647542908423245,
          -1.4984047157520854,
          -0.04075648099172144,
          2.264819816919803,
          -0.5552027566980382,
          -0.6748951474162486,
          -1.007916433892245,
          -1.3106915777664427,
          -1.8225142752914754,
          1.334030713362875,
          0.07572488075553528,
          -0.5830773501448417,
          0.38454318739022125,
          1.6110776348434117,
          -0.3174845924378902,
          0.8445097695504995,
          -0.41461007268988176,
          0.365775246787856,
          -1.496269233552682,
          0.3008252693310851,
          -0.39326338113914816,
          0.5008110351639224,
          -0.672608996952311,
          -1.0421214869609523,
          -0.11156295997918914,
          0.3092029035122308,
          0.28260084055062595,
          0.6949297525981041,
          -0.9319657740427375,
          -1.9514085275441992,
          -0.7841155550829054,
          -0.2998409331653889,
          0.03951669010773553,
          -0.0727240387013017,
          -1.9518606100277855,
          0.9883285146195404,
          0.7508231282590799,
          1.209982615480504,
          0.7921753321761256,
          -0.9946655537151281,
          1.3067058404422474,
          0.5712332382845726,
          -0.5386093862850266,
          0.30013330235114466,
          -1.4869281940691312,
          0.9620169121202278,
          1.114277142834589,
          -1.3650422850750878,
          0.3298673585324569,
          0.9810828436899907,
          -0.9471938559777627,
          -0.6557976449379221,
          0.5954509216804071
         ],
         "yaxis": "y3"
        },
        {
         "line": {
          "color": "rgba(128, 128, 128, 1.0)",
          "dash": "solid",
          "shape": "linear",
          "width": 1.3
         },
         "marker": {
          "size": 2,
          "symbol": "circle"
         },
         "mode": "markers",
         "name": "A",
         "text": "",
         "type": "scatter",
         "x": [
          -1.1378255351906068,
          -1.9324290264990547,
          0.412873950725174,
          -1.8278889943930452,
          0.26505636248391123,
          -0.4511448776762043,
          -0.16429593523549452,
          0.0441634524289908,
          0.8901929140789799,
          0.9528293002879427,
          -0.4164940835430671,
          2.092922924567059,
          1.4940839215309305,
          -0.2669443534103714,
          -0.1625073651105624,
          -1.0277864531700824,
          0.2714354464139936,
          0.7652238166343336,
          -0.6185867486415615,
          -0.3386571617039138,
          -0.3161248120466677,
          0.5710324792283733,
          -1.5249464802738668,
          -1.334373160303245,
          0.14496818123002284,
          0.45608868102679767,
          1.8003104449689311,
          -0.14253677500263165,
          0.3618331353222978,
          -1.0487580358894426,
          0.4168789695894866,
          -0.25965569714086006,
          -0.5990700644206105,
          -0.12754730946254858,
          0.1609097100695703,
          -0.612772377898927,
          0.5893269219618965,
          -0.007587308662248082,
          -1.2396321553365013,
          -0.3228524676932316,
          2.0691877262518066,
          0.21575433288173168,
          -0.33688431639229416,
          -0.584943042777959,
          -0.021978302530539635,
          0.7760964928004312,
          0.2341124389450538,
          -0.6804767518930187,
          0.29743695826935995,
          -1.2995657384445818,
          -1.1731514576749118,
          1.775715051156065,
          -0.26136178641767793,
          1.5428154798082716,
          0.34932184123664994,
          -0.15885079640979533,
          0.24607230937253333,
          0.2935565236057475,
          0.059958085203068945,
          0.6811151621009519,
          0.3124443053318358,
          0.35737431918893203,
          -0.4378153347902127,
          -0.09958545939881695,
          0.9507249410063682,
          -1.2055051283131741,
          -0.967407806976702,
          -0.5250235543538504,
          -1.3263512258412549,
          -0.5974841819256089,
          0.7858376437377379,
          0.16259035468987162,
          -0.7902561073258011,
          0.1382269110475103,
          1.6266262871594164,
          1.1377555894088582,
          -2.1287698279677607,
          0.7312169085870153,
          -0.286878671127475,
          0.5019090793008186,
          0.9090457145830573,
          -1.8404050305770792,
          0.21917425845647676,
          0.9400268734050679,
          0.07307879979290297,
          0.06257165723555402,
          0.41662989125303784,
          0.4517203457412141,
          0.6543843691753921,
          -0.7668755560446119,
          -0.020854012382010814,
          0.46738215329666766,
          0.6650453240884444,
          0.5787135254319014,
          -1.0381663200426428,
          0.025476372190832014,
          1.3203897331098426,
          -0.2783016747545439,
          1.919420967279771,
          -0.29386813886300417
         ],
         "xaxis": "x4",
         "y": [
          1.8511519134780592,
          0.9932635503226296,
          -0.20359937233167702,
          1.5257768804344916,
          0.7989148705029956,
          -0.7401919047073051,
          -0.8630213226964086,
          0.7013687303870811,
          -0.6247974874205289,
          0.10910461350500907,
          -0.11538038639040019,
          -0.02648740437455768,
          -0.43732218661342515,
          -0.7125768681585045,
          1.0133586523249136,
          -0.8616519633585347,
          -2.1230616381436356,
          -0.9749949035547446,
          0.5043444129264993,
          0.18825104298423934,
          -0.1432776826929805,
          0.5868807139113783,
          -0.5195842176454574,
          0.5736013901487871,
          -0.8173712354802753,
          0.6609920652626308,
          0.4168308410755578,
          0.5852219339927222,
          0.010802370600104156,
          -0.41273169823065897,
          -0.20857735228632088,
          -0.8416615204104636,
          0.052944189995554204,
          0.005686937411339467,
          0.3844520636603806,
          -1.0631481481915048,
          -0.11724016976317891,
          0.6630852320859335,
          0.5115801618934522,
          2.2561195936427705,
          0.3109656972874523,
          1.0994549480156748,
          -0.7208326396818907,
          -0.1977387682776627,
          -0.16040121850252212,
          0.794102216112637,
          0.7464271735955996,
          -0.647542908423245,
          -1.4984047157520854,
          -0.04075648099172144,
          2.264819816919803,
          -0.5552027566980382,
          -0.6748951474162486,
          -1.007916433892245,
          -1.3106915777664427,
          -1.8225142752914754,
          1.334030713362875,
          0.07572488075553528,
          -0.5830773501448417,
          0.38454318739022125,
          1.6110776348434117,
          -0.3174845924378902,
          0.8445097695504995,
          -0.41461007268988176,
          0.365775246787856,
          -1.496269233552682,
          0.3008252693310851,
          -0.39326338113914816,
          0.5008110351639224,
          -0.672608996952311,
          -1.0421214869609523,
          -0.11156295997918914,
          0.3092029035122308,
          0.28260084055062595,
          0.6949297525981041,
          -0.9319657740427375,
          -1.9514085275441992,
          -0.7841155550829054,
          -0.2998409331653889,
          0.03951669010773553,
          -0.0727240387013017,
          -1.9518606100277855,
          0.9883285146195404,
          0.7508231282590799,
          1.209982615480504,
          0.7921753321761256,
          -0.9946655537151281,
          1.3067058404422474,
          0.5712332382845726,
          -0.5386093862850266,
          0.30013330235114466,
          -1.4869281940691312,
          0.9620169121202278,
          1.114277142834589,
          -1.3650422850750878,
          0.3298673585324569,
          0.9810828436899907,
          -0.9471938559777627,
          -0.6557976449379221,
          0.5954509216804071
         ],
         "yaxis": "y4"
        },
        {
         "line": {
          "color": "rgba(128, 128, 128, 1.0)",
          "dash": "solid",
          "shape": "linear",
          "width": 1.3
         },
         "marker": {
          "size": 2,
          "symbol": "circle"
         },
         "mode": "markers",
         "name": "B",
         "text": "",
         "type": "scatter",
         "x": [
          1.8511519134780592,
          0.9932635503226296,
          -0.20359937233167702,
          1.5257768804344916,
          0.7989148705029956,
          -0.7401919047073051,
          -0.8630213226964086,
          0.7013687303870811,
          -0.6247974874205289,
          0.10910461350500907,
          -0.11538038639040019,
          -0.02648740437455768,
          -0.43732218661342515,
          -0.7125768681585045,
          1.0133586523249136,
          -0.8616519633585347,
          -2.1230616381436356,
          -0.9749949035547446,
          0.5043444129264993,
          0.18825104298423934,
          -0.1432776826929805,
          0.5868807139113783,
          -0.5195842176454574,
          0.5736013901487871,
          -0.8173712354802753,
          0.6609920652626308,
          0.4168308410755578,
          0.5852219339927222,
          0.010802370600104156,
          -0.41273169823065897,
          -0.20857735228632088,
          -0.8416615204104636,
          0.052944189995554204,
          0.005686937411339467,
          0.3844520636603806,
          -1.0631481481915048,
          -0.11724016976317891,
          0.6630852320859335,
          0.5115801618934522,
          2.2561195936427705,
          0.3109656972874523,
          1.0994549480156748,
          -0.7208326396818907,
          -0.1977387682776627,
          -0.16040121850252212,
          0.794102216112637,
          0.7464271735955996,
          -0.647542908423245,
          -1.4984047157520854,
          -0.04075648099172144,
          2.264819816919803,
          -0.5552027566980382,
          -0.6748951474162486,
          -1.007916433892245,
          -1.3106915777664427,
          -1.8225142752914754,
          1.334030713362875,
          0.07572488075553528,
          -0.5830773501448417,
          0.38454318739022125,
          1.6110776348434117,
          -0.3174845924378902,
          0.8445097695504995,
          -0.41461007268988176,
          0.365775246787856,
          -1.496269233552682,
          0.3008252693310851,
          -0.39326338113914816,
          0.5008110351639224,
          -0.672608996952311,
          -1.0421214869609523,
          -0.11156295997918914,
          0.3092029035122308,
          0.28260084055062595,
          0.6949297525981041,
          -0.9319657740427375,
          -1.9514085275441992,
          -0.7841155550829054,
          -0.2998409331653889,
          0.03951669010773553,
          -0.0727240387013017,
          -1.9518606100277855,
          0.9883285146195404,
          0.7508231282590799,
          1.209982615480504,
          0.7921753321761256,
          -0.9946655537151281,
          1.3067058404422474,
          0.5712332382845726,
          -0.5386093862850266,
          0.30013330235114466,
          -1.4869281940691312,
          0.9620169121202278,
          1.114277142834589,
          -1.3650422850750878,
          0.3298673585324569,
          0.9810828436899907,
          -0.9471938559777627,
          -0.6557976449379221,
          0.5954509216804071
         ],
         "xaxis": "x5",
         "y": [
          0.45782172851946584,
          0.4344214900313023,
          0.6658987220489518,
          2.895439169924277,
          -0.04735765933408375,
          0.14131190059074383,
          -0.6793167129790467,
          -1.33376156241096,
          0.5129051932325256,
          -1.8426154108364827,
          0.5414409748569157,
          1.5180507825544969,
          0.6886450990269172,
          -0.2934527411501007,
          1.247504281758502,
          -0.6923792689440722,
          1.3358752949438544,
          3.3009912281541745,
          -1.1772677491504626,
          3.0413738620919792,
          0.1939145630185375,
          1.316173538909124,
          0.4568857268531616,
          -0.45612992746179104,
          0.36962784918045843,
          -1.0872283818862274,
          -1.268507848017612,
          1.3690989346946598,
          2.404028688631945,
          0.6953932785311059,
          0.16957159952658565,
          -0.820430620044971,
          1.3622920559583251,
          1.2194783554864315,
          0.5270262370309676,
          0.12673147173592114,
          0.6274228407561939,
          2.1519729621866612,
          -0.1503870682355416,
          -0.8032647853869308,
          -1.7334754959923606,
          1.1498738436198657,
          0.9024715532142299,
          -0.6299946110464666,
          -0.10479446190246755,
          0.3807627473851706,
          0.30429400869494144,
          -0.09747668965216076,
          0.034130483643344964,
          2.3125818412357924,
          -0.1195421817947865,
          -1.1451149065169193,
          -0.10831608455742575,
          0.7369917906053898,
          0.26648976296350796,
          0.04793412305608602,
          0.9135049453782854,
          -0.10974581209473559,
          1.2973055112154592,
          1.409109018811545,
          -0.4880439368583151,
          -0.41255478657338274,
          -1.6652247217350953,
          -0.3571409627887695,
          0.05774639003035528,
          -0.47989239854050036,
          -0.675449156696727,
          -1.1430868805095362,
          -0.006663393609728982,
          -1.0620327924289885,
          1.4718999257473302,
          -0.6113357749066433,
          0.36148596789055853,
          -0.24393747075538624,
          1.0748240094017911,
          1.4315036978476303,
          -1.2193491756829018,
          1.0785112055318675,
          1.0922663616955144,
          -0.5271205263605011,
          -0.27374315353472867,
          0.028154193665865107,
          -1.1351935382309162,
          1.4612941727462698,
          -0.3509454137365033,
          0.6106125561226777,
          0.7478186327737351,
          -0.7425042942314749,
          1.916765223828547,
          1.240873891099306,
          -0.4406511100190365,
          1.346795532600243,
          -1.4120166335488293,
          -0.9726486257162662,
          -0.2852448153129776,
          -3.0108073083457927,
          -1.7635744867048033,
          -1.0166029223919701,
          0.6767572035278194,
          0.14883919105469573
         ],
         "yaxis": "y5"
        },
        {
         "histfunc": "count",
         "histnorm": "",
         "marker": {
          "color": "rgba(55, 128, 191, 1.0)",
          "line": {
           "color": "#4D5663",
           "width": 1.3
          }
         },
         "name": "B",
         "nbinsx": 10,
         "opacity": 0.8,
         "orientation": "v",
         "type": "histogram",
         "x": [
          0.45782172851946584,
          0.4344214900313023,
          0.6658987220489518,
          2.895439169924277,
          -0.04735765933408375,
          0.14131190059074383,
          -0.6793167129790467,
          -1.33376156241096,
          0.5129051932325256,
          -1.8426154108364827,
          0.5414409748569157,
          1.5180507825544969,
          0.6886450990269172,
          -0.2934527411501007,
          1.247504281758502,
          -0.6923792689440722,
          1.3358752949438544,
          3.3009912281541745,
          -1.1772677491504626,
          3.0413738620919792,
          0.1939145630185375,
          1.316173538909124,
          0.4568857268531616,
          -0.45612992746179104,
          0.36962784918045843,
          -1.0872283818862274,
          -1.268507848017612,
          1.3690989346946598,
          2.404028688631945,
          0.6953932785311059,
          0.16957159952658565,
          -0.820430620044971,
          1.3622920559583251,
          1.2194783554864315,
          0.5270262370309676,
          0.12673147173592114,
          0.6274228407561939,
          2.1519729621866612,
          -0.1503870682355416,
          -0.8032647853869308,
          -1.7334754959923606,
          1.1498738436198657,
          0.9024715532142299,
          -0.6299946110464666,
          -0.10479446190246755,
          0.3807627473851706,
          0.30429400869494144,
          -0.09747668965216076,
          0.034130483643344964,
          2.3125818412357924,
          -0.1195421817947865,
          -1.1451149065169193,
          -0.10831608455742575,
          0.7369917906053898,
          0.26648976296350796,
          0.04793412305608602,
          0.9135049453782854,
          -0.10974581209473559,
          1.2973055112154592,
          1.409109018811545,
          -0.4880439368583151,
          -0.41255478657338274,
          -1.6652247217350953,
          -0.3571409627887695,
          0.05774639003035528,
          -0.47989239854050036,
          -0.675449156696727,
          -1.1430868805095362,
          -0.006663393609728982,
          -1.0620327924289885,
          1.4718999257473302,
          -0.6113357749066433,
          0.36148596789055853,
          -0.24393747075538624,
          1.0748240094017911,
          1.4315036978476303,
          -1.2193491756829018,
          1.0785112055318675,
          1.0922663616955144,
          -0.5271205263605011,
          -0.27374315353472867,
          0.028154193665865107,
          -1.1351935382309162,
          1.4612941727462698,
          -0.3509454137365033,
          0.6106125561226777,
          0.7478186327737351,
          -0.7425042942314749,
          1.916765223828547,
          1.240873891099306,
          -0.4406511100190365,
          1.346795532600243,
          -1.4120166335488293,
          -0.9726486257162662,
          -0.2852448153129776,
          -3.0108073083457927,
          -1.7635744867048033,
          -1.0166029223919701,
          0.6767572035278194,
          0.14883919105469573
         ],
         "xaxis": "x6",
         "yaxis": "y6"
        },
        {
         "line": {
          "color": "rgba(128, 128, 128, 1.0)",
          "dash": "solid",
          "shape": "linear",
          "width": 1.3
         },
         "marker": {
          "size": 2,
          "symbol": "circle"
         },
         "mode": "markers",
         "name": "B",
         "text": "",
         "type": "scatter",
         "x": [
          -0.02618591574760387,
          -0.377594300707286,
          -0.40092302383041983,
          0.6226015130997402,
          1.7867408483882843,
          0.7007119925230211,
          2.0235266876031255,
          0.7310226916111957,
          -0.8653414905893465,
          0.07584612501092945,
          -0.28599575196194454,
          -1.1679062585670845,
          -1.5640424278658303,
          0.69945694861903,
          0.041094356317120245,
          -0.702094853390491,
          0.31749661894888925,
          0.6083667193106708,
          -0.13474980077139592,
          -0.021430909192688186,
          -0.25663331565876724,
          0.23446811217305416,
          -1.2019860895329175,
          0.9817031913314874,
          -1.1533314435179867,
          2.0537614550794383,
          0.31522051812578417,
          1.0356187024343126,
          0.6342422355054017,
          -0.053210739129649465,
          -1.0455114507622878,
          0.6593770973632015,
          -0.4269000489697485,
          -0.12334687895820025,
          0.2597387514760385,
          0.9080627172498368,
          -1.309092634952256,
          -0.3177438413176344,
          1.4491035428322692,
          -0.09189578438614497,
          -2.230077254290799,
          0.280010974541339,
          -0.6347446551844496,
          1.2737692460698924,
          2.2294210032717627,
          0.17808348459587112,
          -0.37426670210173707,
          -0.0069816754418047435,
          -0.46872482270574406,
          0.17977023674502898,
          -0.26884064984389405,
          0.590495165917698,
          -0.17716040762618426,
          0.20066817442639379,
          -0.7701778334238273,
          0.8914670475143059,
          -0.5225005737966002,
          0.44816652712536914,
          -2.96785333476731,
          -1.2653497639013929,
          0.1650183037865434,
          -0.05002056688627636,
          -0.8630009351378776,
          -1.5512253786732901,
          0.6326789472654919,
          -0.04081108924705931,
          0.039061581133283126,
          1.5497856366840013,
          -0.848995416695419,
          0.6339309928561057,
          -0.8910189407837548,
          0.9002056587236599,
          -0.2587337492688455,
          0.11279051279112261,
          -0.15365937140649974,
          -0.4910663874110523,
          1.2612638182302032,
          -2.4757182497454018,
          -1.7216730571254608,
          1.2725049971883207,
          -0.9929844025457848,
          -1.2821966314575877,
          -0.11954916159591458,
          -0.4564407666493159,
          1.508318000816078,
          -0.0934703839230235,
          1.2501652187292178,
          -0.46879820846883025,
          0.19844961707997533,
          -2.1459365572956846,
          -2.071426215645999,
          0.5888089437087306,
          -0.5112900157331203,
          -0.21275179229777214,
          -1.0890805879098995,
          -1.7598988719797426,
          -0.927097618061559,
          1.454395971413865,
          -1.6146175916064411,
          -1.0087391627527382
         ],
         "xaxis": "x7",
         "y": [
          0.45782172851946584,
          0.4344214900313023,
          0.6658987220489518,
          2.895439169924277,
          -0.04735765933408375,
          0.14131190059074383,
          -0.6793167129790467,
          -1.33376156241096,
          0.5129051932325256,
          -1.8426154108364827,
          0.5414409748569157,
          1.5180507825544969,
          0.6886450990269172,
          -0.2934527411501007,
          1.247504281758502,
          -0.6923792689440722,
          1.3358752949438544,
          3.3009912281541745,
          -1.1772677491504626,
          3.0413738620919792,
          0.1939145630185375,
          1.316173538909124,
          0.4568857268531616,
          -0.45612992746179104,
          0.36962784918045843,
          -1.0872283818862274,
          -1.268507848017612,
          1.3690989346946598,
          2.404028688631945,
          0.6953932785311059,
          0.16957159952658565,
          -0.820430620044971,
          1.3622920559583251,
          1.2194783554864315,
          0.5270262370309676,
          0.12673147173592114,
          0.6274228407561939,
          2.1519729621866612,
          -0.1503870682355416,
          -0.8032647853869308,
          -1.7334754959923606,
          1.1498738436198657,
          0.9024715532142299,
          -0.6299946110464666,
          -0.10479446190246755,
          0.3807627473851706,
          0.30429400869494144,
          -0.09747668965216076,
          0.034130483643344964,
          2.3125818412357924,
          -0.1195421817947865,
          -1.1451149065169193,
          -0.10831608455742575,
          0.7369917906053898,
          0.26648976296350796,
          0.04793412305608602,
          0.9135049453782854,
          -0.10974581209473559,
          1.2973055112154592,
          1.409109018811545,
          -0.4880439368583151,
          -0.41255478657338274,
          -1.6652247217350953,
          -0.3571409627887695,
          0.05774639003035528,
          -0.47989239854050036,
          -0.675449156696727,
          -1.1430868805095362,
          -0.006663393609728982,
          -1.0620327924289885,
          1.4718999257473302,
          -0.6113357749066433,
          0.36148596789055853,
          -0.24393747075538624,
          1.0748240094017911,
          1.4315036978476303,
          -1.2193491756829018,
          1.0785112055318675,
          1.0922663616955144,
          -0.5271205263605011,
          -0.27374315353472867,
          0.028154193665865107,
          -1.1351935382309162,
          1.4612941727462698,
          -0.3509454137365033,
          0.6106125561226777,
          0.7478186327737351,
          -0.7425042942314749,
          1.916765223828547,
          1.240873891099306,
          -0.4406511100190365,
          1.346795532600243,
          -1.4120166335488293,
          -0.9726486257162662,
          -0.2852448153129776,
          -3.0108073083457927,
          -1.7635744867048033,
          -1.0166029223919701,
          0.6767572035278194,
          0.14883919105469573
         ],
         "yaxis": "y7"
        },
        {
         "line": {
          "color": "rgba(128, 128, 128, 1.0)",
          "dash": "solid",
          "shape": "linear",
          "width": 1.3
         },
         "marker": {
          "size": 2,
          "symbol": "circle"
         },
         "mode": "markers",
         "name": "B",
         "text": "",
         "type": "scatter",
         "x": [
          -1.1378255351906068,
          -1.9324290264990547,
          0.412873950725174,
          -1.8278889943930452,
          0.26505636248391123,
          -0.4511448776762043,
          -0.16429593523549452,
          0.0441634524289908,
          0.8901929140789799,
          0.9528293002879427,
          -0.4164940835430671,
          2.092922924567059,
          1.4940839215309305,
          -0.2669443534103714,
          -0.1625073651105624,
          -1.0277864531700824,
          0.2714354464139936,
          0.7652238166343336,
          -0.6185867486415615,
          -0.3386571617039138,
          -0.3161248120466677,
          0.5710324792283733,
          -1.5249464802738668,
          -1.334373160303245,
          0.14496818123002284,
          0.45608868102679767,
          1.8003104449689311,
          -0.14253677500263165,
          0.3618331353222978,
          -1.0487580358894426,
          0.4168789695894866,
          -0.25965569714086006,
          -0.5990700644206105,
          -0.12754730946254858,
          0.1609097100695703,
          -0.612772377898927,
          0.5893269219618965,
          -0.007587308662248082,
          -1.2396321553365013,
          -0.3228524676932316,
          2.0691877262518066,
          0.21575433288173168,
          -0.33688431639229416,
          -0.584943042777959,
          -0.021978302530539635,
          0.7760964928004312,
          0.2341124389450538,
          -0.6804767518930187,
          0.29743695826935995,
          -1.2995657384445818,
          -1.1731514576749118,
          1.775715051156065,
          -0.26136178641767793,
          1.5428154798082716,
          0.34932184123664994,
          -0.15885079640979533,
          0.24607230937253333,
          0.2935565236057475,
          0.059958085203068945,
          0.6811151621009519,
          0.3124443053318358,
          0.35737431918893203,
          -0.4378153347902127,
          -0.09958545939881695,
          0.9507249410063682,
          -1.2055051283131741,
          -0.967407806976702,
          -0.5250235543538504,
          -1.3263512258412549,
          -0.5974841819256089,
          0.7858376437377379,
          0.16259035468987162,
          -0.7902561073258011,
          0.1382269110475103,
          1.6266262871594164,
          1.1377555894088582,
          -2.1287698279677607,
          0.7312169085870153,
          -0.286878671127475,
          0.5019090793008186,
          0.9090457145830573,
          -1.8404050305770792,
          0.21917425845647676,
          0.9400268734050679,
          0.07307879979290297,
          0.06257165723555402,
          0.41662989125303784,
          0.4517203457412141,
          0.6543843691753921,
          -0.7668755560446119,
          -0.020854012382010814,
          0.46738215329666766,
          0.6650453240884444,
          0.5787135254319014,
          -1.0381663200426428,
          0.025476372190832014,
          1.3203897331098426,
          -0.2783016747545439,
          1.919420967279771,
          -0.29386813886300417
         ],
         "xaxis": "x8",
         "y": [
          0.45782172851946584,
          0.4344214900313023,
          0.6658987220489518,
          2.895439169924277,
          -0.04735765933408375,
          0.14131190059074383,
          -0.6793167129790467,
          -1.33376156241096,
          0.5129051932325256,
          -1.8426154108364827,
          0.5414409748569157,
          1.5180507825544969,
          0.6886450990269172,
          -0.2934527411501007,
          1.247504281758502,
          -0.6923792689440722,
          1.3358752949438544,
          3.3009912281541745,
          -1.1772677491504626,
          3.0413738620919792,
          0.1939145630185375,
          1.316173538909124,
          0.4568857268531616,
          -0.45612992746179104,
          0.36962784918045843,
          -1.0872283818862274,
          -1.268507848017612,
          1.3690989346946598,
          2.404028688631945,
          0.6953932785311059,
          0.16957159952658565,
          -0.820430620044971,
          1.3622920559583251,
          1.2194783554864315,
          0.5270262370309676,
          0.12673147173592114,
          0.6274228407561939,
          2.1519729621866612,
          -0.1503870682355416,
          -0.8032647853869308,
          -1.7334754959923606,
          1.1498738436198657,
          0.9024715532142299,
          -0.6299946110464666,
          -0.10479446190246755,
          0.3807627473851706,
          0.30429400869494144,
          -0.09747668965216076,
          0.034130483643344964,
          2.3125818412357924,
          -0.1195421817947865,
          -1.1451149065169193,
          -0.10831608455742575,
          0.7369917906053898,
          0.26648976296350796,
          0.04793412305608602,
          0.9135049453782854,
          -0.10974581209473559,
          1.2973055112154592,
          1.409109018811545,
          -0.4880439368583151,
          -0.41255478657338274,
          -1.6652247217350953,
          -0.3571409627887695,
          0.05774639003035528,
          -0.47989239854050036,
          -0.675449156696727,
          -1.1430868805095362,
          -0.006663393609728982,
          -1.0620327924289885,
          1.4718999257473302,
          -0.6113357749066433,
          0.36148596789055853,
          -0.24393747075538624,
          1.0748240094017911,
          1.4315036978476303,
          -1.2193491756829018,
          1.0785112055318675,
          1.0922663616955144,
          -0.5271205263605011,
          -0.27374315353472867,
          0.028154193665865107,
          -1.1351935382309162,
          1.4612941727462698,
          -0.3509454137365033,
          0.6106125561226777,
          0.7478186327737351,
          -0.7425042942314749,
          1.916765223828547,
          1.240873891099306,
          -0.4406511100190365,
          1.346795532600243,
          -1.4120166335488293,
          -0.9726486257162662,
          -0.2852448153129776,
          -3.0108073083457927,
          -1.7635744867048033,
          -1.0166029223919701,
          0.6767572035278194,
          0.14883919105469573
         ],
         "yaxis": "y8"
        },
        {
         "line": {
          "color": "rgba(128, 128, 128, 1.0)",
          "dash": "solid",
          "shape": "linear",
          "width": 1.3
         },
         "marker": {
          "size": 2,
          "symbol": "circle"
         },
         "mode": "markers",
         "name": "C",
         "text": "",
         "type": "scatter",
         "x": [
          1.8511519134780592,
          0.9932635503226296,
          -0.20359937233167702,
          1.5257768804344916,
          0.7989148705029956,
          -0.7401919047073051,
          -0.8630213226964086,
          0.7013687303870811,
          -0.6247974874205289,
          0.10910461350500907,
          -0.11538038639040019,
          -0.02648740437455768,
          -0.43732218661342515,
          -0.7125768681585045,
          1.0133586523249136,
          -0.8616519633585347,
          -2.1230616381436356,
          -0.9749949035547446,
          0.5043444129264993,
          0.18825104298423934,
          -0.1432776826929805,
          0.5868807139113783,
          -0.5195842176454574,
          0.5736013901487871,
          -0.8173712354802753,
          0.6609920652626308,
          0.4168308410755578,
          0.5852219339927222,
          0.010802370600104156,
          -0.41273169823065897,
          -0.20857735228632088,
          -0.8416615204104636,
          0.052944189995554204,
          0.005686937411339467,
          0.3844520636603806,
          -1.0631481481915048,
          -0.11724016976317891,
          0.6630852320859335,
          0.5115801618934522,
          2.2561195936427705,
          0.3109656972874523,
          1.0994549480156748,
          -0.7208326396818907,
          -0.1977387682776627,
          -0.16040121850252212,
          0.794102216112637,
          0.7464271735955996,
          -0.647542908423245,
          -1.4984047157520854,
          -0.04075648099172144,
          2.264819816919803,
          -0.5552027566980382,
          -0.6748951474162486,
          -1.007916433892245,
          -1.3106915777664427,
          -1.8225142752914754,
          1.334030713362875,
          0.07572488075553528,
          -0.5830773501448417,
          0.38454318739022125,
          1.6110776348434117,
          -0.3174845924378902,
          0.8445097695504995,
          -0.41461007268988176,
          0.365775246787856,
          -1.496269233552682,
          0.3008252693310851,
          -0.39326338113914816,
          0.5008110351639224,
          -0.672608996952311,
          -1.0421214869609523,
          -0.11156295997918914,
          0.3092029035122308,
          0.28260084055062595,
          0.6949297525981041,
          -0.9319657740427375,
          -1.9514085275441992,
          -0.7841155550829054,
          -0.2998409331653889,
          0.03951669010773553,
          -0.0727240387013017,
          -1.9518606100277855,
          0.9883285146195404,
          0.7508231282590799,
          1.209982615480504,
          0.7921753321761256,
          -0.9946655537151281,
          1.3067058404422474,
          0.5712332382845726,
          -0.5386093862850266,
          0.30013330235114466,
          -1.4869281940691312,
          0.9620169121202278,
          1.114277142834589,
          -1.3650422850750878,
          0.3298673585324569,
          0.9810828436899907,
          -0.9471938559777627,
          -0.6557976449379221,
          0.5954509216804071
         ],
         "xaxis": "x9",
         "y": [
          -0.02618591574760387,
          -0.377594300707286,
          -0.40092302383041983,
          0.6226015130997402,
          1.7867408483882843,
          0.7007119925230211,
          2.0235266876031255,
          0.7310226916111957,
          -0.8653414905893465,
          0.07584612501092945,
          -0.28599575196194454,
          -1.1679062585670845,
          -1.5640424278658303,
          0.69945694861903,
          0.041094356317120245,
          -0.702094853390491,
          0.31749661894888925,
          0.6083667193106708,
          -0.13474980077139592,
          -0.021430909192688186,
          -0.25663331565876724,
          0.23446811217305416,
          -1.2019860895329175,
          0.9817031913314874,
          -1.1533314435179867,
          2.0537614550794383,
          0.31522051812578417,
          1.0356187024343126,
          0.6342422355054017,
          -0.053210739129649465,
          -1.0455114507622878,
          0.6593770973632015,
          -0.4269000489697485,
          -0.12334687895820025,
          0.2597387514760385,
          0.9080627172498368,
          -1.309092634952256,
          -0.3177438413176344,
          1.4491035428322692,
          -0.09189578438614497,
          -2.230077254290799,
          0.280010974541339,
          -0.6347446551844496,
          1.2737692460698924,
          2.2294210032717627,
          0.17808348459587112,
          -0.37426670210173707,
          -0.0069816754418047435,
          -0.46872482270574406,
          0.17977023674502898,
          -0.26884064984389405,
          0.590495165917698,
          -0.17716040762618426,
          0.20066817442639379,
          -0.7701778334238273,
          0.8914670475143059,
          -0.5225005737966002,
          0.44816652712536914,
          -2.96785333476731,
          -1.2653497639013929,
          0.1650183037865434,
          -0.05002056688627636,
          -0.8630009351378776,
          -1.5512253786732901,
          0.6326789472654919,
          -0.04081108924705931,
          0.039061581133283126,
          1.5497856366840013,
          -0.848995416695419,
          0.6339309928561057,
          -0.8910189407837548,
          0.9002056587236599,
          -0.2587337492688455,
          0.11279051279112261,
          -0.15365937140649974,
          -0.4910663874110523,
          1.2612638182302032,
          -2.4757182497454018,
          -1.7216730571254608,
          1.2725049971883207,
          -0.9929844025457848,
          -1.2821966314575877,
          -0.11954916159591458,
          -0.4564407666493159,
          1.508318000816078,
          -0.0934703839230235,
          1.2501652187292178,
          -0.46879820846883025,
          0.19844961707997533,
          -2.1459365572956846,
          -2.071426215645999,
          0.5888089437087306,
          -0.5112900157331203,
          -0.21275179229777214,
          -1.0890805879098995,
          -1.7598988719797426,
          -0.927097618061559,
          1.454395971413865,
          -1.6146175916064411,
          -1.0087391627527382
         ],
         "yaxis": "y9"
        },
        {
         "line": {
          "color": "rgba(128, 128, 128, 1.0)",
          "dash": "solid",
          "shape": "linear",
          "width": 1.3
         },
         "marker": {
          "size": 2,
          "symbol": "circle"
         },
         "mode": "markers",
         "name": "C",
         "text": "",
         "type": "scatter",
         "x": [
          0.45782172851946584,
          0.4344214900313023,
          0.6658987220489518,
          2.895439169924277,
          -0.04735765933408375,
          0.14131190059074383,
          -0.6793167129790467,
          -1.33376156241096,
          0.5129051932325256,
          -1.8426154108364827,
          0.5414409748569157,
          1.5180507825544969,
          0.6886450990269172,
          -0.2934527411501007,
          1.247504281758502,
          -0.6923792689440722,
          1.3358752949438544,
          3.3009912281541745,
          -1.1772677491504626,
          3.0413738620919792,
          0.1939145630185375,
          1.316173538909124,
          0.4568857268531616,
          -0.45612992746179104,
          0.36962784918045843,
          -1.0872283818862274,
          -1.268507848017612,
          1.3690989346946598,
          2.404028688631945,
          0.6953932785311059,
          0.16957159952658565,
          -0.820430620044971,
          1.3622920559583251,
          1.2194783554864315,
          0.5270262370309676,
          0.12673147173592114,
          0.6274228407561939,
          2.1519729621866612,
          -0.1503870682355416,
          -0.8032647853869308,
          -1.7334754959923606,
          1.1498738436198657,
          0.9024715532142299,
          -0.6299946110464666,
          -0.10479446190246755,
          0.3807627473851706,
          0.30429400869494144,
          -0.09747668965216076,
          0.034130483643344964,
          2.3125818412357924,
          -0.1195421817947865,
          -1.1451149065169193,
          -0.10831608455742575,
          0.7369917906053898,
          0.26648976296350796,
          0.04793412305608602,
          0.9135049453782854,
          -0.10974581209473559,
          1.2973055112154592,
          1.409109018811545,
          -0.4880439368583151,
          -0.41255478657338274,
          -1.6652247217350953,
          -0.3571409627887695,
          0.05774639003035528,
          -0.47989239854050036,
          -0.675449156696727,
          -1.1430868805095362,
          -0.006663393609728982,
          -1.0620327924289885,
          1.4718999257473302,
          -0.6113357749066433,
          0.36148596789055853,
          -0.24393747075538624,
          1.0748240094017911,
          1.4315036978476303,
          -1.2193491756829018,
          1.0785112055318675,
          1.0922663616955144,
          -0.5271205263605011,
          -0.27374315353472867,
          0.028154193665865107,
          -1.1351935382309162,
          1.4612941727462698,
          -0.3509454137365033,
          0.6106125561226777,
          0.7478186327737351,
          -0.7425042942314749,
          1.916765223828547,
          1.240873891099306,
          -0.4406511100190365,
          1.346795532600243,
          -1.4120166335488293,
          -0.9726486257162662,
          -0.2852448153129776,
          -3.0108073083457927,
          -1.7635744867048033,
          -1.0166029223919701,
          0.6767572035278194,
          0.14883919105469573
         ],
         "xaxis": "x10",
         "y": [
          -0.02618591574760387,
          -0.377594300707286,
          -0.40092302383041983,
          0.6226015130997402,
          1.7867408483882843,
          0.7007119925230211,
          2.0235266876031255,
          0.7310226916111957,
          -0.8653414905893465,
          0.07584612501092945,
          -0.28599575196194454,
          -1.1679062585670845,
          -1.5640424278658303,
          0.69945694861903,
          0.041094356317120245,
          -0.702094853390491,
          0.31749661894888925,
          0.6083667193106708,
          -0.13474980077139592,
          -0.021430909192688186,
          -0.25663331565876724,
          0.23446811217305416,
          -1.2019860895329175,
          0.9817031913314874,
          -1.1533314435179867,
          2.0537614550794383,
          0.31522051812578417,
          1.0356187024343126,
          0.6342422355054017,
          -0.053210739129649465,
          -1.0455114507622878,
          0.6593770973632015,
          -0.4269000489697485,
          -0.12334687895820025,
          0.2597387514760385,
          0.9080627172498368,
          -1.309092634952256,
          -0.3177438413176344,
          1.4491035428322692,
          -0.09189578438614497,
          -2.230077254290799,
          0.280010974541339,
          -0.6347446551844496,
          1.2737692460698924,
          2.2294210032717627,
          0.17808348459587112,
          -0.37426670210173707,
          -0.0069816754418047435,
          -0.46872482270574406,
          0.17977023674502898,
          -0.26884064984389405,
          0.590495165917698,
          -0.17716040762618426,
          0.20066817442639379,
          -0.7701778334238273,
          0.8914670475143059,
          -0.5225005737966002,
          0.44816652712536914,
          -2.96785333476731,
          -1.2653497639013929,
          0.1650183037865434,
          -0.05002056688627636,
          -0.8630009351378776,
          -1.5512253786732901,
          0.6326789472654919,
          -0.04081108924705931,
          0.039061581133283126,
          1.5497856366840013,
          -0.848995416695419,
          0.6339309928561057,
          -0.8910189407837548,
          0.9002056587236599,
          -0.2587337492688455,
          0.11279051279112261,
          -0.15365937140649974,
          -0.4910663874110523,
          1.2612638182302032,
          -2.4757182497454018,
          -1.7216730571254608,
          1.2725049971883207,
          -0.9929844025457848,
          -1.2821966314575877,
          -0.11954916159591458,
          -0.4564407666493159,
          1.508318000816078,
          -0.0934703839230235,
          1.2501652187292178,
          -0.46879820846883025,
          0.19844961707997533,
          -2.1459365572956846,
          -2.071426215645999,
          0.5888089437087306,
          -0.5112900157331203,
          -0.21275179229777214,
          -1.0890805879098995,
          -1.7598988719797426,
          -0.927097618061559,
          1.454395971413865,
          -1.6146175916064411,
          -1.0087391627527382
         ],
         "yaxis": "y10"
        },
        {
         "histfunc": "count",
         "histnorm": "",
         "marker": {
          "color": "rgba(50, 171, 96, 1.0)",
          "line": {
           "color": "#4D5663",
           "width": 1.3
          }
         },
         "name": "C",
         "nbinsx": 10,
         "opacity": 0.8,
         "orientation": "v",
         "type": "histogram",
         "x": [
          -0.02618591574760387,
          -0.377594300707286,
          -0.40092302383041983,
          0.6226015130997402,
          1.7867408483882843,
          0.7007119925230211,
          2.0235266876031255,
          0.7310226916111957,
          -0.8653414905893465,
          0.07584612501092945,
          -0.28599575196194454,
          -1.1679062585670845,
          -1.5640424278658303,
          0.69945694861903,
          0.041094356317120245,
          -0.702094853390491,
          0.31749661894888925,
          0.6083667193106708,
          -0.13474980077139592,
          -0.021430909192688186,
          -0.25663331565876724,
          0.23446811217305416,
          -1.2019860895329175,
          0.9817031913314874,
          -1.1533314435179867,
          2.0537614550794383,
          0.31522051812578417,
          1.0356187024343126,
          0.6342422355054017,
          -0.053210739129649465,
          -1.0455114507622878,
          0.6593770973632015,
          -0.4269000489697485,
          -0.12334687895820025,
          0.2597387514760385,
          0.9080627172498368,
          -1.309092634952256,
          -0.3177438413176344,
          1.4491035428322692,
          -0.09189578438614497,
          -2.230077254290799,
          0.280010974541339,
          -0.6347446551844496,
          1.2737692460698924,
          2.2294210032717627,
          0.17808348459587112,
          -0.37426670210173707,
          -0.0069816754418047435,
          -0.46872482270574406,
          0.17977023674502898,
          -0.26884064984389405,
          0.590495165917698,
          -0.17716040762618426,
          0.20066817442639379,
          -0.7701778334238273,
          0.8914670475143059,
          -0.5225005737966002,
          0.44816652712536914,
          -2.96785333476731,
          -1.2653497639013929,
          0.1650183037865434,
          -0.05002056688627636,
          -0.8630009351378776,
          -1.5512253786732901,
          0.6326789472654919,
          -0.04081108924705931,
          0.039061581133283126,
          1.5497856366840013,
          -0.848995416695419,
          0.6339309928561057,
          -0.8910189407837548,
          0.9002056587236599,
          -0.2587337492688455,
          0.11279051279112261,
          -0.15365937140649974,
          -0.4910663874110523,
          1.2612638182302032,
          -2.4757182497454018,
          -1.7216730571254608,
          1.2725049971883207,
          -0.9929844025457848,
          -1.2821966314575877,
          -0.11954916159591458,
          -0.4564407666493159,
          1.508318000816078,
          -0.0934703839230235,
          1.2501652187292178,
          -0.46879820846883025,
          0.19844961707997533,
          -2.1459365572956846,
          -2.071426215645999,
          0.5888089437087306,
          -0.5112900157331203,
          -0.21275179229777214,
          -1.0890805879098995,
          -1.7598988719797426,
          -0.927097618061559,
          1.454395971413865,
          -1.6146175916064411,
          -1.0087391627527382
         ],
         "xaxis": "x11",
         "yaxis": "y11"
        },
        {
         "line": {
          "color": "rgba(128, 128, 128, 1.0)",
          "dash": "solid",
          "shape": "linear",
          "width": 1.3
         },
         "marker": {
          "size": 2,
          "symbol": "circle"
         },
         "mode": "markers",
         "name": "C",
         "text": "",
         "type": "scatter",
         "x": [
          -1.1378255351906068,
          -1.9324290264990547,
          0.412873950725174,
          -1.8278889943930452,
          0.26505636248391123,
          -0.4511448776762043,
          -0.16429593523549452,
          0.0441634524289908,
          0.8901929140789799,
          0.9528293002879427,
          -0.4164940835430671,
          2.092922924567059,
          1.4940839215309305,
          -0.2669443534103714,
          -0.1625073651105624,
          -1.0277864531700824,
          0.2714354464139936,
          0.7652238166343336,
          -0.6185867486415615,
          -0.3386571617039138,
          -0.3161248120466677,
          0.5710324792283733,
          -1.5249464802738668,
          -1.334373160303245,
          0.14496818123002284,
          0.45608868102679767,
          1.8003104449689311,
          -0.14253677500263165,
          0.3618331353222978,
          -1.0487580358894426,
          0.4168789695894866,
          -0.25965569714086006,
          -0.5990700644206105,
          -0.12754730946254858,
          0.1609097100695703,
          -0.612772377898927,
          0.5893269219618965,
          -0.007587308662248082,
          -1.2396321553365013,
          -0.3228524676932316,
          2.0691877262518066,
          0.21575433288173168,
          -0.33688431639229416,
          -0.584943042777959,
          -0.021978302530539635,
          0.7760964928004312,
          0.2341124389450538,
          -0.6804767518930187,
          0.29743695826935995,
          -1.2995657384445818,
          -1.1731514576749118,
          1.775715051156065,
          -0.26136178641767793,
          1.5428154798082716,
          0.34932184123664994,
          -0.15885079640979533,
          0.24607230937253333,
          0.2935565236057475,
          0.059958085203068945,
          0.6811151621009519,
          0.3124443053318358,
          0.35737431918893203,
          -0.4378153347902127,
          -0.09958545939881695,
          0.9507249410063682,
          -1.2055051283131741,
          -0.967407806976702,
          -0.5250235543538504,
          -1.3263512258412549,
          -0.5974841819256089,
          0.7858376437377379,
          0.16259035468987162,
          -0.7902561073258011,
          0.1382269110475103,
          1.6266262871594164,
          1.1377555894088582,
          -2.1287698279677607,
          0.7312169085870153,
          -0.286878671127475,
          0.5019090793008186,
          0.9090457145830573,
          -1.8404050305770792,
          0.21917425845647676,
          0.9400268734050679,
          0.07307879979290297,
          0.06257165723555402,
          0.41662989125303784,
          0.4517203457412141,
          0.6543843691753921,
          -0.7668755560446119,
          -0.020854012382010814,
          0.46738215329666766,
          0.6650453240884444,
          0.5787135254319014,
          -1.0381663200426428,
          0.025476372190832014,
          1.3203897331098426,
          -0.2783016747545439,
          1.919420967279771,
          -0.29386813886300417
         ],
         "xaxis": "x12",
         "y": [
          -0.02618591574760387,
          -0.377594300707286,
          -0.40092302383041983,
          0.6226015130997402,
          1.7867408483882843,
          0.7007119925230211,
          2.0235266876031255,
          0.7310226916111957,
          -0.8653414905893465,
          0.07584612501092945,
          -0.28599575196194454,
          -1.1679062585670845,
          -1.5640424278658303,
          0.69945694861903,
          0.041094356317120245,
          -0.702094853390491,
          0.31749661894888925,
          0.6083667193106708,
          -0.13474980077139592,
          -0.021430909192688186,
          -0.25663331565876724,
          0.23446811217305416,
          -1.2019860895329175,
          0.9817031913314874,
          -1.1533314435179867,
          2.0537614550794383,
          0.31522051812578417,
          1.0356187024343126,
          0.6342422355054017,
          -0.053210739129649465,
          -1.0455114507622878,
          0.6593770973632015,
          -0.4269000489697485,
          -0.12334687895820025,
          0.2597387514760385,
          0.9080627172498368,
          -1.309092634952256,
          -0.3177438413176344,
          1.4491035428322692,
          -0.09189578438614497,
          -2.230077254290799,
          0.280010974541339,
          -0.6347446551844496,
          1.2737692460698924,
          2.2294210032717627,
          0.17808348459587112,
          -0.37426670210173707,
          -0.0069816754418047435,
          -0.46872482270574406,
          0.17977023674502898,
          -0.26884064984389405,
          0.590495165917698,
          -0.17716040762618426,
          0.20066817442639379,
          -0.7701778334238273,
          0.8914670475143059,
          -0.5225005737966002,
          0.44816652712536914,
          -2.96785333476731,
          -1.2653497639013929,
          0.1650183037865434,
          -0.05002056688627636,
          -0.8630009351378776,
          -1.5512253786732901,
          0.6326789472654919,
          -0.04081108924705931,
          0.039061581133283126,
          1.5497856366840013,
          -0.848995416695419,
          0.6339309928561057,
          -0.8910189407837548,
          0.9002056587236599,
          -0.2587337492688455,
          0.11279051279112261,
          -0.15365937140649974,
          -0.4910663874110523,
          1.2612638182302032,
          -2.4757182497454018,
          -1.7216730571254608,
          1.2725049971883207,
          -0.9929844025457848,
          -1.2821966314575877,
          -0.11954916159591458,
          -0.4564407666493159,
          1.508318000816078,
          -0.0934703839230235,
          1.2501652187292178,
          -0.46879820846883025,
          0.19844961707997533,
          -2.1459365572956846,
          -2.071426215645999,
          0.5888089437087306,
          -0.5112900157331203,
          -0.21275179229777214,
          -1.0890805879098995,
          -1.7598988719797426,
          -0.927097618061559,
          1.454395971413865,
          -1.6146175916064411,
          -1.0087391627527382
         ],
         "yaxis": "y12"
        },
        {
         "line": {
          "color": "rgba(128, 128, 128, 1.0)",
          "dash": "solid",
          "shape": "linear",
          "width": 1.3
         },
         "marker": {
          "size": 2,
          "symbol": "circle"
         },
         "mode": "markers",
         "name": "D",
         "text": "",
         "type": "scatter",
         "x": [
          1.8511519134780592,
          0.9932635503226296,
          -0.20359937233167702,
          1.5257768804344916,
          0.7989148705029956,
          -0.7401919047073051,
          -0.8630213226964086,
          0.7013687303870811,
          -0.6247974874205289,
          0.10910461350500907,
          -0.11538038639040019,
          -0.02648740437455768,
          -0.43732218661342515,
          -0.7125768681585045,
          1.0133586523249136,
          -0.8616519633585347,
          -2.1230616381436356,
          -0.9749949035547446,
          0.5043444129264993,
          0.18825104298423934,
          -0.1432776826929805,
          0.5868807139113783,
          -0.5195842176454574,
          0.5736013901487871,
          -0.8173712354802753,
          0.6609920652626308,
          0.4168308410755578,
          0.5852219339927222,
          0.010802370600104156,
          -0.41273169823065897,
          -0.20857735228632088,
          -0.8416615204104636,
          0.052944189995554204,
          0.005686937411339467,
          0.3844520636603806,
          -1.0631481481915048,
          -0.11724016976317891,
          0.6630852320859335,
          0.5115801618934522,
          2.2561195936427705,
          0.3109656972874523,
          1.0994549480156748,
          -0.7208326396818907,
          -0.1977387682776627,
          -0.16040121850252212,
          0.794102216112637,
          0.7464271735955996,
          -0.647542908423245,
          -1.4984047157520854,
          -0.04075648099172144,
          2.264819816919803,
          -0.5552027566980382,
          -0.6748951474162486,
          -1.007916433892245,
          -1.3106915777664427,
          -1.8225142752914754,
          1.334030713362875,
          0.07572488075553528,
          -0.5830773501448417,
          0.38454318739022125,
          1.6110776348434117,
          -0.3174845924378902,
          0.8445097695504995,
          -0.41461007268988176,
          0.365775246787856,
          -1.496269233552682,
          0.3008252693310851,
          -0.39326338113914816,
          0.5008110351639224,
          -0.672608996952311,
          -1.0421214869609523,
          -0.11156295997918914,
          0.3092029035122308,
          0.28260084055062595,
          0.6949297525981041,
          -0.9319657740427375,
          -1.9514085275441992,
          -0.7841155550829054,
          -0.2998409331653889,
          0.03951669010773553,
          -0.0727240387013017,
          -1.9518606100277855,
          0.9883285146195404,
          0.7508231282590799,
          1.209982615480504,
          0.7921753321761256,
          -0.9946655537151281,
          1.3067058404422474,
          0.5712332382845726,
          -0.5386093862850266,
          0.30013330235114466,
          -1.4869281940691312,
          0.9620169121202278,
          1.114277142834589,
          -1.3650422850750878,
          0.3298673585324569,
          0.9810828436899907,
          -0.9471938559777627,
          -0.6557976449379221,
          0.5954509216804071
         ],
         "xaxis": "x13",
         "y": [
          -1.1378255351906068,
          -1.9324290264990547,
          0.412873950725174,
          -1.8278889943930452,
          0.26505636248391123,
          -0.4511448776762043,
          -0.16429593523549452,
          0.0441634524289908,
          0.8901929140789799,
          0.9528293002879427,
          -0.4164940835430671,
          2.092922924567059,
          1.4940839215309305,
          -0.2669443534103714,
          -0.1625073651105624,
          -1.0277864531700824,
          0.2714354464139936,
          0.7652238166343336,
          -0.6185867486415615,
          -0.3386571617039138,
          -0.3161248120466677,
          0.5710324792283733,
          -1.5249464802738668,
          -1.334373160303245,
          0.14496818123002284,
          0.45608868102679767,
          1.8003104449689311,
          -0.14253677500263165,
          0.3618331353222978,
          -1.0487580358894426,
          0.4168789695894866,
          -0.25965569714086006,
          -0.5990700644206105,
          -0.12754730946254858,
          0.1609097100695703,
          -0.612772377898927,
          0.5893269219618965,
          -0.007587308662248082,
          -1.2396321553365013,
          -0.3228524676932316,
          2.0691877262518066,
          0.21575433288173168,
          -0.33688431639229416,
          -0.584943042777959,
          -0.021978302530539635,
          0.7760964928004312,
          0.2341124389450538,
          -0.6804767518930187,
          0.29743695826935995,
          -1.2995657384445818,
          -1.1731514576749118,
          1.775715051156065,
          -0.26136178641767793,
          1.5428154798082716,
          0.34932184123664994,
          -0.15885079640979533,
          0.24607230937253333,
          0.2935565236057475,
          0.059958085203068945,
          0.6811151621009519,
          0.3124443053318358,
          0.35737431918893203,
          -0.4378153347902127,
          -0.09958545939881695,
          0.9507249410063682,
          -1.2055051283131741,
          -0.967407806976702,
          -0.5250235543538504,
          -1.3263512258412549,
          -0.5974841819256089,
          0.7858376437377379,
          0.16259035468987162,
          -0.7902561073258011,
          0.1382269110475103,
          1.6266262871594164,
          1.1377555894088582,
          -2.1287698279677607,
          0.7312169085870153,
          -0.286878671127475,
          0.5019090793008186,
          0.9090457145830573,
          -1.8404050305770792,
          0.21917425845647676,
          0.9400268734050679,
          0.07307879979290297,
          0.06257165723555402,
          0.41662989125303784,
          0.4517203457412141,
          0.6543843691753921,
          -0.7668755560446119,
          -0.020854012382010814,
          0.46738215329666766,
          0.6650453240884444,
          0.5787135254319014,
          -1.0381663200426428,
          0.025476372190832014,
          1.3203897331098426,
          -0.2783016747545439,
          1.919420967279771,
          -0.29386813886300417
         ],
         "yaxis": "y13"
        },
        {
         "line": {
          "color": "rgba(128, 128, 128, 1.0)",
          "dash": "solid",
          "shape": "linear",
          "width": 1.3
         },
         "marker": {
          "size": 2,
          "symbol": "circle"
         },
         "mode": "markers",
         "name": "D",
         "text": "",
         "type": "scatter",
         "x": [
          0.45782172851946584,
          0.4344214900313023,
          0.6658987220489518,
          2.895439169924277,
          -0.04735765933408375,
          0.14131190059074383,
          -0.6793167129790467,
          -1.33376156241096,
          0.5129051932325256,
          -1.8426154108364827,
          0.5414409748569157,
          1.5180507825544969,
          0.6886450990269172,
          -0.2934527411501007,
          1.247504281758502,
          -0.6923792689440722,
          1.3358752949438544,
          3.3009912281541745,
          -1.1772677491504626,
          3.0413738620919792,
          0.1939145630185375,
          1.316173538909124,
          0.4568857268531616,
          -0.45612992746179104,
          0.36962784918045843,
          -1.0872283818862274,
          -1.268507848017612,
          1.3690989346946598,
          2.404028688631945,
          0.6953932785311059,
          0.16957159952658565,
          -0.820430620044971,
          1.3622920559583251,
          1.2194783554864315,
          0.5270262370309676,
          0.12673147173592114,
          0.6274228407561939,
          2.1519729621866612,
          -0.1503870682355416,
          -0.8032647853869308,
          -1.7334754959923606,
          1.1498738436198657,
          0.9024715532142299,
          -0.6299946110464666,
          -0.10479446190246755,
          0.3807627473851706,
          0.30429400869494144,
          -0.09747668965216076,
          0.034130483643344964,
          2.3125818412357924,
          -0.1195421817947865,
          -1.1451149065169193,
          -0.10831608455742575,
          0.7369917906053898,
          0.26648976296350796,
          0.04793412305608602,
          0.9135049453782854,
          -0.10974581209473559,
          1.2973055112154592,
          1.409109018811545,
          -0.4880439368583151,
          -0.41255478657338274,
          -1.6652247217350953,
          -0.3571409627887695,
          0.05774639003035528,
          -0.47989239854050036,
          -0.675449156696727,
          -1.1430868805095362,
          -0.006663393609728982,
          -1.0620327924289885,
          1.4718999257473302,
          -0.6113357749066433,
          0.36148596789055853,
          -0.24393747075538624,
          1.0748240094017911,
          1.4315036978476303,
          -1.2193491756829018,
          1.0785112055318675,
          1.0922663616955144,
          -0.5271205263605011,
          -0.27374315353472867,
          0.028154193665865107,
          -1.1351935382309162,
          1.4612941727462698,
          -0.3509454137365033,
          0.6106125561226777,
          0.7478186327737351,
          -0.7425042942314749,
          1.916765223828547,
          1.240873891099306,
          -0.4406511100190365,
          1.346795532600243,
          -1.4120166335488293,
          -0.9726486257162662,
          -0.2852448153129776,
          -3.0108073083457927,
          -1.7635744867048033,
          -1.0166029223919701,
          0.6767572035278194,
          0.14883919105469573
         ],
         "xaxis": "x14",
         "y": [
          -1.1378255351906068,
          -1.9324290264990547,
          0.412873950725174,
          -1.8278889943930452,
          0.26505636248391123,
          -0.4511448776762043,
          -0.16429593523549452,
          0.0441634524289908,
          0.8901929140789799,
          0.9528293002879427,
          -0.4164940835430671,
          2.092922924567059,
          1.4940839215309305,
          -0.2669443534103714,
          -0.1625073651105624,
          -1.0277864531700824,
          0.2714354464139936,
          0.7652238166343336,
          -0.6185867486415615,
          -0.3386571617039138,
          -0.3161248120466677,
          0.5710324792283733,
          -1.5249464802738668,
          -1.334373160303245,
          0.14496818123002284,
          0.45608868102679767,
          1.8003104449689311,
          -0.14253677500263165,
          0.3618331353222978,
          -1.0487580358894426,
          0.4168789695894866,
          -0.25965569714086006,
          -0.5990700644206105,
          -0.12754730946254858,
          0.1609097100695703,
          -0.612772377898927,
          0.5893269219618965,
          -0.007587308662248082,
          -1.2396321553365013,
          -0.3228524676932316,
          2.0691877262518066,
          0.21575433288173168,
          -0.33688431639229416,
          -0.584943042777959,
          -0.021978302530539635,
          0.7760964928004312,
          0.2341124389450538,
          -0.6804767518930187,
          0.29743695826935995,
          -1.2995657384445818,
          -1.1731514576749118,
          1.775715051156065,
          -0.26136178641767793,
          1.5428154798082716,
          0.34932184123664994,
          -0.15885079640979533,
          0.24607230937253333,
          0.2935565236057475,
          0.059958085203068945,
          0.6811151621009519,
          0.3124443053318358,
          0.35737431918893203,
          -0.4378153347902127,
          -0.09958545939881695,
          0.9507249410063682,
          -1.2055051283131741,
          -0.967407806976702,
          -0.5250235543538504,
          -1.3263512258412549,
          -0.5974841819256089,
          0.7858376437377379,
          0.16259035468987162,
          -0.7902561073258011,
          0.1382269110475103,
          1.6266262871594164,
          1.1377555894088582,
          -2.1287698279677607,
          0.7312169085870153,
          -0.286878671127475,
          0.5019090793008186,
          0.9090457145830573,
          -1.8404050305770792,
          0.21917425845647676,
          0.9400268734050679,
          0.07307879979290297,
          0.06257165723555402,
          0.41662989125303784,
          0.4517203457412141,
          0.6543843691753921,
          -0.7668755560446119,
          -0.020854012382010814,
          0.46738215329666766,
          0.6650453240884444,
          0.5787135254319014,
          -1.0381663200426428,
          0.025476372190832014,
          1.3203897331098426,
          -0.2783016747545439,
          1.919420967279771,
          -0.29386813886300417
         ],
         "yaxis": "y14"
        },
        {
         "line": {
          "color": "rgba(128, 128, 128, 1.0)",
          "dash": "solid",
          "shape": "linear",
          "width": 1.3
         },
         "marker": {
          "size": 2,
          "symbol": "circle"
         },
         "mode": "markers",
         "name": "D",
         "text": "",
         "type": "scatter",
         "x": [
          -0.02618591574760387,
          -0.377594300707286,
          -0.40092302383041983,
          0.6226015130997402,
          1.7867408483882843,
          0.7007119925230211,
          2.0235266876031255,
          0.7310226916111957,
          -0.8653414905893465,
          0.07584612501092945,
          -0.28599575196194454,
          -1.1679062585670845,
          -1.5640424278658303,
          0.69945694861903,
          0.041094356317120245,
          -0.702094853390491,
          0.31749661894888925,
          0.6083667193106708,
          -0.13474980077139592,
          -0.021430909192688186,
          -0.25663331565876724,
          0.23446811217305416,
          -1.2019860895329175,
          0.9817031913314874,
          -1.1533314435179867,
          2.0537614550794383,
          0.31522051812578417,
          1.0356187024343126,
          0.6342422355054017,
          -0.053210739129649465,
          -1.0455114507622878,
          0.6593770973632015,
          -0.4269000489697485,
          -0.12334687895820025,
          0.2597387514760385,
          0.9080627172498368,
          -1.309092634952256,
          -0.3177438413176344,
          1.4491035428322692,
          -0.09189578438614497,
          -2.230077254290799,
          0.280010974541339,
          -0.6347446551844496,
          1.2737692460698924,
          2.2294210032717627,
          0.17808348459587112,
          -0.37426670210173707,
          -0.0069816754418047435,
          -0.46872482270574406,
          0.17977023674502898,
          -0.26884064984389405,
          0.590495165917698,
          -0.17716040762618426,
          0.20066817442639379,
          -0.7701778334238273,
          0.8914670475143059,
          -0.5225005737966002,
          0.44816652712536914,
          -2.96785333476731,
          -1.2653497639013929,
          0.1650183037865434,
          -0.05002056688627636,
          -0.8630009351378776,
          -1.5512253786732901,
          0.6326789472654919,
          -0.04081108924705931,
          0.039061581133283126,
          1.5497856366840013,
          -0.848995416695419,
          0.6339309928561057,
          -0.8910189407837548,
          0.9002056587236599,
          -0.2587337492688455,
          0.11279051279112261,
          -0.15365937140649974,
          -0.4910663874110523,
          1.2612638182302032,
          -2.4757182497454018,
          -1.7216730571254608,
          1.2725049971883207,
          -0.9929844025457848,
          -1.2821966314575877,
          -0.11954916159591458,
          -0.4564407666493159,
          1.508318000816078,
          -0.0934703839230235,
          1.2501652187292178,
          -0.46879820846883025,
          0.19844961707997533,
          -2.1459365572956846,
          -2.071426215645999,
          0.5888089437087306,
          -0.5112900157331203,
          -0.21275179229777214,
          -1.0890805879098995,
          -1.7598988719797426,
          -0.927097618061559,
          1.454395971413865,
          -1.6146175916064411,
          -1.0087391627527382
         ],
         "xaxis": "x15",
         "y": [
          -1.1378255351906068,
          -1.9324290264990547,
          0.412873950725174,
          -1.8278889943930452,
          0.26505636248391123,
          -0.4511448776762043,
          -0.16429593523549452,
          0.0441634524289908,
          0.8901929140789799,
          0.9528293002879427,
          -0.4164940835430671,
          2.092922924567059,
          1.4940839215309305,
          -0.2669443534103714,
          -0.1625073651105624,
          -1.0277864531700824,
          0.2714354464139936,
          0.7652238166343336,
          -0.6185867486415615,
          -0.3386571617039138,
          -0.3161248120466677,
          0.5710324792283733,
          -1.5249464802738668,
          -1.334373160303245,
          0.14496818123002284,
          0.45608868102679767,
          1.8003104449689311,
          -0.14253677500263165,
          0.3618331353222978,
          -1.0487580358894426,
          0.4168789695894866,
          -0.25965569714086006,
          -0.5990700644206105,
          -0.12754730946254858,
          0.1609097100695703,
          -0.612772377898927,
          0.5893269219618965,
          -0.007587308662248082,
          -1.2396321553365013,
          -0.3228524676932316,
          2.0691877262518066,
          0.21575433288173168,
          -0.33688431639229416,
          -0.584943042777959,
          -0.021978302530539635,
          0.7760964928004312,
          0.2341124389450538,
          -0.6804767518930187,
          0.29743695826935995,
          -1.2995657384445818,
          -1.1731514576749118,
          1.775715051156065,
          -0.26136178641767793,
          1.5428154798082716,
          0.34932184123664994,
          -0.15885079640979533,
          0.24607230937253333,
          0.2935565236057475,
          0.059958085203068945,
          0.6811151621009519,
          0.3124443053318358,
          0.35737431918893203,
          -0.4378153347902127,
          -0.09958545939881695,
          0.9507249410063682,
          -1.2055051283131741,
          -0.967407806976702,
          -0.5250235543538504,
          -1.3263512258412549,
          -0.5974841819256089,
          0.7858376437377379,
          0.16259035468987162,
          -0.7902561073258011,
          0.1382269110475103,
          1.6266262871594164,
          1.1377555894088582,
          -2.1287698279677607,
          0.7312169085870153,
          -0.286878671127475,
          0.5019090793008186,
          0.9090457145830573,
          -1.8404050305770792,
          0.21917425845647676,
          0.9400268734050679,
          0.07307879979290297,
          0.06257165723555402,
          0.41662989125303784,
          0.4517203457412141,
          0.6543843691753921,
          -0.7668755560446119,
          -0.020854012382010814,
          0.46738215329666766,
          0.6650453240884444,
          0.5787135254319014,
          -1.0381663200426428,
          0.025476372190832014,
          1.3203897331098426,
          -0.2783016747545439,
          1.919420967279771,
          -0.29386813886300417
         ],
         "yaxis": "y15"
        },
        {
         "histfunc": "count",
         "histnorm": "",
         "marker": {
          "color": "rgba(128, 0, 128, 1.0)",
          "line": {
           "color": "#4D5663",
           "width": 1.3
          }
         },
         "name": "D",
         "nbinsx": 10,
         "opacity": 0.8,
         "orientation": "v",
         "type": "histogram",
         "x": [
          -1.1378255351906068,
          -1.9324290264990547,
          0.412873950725174,
          -1.8278889943930452,
          0.26505636248391123,
          -0.4511448776762043,
          -0.16429593523549452,
          0.0441634524289908,
          0.8901929140789799,
          0.9528293002879427,
          -0.4164940835430671,
          2.092922924567059,
          1.4940839215309305,
          -0.2669443534103714,
          -0.1625073651105624,
          -1.0277864531700824,
          0.2714354464139936,
          0.7652238166343336,
          -0.6185867486415615,
          -0.3386571617039138,
          -0.3161248120466677,
          0.5710324792283733,
          -1.5249464802738668,
          -1.334373160303245,
          0.14496818123002284,
          0.45608868102679767,
          1.8003104449689311,
          -0.14253677500263165,
          0.3618331353222978,
          -1.0487580358894426,
          0.4168789695894866,
          -0.25965569714086006,
          -0.5990700644206105,
          -0.12754730946254858,
          0.1609097100695703,
          -0.612772377898927,
          0.5893269219618965,
          -0.007587308662248082,
          -1.2396321553365013,
          -0.3228524676932316,
          2.0691877262518066,
          0.21575433288173168,
          -0.33688431639229416,
          -0.584943042777959,
          -0.021978302530539635,
          0.7760964928004312,
          0.2341124389450538,
          -0.6804767518930187,
          0.29743695826935995,
          -1.2995657384445818,
          -1.1731514576749118,
          1.775715051156065,
          -0.26136178641767793,
          1.5428154798082716,
          0.34932184123664994,
          -0.15885079640979533,
          0.24607230937253333,
          0.2935565236057475,
          0.059958085203068945,
          0.6811151621009519,
          0.3124443053318358,
          0.35737431918893203,
          -0.4378153347902127,
          -0.09958545939881695,
          0.9507249410063682,
          -1.2055051283131741,
          -0.967407806976702,
          -0.5250235543538504,
          -1.3263512258412549,
          -0.5974841819256089,
          0.7858376437377379,
          0.16259035468987162,
          -0.7902561073258011,
          0.1382269110475103,
          1.6266262871594164,
          1.1377555894088582,
          -2.1287698279677607,
          0.7312169085870153,
          -0.286878671127475,
          0.5019090793008186,
          0.9090457145830573,
          -1.8404050305770792,
          0.21917425845647676,
          0.9400268734050679,
          0.07307879979290297,
          0.06257165723555402,
          0.41662989125303784,
          0.4517203457412141,
          0.6543843691753921,
          -0.7668755560446119,
          -0.020854012382010814,
          0.46738215329666766,
          0.6650453240884444,
          0.5787135254319014,
          -1.0381663200426428,
          0.025476372190832014,
          1.3203897331098426,
          -0.2783016747545439,
          1.919420967279771,
          -0.29386813886300417
         ],
         "xaxis": "x16",
         "yaxis": "y16"
        }
       ],
       "layout": {
        "bargap": 0.02,
        "legend": {
         "bgcolor": "#F5F6F9",
         "font": {
          "color": "#4D5663"
         }
        },
        "paper_bgcolor": "#F5F6F9",
        "plot_bgcolor": "#F5F6F9",
        "showlegend": false,
        "template": {
         "data": {
          "bar": [
           {
            "error_x": {
             "color": "#2a3f5f"
            },
            "error_y": {
             "color": "#2a3f5f"
            },
            "marker": {
             "line": {
              "color": "#E5ECF6",
              "width": 0.5
             },
             "pattern": {
              "fillmode": "overlay",
              "size": 10,
              "solidity": 0.2
             }
            },
            "type": "bar"
           }
          ],
          "barpolar": [
           {
            "marker": {
             "line": {
              "color": "#E5ECF6",
              "width": 0.5
             },
             "pattern": {
              "fillmode": "overlay",
              "size": 10,
              "solidity": 0.2
             }
            },
            "type": "barpolar"
           }
          ],
          "carpet": [
           {
            "aaxis": {
             "endlinecolor": "#2a3f5f",
             "gridcolor": "white",
             "linecolor": "white",
             "minorgridcolor": "white",
             "startlinecolor": "#2a3f5f"
            },
            "baxis": {
             "endlinecolor": "#2a3f5f",
             "gridcolor": "white",
             "linecolor": "white",
             "minorgridcolor": "white",
             "startlinecolor": "#2a3f5f"
            },
            "type": "carpet"
           }
          ],
          "choropleth": [
           {
            "colorbar": {
             "outlinewidth": 0,
             "ticks": ""
            },
            "type": "choropleth"
           }
          ],
          "contour": [
           {
            "colorbar": {
             "outlinewidth": 0,
             "ticks": ""
            },
            "colorscale": [
             [
              0,
              "#0d0887"
             ],
             [
              0.1111111111111111,
              "#46039f"
             ],
             [
              0.2222222222222222,
              "#7201a8"
             ],
             [
              0.3333333333333333,
              "#9c179e"
             ],
             [
              0.4444444444444444,
              "#bd3786"
             ],
             [
              0.5555555555555556,
              "#d8576b"
             ],
             [
              0.6666666666666666,
              "#ed7953"
             ],
             [
              0.7777777777777778,
              "#fb9f3a"
             ],
             [
              0.8888888888888888,
              "#fdca26"
             ],
             [
              1,
              "#f0f921"
             ]
            ],
            "type": "contour"
           }
          ],
          "contourcarpet": [
           {
            "colorbar": {
             "outlinewidth": 0,
             "ticks": ""
            },
            "type": "contourcarpet"
           }
          ],
          "heatmap": [
           {
            "colorbar": {
             "outlinewidth": 0,
             "ticks": ""
            },
            "colorscale": [
             [
              0,
              "#0d0887"
             ],
             [
              0.1111111111111111,
              "#46039f"
             ],
             [
              0.2222222222222222,
              "#7201a8"
             ],
             [
              0.3333333333333333,
              "#9c179e"
             ],
             [
              0.4444444444444444,
              "#bd3786"
             ],
             [
              0.5555555555555556,
              "#d8576b"
             ],
             [
              0.6666666666666666,
              "#ed7953"
             ],
             [
              0.7777777777777778,
              "#fb9f3a"
             ],
             [
              0.8888888888888888,
              "#fdca26"
             ],
             [
              1,
              "#f0f921"
             ]
            ],
            "type": "heatmap"
           }
          ],
          "heatmapgl": [
           {
            "colorbar": {
             "outlinewidth": 0,
             "ticks": ""
            },
            "colorscale": [
             [
              0,
              "#0d0887"
             ],
             [
              0.1111111111111111,
              "#46039f"
             ],
             [
              0.2222222222222222,
              "#7201a8"
             ],
             [
              0.3333333333333333,
              "#9c179e"
             ],
             [
              0.4444444444444444,
              "#bd3786"
             ],
             [
              0.5555555555555556,
              "#d8576b"
             ],
             [
              0.6666666666666666,
              "#ed7953"
             ],
             [
              0.7777777777777778,
              "#fb9f3a"
             ],
             [
              0.8888888888888888,
              "#fdca26"
             ],
             [
              1,
              "#f0f921"
             ]
            ],
            "type": "heatmapgl"
           }
          ],
          "histogram": [
           {
            "marker": {
             "pattern": {
              "fillmode": "overlay",
              "size": 10,
              "solidity": 0.2
             }
            },
            "type": "histogram"
           }
          ],
          "histogram2d": [
           {
            "colorbar": {
             "outlinewidth": 0,
             "ticks": ""
            },
            "colorscale": [
             [
              0,
              "#0d0887"
             ],
             [
              0.1111111111111111,
              "#46039f"
             ],
             [
              0.2222222222222222,
              "#7201a8"
             ],
             [
              0.3333333333333333,
              "#9c179e"
             ],
             [
              0.4444444444444444,
              "#bd3786"
             ],
             [
              0.5555555555555556,
              "#d8576b"
             ],
             [
              0.6666666666666666,
              "#ed7953"
             ],
             [
              0.7777777777777778,
              "#fb9f3a"
             ],
             [
              0.8888888888888888,
              "#fdca26"
             ],
             [
              1,
              "#f0f921"
             ]
            ],
            "type": "histogram2d"
           }
          ],
          "histogram2dcontour": [
           {
            "colorbar": {
             "outlinewidth": 0,
             "ticks": ""
            },
            "colorscale": [
             [
              0,
              "#0d0887"
             ],
             [
              0.1111111111111111,
              "#46039f"
             ],
             [
              0.2222222222222222,
              "#7201a8"
             ],
             [
              0.3333333333333333,
              "#9c179e"
             ],
             [
              0.4444444444444444,
              "#bd3786"
             ],
             [
              0.5555555555555556,
              "#d8576b"
             ],
             [
              0.6666666666666666,
              "#ed7953"
             ],
             [
              0.7777777777777778,
              "#fb9f3a"
             ],
             [
              0.8888888888888888,
              "#fdca26"
             ],
             [
              1,
              "#f0f921"
             ]
            ],
            "type": "histogram2dcontour"
           }
          ],
          "mesh3d": [
           {
            "colorbar": {
             "outlinewidth": 0,
             "ticks": ""
            },
            "type": "mesh3d"
           }
          ],
          "parcoords": [
           {
            "line": {
             "colorbar": {
              "outlinewidth": 0,
              "ticks": ""
             }
            },
            "type": "parcoords"
           }
          ],
          "pie": [
           {
            "automargin": true,
            "type": "pie"
           }
          ],
          "scatter": [
           {
            "fillpattern": {
             "fillmode": "overlay",
             "size": 10,
             "solidity": 0.2
            },
            "type": "scatter"
           }
          ],
          "scatter3d": [
           {
            "line": {
             "colorbar": {
              "outlinewidth": 0,
              "ticks": ""
             }
            },
            "marker": {
             "colorbar": {
              "outlinewidth": 0,
              "ticks": ""
             }
            },
            "type": "scatter3d"
           }
          ],
          "scattercarpet": [
           {
            "marker": {
             "colorbar": {
              "outlinewidth": 0,
              "ticks": ""
             }
            },
            "type": "scattercarpet"
           }
          ],
          "scattergeo": [
           {
            "marker": {
             "colorbar": {
              "outlinewidth": 0,
              "ticks": ""
             }
            },
            "type": "scattergeo"
           }
          ],
          "scattergl": [
           {
            "marker": {
             "colorbar": {
              "outlinewidth": 0,
              "ticks": ""
             }
            },
            "type": "scattergl"
           }
          ],
          "scattermapbox": [
           {
            "marker": {
             "colorbar": {
              "outlinewidth": 0,
              "ticks": ""
             }
            },
            "type": "scattermapbox"
           }
          ],
          "scatterpolar": [
           {
            "marker": {
             "colorbar": {
              "outlinewidth": 0,
              "ticks": ""
             }
            },
            "type": "scatterpolar"
           }
          ],
          "scatterpolargl": [
           {
            "marker": {
             "colorbar": {
              "outlinewidth": 0,
              "ticks": ""
             }
            },
            "type": "scatterpolargl"
           }
          ],
          "scatterternary": [
           {
            "marker": {
             "colorbar": {
              "outlinewidth": 0,
              "ticks": ""
             }
            },
            "type": "scatterternary"
           }
          ],
          "surface": [
           {
            "colorbar": {
             "outlinewidth": 0,
             "ticks": ""
            },
            "colorscale": [
             [
              0,
              "#0d0887"
             ],
             [
              0.1111111111111111,
              "#46039f"
             ],
             [
              0.2222222222222222,
              "#7201a8"
             ],
             [
              0.3333333333333333,
              "#9c179e"
             ],
             [
              0.4444444444444444,
              "#bd3786"
             ],
             [
              0.5555555555555556,
              "#d8576b"
             ],
             [
              0.6666666666666666,
              "#ed7953"
             ],
             [
              0.7777777777777778,
              "#fb9f3a"
             ],
             [
              0.8888888888888888,
              "#fdca26"
             ],
             [
              1,
              "#f0f921"
             ]
            ],
            "type": "surface"
           }
          ],
          "table": [
           {
            "cells": {
             "fill": {
              "color": "#EBF0F8"
             },
             "line": {
              "color": "white"
             }
            },
            "header": {
             "fill": {
              "color": "#C8D4E3"
             },
             "line": {
              "color": "white"
             }
            },
            "type": "table"
           }
          ]
         },
         "layout": {
          "annotationdefaults": {
           "arrowcolor": "#2a3f5f",
           "arrowhead": 0,
           "arrowwidth": 1
          },
          "autotypenumbers": "strict",
          "coloraxis": {
           "colorbar": {
            "outlinewidth": 0,
            "ticks": ""
           }
          },
          "colorscale": {
           "diverging": [
            [
             0,
             "#8e0152"
            ],
            [
             0.1,
             "#c51b7d"
            ],
            [
             0.2,
             "#de77ae"
            ],
            [
             0.3,
             "#f1b6da"
            ],
            [
             0.4,
             "#fde0ef"
            ],
            [
             0.5,
             "#f7f7f7"
            ],
            [
             0.6,
             "#e6f5d0"
            ],
            [
             0.7,
             "#b8e186"
            ],
            [
             0.8,
             "#7fbc41"
            ],
            [
             0.9,
             "#4d9221"
            ],
            [
             1,
             "#276419"
            ]
           ],
           "sequential": [
            [
             0,
             "#0d0887"
            ],
            [
             0.1111111111111111,
             "#46039f"
            ],
            [
             0.2222222222222222,
             "#7201a8"
            ],
            [
             0.3333333333333333,
             "#9c179e"
            ],
            [
             0.4444444444444444,
             "#bd3786"
            ],
            [
             0.5555555555555556,
             "#d8576b"
            ],
            [
             0.6666666666666666,
             "#ed7953"
            ],
            [
             0.7777777777777778,
             "#fb9f3a"
            ],
            [
             0.8888888888888888,
             "#fdca26"
            ],
            [
             1,
             "#f0f921"
            ]
           ],
           "sequentialminus": [
            [
             0,
             "#0d0887"
            ],
            [
             0.1111111111111111,
             "#46039f"
            ],
            [
             0.2222222222222222,
             "#7201a8"
            ],
            [
             0.3333333333333333,
             "#9c179e"
            ],
            [
             0.4444444444444444,
             "#bd3786"
            ],
            [
             0.5555555555555556,
             "#d8576b"
            ],
            [
             0.6666666666666666,
             "#ed7953"
            ],
            [
             0.7777777777777778,
             "#fb9f3a"
            ],
            [
             0.8888888888888888,
             "#fdca26"
            ],
            [
             1,
             "#f0f921"
            ]
           ]
          },
          "colorway": [
           "#636efa",
           "#EF553B",
           "#00cc96",
           "#ab63fa",
           "#FFA15A",
           "#19d3f3",
           "#FF6692",
           "#B6E880",
           "#FF97FF",
           "#FECB52"
          ],
          "font": {
           "color": "#2a3f5f"
          },
          "geo": {
           "bgcolor": "white",
           "lakecolor": "white",
           "landcolor": "#E5ECF6",
           "showlakes": true,
           "showland": true,
           "subunitcolor": "white"
          },
          "hoverlabel": {
           "align": "left"
          },
          "hovermode": "closest",
          "mapbox": {
           "style": "light"
          },
          "paper_bgcolor": "white",
          "plot_bgcolor": "#E5ECF6",
          "polar": {
           "angularaxis": {
            "gridcolor": "white",
            "linecolor": "white",
            "ticks": ""
           },
           "bgcolor": "#E5ECF6",
           "radialaxis": {
            "gridcolor": "white",
            "linecolor": "white",
            "ticks": ""
           }
          },
          "scene": {
           "xaxis": {
            "backgroundcolor": "#E5ECF6",
            "gridcolor": "white",
            "gridwidth": 2,
            "linecolor": "white",
            "showbackground": true,
            "ticks": "",
            "zerolinecolor": "white"
           },
           "yaxis": {
            "backgroundcolor": "#E5ECF6",
            "gridcolor": "white",
            "gridwidth": 2,
            "linecolor": "white",
            "showbackground": true,
            "ticks": "",
            "zerolinecolor": "white"
           },
           "zaxis": {
            "backgroundcolor": "#E5ECF6",
            "gridcolor": "white",
            "gridwidth": 2,
            "linecolor": "white",
            "showbackground": true,
            "ticks": "",
            "zerolinecolor": "white"
           }
          },
          "shapedefaults": {
           "line": {
            "color": "#2a3f5f"
           }
          },
          "ternary": {
           "aaxis": {
            "gridcolor": "white",
            "linecolor": "white",
            "ticks": ""
           },
           "baxis": {
            "gridcolor": "white",
            "linecolor": "white",
            "ticks": ""
           },
           "bgcolor": "#E5ECF6",
           "caxis": {
            "gridcolor": "white",
            "linecolor": "white",
            "ticks": ""
           }
          },
          "title": {
           "x": 0.05
          },
          "xaxis": {
           "automargin": true,
           "gridcolor": "white",
           "linecolor": "white",
           "ticks": "",
           "title": {
            "standoff": 15
           },
           "zerolinecolor": "white",
           "zerolinewidth": 2
          },
          "yaxis": {
           "automargin": true,
           "gridcolor": "white",
           "linecolor": "white",
           "ticks": "",
           "title": {
            "standoff": 15
           },
           "zerolinecolor": "white",
           "zerolinewidth": 2
          }
         }
        },
        "title": {
         "font": {
          "color": "#4D5663"
         }
        },
        "xaxis": {
         "anchor": "y",
         "domain": [
          0,
          0.2125
         ],
         "gridcolor": "#E1E5ED",
         "showgrid": false,
         "tickfont": {
          "color": "#4D5663"
         },
         "title": {
          "font": {
           "color": "#4D5663"
          },
          "text": ""
         },
         "zerolinecolor": "#E1E5ED"
        },
        "xaxis10": {
         "anchor": "y10",
         "domain": [
          0.2625,
          0.475
         ],
         "gridcolor": "#E1E5ED",
         "showgrid": false,
         "tickfont": {
          "color": "#4D5663"
         },
         "title": {
          "font": {
           "color": "#4D5663"
          },
          "text": ""
         },
         "zerolinecolor": "#E1E5ED"
        },
        "xaxis11": {
         "anchor": "y11",
         "domain": [
          0.525,
          0.7375
         ],
         "gridcolor": "#E1E5ED",
         "showgrid": false,
         "tickfont": {
          "color": "#4D5663"
         },
         "title": {
          "font": {
           "color": "#4D5663"
          },
          "text": ""
         },
         "zerolinecolor": "#E1E5ED"
        },
        "xaxis12": {
         "anchor": "y12",
         "domain": [
          0.7875,
          1
         ],
         "gridcolor": "#E1E5ED",
         "showgrid": false,
         "tickfont": {
          "color": "#4D5663"
         },
         "title": {
          "font": {
           "color": "#4D5663"
          },
          "text": ""
         },
         "zerolinecolor": "#E1E5ED"
        },
        "xaxis13": {
         "anchor": "y13",
         "domain": [
          0,
          0.2125
         ],
         "gridcolor": "#E1E5ED",
         "showgrid": false,
         "tickfont": {
          "color": "#4D5663"
         },
         "title": {
          "font": {
           "color": "#4D5663"
          },
          "text": ""
         },
         "zerolinecolor": "#E1E5ED"
        },
        "xaxis14": {
         "anchor": "y14",
         "domain": [
          0.2625,
          0.475
         ],
         "gridcolor": "#E1E5ED",
         "showgrid": false,
         "tickfont": {
          "color": "#4D5663"
         },
         "title": {
          "font": {
           "color": "#4D5663"
          },
          "text": ""
         },
         "zerolinecolor": "#E1E5ED"
        },
        "xaxis15": {
         "anchor": "y15",
         "domain": [
          0.525,
          0.7375
         ],
         "gridcolor": "#E1E5ED",
         "showgrid": false,
         "tickfont": {
          "color": "#4D5663"
         },
         "title": {
          "font": {
           "color": "#4D5663"
          },
          "text": ""
         },
         "zerolinecolor": "#E1E5ED"
        },
        "xaxis16": {
         "anchor": "y16",
         "domain": [
          0.7875,
          1
         ],
         "gridcolor": "#E1E5ED",
         "showgrid": false,
         "tickfont": {
          "color": "#4D5663"
         },
         "title": {
          "font": {
           "color": "#4D5663"
          },
          "text": ""
         },
         "zerolinecolor": "#E1E5ED"
        },
        "xaxis2": {
         "anchor": "y2",
         "domain": [
          0.2625,
          0.475
         ],
         "gridcolor": "#E1E5ED",
         "showgrid": false,
         "tickfont": {
          "color": "#4D5663"
         },
         "title": {
          "font": {
           "color": "#4D5663"
          },
          "text": ""
         },
         "zerolinecolor": "#E1E5ED"
        },
        "xaxis3": {
         "anchor": "y3",
         "domain": [
          0.525,
          0.7375
         ],
         "gridcolor": "#E1E5ED",
         "showgrid": false,
         "tickfont": {
          "color": "#4D5663"
         },
         "title": {
          "font": {
           "color": "#4D5663"
          },
          "text": ""
         },
         "zerolinecolor": "#E1E5ED"
        },
        "xaxis4": {
         "anchor": "y4",
         "domain": [
          0.7875,
          1
         ],
         "gridcolor": "#E1E5ED",
         "showgrid": false,
         "tickfont": {
          "color": "#4D5663"
         },
         "title": {
          "font": {
           "color": "#4D5663"
          },
          "text": ""
         },
         "zerolinecolor": "#E1E5ED"
        },
        "xaxis5": {
         "anchor": "y5",
         "domain": [
          0,
          0.2125
         ],
         "gridcolor": "#E1E5ED",
         "showgrid": false,
         "tickfont": {
          "color": "#4D5663"
         },
         "title": {
          "font": {
           "color": "#4D5663"
          },
          "text": ""
         },
         "zerolinecolor": "#E1E5ED"
        },
        "xaxis6": {
         "anchor": "y6",
         "domain": [
          0.2625,
          0.475
         ],
         "gridcolor": "#E1E5ED",
         "showgrid": false,
         "tickfont": {
          "color": "#4D5663"
         },
         "title": {
          "font": {
           "color": "#4D5663"
          },
          "text": ""
         },
         "zerolinecolor": "#E1E5ED"
        },
        "xaxis7": {
         "anchor": "y7",
         "domain": [
          0.525,
          0.7375
         ],
         "gridcolor": "#E1E5ED",
         "showgrid": false,
         "tickfont": {
          "color": "#4D5663"
         },
         "title": {
          "font": {
           "color": "#4D5663"
          },
          "text": ""
         },
         "zerolinecolor": "#E1E5ED"
        },
        "xaxis8": {
         "anchor": "y8",
         "domain": [
          0.7875,
          1
         ],
         "gridcolor": "#E1E5ED",
         "showgrid": false,
         "tickfont": {
          "color": "#4D5663"
         },
         "title": {
          "font": {
           "color": "#4D5663"
          },
          "text": ""
         },
         "zerolinecolor": "#E1E5ED"
        },
        "xaxis9": {
         "anchor": "y9",
         "domain": [
          0,
          0.2125
         ],
         "gridcolor": "#E1E5ED",
         "showgrid": false,
         "tickfont": {
          "color": "#4D5663"
         },
         "title": {
          "font": {
           "color": "#4D5663"
          },
          "text": ""
         },
         "zerolinecolor": "#E1E5ED"
        },
        "yaxis": {
         "anchor": "x",
         "domain": [
          0.8025,
          1
         ],
         "gridcolor": "#E1E5ED",
         "showgrid": false,
         "tickfont": {
          "color": "#4D5663"
         },
         "title": {
          "font": {
           "color": "#4D5663"
          },
          "text": ""
         },
         "zerolinecolor": "#E1E5ED"
        },
        "yaxis10": {
         "anchor": "x10",
         "domain": [
          0.2675,
          0.465
         ],
         "gridcolor": "#E1E5ED",
         "showgrid": false,
         "tickfont": {
          "color": "#4D5663"
         },
         "title": {
          "font": {
           "color": "#4D5663"
          },
          "text": ""
         },
         "zerolinecolor": "#E1E5ED"
        },
        "yaxis11": {
         "anchor": "x11",
         "domain": [
          0.2675,
          0.465
         ],
         "gridcolor": "#E1E5ED",
         "showgrid": false,
         "tickfont": {
          "color": "#4D5663"
         },
         "title": {
          "font": {
           "color": "#4D5663"
          },
          "text": ""
         },
         "zerolinecolor": "#E1E5ED"
        },
        "yaxis12": {
         "anchor": "x12",
         "domain": [
          0.2675,
          0.465
         ],
         "gridcolor": "#E1E5ED",
         "showgrid": false,
         "tickfont": {
          "color": "#4D5663"
         },
         "title": {
          "font": {
           "color": "#4D5663"
          },
          "text": ""
         },
         "zerolinecolor": "#E1E5ED"
        },
        "yaxis13": {
         "anchor": "x13",
         "domain": [
          0,
          0.1975
         ],
         "gridcolor": "#E1E5ED",
         "showgrid": false,
         "tickfont": {
          "color": "#4D5663"
         },
         "title": {
          "font": {
           "color": "#4D5663"
          },
          "text": ""
         },
         "zerolinecolor": "#E1E5ED"
        },
        "yaxis14": {
         "anchor": "x14",
         "domain": [
          0,
          0.1975
         ],
         "gridcolor": "#E1E5ED",
         "showgrid": false,
         "tickfont": {
          "color": "#4D5663"
         },
         "title": {
          "font": {
           "color": "#4D5663"
          },
          "text": ""
         },
         "zerolinecolor": "#E1E5ED"
        },
        "yaxis15": {
         "anchor": "x15",
         "domain": [
          0,
          0.1975
         ],
         "gridcolor": "#E1E5ED",
         "showgrid": false,
         "tickfont": {
          "color": "#4D5663"
         },
         "title": {
          "font": {
           "color": "#4D5663"
          },
          "text": ""
         },
         "zerolinecolor": "#E1E5ED"
        },
        "yaxis16": {
         "anchor": "x16",
         "domain": [
          0,
          0.1975
         ],
         "gridcolor": "#E1E5ED",
         "showgrid": false,
         "tickfont": {
          "color": "#4D5663"
         },
         "title": {
          "font": {
           "color": "#4D5663"
          },
          "text": ""
         },
         "zerolinecolor": "#E1E5ED"
        },
        "yaxis2": {
         "anchor": "x2",
         "domain": [
          0.8025,
          1
         ],
         "gridcolor": "#E1E5ED",
         "showgrid": false,
         "tickfont": {
          "color": "#4D5663"
         },
         "title": {
          "font": {
           "color": "#4D5663"
          },
          "text": ""
         },
         "zerolinecolor": "#E1E5ED"
        },
        "yaxis3": {
         "anchor": "x3",
         "domain": [
          0.8025,
          1
         ],
         "gridcolor": "#E1E5ED",
         "showgrid": false,
         "tickfont": {
          "color": "#4D5663"
         },
         "title": {
          "font": {
           "color": "#4D5663"
          },
          "text": ""
         },
         "zerolinecolor": "#E1E5ED"
        },
        "yaxis4": {
         "anchor": "x4",
         "domain": [
          0.8025,
          1
         ],
         "gridcolor": "#E1E5ED",
         "showgrid": false,
         "tickfont": {
          "color": "#4D5663"
         },
         "title": {
          "font": {
           "color": "#4D5663"
          },
          "text": ""
         },
         "zerolinecolor": "#E1E5ED"
        },
        "yaxis5": {
         "anchor": "x5",
         "domain": [
          0.535,
          0.7325
         ],
         "gridcolor": "#E1E5ED",
         "showgrid": false,
         "tickfont": {
          "color": "#4D5663"
         },
         "title": {
          "font": {
           "color": "#4D5663"
          },
          "text": ""
         },
         "zerolinecolor": "#E1E5ED"
        },
        "yaxis6": {
         "anchor": "x6",
         "domain": [
          0.535,
          0.7325
         ],
         "gridcolor": "#E1E5ED",
         "showgrid": false,
         "tickfont": {
          "color": "#4D5663"
         },
         "title": {
          "font": {
           "color": "#4D5663"
          },
          "text": ""
         },
         "zerolinecolor": "#E1E5ED"
        },
        "yaxis7": {
         "anchor": "x7",
         "domain": [
          0.535,
          0.7325
         ],
         "gridcolor": "#E1E5ED",
         "showgrid": false,
         "tickfont": {
          "color": "#4D5663"
         },
         "title": {
          "font": {
           "color": "#4D5663"
          },
          "text": ""
         },
         "zerolinecolor": "#E1E5ED"
        },
        "yaxis8": {
         "anchor": "x8",
         "domain": [
          0.535,
          0.7325
         ],
         "gridcolor": "#E1E5ED",
         "showgrid": false,
         "tickfont": {
          "color": "#4D5663"
         },
         "title": {
          "font": {
           "color": "#4D5663"
          },
          "text": ""
         },
         "zerolinecolor": "#E1E5ED"
        },
        "yaxis9": {
         "anchor": "x9",
         "domain": [
          0.2675,
          0.465
         ],
         "gridcolor": "#E1E5ED",
         "showgrid": false,
         "tickfont": {
          "color": "#4D5663"
         },
         "title": {
          "font": {
           "color": "#4D5663"
          },
          "text": ""
         },
         "zerolinecolor": "#E1E5ED"
        }
       }
      },
      "text/html": [
       "<div>                            <div id=\"16cb5983-9bfa-4679-8660-41253e9731e9\" class=\"plotly-graph-div\" style=\"height:525px; width:100%;\"></div>            <script type=\"text/javascript\">                require([\"plotly\"], function(Plotly) {                    window.PLOTLYENV=window.PLOTLYENV || {};\n",
       "                    window.PLOTLYENV.BASE_URL='https://plot.ly';                                    if (document.getElementById(\"16cb5983-9bfa-4679-8660-41253e9731e9\")) {                    Plotly.newPlot(                        \"16cb5983-9bfa-4679-8660-41253e9731e9\",                        [{\"histfunc\":\"count\",\"histnorm\":\"\",\"marker\":{\"color\":\"rgba(255, 153, 51, 1.0)\",\"line\":{\"color\":\"#4D5663\",\"width\":1.3}},\"name\":\"A\",\"nbinsx\":10,\"opacity\":0.8,\"orientation\":\"v\",\"x\":[1.8511519134780592,0.9932635503226296,-0.20359937233167702,1.5257768804344916,0.7989148705029956,-0.7401919047073051,-0.8630213226964086,0.7013687303870811,-0.6247974874205289,0.10910461350500907,-0.11538038639040019,-0.02648740437455768,-0.43732218661342515,-0.7125768681585045,1.0133586523249136,-0.8616519633585347,-2.1230616381436356,-0.9749949035547446,0.5043444129264993,0.18825104298423934,-0.1432776826929805,0.5868807139113783,-0.5195842176454574,0.5736013901487871,-0.8173712354802753,0.6609920652626308,0.4168308410755578,0.5852219339927222,0.010802370600104156,-0.41273169823065897,-0.20857735228632088,-0.8416615204104636,0.052944189995554204,0.005686937411339467,0.3844520636603806,-1.0631481481915048,-0.11724016976317891,0.6630852320859335,0.5115801618934522,2.2561195936427705,0.3109656972874523,1.0994549480156748,-0.7208326396818907,-0.1977387682776627,-0.16040121850252212,0.794102216112637,0.7464271735955996,-0.647542908423245,-1.4984047157520854,-0.04075648099172144,2.264819816919803,-0.5552027566980382,-0.6748951474162486,-1.007916433892245,-1.3106915777664427,-1.8225142752914754,1.334030713362875,0.07572488075553528,-0.5830773501448417,0.38454318739022125,1.6110776348434117,-0.3174845924378902,0.8445097695504995,-0.41461007268988176,0.365775246787856,-1.496269233552682,0.3008252693310851,-0.39326338113914816,0.5008110351639224,-0.672608996952311,-1.0421214869609523,-0.11156295997918914,0.3092029035122308,0.28260084055062595,0.6949297525981041,-0.9319657740427375,-1.9514085275441992,-0.7841155550829054,-0.2998409331653889,0.03951669010773553,-0.0727240387013017,-1.9518606100277855,0.9883285146195404,0.7508231282590799,1.209982615480504,0.7921753321761256,-0.9946655537151281,1.3067058404422474,0.5712332382845726,-0.5386093862850266,0.30013330235114466,-1.4869281940691312,0.9620169121202278,1.114277142834589,-1.3650422850750878,0.3298673585324569,0.9810828436899907,-0.9471938559777627,-0.6557976449379221,0.5954509216804071],\"xaxis\":\"x\",\"yaxis\":\"y\",\"type\":\"histogram\"},{\"line\":{\"color\":\"rgba(128, 128, 128, 1.0)\",\"dash\":\"solid\",\"shape\":\"linear\",\"width\":1.3},\"marker\":{\"size\":2,\"symbol\":\"circle\"},\"mode\":\"markers\",\"name\":\"A\",\"text\":\"\",\"x\":[0.45782172851946584,0.4344214900313023,0.6658987220489518,2.895439169924277,-0.04735765933408375,0.14131190059074383,-0.6793167129790467,-1.33376156241096,0.5129051932325256,-1.8426154108364827,0.5414409748569157,1.5180507825544969,0.6886450990269172,-0.2934527411501007,1.247504281758502,-0.6923792689440722,1.3358752949438544,3.3009912281541745,-1.1772677491504626,3.0413738620919792,0.1939145630185375,1.316173538909124,0.4568857268531616,-0.45612992746179104,0.36962784918045843,-1.0872283818862274,-1.268507848017612,1.3690989346946598,2.404028688631945,0.6953932785311059,0.16957159952658565,-0.820430620044971,1.3622920559583251,1.2194783554864315,0.5270262370309676,0.12673147173592114,0.6274228407561939,2.1519729621866612,-0.1503870682355416,-0.8032647853869308,-1.7334754959923606,1.1498738436198657,0.9024715532142299,-0.6299946110464666,-0.10479446190246755,0.3807627473851706,0.30429400869494144,-0.09747668965216076,0.034130483643344964,2.3125818412357924,-0.1195421817947865,-1.1451149065169193,-0.10831608455742575,0.7369917906053898,0.26648976296350796,0.04793412305608602,0.9135049453782854,-0.10974581209473559,1.2973055112154592,1.409109018811545,-0.4880439368583151,-0.41255478657338274,-1.6652247217350953,-0.3571409627887695,0.05774639003035528,-0.47989239854050036,-0.675449156696727,-1.1430868805095362,-0.006663393609728982,-1.0620327924289885,1.4718999257473302,-0.6113357749066433,0.36148596789055853,-0.24393747075538624,1.0748240094017911,1.4315036978476303,-1.2193491756829018,1.0785112055318675,1.0922663616955144,-0.5271205263605011,-0.27374315353472867,0.028154193665865107,-1.1351935382309162,1.4612941727462698,-0.3509454137365033,0.6106125561226777,0.7478186327737351,-0.7425042942314749,1.916765223828547,1.240873891099306,-0.4406511100190365,1.346795532600243,-1.4120166335488293,-0.9726486257162662,-0.2852448153129776,-3.0108073083457927,-1.7635744867048033,-1.0166029223919701,0.6767572035278194,0.14883919105469573],\"xaxis\":\"x2\",\"y\":[1.8511519134780592,0.9932635503226296,-0.20359937233167702,1.5257768804344916,0.7989148705029956,-0.7401919047073051,-0.8630213226964086,0.7013687303870811,-0.6247974874205289,0.10910461350500907,-0.11538038639040019,-0.02648740437455768,-0.43732218661342515,-0.7125768681585045,1.0133586523249136,-0.8616519633585347,-2.1230616381436356,-0.9749949035547446,0.5043444129264993,0.18825104298423934,-0.1432776826929805,0.5868807139113783,-0.5195842176454574,0.5736013901487871,-0.8173712354802753,0.6609920652626308,0.4168308410755578,0.5852219339927222,0.010802370600104156,-0.41273169823065897,-0.20857735228632088,-0.8416615204104636,0.052944189995554204,0.005686937411339467,0.3844520636603806,-1.0631481481915048,-0.11724016976317891,0.6630852320859335,0.5115801618934522,2.2561195936427705,0.3109656972874523,1.0994549480156748,-0.7208326396818907,-0.1977387682776627,-0.16040121850252212,0.794102216112637,0.7464271735955996,-0.647542908423245,-1.4984047157520854,-0.04075648099172144,2.264819816919803,-0.5552027566980382,-0.6748951474162486,-1.007916433892245,-1.3106915777664427,-1.8225142752914754,1.334030713362875,0.07572488075553528,-0.5830773501448417,0.38454318739022125,1.6110776348434117,-0.3174845924378902,0.8445097695504995,-0.41461007268988176,0.365775246787856,-1.496269233552682,0.3008252693310851,-0.39326338113914816,0.5008110351639224,-0.672608996952311,-1.0421214869609523,-0.11156295997918914,0.3092029035122308,0.28260084055062595,0.6949297525981041,-0.9319657740427375,-1.9514085275441992,-0.7841155550829054,-0.2998409331653889,0.03951669010773553,-0.0727240387013017,-1.9518606100277855,0.9883285146195404,0.7508231282590799,1.209982615480504,0.7921753321761256,-0.9946655537151281,1.3067058404422474,0.5712332382845726,-0.5386093862850266,0.30013330235114466,-1.4869281940691312,0.9620169121202278,1.114277142834589,-1.3650422850750878,0.3298673585324569,0.9810828436899907,-0.9471938559777627,-0.6557976449379221,0.5954509216804071],\"yaxis\":\"y2\",\"type\":\"scatter\"},{\"line\":{\"color\":\"rgba(128, 128, 128, 1.0)\",\"dash\":\"solid\",\"shape\":\"linear\",\"width\":1.3},\"marker\":{\"size\":2,\"symbol\":\"circle\"},\"mode\":\"markers\",\"name\":\"A\",\"text\":\"\",\"x\":[-0.02618591574760387,-0.377594300707286,-0.40092302383041983,0.6226015130997402,1.7867408483882843,0.7007119925230211,2.0235266876031255,0.7310226916111957,-0.8653414905893465,0.07584612501092945,-0.28599575196194454,-1.1679062585670845,-1.5640424278658303,0.69945694861903,0.041094356317120245,-0.702094853390491,0.31749661894888925,0.6083667193106708,-0.13474980077139592,-0.021430909192688186,-0.25663331565876724,0.23446811217305416,-1.2019860895329175,0.9817031913314874,-1.1533314435179867,2.0537614550794383,0.31522051812578417,1.0356187024343126,0.6342422355054017,-0.053210739129649465,-1.0455114507622878,0.6593770973632015,-0.4269000489697485,-0.12334687895820025,0.2597387514760385,0.9080627172498368,-1.309092634952256,-0.3177438413176344,1.4491035428322692,-0.09189578438614497,-2.230077254290799,0.280010974541339,-0.6347446551844496,1.2737692460698924,2.2294210032717627,0.17808348459587112,-0.37426670210173707,-0.0069816754418047435,-0.46872482270574406,0.17977023674502898,-0.26884064984389405,0.590495165917698,-0.17716040762618426,0.20066817442639379,-0.7701778334238273,0.8914670475143059,-0.5225005737966002,0.44816652712536914,-2.96785333476731,-1.2653497639013929,0.1650183037865434,-0.05002056688627636,-0.8630009351378776,-1.5512253786732901,0.6326789472654919,-0.04081108924705931,0.039061581133283126,1.5497856366840013,-0.848995416695419,0.6339309928561057,-0.8910189407837548,0.9002056587236599,-0.2587337492688455,0.11279051279112261,-0.15365937140649974,-0.4910663874110523,1.2612638182302032,-2.4757182497454018,-1.7216730571254608,1.2725049971883207,-0.9929844025457848,-1.2821966314575877,-0.11954916159591458,-0.4564407666493159,1.508318000816078,-0.0934703839230235,1.2501652187292178,-0.46879820846883025,0.19844961707997533,-2.1459365572956846,-2.071426215645999,0.5888089437087306,-0.5112900157331203,-0.21275179229777214,-1.0890805879098995,-1.7598988719797426,-0.927097618061559,1.454395971413865,-1.6146175916064411,-1.0087391627527382],\"xaxis\":\"x3\",\"y\":[1.8511519134780592,0.9932635503226296,-0.20359937233167702,1.5257768804344916,0.7989148705029956,-0.7401919047073051,-0.8630213226964086,0.7013687303870811,-0.6247974874205289,0.10910461350500907,-0.11538038639040019,-0.02648740437455768,-0.43732218661342515,-0.7125768681585045,1.0133586523249136,-0.8616519633585347,-2.1230616381436356,-0.9749949035547446,0.5043444129264993,0.18825104298423934,-0.1432776826929805,0.5868807139113783,-0.5195842176454574,0.5736013901487871,-0.8173712354802753,0.6609920652626308,0.4168308410755578,0.5852219339927222,0.010802370600104156,-0.41273169823065897,-0.20857735228632088,-0.8416615204104636,0.052944189995554204,0.005686937411339467,0.3844520636603806,-1.0631481481915048,-0.11724016976317891,0.6630852320859335,0.5115801618934522,2.2561195936427705,0.3109656972874523,1.0994549480156748,-0.7208326396818907,-0.1977387682776627,-0.16040121850252212,0.794102216112637,0.7464271735955996,-0.647542908423245,-1.4984047157520854,-0.04075648099172144,2.264819816919803,-0.5552027566980382,-0.6748951474162486,-1.007916433892245,-1.3106915777664427,-1.8225142752914754,1.334030713362875,0.07572488075553528,-0.5830773501448417,0.38454318739022125,1.6110776348434117,-0.3174845924378902,0.8445097695504995,-0.41461007268988176,0.365775246787856,-1.496269233552682,0.3008252693310851,-0.39326338113914816,0.5008110351639224,-0.672608996952311,-1.0421214869609523,-0.11156295997918914,0.3092029035122308,0.28260084055062595,0.6949297525981041,-0.9319657740427375,-1.9514085275441992,-0.7841155550829054,-0.2998409331653889,0.03951669010773553,-0.0727240387013017,-1.9518606100277855,0.9883285146195404,0.7508231282590799,1.209982615480504,0.7921753321761256,-0.9946655537151281,1.3067058404422474,0.5712332382845726,-0.5386093862850266,0.30013330235114466,-1.4869281940691312,0.9620169121202278,1.114277142834589,-1.3650422850750878,0.3298673585324569,0.9810828436899907,-0.9471938559777627,-0.6557976449379221,0.5954509216804071],\"yaxis\":\"y3\",\"type\":\"scatter\"},{\"line\":{\"color\":\"rgba(128, 128, 128, 1.0)\",\"dash\":\"solid\",\"shape\":\"linear\",\"width\":1.3},\"marker\":{\"size\":2,\"symbol\":\"circle\"},\"mode\":\"markers\",\"name\":\"A\",\"text\":\"\",\"x\":[-1.1378255351906068,-1.9324290264990547,0.412873950725174,-1.8278889943930452,0.26505636248391123,-0.4511448776762043,-0.16429593523549452,0.0441634524289908,0.8901929140789799,0.9528293002879427,-0.4164940835430671,2.092922924567059,1.4940839215309305,-0.2669443534103714,-0.1625073651105624,-1.0277864531700824,0.2714354464139936,0.7652238166343336,-0.6185867486415615,-0.3386571617039138,-0.3161248120466677,0.5710324792283733,-1.5249464802738668,-1.334373160303245,0.14496818123002284,0.45608868102679767,1.8003104449689311,-0.14253677500263165,0.3618331353222978,-1.0487580358894426,0.4168789695894866,-0.25965569714086006,-0.5990700644206105,-0.12754730946254858,0.1609097100695703,-0.612772377898927,0.5893269219618965,-0.007587308662248082,-1.2396321553365013,-0.3228524676932316,2.0691877262518066,0.21575433288173168,-0.33688431639229416,-0.584943042777959,-0.021978302530539635,0.7760964928004312,0.2341124389450538,-0.6804767518930187,0.29743695826935995,-1.2995657384445818,-1.1731514576749118,1.775715051156065,-0.26136178641767793,1.5428154798082716,0.34932184123664994,-0.15885079640979533,0.24607230937253333,0.2935565236057475,0.059958085203068945,0.6811151621009519,0.3124443053318358,0.35737431918893203,-0.4378153347902127,-0.09958545939881695,0.9507249410063682,-1.2055051283131741,-0.967407806976702,-0.5250235543538504,-1.3263512258412549,-0.5974841819256089,0.7858376437377379,0.16259035468987162,-0.7902561073258011,0.1382269110475103,1.6266262871594164,1.1377555894088582,-2.1287698279677607,0.7312169085870153,-0.286878671127475,0.5019090793008186,0.9090457145830573,-1.8404050305770792,0.21917425845647676,0.9400268734050679,0.07307879979290297,0.06257165723555402,0.41662989125303784,0.4517203457412141,0.6543843691753921,-0.7668755560446119,-0.020854012382010814,0.46738215329666766,0.6650453240884444,0.5787135254319014,-1.0381663200426428,0.025476372190832014,1.3203897331098426,-0.2783016747545439,1.919420967279771,-0.29386813886300417],\"xaxis\":\"x4\",\"y\":[1.8511519134780592,0.9932635503226296,-0.20359937233167702,1.5257768804344916,0.7989148705029956,-0.7401919047073051,-0.8630213226964086,0.7013687303870811,-0.6247974874205289,0.10910461350500907,-0.11538038639040019,-0.02648740437455768,-0.43732218661342515,-0.7125768681585045,1.0133586523249136,-0.8616519633585347,-2.1230616381436356,-0.9749949035547446,0.5043444129264993,0.18825104298423934,-0.1432776826929805,0.5868807139113783,-0.5195842176454574,0.5736013901487871,-0.8173712354802753,0.6609920652626308,0.4168308410755578,0.5852219339927222,0.010802370600104156,-0.41273169823065897,-0.20857735228632088,-0.8416615204104636,0.052944189995554204,0.005686937411339467,0.3844520636603806,-1.0631481481915048,-0.11724016976317891,0.6630852320859335,0.5115801618934522,2.2561195936427705,0.3109656972874523,1.0994549480156748,-0.7208326396818907,-0.1977387682776627,-0.16040121850252212,0.794102216112637,0.7464271735955996,-0.647542908423245,-1.4984047157520854,-0.04075648099172144,2.264819816919803,-0.5552027566980382,-0.6748951474162486,-1.007916433892245,-1.3106915777664427,-1.8225142752914754,1.334030713362875,0.07572488075553528,-0.5830773501448417,0.38454318739022125,1.6110776348434117,-0.3174845924378902,0.8445097695504995,-0.41461007268988176,0.365775246787856,-1.496269233552682,0.3008252693310851,-0.39326338113914816,0.5008110351639224,-0.672608996952311,-1.0421214869609523,-0.11156295997918914,0.3092029035122308,0.28260084055062595,0.6949297525981041,-0.9319657740427375,-1.9514085275441992,-0.7841155550829054,-0.2998409331653889,0.03951669010773553,-0.0727240387013017,-1.9518606100277855,0.9883285146195404,0.7508231282590799,1.209982615480504,0.7921753321761256,-0.9946655537151281,1.3067058404422474,0.5712332382845726,-0.5386093862850266,0.30013330235114466,-1.4869281940691312,0.9620169121202278,1.114277142834589,-1.3650422850750878,0.3298673585324569,0.9810828436899907,-0.9471938559777627,-0.6557976449379221,0.5954509216804071],\"yaxis\":\"y4\",\"type\":\"scatter\"},{\"line\":{\"color\":\"rgba(128, 128, 128, 1.0)\",\"dash\":\"solid\",\"shape\":\"linear\",\"width\":1.3},\"marker\":{\"size\":2,\"symbol\":\"circle\"},\"mode\":\"markers\",\"name\":\"B\",\"text\":\"\",\"x\":[1.8511519134780592,0.9932635503226296,-0.20359937233167702,1.5257768804344916,0.7989148705029956,-0.7401919047073051,-0.8630213226964086,0.7013687303870811,-0.6247974874205289,0.10910461350500907,-0.11538038639040019,-0.02648740437455768,-0.43732218661342515,-0.7125768681585045,1.0133586523249136,-0.8616519633585347,-2.1230616381436356,-0.9749949035547446,0.5043444129264993,0.18825104298423934,-0.1432776826929805,0.5868807139113783,-0.5195842176454574,0.5736013901487871,-0.8173712354802753,0.6609920652626308,0.4168308410755578,0.5852219339927222,0.010802370600104156,-0.41273169823065897,-0.20857735228632088,-0.8416615204104636,0.052944189995554204,0.005686937411339467,0.3844520636603806,-1.0631481481915048,-0.11724016976317891,0.6630852320859335,0.5115801618934522,2.2561195936427705,0.3109656972874523,1.0994549480156748,-0.7208326396818907,-0.1977387682776627,-0.16040121850252212,0.794102216112637,0.7464271735955996,-0.647542908423245,-1.4984047157520854,-0.04075648099172144,2.264819816919803,-0.5552027566980382,-0.6748951474162486,-1.007916433892245,-1.3106915777664427,-1.8225142752914754,1.334030713362875,0.07572488075553528,-0.5830773501448417,0.38454318739022125,1.6110776348434117,-0.3174845924378902,0.8445097695504995,-0.41461007268988176,0.365775246787856,-1.496269233552682,0.3008252693310851,-0.39326338113914816,0.5008110351639224,-0.672608996952311,-1.0421214869609523,-0.11156295997918914,0.3092029035122308,0.28260084055062595,0.6949297525981041,-0.9319657740427375,-1.9514085275441992,-0.7841155550829054,-0.2998409331653889,0.03951669010773553,-0.0727240387013017,-1.9518606100277855,0.9883285146195404,0.7508231282590799,1.209982615480504,0.7921753321761256,-0.9946655537151281,1.3067058404422474,0.5712332382845726,-0.5386093862850266,0.30013330235114466,-1.4869281940691312,0.9620169121202278,1.114277142834589,-1.3650422850750878,0.3298673585324569,0.9810828436899907,-0.9471938559777627,-0.6557976449379221,0.5954509216804071],\"xaxis\":\"x5\",\"y\":[0.45782172851946584,0.4344214900313023,0.6658987220489518,2.895439169924277,-0.04735765933408375,0.14131190059074383,-0.6793167129790467,-1.33376156241096,0.5129051932325256,-1.8426154108364827,0.5414409748569157,1.5180507825544969,0.6886450990269172,-0.2934527411501007,1.247504281758502,-0.6923792689440722,1.3358752949438544,3.3009912281541745,-1.1772677491504626,3.0413738620919792,0.1939145630185375,1.316173538909124,0.4568857268531616,-0.45612992746179104,0.36962784918045843,-1.0872283818862274,-1.268507848017612,1.3690989346946598,2.404028688631945,0.6953932785311059,0.16957159952658565,-0.820430620044971,1.3622920559583251,1.2194783554864315,0.5270262370309676,0.12673147173592114,0.6274228407561939,2.1519729621866612,-0.1503870682355416,-0.8032647853869308,-1.7334754959923606,1.1498738436198657,0.9024715532142299,-0.6299946110464666,-0.10479446190246755,0.3807627473851706,0.30429400869494144,-0.09747668965216076,0.034130483643344964,2.3125818412357924,-0.1195421817947865,-1.1451149065169193,-0.10831608455742575,0.7369917906053898,0.26648976296350796,0.04793412305608602,0.9135049453782854,-0.10974581209473559,1.2973055112154592,1.409109018811545,-0.4880439368583151,-0.41255478657338274,-1.6652247217350953,-0.3571409627887695,0.05774639003035528,-0.47989239854050036,-0.675449156696727,-1.1430868805095362,-0.006663393609728982,-1.0620327924289885,1.4718999257473302,-0.6113357749066433,0.36148596789055853,-0.24393747075538624,1.0748240094017911,1.4315036978476303,-1.2193491756829018,1.0785112055318675,1.0922663616955144,-0.5271205263605011,-0.27374315353472867,0.028154193665865107,-1.1351935382309162,1.4612941727462698,-0.3509454137365033,0.6106125561226777,0.7478186327737351,-0.7425042942314749,1.916765223828547,1.240873891099306,-0.4406511100190365,1.346795532600243,-1.4120166335488293,-0.9726486257162662,-0.2852448153129776,-3.0108073083457927,-1.7635744867048033,-1.0166029223919701,0.6767572035278194,0.14883919105469573],\"yaxis\":\"y5\",\"type\":\"scatter\"},{\"histfunc\":\"count\",\"histnorm\":\"\",\"marker\":{\"color\":\"rgba(55, 128, 191, 1.0)\",\"line\":{\"color\":\"#4D5663\",\"width\":1.3}},\"name\":\"B\",\"nbinsx\":10,\"opacity\":0.8,\"orientation\":\"v\",\"x\":[0.45782172851946584,0.4344214900313023,0.6658987220489518,2.895439169924277,-0.04735765933408375,0.14131190059074383,-0.6793167129790467,-1.33376156241096,0.5129051932325256,-1.8426154108364827,0.5414409748569157,1.5180507825544969,0.6886450990269172,-0.2934527411501007,1.247504281758502,-0.6923792689440722,1.3358752949438544,3.3009912281541745,-1.1772677491504626,3.0413738620919792,0.1939145630185375,1.316173538909124,0.4568857268531616,-0.45612992746179104,0.36962784918045843,-1.0872283818862274,-1.268507848017612,1.3690989346946598,2.404028688631945,0.6953932785311059,0.16957159952658565,-0.820430620044971,1.3622920559583251,1.2194783554864315,0.5270262370309676,0.12673147173592114,0.6274228407561939,2.1519729621866612,-0.1503870682355416,-0.8032647853869308,-1.7334754959923606,1.1498738436198657,0.9024715532142299,-0.6299946110464666,-0.10479446190246755,0.3807627473851706,0.30429400869494144,-0.09747668965216076,0.034130483643344964,2.3125818412357924,-0.1195421817947865,-1.1451149065169193,-0.10831608455742575,0.7369917906053898,0.26648976296350796,0.04793412305608602,0.9135049453782854,-0.10974581209473559,1.2973055112154592,1.409109018811545,-0.4880439368583151,-0.41255478657338274,-1.6652247217350953,-0.3571409627887695,0.05774639003035528,-0.47989239854050036,-0.675449156696727,-1.1430868805095362,-0.006663393609728982,-1.0620327924289885,1.4718999257473302,-0.6113357749066433,0.36148596789055853,-0.24393747075538624,1.0748240094017911,1.4315036978476303,-1.2193491756829018,1.0785112055318675,1.0922663616955144,-0.5271205263605011,-0.27374315353472867,0.028154193665865107,-1.1351935382309162,1.4612941727462698,-0.3509454137365033,0.6106125561226777,0.7478186327737351,-0.7425042942314749,1.916765223828547,1.240873891099306,-0.4406511100190365,1.346795532600243,-1.4120166335488293,-0.9726486257162662,-0.2852448153129776,-3.0108073083457927,-1.7635744867048033,-1.0166029223919701,0.6767572035278194,0.14883919105469573],\"xaxis\":\"x6\",\"yaxis\":\"y6\",\"type\":\"histogram\"},{\"line\":{\"color\":\"rgba(128, 128, 128, 1.0)\",\"dash\":\"solid\",\"shape\":\"linear\",\"width\":1.3},\"marker\":{\"size\":2,\"symbol\":\"circle\"},\"mode\":\"markers\",\"name\":\"B\",\"text\":\"\",\"x\":[-0.02618591574760387,-0.377594300707286,-0.40092302383041983,0.6226015130997402,1.7867408483882843,0.7007119925230211,2.0235266876031255,0.7310226916111957,-0.8653414905893465,0.07584612501092945,-0.28599575196194454,-1.1679062585670845,-1.5640424278658303,0.69945694861903,0.041094356317120245,-0.702094853390491,0.31749661894888925,0.6083667193106708,-0.13474980077139592,-0.021430909192688186,-0.25663331565876724,0.23446811217305416,-1.2019860895329175,0.9817031913314874,-1.1533314435179867,2.0537614550794383,0.31522051812578417,1.0356187024343126,0.6342422355054017,-0.053210739129649465,-1.0455114507622878,0.6593770973632015,-0.4269000489697485,-0.12334687895820025,0.2597387514760385,0.9080627172498368,-1.309092634952256,-0.3177438413176344,1.4491035428322692,-0.09189578438614497,-2.230077254290799,0.280010974541339,-0.6347446551844496,1.2737692460698924,2.2294210032717627,0.17808348459587112,-0.37426670210173707,-0.0069816754418047435,-0.46872482270574406,0.17977023674502898,-0.26884064984389405,0.590495165917698,-0.17716040762618426,0.20066817442639379,-0.7701778334238273,0.8914670475143059,-0.5225005737966002,0.44816652712536914,-2.96785333476731,-1.2653497639013929,0.1650183037865434,-0.05002056688627636,-0.8630009351378776,-1.5512253786732901,0.6326789472654919,-0.04081108924705931,0.039061581133283126,1.5497856366840013,-0.848995416695419,0.6339309928561057,-0.8910189407837548,0.9002056587236599,-0.2587337492688455,0.11279051279112261,-0.15365937140649974,-0.4910663874110523,1.2612638182302032,-2.4757182497454018,-1.7216730571254608,1.2725049971883207,-0.9929844025457848,-1.2821966314575877,-0.11954916159591458,-0.4564407666493159,1.508318000816078,-0.0934703839230235,1.2501652187292178,-0.46879820846883025,0.19844961707997533,-2.1459365572956846,-2.071426215645999,0.5888089437087306,-0.5112900157331203,-0.21275179229777214,-1.0890805879098995,-1.7598988719797426,-0.927097618061559,1.454395971413865,-1.6146175916064411,-1.0087391627527382],\"xaxis\":\"x7\",\"y\":[0.45782172851946584,0.4344214900313023,0.6658987220489518,2.895439169924277,-0.04735765933408375,0.14131190059074383,-0.6793167129790467,-1.33376156241096,0.5129051932325256,-1.8426154108364827,0.5414409748569157,1.5180507825544969,0.6886450990269172,-0.2934527411501007,1.247504281758502,-0.6923792689440722,1.3358752949438544,3.3009912281541745,-1.1772677491504626,3.0413738620919792,0.1939145630185375,1.316173538909124,0.4568857268531616,-0.45612992746179104,0.36962784918045843,-1.0872283818862274,-1.268507848017612,1.3690989346946598,2.404028688631945,0.6953932785311059,0.16957159952658565,-0.820430620044971,1.3622920559583251,1.2194783554864315,0.5270262370309676,0.12673147173592114,0.6274228407561939,2.1519729621866612,-0.1503870682355416,-0.8032647853869308,-1.7334754959923606,1.1498738436198657,0.9024715532142299,-0.6299946110464666,-0.10479446190246755,0.3807627473851706,0.30429400869494144,-0.09747668965216076,0.034130483643344964,2.3125818412357924,-0.1195421817947865,-1.1451149065169193,-0.10831608455742575,0.7369917906053898,0.26648976296350796,0.04793412305608602,0.9135049453782854,-0.10974581209473559,1.2973055112154592,1.409109018811545,-0.4880439368583151,-0.41255478657338274,-1.6652247217350953,-0.3571409627887695,0.05774639003035528,-0.47989239854050036,-0.675449156696727,-1.1430868805095362,-0.006663393609728982,-1.0620327924289885,1.4718999257473302,-0.6113357749066433,0.36148596789055853,-0.24393747075538624,1.0748240094017911,1.4315036978476303,-1.2193491756829018,1.0785112055318675,1.0922663616955144,-0.5271205263605011,-0.27374315353472867,0.028154193665865107,-1.1351935382309162,1.4612941727462698,-0.3509454137365033,0.6106125561226777,0.7478186327737351,-0.7425042942314749,1.916765223828547,1.240873891099306,-0.4406511100190365,1.346795532600243,-1.4120166335488293,-0.9726486257162662,-0.2852448153129776,-3.0108073083457927,-1.7635744867048033,-1.0166029223919701,0.6767572035278194,0.14883919105469573],\"yaxis\":\"y7\",\"type\":\"scatter\"},{\"line\":{\"color\":\"rgba(128, 128, 128, 1.0)\",\"dash\":\"solid\",\"shape\":\"linear\",\"width\":1.3},\"marker\":{\"size\":2,\"symbol\":\"circle\"},\"mode\":\"markers\",\"name\":\"B\",\"text\":\"\",\"x\":[-1.1378255351906068,-1.9324290264990547,0.412873950725174,-1.8278889943930452,0.26505636248391123,-0.4511448776762043,-0.16429593523549452,0.0441634524289908,0.8901929140789799,0.9528293002879427,-0.4164940835430671,2.092922924567059,1.4940839215309305,-0.2669443534103714,-0.1625073651105624,-1.0277864531700824,0.2714354464139936,0.7652238166343336,-0.6185867486415615,-0.3386571617039138,-0.3161248120466677,0.5710324792283733,-1.5249464802738668,-1.334373160303245,0.14496818123002284,0.45608868102679767,1.8003104449689311,-0.14253677500263165,0.3618331353222978,-1.0487580358894426,0.4168789695894866,-0.25965569714086006,-0.5990700644206105,-0.12754730946254858,0.1609097100695703,-0.612772377898927,0.5893269219618965,-0.007587308662248082,-1.2396321553365013,-0.3228524676932316,2.0691877262518066,0.21575433288173168,-0.33688431639229416,-0.584943042777959,-0.021978302530539635,0.7760964928004312,0.2341124389450538,-0.6804767518930187,0.29743695826935995,-1.2995657384445818,-1.1731514576749118,1.775715051156065,-0.26136178641767793,1.5428154798082716,0.34932184123664994,-0.15885079640979533,0.24607230937253333,0.2935565236057475,0.059958085203068945,0.6811151621009519,0.3124443053318358,0.35737431918893203,-0.4378153347902127,-0.09958545939881695,0.9507249410063682,-1.2055051283131741,-0.967407806976702,-0.5250235543538504,-1.3263512258412549,-0.5974841819256089,0.7858376437377379,0.16259035468987162,-0.7902561073258011,0.1382269110475103,1.6266262871594164,1.1377555894088582,-2.1287698279677607,0.7312169085870153,-0.286878671127475,0.5019090793008186,0.9090457145830573,-1.8404050305770792,0.21917425845647676,0.9400268734050679,0.07307879979290297,0.06257165723555402,0.41662989125303784,0.4517203457412141,0.6543843691753921,-0.7668755560446119,-0.020854012382010814,0.46738215329666766,0.6650453240884444,0.5787135254319014,-1.0381663200426428,0.025476372190832014,1.3203897331098426,-0.2783016747545439,1.919420967279771,-0.29386813886300417],\"xaxis\":\"x8\",\"y\":[0.45782172851946584,0.4344214900313023,0.6658987220489518,2.895439169924277,-0.04735765933408375,0.14131190059074383,-0.6793167129790467,-1.33376156241096,0.5129051932325256,-1.8426154108364827,0.5414409748569157,1.5180507825544969,0.6886450990269172,-0.2934527411501007,1.247504281758502,-0.6923792689440722,1.3358752949438544,3.3009912281541745,-1.1772677491504626,3.0413738620919792,0.1939145630185375,1.316173538909124,0.4568857268531616,-0.45612992746179104,0.36962784918045843,-1.0872283818862274,-1.268507848017612,1.3690989346946598,2.404028688631945,0.6953932785311059,0.16957159952658565,-0.820430620044971,1.3622920559583251,1.2194783554864315,0.5270262370309676,0.12673147173592114,0.6274228407561939,2.1519729621866612,-0.1503870682355416,-0.8032647853869308,-1.7334754959923606,1.1498738436198657,0.9024715532142299,-0.6299946110464666,-0.10479446190246755,0.3807627473851706,0.30429400869494144,-0.09747668965216076,0.034130483643344964,2.3125818412357924,-0.1195421817947865,-1.1451149065169193,-0.10831608455742575,0.7369917906053898,0.26648976296350796,0.04793412305608602,0.9135049453782854,-0.10974581209473559,1.2973055112154592,1.409109018811545,-0.4880439368583151,-0.41255478657338274,-1.6652247217350953,-0.3571409627887695,0.05774639003035528,-0.47989239854050036,-0.675449156696727,-1.1430868805095362,-0.006663393609728982,-1.0620327924289885,1.4718999257473302,-0.6113357749066433,0.36148596789055853,-0.24393747075538624,1.0748240094017911,1.4315036978476303,-1.2193491756829018,1.0785112055318675,1.0922663616955144,-0.5271205263605011,-0.27374315353472867,0.028154193665865107,-1.1351935382309162,1.4612941727462698,-0.3509454137365033,0.6106125561226777,0.7478186327737351,-0.7425042942314749,1.916765223828547,1.240873891099306,-0.4406511100190365,1.346795532600243,-1.4120166335488293,-0.9726486257162662,-0.2852448153129776,-3.0108073083457927,-1.7635744867048033,-1.0166029223919701,0.6767572035278194,0.14883919105469573],\"yaxis\":\"y8\",\"type\":\"scatter\"},{\"line\":{\"color\":\"rgba(128, 128, 128, 1.0)\",\"dash\":\"solid\",\"shape\":\"linear\",\"width\":1.3},\"marker\":{\"size\":2,\"symbol\":\"circle\"},\"mode\":\"markers\",\"name\":\"C\",\"text\":\"\",\"x\":[1.8511519134780592,0.9932635503226296,-0.20359937233167702,1.5257768804344916,0.7989148705029956,-0.7401919047073051,-0.8630213226964086,0.7013687303870811,-0.6247974874205289,0.10910461350500907,-0.11538038639040019,-0.02648740437455768,-0.43732218661342515,-0.7125768681585045,1.0133586523249136,-0.8616519633585347,-2.1230616381436356,-0.9749949035547446,0.5043444129264993,0.18825104298423934,-0.1432776826929805,0.5868807139113783,-0.5195842176454574,0.5736013901487871,-0.8173712354802753,0.6609920652626308,0.4168308410755578,0.5852219339927222,0.010802370600104156,-0.41273169823065897,-0.20857735228632088,-0.8416615204104636,0.052944189995554204,0.005686937411339467,0.3844520636603806,-1.0631481481915048,-0.11724016976317891,0.6630852320859335,0.5115801618934522,2.2561195936427705,0.3109656972874523,1.0994549480156748,-0.7208326396818907,-0.1977387682776627,-0.16040121850252212,0.794102216112637,0.7464271735955996,-0.647542908423245,-1.4984047157520854,-0.04075648099172144,2.264819816919803,-0.5552027566980382,-0.6748951474162486,-1.007916433892245,-1.3106915777664427,-1.8225142752914754,1.334030713362875,0.07572488075553528,-0.5830773501448417,0.38454318739022125,1.6110776348434117,-0.3174845924378902,0.8445097695504995,-0.41461007268988176,0.365775246787856,-1.496269233552682,0.3008252693310851,-0.39326338113914816,0.5008110351639224,-0.672608996952311,-1.0421214869609523,-0.11156295997918914,0.3092029035122308,0.28260084055062595,0.6949297525981041,-0.9319657740427375,-1.9514085275441992,-0.7841155550829054,-0.2998409331653889,0.03951669010773553,-0.0727240387013017,-1.9518606100277855,0.9883285146195404,0.7508231282590799,1.209982615480504,0.7921753321761256,-0.9946655537151281,1.3067058404422474,0.5712332382845726,-0.5386093862850266,0.30013330235114466,-1.4869281940691312,0.9620169121202278,1.114277142834589,-1.3650422850750878,0.3298673585324569,0.9810828436899907,-0.9471938559777627,-0.6557976449379221,0.5954509216804071],\"xaxis\":\"x9\",\"y\":[-0.02618591574760387,-0.377594300707286,-0.40092302383041983,0.6226015130997402,1.7867408483882843,0.7007119925230211,2.0235266876031255,0.7310226916111957,-0.8653414905893465,0.07584612501092945,-0.28599575196194454,-1.1679062585670845,-1.5640424278658303,0.69945694861903,0.041094356317120245,-0.702094853390491,0.31749661894888925,0.6083667193106708,-0.13474980077139592,-0.021430909192688186,-0.25663331565876724,0.23446811217305416,-1.2019860895329175,0.9817031913314874,-1.1533314435179867,2.0537614550794383,0.31522051812578417,1.0356187024343126,0.6342422355054017,-0.053210739129649465,-1.0455114507622878,0.6593770973632015,-0.4269000489697485,-0.12334687895820025,0.2597387514760385,0.9080627172498368,-1.309092634952256,-0.3177438413176344,1.4491035428322692,-0.09189578438614497,-2.230077254290799,0.280010974541339,-0.6347446551844496,1.2737692460698924,2.2294210032717627,0.17808348459587112,-0.37426670210173707,-0.0069816754418047435,-0.46872482270574406,0.17977023674502898,-0.26884064984389405,0.590495165917698,-0.17716040762618426,0.20066817442639379,-0.7701778334238273,0.8914670475143059,-0.5225005737966002,0.44816652712536914,-2.96785333476731,-1.2653497639013929,0.1650183037865434,-0.05002056688627636,-0.8630009351378776,-1.5512253786732901,0.6326789472654919,-0.04081108924705931,0.039061581133283126,1.5497856366840013,-0.848995416695419,0.6339309928561057,-0.8910189407837548,0.9002056587236599,-0.2587337492688455,0.11279051279112261,-0.15365937140649974,-0.4910663874110523,1.2612638182302032,-2.4757182497454018,-1.7216730571254608,1.2725049971883207,-0.9929844025457848,-1.2821966314575877,-0.11954916159591458,-0.4564407666493159,1.508318000816078,-0.0934703839230235,1.2501652187292178,-0.46879820846883025,0.19844961707997533,-2.1459365572956846,-2.071426215645999,0.5888089437087306,-0.5112900157331203,-0.21275179229777214,-1.0890805879098995,-1.7598988719797426,-0.927097618061559,1.454395971413865,-1.6146175916064411,-1.0087391627527382],\"yaxis\":\"y9\",\"type\":\"scatter\"},{\"line\":{\"color\":\"rgba(128, 128, 128, 1.0)\",\"dash\":\"solid\",\"shape\":\"linear\",\"width\":1.3},\"marker\":{\"size\":2,\"symbol\":\"circle\"},\"mode\":\"markers\",\"name\":\"C\",\"text\":\"\",\"x\":[0.45782172851946584,0.4344214900313023,0.6658987220489518,2.895439169924277,-0.04735765933408375,0.14131190059074383,-0.6793167129790467,-1.33376156241096,0.5129051932325256,-1.8426154108364827,0.5414409748569157,1.5180507825544969,0.6886450990269172,-0.2934527411501007,1.247504281758502,-0.6923792689440722,1.3358752949438544,3.3009912281541745,-1.1772677491504626,3.0413738620919792,0.1939145630185375,1.316173538909124,0.4568857268531616,-0.45612992746179104,0.36962784918045843,-1.0872283818862274,-1.268507848017612,1.3690989346946598,2.404028688631945,0.6953932785311059,0.16957159952658565,-0.820430620044971,1.3622920559583251,1.2194783554864315,0.5270262370309676,0.12673147173592114,0.6274228407561939,2.1519729621866612,-0.1503870682355416,-0.8032647853869308,-1.7334754959923606,1.1498738436198657,0.9024715532142299,-0.6299946110464666,-0.10479446190246755,0.3807627473851706,0.30429400869494144,-0.09747668965216076,0.034130483643344964,2.3125818412357924,-0.1195421817947865,-1.1451149065169193,-0.10831608455742575,0.7369917906053898,0.26648976296350796,0.04793412305608602,0.9135049453782854,-0.10974581209473559,1.2973055112154592,1.409109018811545,-0.4880439368583151,-0.41255478657338274,-1.6652247217350953,-0.3571409627887695,0.05774639003035528,-0.47989239854050036,-0.675449156696727,-1.1430868805095362,-0.006663393609728982,-1.0620327924289885,1.4718999257473302,-0.6113357749066433,0.36148596789055853,-0.24393747075538624,1.0748240094017911,1.4315036978476303,-1.2193491756829018,1.0785112055318675,1.0922663616955144,-0.5271205263605011,-0.27374315353472867,0.028154193665865107,-1.1351935382309162,1.4612941727462698,-0.3509454137365033,0.6106125561226777,0.7478186327737351,-0.7425042942314749,1.916765223828547,1.240873891099306,-0.4406511100190365,1.346795532600243,-1.4120166335488293,-0.9726486257162662,-0.2852448153129776,-3.0108073083457927,-1.7635744867048033,-1.0166029223919701,0.6767572035278194,0.14883919105469573],\"xaxis\":\"x10\",\"y\":[-0.02618591574760387,-0.377594300707286,-0.40092302383041983,0.6226015130997402,1.7867408483882843,0.7007119925230211,2.0235266876031255,0.7310226916111957,-0.8653414905893465,0.07584612501092945,-0.28599575196194454,-1.1679062585670845,-1.5640424278658303,0.69945694861903,0.041094356317120245,-0.702094853390491,0.31749661894888925,0.6083667193106708,-0.13474980077139592,-0.021430909192688186,-0.25663331565876724,0.23446811217305416,-1.2019860895329175,0.9817031913314874,-1.1533314435179867,2.0537614550794383,0.31522051812578417,1.0356187024343126,0.6342422355054017,-0.053210739129649465,-1.0455114507622878,0.6593770973632015,-0.4269000489697485,-0.12334687895820025,0.2597387514760385,0.9080627172498368,-1.309092634952256,-0.3177438413176344,1.4491035428322692,-0.09189578438614497,-2.230077254290799,0.280010974541339,-0.6347446551844496,1.2737692460698924,2.2294210032717627,0.17808348459587112,-0.37426670210173707,-0.0069816754418047435,-0.46872482270574406,0.17977023674502898,-0.26884064984389405,0.590495165917698,-0.17716040762618426,0.20066817442639379,-0.7701778334238273,0.8914670475143059,-0.5225005737966002,0.44816652712536914,-2.96785333476731,-1.2653497639013929,0.1650183037865434,-0.05002056688627636,-0.8630009351378776,-1.5512253786732901,0.6326789472654919,-0.04081108924705931,0.039061581133283126,1.5497856366840013,-0.848995416695419,0.6339309928561057,-0.8910189407837548,0.9002056587236599,-0.2587337492688455,0.11279051279112261,-0.15365937140649974,-0.4910663874110523,1.2612638182302032,-2.4757182497454018,-1.7216730571254608,1.2725049971883207,-0.9929844025457848,-1.2821966314575877,-0.11954916159591458,-0.4564407666493159,1.508318000816078,-0.0934703839230235,1.2501652187292178,-0.46879820846883025,0.19844961707997533,-2.1459365572956846,-2.071426215645999,0.5888089437087306,-0.5112900157331203,-0.21275179229777214,-1.0890805879098995,-1.7598988719797426,-0.927097618061559,1.454395971413865,-1.6146175916064411,-1.0087391627527382],\"yaxis\":\"y10\",\"type\":\"scatter\"},{\"histfunc\":\"count\",\"histnorm\":\"\",\"marker\":{\"color\":\"rgba(50, 171, 96, 1.0)\",\"line\":{\"color\":\"#4D5663\",\"width\":1.3}},\"name\":\"C\",\"nbinsx\":10,\"opacity\":0.8,\"orientation\":\"v\",\"x\":[-0.02618591574760387,-0.377594300707286,-0.40092302383041983,0.6226015130997402,1.7867408483882843,0.7007119925230211,2.0235266876031255,0.7310226916111957,-0.8653414905893465,0.07584612501092945,-0.28599575196194454,-1.1679062585670845,-1.5640424278658303,0.69945694861903,0.041094356317120245,-0.702094853390491,0.31749661894888925,0.6083667193106708,-0.13474980077139592,-0.021430909192688186,-0.25663331565876724,0.23446811217305416,-1.2019860895329175,0.9817031913314874,-1.1533314435179867,2.0537614550794383,0.31522051812578417,1.0356187024343126,0.6342422355054017,-0.053210739129649465,-1.0455114507622878,0.6593770973632015,-0.4269000489697485,-0.12334687895820025,0.2597387514760385,0.9080627172498368,-1.309092634952256,-0.3177438413176344,1.4491035428322692,-0.09189578438614497,-2.230077254290799,0.280010974541339,-0.6347446551844496,1.2737692460698924,2.2294210032717627,0.17808348459587112,-0.37426670210173707,-0.0069816754418047435,-0.46872482270574406,0.17977023674502898,-0.26884064984389405,0.590495165917698,-0.17716040762618426,0.20066817442639379,-0.7701778334238273,0.8914670475143059,-0.5225005737966002,0.44816652712536914,-2.96785333476731,-1.2653497639013929,0.1650183037865434,-0.05002056688627636,-0.8630009351378776,-1.5512253786732901,0.6326789472654919,-0.04081108924705931,0.039061581133283126,1.5497856366840013,-0.848995416695419,0.6339309928561057,-0.8910189407837548,0.9002056587236599,-0.2587337492688455,0.11279051279112261,-0.15365937140649974,-0.4910663874110523,1.2612638182302032,-2.4757182497454018,-1.7216730571254608,1.2725049971883207,-0.9929844025457848,-1.2821966314575877,-0.11954916159591458,-0.4564407666493159,1.508318000816078,-0.0934703839230235,1.2501652187292178,-0.46879820846883025,0.19844961707997533,-2.1459365572956846,-2.071426215645999,0.5888089437087306,-0.5112900157331203,-0.21275179229777214,-1.0890805879098995,-1.7598988719797426,-0.927097618061559,1.454395971413865,-1.6146175916064411,-1.0087391627527382],\"xaxis\":\"x11\",\"yaxis\":\"y11\",\"type\":\"histogram\"},{\"line\":{\"color\":\"rgba(128, 128, 128, 1.0)\",\"dash\":\"solid\",\"shape\":\"linear\",\"width\":1.3},\"marker\":{\"size\":2,\"symbol\":\"circle\"},\"mode\":\"markers\",\"name\":\"C\",\"text\":\"\",\"x\":[-1.1378255351906068,-1.9324290264990547,0.412873950725174,-1.8278889943930452,0.26505636248391123,-0.4511448776762043,-0.16429593523549452,0.0441634524289908,0.8901929140789799,0.9528293002879427,-0.4164940835430671,2.092922924567059,1.4940839215309305,-0.2669443534103714,-0.1625073651105624,-1.0277864531700824,0.2714354464139936,0.7652238166343336,-0.6185867486415615,-0.3386571617039138,-0.3161248120466677,0.5710324792283733,-1.5249464802738668,-1.334373160303245,0.14496818123002284,0.45608868102679767,1.8003104449689311,-0.14253677500263165,0.3618331353222978,-1.0487580358894426,0.4168789695894866,-0.25965569714086006,-0.5990700644206105,-0.12754730946254858,0.1609097100695703,-0.612772377898927,0.5893269219618965,-0.007587308662248082,-1.2396321553365013,-0.3228524676932316,2.0691877262518066,0.21575433288173168,-0.33688431639229416,-0.584943042777959,-0.021978302530539635,0.7760964928004312,0.2341124389450538,-0.6804767518930187,0.29743695826935995,-1.2995657384445818,-1.1731514576749118,1.775715051156065,-0.26136178641767793,1.5428154798082716,0.34932184123664994,-0.15885079640979533,0.24607230937253333,0.2935565236057475,0.059958085203068945,0.6811151621009519,0.3124443053318358,0.35737431918893203,-0.4378153347902127,-0.09958545939881695,0.9507249410063682,-1.2055051283131741,-0.967407806976702,-0.5250235543538504,-1.3263512258412549,-0.5974841819256089,0.7858376437377379,0.16259035468987162,-0.7902561073258011,0.1382269110475103,1.6266262871594164,1.1377555894088582,-2.1287698279677607,0.7312169085870153,-0.286878671127475,0.5019090793008186,0.9090457145830573,-1.8404050305770792,0.21917425845647676,0.9400268734050679,0.07307879979290297,0.06257165723555402,0.41662989125303784,0.4517203457412141,0.6543843691753921,-0.7668755560446119,-0.020854012382010814,0.46738215329666766,0.6650453240884444,0.5787135254319014,-1.0381663200426428,0.025476372190832014,1.3203897331098426,-0.2783016747545439,1.919420967279771,-0.29386813886300417],\"xaxis\":\"x12\",\"y\":[-0.02618591574760387,-0.377594300707286,-0.40092302383041983,0.6226015130997402,1.7867408483882843,0.7007119925230211,2.0235266876031255,0.7310226916111957,-0.8653414905893465,0.07584612501092945,-0.28599575196194454,-1.1679062585670845,-1.5640424278658303,0.69945694861903,0.041094356317120245,-0.702094853390491,0.31749661894888925,0.6083667193106708,-0.13474980077139592,-0.021430909192688186,-0.25663331565876724,0.23446811217305416,-1.2019860895329175,0.9817031913314874,-1.1533314435179867,2.0537614550794383,0.31522051812578417,1.0356187024343126,0.6342422355054017,-0.053210739129649465,-1.0455114507622878,0.6593770973632015,-0.4269000489697485,-0.12334687895820025,0.2597387514760385,0.9080627172498368,-1.309092634952256,-0.3177438413176344,1.4491035428322692,-0.09189578438614497,-2.230077254290799,0.280010974541339,-0.6347446551844496,1.2737692460698924,2.2294210032717627,0.17808348459587112,-0.37426670210173707,-0.0069816754418047435,-0.46872482270574406,0.17977023674502898,-0.26884064984389405,0.590495165917698,-0.17716040762618426,0.20066817442639379,-0.7701778334238273,0.8914670475143059,-0.5225005737966002,0.44816652712536914,-2.96785333476731,-1.2653497639013929,0.1650183037865434,-0.05002056688627636,-0.8630009351378776,-1.5512253786732901,0.6326789472654919,-0.04081108924705931,0.039061581133283126,1.5497856366840013,-0.848995416695419,0.6339309928561057,-0.8910189407837548,0.9002056587236599,-0.2587337492688455,0.11279051279112261,-0.15365937140649974,-0.4910663874110523,1.2612638182302032,-2.4757182497454018,-1.7216730571254608,1.2725049971883207,-0.9929844025457848,-1.2821966314575877,-0.11954916159591458,-0.4564407666493159,1.508318000816078,-0.0934703839230235,1.2501652187292178,-0.46879820846883025,0.19844961707997533,-2.1459365572956846,-2.071426215645999,0.5888089437087306,-0.5112900157331203,-0.21275179229777214,-1.0890805879098995,-1.7598988719797426,-0.927097618061559,1.454395971413865,-1.6146175916064411,-1.0087391627527382],\"yaxis\":\"y12\",\"type\":\"scatter\"},{\"line\":{\"color\":\"rgba(128, 128, 128, 1.0)\",\"dash\":\"solid\",\"shape\":\"linear\",\"width\":1.3},\"marker\":{\"size\":2,\"symbol\":\"circle\"},\"mode\":\"markers\",\"name\":\"D\",\"text\":\"\",\"x\":[1.8511519134780592,0.9932635503226296,-0.20359937233167702,1.5257768804344916,0.7989148705029956,-0.7401919047073051,-0.8630213226964086,0.7013687303870811,-0.6247974874205289,0.10910461350500907,-0.11538038639040019,-0.02648740437455768,-0.43732218661342515,-0.7125768681585045,1.0133586523249136,-0.8616519633585347,-2.1230616381436356,-0.9749949035547446,0.5043444129264993,0.18825104298423934,-0.1432776826929805,0.5868807139113783,-0.5195842176454574,0.5736013901487871,-0.8173712354802753,0.6609920652626308,0.4168308410755578,0.5852219339927222,0.010802370600104156,-0.41273169823065897,-0.20857735228632088,-0.8416615204104636,0.052944189995554204,0.005686937411339467,0.3844520636603806,-1.0631481481915048,-0.11724016976317891,0.6630852320859335,0.5115801618934522,2.2561195936427705,0.3109656972874523,1.0994549480156748,-0.7208326396818907,-0.1977387682776627,-0.16040121850252212,0.794102216112637,0.7464271735955996,-0.647542908423245,-1.4984047157520854,-0.04075648099172144,2.264819816919803,-0.5552027566980382,-0.6748951474162486,-1.007916433892245,-1.3106915777664427,-1.8225142752914754,1.334030713362875,0.07572488075553528,-0.5830773501448417,0.38454318739022125,1.6110776348434117,-0.3174845924378902,0.8445097695504995,-0.41461007268988176,0.365775246787856,-1.496269233552682,0.3008252693310851,-0.39326338113914816,0.5008110351639224,-0.672608996952311,-1.0421214869609523,-0.11156295997918914,0.3092029035122308,0.28260084055062595,0.6949297525981041,-0.9319657740427375,-1.9514085275441992,-0.7841155550829054,-0.2998409331653889,0.03951669010773553,-0.0727240387013017,-1.9518606100277855,0.9883285146195404,0.7508231282590799,1.209982615480504,0.7921753321761256,-0.9946655537151281,1.3067058404422474,0.5712332382845726,-0.5386093862850266,0.30013330235114466,-1.4869281940691312,0.9620169121202278,1.114277142834589,-1.3650422850750878,0.3298673585324569,0.9810828436899907,-0.9471938559777627,-0.6557976449379221,0.5954509216804071],\"xaxis\":\"x13\",\"y\":[-1.1378255351906068,-1.9324290264990547,0.412873950725174,-1.8278889943930452,0.26505636248391123,-0.4511448776762043,-0.16429593523549452,0.0441634524289908,0.8901929140789799,0.9528293002879427,-0.4164940835430671,2.092922924567059,1.4940839215309305,-0.2669443534103714,-0.1625073651105624,-1.0277864531700824,0.2714354464139936,0.7652238166343336,-0.6185867486415615,-0.3386571617039138,-0.3161248120466677,0.5710324792283733,-1.5249464802738668,-1.334373160303245,0.14496818123002284,0.45608868102679767,1.8003104449689311,-0.14253677500263165,0.3618331353222978,-1.0487580358894426,0.4168789695894866,-0.25965569714086006,-0.5990700644206105,-0.12754730946254858,0.1609097100695703,-0.612772377898927,0.5893269219618965,-0.007587308662248082,-1.2396321553365013,-0.3228524676932316,2.0691877262518066,0.21575433288173168,-0.33688431639229416,-0.584943042777959,-0.021978302530539635,0.7760964928004312,0.2341124389450538,-0.6804767518930187,0.29743695826935995,-1.2995657384445818,-1.1731514576749118,1.775715051156065,-0.26136178641767793,1.5428154798082716,0.34932184123664994,-0.15885079640979533,0.24607230937253333,0.2935565236057475,0.059958085203068945,0.6811151621009519,0.3124443053318358,0.35737431918893203,-0.4378153347902127,-0.09958545939881695,0.9507249410063682,-1.2055051283131741,-0.967407806976702,-0.5250235543538504,-1.3263512258412549,-0.5974841819256089,0.7858376437377379,0.16259035468987162,-0.7902561073258011,0.1382269110475103,1.6266262871594164,1.1377555894088582,-2.1287698279677607,0.7312169085870153,-0.286878671127475,0.5019090793008186,0.9090457145830573,-1.8404050305770792,0.21917425845647676,0.9400268734050679,0.07307879979290297,0.06257165723555402,0.41662989125303784,0.4517203457412141,0.6543843691753921,-0.7668755560446119,-0.020854012382010814,0.46738215329666766,0.6650453240884444,0.5787135254319014,-1.0381663200426428,0.025476372190832014,1.3203897331098426,-0.2783016747545439,1.919420967279771,-0.29386813886300417],\"yaxis\":\"y13\",\"type\":\"scatter\"},{\"line\":{\"color\":\"rgba(128, 128, 128, 1.0)\",\"dash\":\"solid\",\"shape\":\"linear\",\"width\":1.3},\"marker\":{\"size\":2,\"symbol\":\"circle\"},\"mode\":\"markers\",\"name\":\"D\",\"text\":\"\",\"x\":[0.45782172851946584,0.4344214900313023,0.6658987220489518,2.895439169924277,-0.04735765933408375,0.14131190059074383,-0.6793167129790467,-1.33376156241096,0.5129051932325256,-1.8426154108364827,0.5414409748569157,1.5180507825544969,0.6886450990269172,-0.2934527411501007,1.247504281758502,-0.6923792689440722,1.3358752949438544,3.3009912281541745,-1.1772677491504626,3.0413738620919792,0.1939145630185375,1.316173538909124,0.4568857268531616,-0.45612992746179104,0.36962784918045843,-1.0872283818862274,-1.268507848017612,1.3690989346946598,2.404028688631945,0.6953932785311059,0.16957159952658565,-0.820430620044971,1.3622920559583251,1.2194783554864315,0.5270262370309676,0.12673147173592114,0.6274228407561939,2.1519729621866612,-0.1503870682355416,-0.8032647853869308,-1.7334754959923606,1.1498738436198657,0.9024715532142299,-0.6299946110464666,-0.10479446190246755,0.3807627473851706,0.30429400869494144,-0.09747668965216076,0.034130483643344964,2.3125818412357924,-0.1195421817947865,-1.1451149065169193,-0.10831608455742575,0.7369917906053898,0.26648976296350796,0.04793412305608602,0.9135049453782854,-0.10974581209473559,1.2973055112154592,1.409109018811545,-0.4880439368583151,-0.41255478657338274,-1.6652247217350953,-0.3571409627887695,0.05774639003035528,-0.47989239854050036,-0.675449156696727,-1.1430868805095362,-0.006663393609728982,-1.0620327924289885,1.4718999257473302,-0.6113357749066433,0.36148596789055853,-0.24393747075538624,1.0748240094017911,1.4315036978476303,-1.2193491756829018,1.0785112055318675,1.0922663616955144,-0.5271205263605011,-0.27374315353472867,0.028154193665865107,-1.1351935382309162,1.4612941727462698,-0.3509454137365033,0.6106125561226777,0.7478186327737351,-0.7425042942314749,1.916765223828547,1.240873891099306,-0.4406511100190365,1.346795532600243,-1.4120166335488293,-0.9726486257162662,-0.2852448153129776,-3.0108073083457927,-1.7635744867048033,-1.0166029223919701,0.6767572035278194,0.14883919105469573],\"xaxis\":\"x14\",\"y\":[-1.1378255351906068,-1.9324290264990547,0.412873950725174,-1.8278889943930452,0.26505636248391123,-0.4511448776762043,-0.16429593523549452,0.0441634524289908,0.8901929140789799,0.9528293002879427,-0.4164940835430671,2.092922924567059,1.4940839215309305,-0.2669443534103714,-0.1625073651105624,-1.0277864531700824,0.2714354464139936,0.7652238166343336,-0.6185867486415615,-0.3386571617039138,-0.3161248120466677,0.5710324792283733,-1.5249464802738668,-1.334373160303245,0.14496818123002284,0.45608868102679767,1.8003104449689311,-0.14253677500263165,0.3618331353222978,-1.0487580358894426,0.4168789695894866,-0.25965569714086006,-0.5990700644206105,-0.12754730946254858,0.1609097100695703,-0.612772377898927,0.5893269219618965,-0.007587308662248082,-1.2396321553365013,-0.3228524676932316,2.0691877262518066,0.21575433288173168,-0.33688431639229416,-0.584943042777959,-0.021978302530539635,0.7760964928004312,0.2341124389450538,-0.6804767518930187,0.29743695826935995,-1.2995657384445818,-1.1731514576749118,1.775715051156065,-0.26136178641767793,1.5428154798082716,0.34932184123664994,-0.15885079640979533,0.24607230937253333,0.2935565236057475,0.059958085203068945,0.6811151621009519,0.3124443053318358,0.35737431918893203,-0.4378153347902127,-0.09958545939881695,0.9507249410063682,-1.2055051283131741,-0.967407806976702,-0.5250235543538504,-1.3263512258412549,-0.5974841819256089,0.7858376437377379,0.16259035468987162,-0.7902561073258011,0.1382269110475103,1.6266262871594164,1.1377555894088582,-2.1287698279677607,0.7312169085870153,-0.286878671127475,0.5019090793008186,0.9090457145830573,-1.8404050305770792,0.21917425845647676,0.9400268734050679,0.07307879979290297,0.06257165723555402,0.41662989125303784,0.4517203457412141,0.6543843691753921,-0.7668755560446119,-0.020854012382010814,0.46738215329666766,0.6650453240884444,0.5787135254319014,-1.0381663200426428,0.025476372190832014,1.3203897331098426,-0.2783016747545439,1.919420967279771,-0.29386813886300417],\"yaxis\":\"y14\",\"type\":\"scatter\"},{\"line\":{\"color\":\"rgba(128, 128, 128, 1.0)\",\"dash\":\"solid\",\"shape\":\"linear\",\"width\":1.3},\"marker\":{\"size\":2,\"symbol\":\"circle\"},\"mode\":\"markers\",\"name\":\"D\",\"text\":\"\",\"x\":[-0.02618591574760387,-0.377594300707286,-0.40092302383041983,0.6226015130997402,1.7867408483882843,0.7007119925230211,2.0235266876031255,0.7310226916111957,-0.8653414905893465,0.07584612501092945,-0.28599575196194454,-1.1679062585670845,-1.5640424278658303,0.69945694861903,0.041094356317120245,-0.702094853390491,0.31749661894888925,0.6083667193106708,-0.13474980077139592,-0.021430909192688186,-0.25663331565876724,0.23446811217305416,-1.2019860895329175,0.9817031913314874,-1.1533314435179867,2.0537614550794383,0.31522051812578417,1.0356187024343126,0.6342422355054017,-0.053210739129649465,-1.0455114507622878,0.6593770973632015,-0.4269000489697485,-0.12334687895820025,0.2597387514760385,0.9080627172498368,-1.309092634952256,-0.3177438413176344,1.4491035428322692,-0.09189578438614497,-2.230077254290799,0.280010974541339,-0.6347446551844496,1.2737692460698924,2.2294210032717627,0.17808348459587112,-0.37426670210173707,-0.0069816754418047435,-0.46872482270574406,0.17977023674502898,-0.26884064984389405,0.590495165917698,-0.17716040762618426,0.20066817442639379,-0.7701778334238273,0.8914670475143059,-0.5225005737966002,0.44816652712536914,-2.96785333476731,-1.2653497639013929,0.1650183037865434,-0.05002056688627636,-0.8630009351378776,-1.5512253786732901,0.6326789472654919,-0.04081108924705931,0.039061581133283126,1.5497856366840013,-0.848995416695419,0.6339309928561057,-0.8910189407837548,0.9002056587236599,-0.2587337492688455,0.11279051279112261,-0.15365937140649974,-0.4910663874110523,1.2612638182302032,-2.4757182497454018,-1.7216730571254608,1.2725049971883207,-0.9929844025457848,-1.2821966314575877,-0.11954916159591458,-0.4564407666493159,1.508318000816078,-0.0934703839230235,1.2501652187292178,-0.46879820846883025,0.19844961707997533,-2.1459365572956846,-2.071426215645999,0.5888089437087306,-0.5112900157331203,-0.21275179229777214,-1.0890805879098995,-1.7598988719797426,-0.927097618061559,1.454395971413865,-1.6146175916064411,-1.0087391627527382],\"xaxis\":\"x15\",\"y\":[-1.1378255351906068,-1.9324290264990547,0.412873950725174,-1.8278889943930452,0.26505636248391123,-0.4511448776762043,-0.16429593523549452,0.0441634524289908,0.8901929140789799,0.9528293002879427,-0.4164940835430671,2.092922924567059,1.4940839215309305,-0.2669443534103714,-0.1625073651105624,-1.0277864531700824,0.2714354464139936,0.7652238166343336,-0.6185867486415615,-0.3386571617039138,-0.3161248120466677,0.5710324792283733,-1.5249464802738668,-1.334373160303245,0.14496818123002284,0.45608868102679767,1.8003104449689311,-0.14253677500263165,0.3618331353222978,-1.0487580358894426,0.4168789695894866,-0.25965569714086006,-0.5990700644206105,-0.12754730946254858,0.1609097100695703,-0.612772377898927,0.5893269219618965,-0.007587308662248082,-1.2396321553365013,-0.3228524676932316,2.0691877262518066,0.21575433288173168,-0.33688431639229416,-0.584943042777959,-0.021978302530539635,0.7760964928004312,0.2341124389450538,-0.6804767518930187,0.29743695826935995,-1.2995657384445818,-1.1731514576749118,1.775715051156065,-0.26136178641767793,1.5428154798082716,0.34932184123664994,-0.15885079640979533,0.24607230937253333,0.2935565236057475,0.059958085203068945,0.6811151621009519,0.3124443053318358,0.35737431918893203,-0.4378153347902127,-0.09958545939881695,0.9507249410063682,-1.2055051283131741,-0.967407806976702,-0.5250235543538504,-1.3263512258412549,-0.5974841819256089,0.7858376437377379,0.16259035468987162,-0.7902561073258011,0.1382269110475103,1.6266262871594164,1.1377555894088582,-2.1287698279677607,0.7312169085870153,-0.286878671127475,0.5019090793008186,0.9090457145830573,-1.8404050305770792,0.21917425845647676,0.9400268734050679,0.07307879979290297,0.06257165723555402,0.41662989125303784,0.4517203457412141,0.6543843691753921,-0.7668755560446119,-0.020854012382010814,0.46738215329666766,0.6650453240884444,0.5787135254319014,-1.0381663200426428,0.025476372190832014,1.3203897331098426,-0.2783016747545439,1.919420967279771,-0.29386813886300417],\"yaxis\":\"y15\",\"type\":\"scatter\"},{\"histfunc\":\"count\",\"histnorm\":\"\",\"marker\":{\"color\":\"rgba(128, 0, 128, 1.0)\",\"line\":{\"color\":\"#4D5663\",\"width\":1.3}},\"name\":\"D\",\"nbinsx\":10,\"opacity\":0.8,\"orientation\":\"v\",\"x\":[-1.1378255351906068,-1.9324290264990547,0.412873950725174,-1.8278889943930452,0.26505636248391123,-0.4511448776762043,-0.16429593523549452,0.0441634524289908,0.8901929140789799,0.9528293002879427,-0.4164940835430671,2.092922924567059,1.4940839215309305,-0.2669443534103714,-0.1625073651105624,-1.0277864531700824,0.2714354464139936,0.7652238166343336,-0.6185867486415615,-0.3386571617039138,-0.3161248120466677,0.5710324792283733,-1.5249464802738668,-1.334373160303245,0.14496818123002284,0.45608868102679767,1.8003104449689311,-0.14253677500263165,0.3618331353222978,-1.0487580358894426,0.4168789695894866,-0.25965569714086006,-0.5990700644206105,-0.12754730946254858,0.1609097100695703,-0.612772377898927,0.5893269219618965,-0.007587308662248082,-1.2396321553365013,-0.3228524676932316,2.0691877262518066,0.21575433288173168,-0.33688431639229416,-0.584943042777959,-0.021978302530539635,0.7760964928004312,0.2341124389450538,-0.6804767518930187,0.29743695826935995,-1.2995657384445818,-1.1731514576749118,1.775715051156065,-0.26136178641767793,1.5428154798082716,0.34932184123664994,-0.15885079640979533,0.24607230937253333,0.2935565236057475,0.059958085203068945,0.6811151621009519,0.3124443053318358,0.35737431918893203,-0.4378153347902127,-0.09958545939881695,0.9507249410063682,-1.2055051283131741,-0.967407806976702,-0.5250235543538504,-1.3263512258412549,-0.5974841819256089,0.7858376437377379,0.16259035468987162,-0.7902561073258011,0.1382269110475103,1.6266262871594164,1.1377555894088582,-2.1287698279677607,0.7312169085870153,-0.286878671127475,0.5019090793008186,0.9090457145830573,-1.8404050305770792,0.21917425845647676,0.9400268734050679,0.07307879979290297,0.06257165723555402,0.41662989125303784,0.4517203457412141,0.6543843691753921,-0.7668755560446119,-0.020854012382010814,0.46738215329666766,0.6650453240884444,0.5787135254319014,-1.0381663200426428,0.025476372190832014,1.3203897331098426,-0.2783016747545439,1.919420967279771,-0.29386813886300417],\"xaxis\":\"x16\",\"yaxis\":\"y16\",\"type\":\"histogram\"}],                        {\"bargap\":0.02,\"legend\":{\"bgcolor\":\"#F5F6F9\",\"font\":{\"color\":\"#4D5663\"}},\"paper_bgcolor\":\"#F5F6F9\",\"plot_bgcolor\":\"#F5F6F9\",\"showlegend\":false,\"template\":{\"data\":{\"barpolar\":[{\"marker\":{\"line\":{\"color\":\"#E5ECF6\",\"width\":0.5},\"pattern\":{\"fillmode\":\"overlay\",\"size\":10,\"solidity\":0.2}},\"type\":\"barpolar\"}],\"bar\":[{\"error_x\":{\"color\":\"#2a3f5f\"},\"error_y\":{\"color\":\"#2a3f5f\"},\"marker\":{\"line\":{\"color\":\"#E5ECF6\",\"width\":0.5},\"pattern\":{\"fillmode\":\"overlay\",\"size\":10,\"solidity\":0.2}},\"type\":\"bar\"}],\"carpet\":[{\"aaxis\":{\"endlinecolor\":\"#2a3f5f\",\"gridcolor\":\"white\",\"linecolor\":\"white\",\"minorgridcolor\":\"white\",\"startlinecolor\":\"#2a3f5f\"},\"baxis\":{\"endlinecolor\":\"#2a3f5f\",\"gridcolor\":\"white\",\"linecolor\":\"white\",\"minorgridcolor\":\"white\",\"startlinecolor\":\"#2a3f5f\"},\"type\":\"carpet\"}],\"choropleth\":[{\"colorbar\":{\"outlinewidth\":0,\"ticks\":\"\"},\"type\":\"choropleth\"}],\"contourcarpet\":[{\"colorbar\":{\"outlinewidth\":0,\"ticks\":\"\"},\"type\":\"contourcarpet\"}],\"contour\":[{\"colorbar\":{\"outlinewidth\":0,\"ticks\":\"\"},\"colorscale\":[[0.0,\"#0d0887\"],[0.1111111111111111,\"#46039f\"],[0.2222222222222222,\"#7201a8\"],[0.3333333333333333,\"#9c179e\"],[0.4444444444444444,\"#bd3786\"],[0.5555555555555556,\"#d8576b\"],[0.6666666666666666,\"#ed7953\"],[0.7777777777777778,\"#fb9f3a\"],[0.8888888888888888,\"#fdca26\"],[1.0,\"#f0f921\"]],\"type\":\"contour\"}],\"heatmapgl\":[{\"colorbar\":{\"outlinewidth\":0,\"ticks\":\"\"},\"colorscale\":[[0.0,\"#0d0887\"],[0.1111111111111111,\"#46039f\"],[0.2222222222222222,\"#7201a8\"],[0.3333333333333333,\"#9c179e\"],[0.4444444444444444,\"#bd3786\"],[0.5555555555555556,\"#d8576b\"],[0.6666666666666666,\"#ed7953\"],[0.7777777777777778,\"#fb9f3a\"],[0.8888888888888888,\"#fdca26\"],[1.0,\"#f0f921\"]],\"type\":\"heatmapgl\"}],\"heatmap\":[{\"colorbar\":{\"outlinewidth\":0,\"ticks\":\"\"},\"colorscale\":[[0.0,\"#0d0887\"],[0.1111111111111111,\"#46039f\"],[0.2222222222222222,\"#7201a8\"],[0.3333333333333333,\"#9c179e\"],[0.4444444444444444,\"#bd3786\"],[0.5555555555555556,\"#d8576b\"],[0.6666666666666666,\"#ed7953\"],[0.7777777777777778,\"#fb9f3a\"],[0.8888888888888888,\"#fdca26\"],[1.0,\"#f0f921\"]],\"type\":\"heatmap\"}],\"histogram2dcontour\":[{\"colorbar\":{\"outlinewidth\":0,\"ticks\":\"\"},\"colorscale\":[[0.0,\"#0d0887\"],[0.1111111111111111,\"#46039f\"],[0.2222222222222222,\"#7201a8\"],[0.3333333333333333,\"#9c179e\"],[0.4444444444444444,\"#bd3786\"],[0.5555555555555556,\"#d8576b\"],[0.6666666666666666,\"#ed7953\"],[0.7777777777777778,\"#fb9f3a\"],[0.8888888888888888,\"#fdca26\"],[1.0,\"#f0f921\"]],\"type\":\"histogram2dcontour\"}],\"histogram2d\":[{\"colorbar\":{\"outlinewidth\":0,\"ticks\":\"\"},\"colorscale\":[[0.0,\"#0d0887\"],[0.1111111111111111,\"#46039f\"],[0.2222222222222222,\"#7201a8\"],[0.3333333333333333,\"#9c179e\"],[0.4444444444444444,\"#bd3786\"],[0.5555555555555556,\"#d8576b\"],[0.6666666666666666,\"#ed7953\"],[0.7777777777777778,\"#fb9f3a\"],[0.8888888888888888,\"#fdca26\"],[1.0,\"#f0f921\"]],\"type\":\"histogram2d\"}],\"histogram\":[{\"marker\":{\"pattern\":{\"fillmode\":\"overlay\",\"size\":10,\"solidity\":0.2}},\"type\":\"histogram\"}],\"mesh3d\":[{\"colorbar\":{\"outlinewidth\":0,\"ticks\":\"\"},\"type\":\"mesh3d\"}],\"parcoords\":[{\"line\":{\"colorbar\":{\"outlinewidth\":0,\"ticks\":\"\"}},\"type\":\"parcoords\"}],\"pie\":[{\"automargin\":true,\"type\":\"pie\"}],\"scatter3d\":[{\"line\":{\"colorbar\":{\"outlinewidth\":0,\"ticks\":\"\"}},\"marker\":{\"colorbar\":{\"outlinewidth\":0,\"ticks\":\"\"}},\"type\":\"scatter3d\"}],\"scattercarpet\":[{\"marker\":{\"colorbar\":{\"outlinewidth\":0,\"ticks\":\"\"}},\"type\":\"scattercarpet\"}],\"scattergeo\":[{\"marker\":{\"colorbar\":{\"outlinewidth\":0,\"ticks\":\"\"}},\"type\":\"scattergeo\"}],\"scattergl\":[{\"marker\":{\"colorbar\":{\"outlinewidth\":0,\"ticks\":\"\"}},\"type\":\"scattergl\"}],\"scattermapbox\":[{\"marker\":{\"colorbar\":{\"outlinewidth\":0,\"ticks\":\"\"}},\"type\":\"scattermapbox\"}],\"scatterpolargl\":[{\"marker\":{\"colorbar\":{\"outlinewidth\":0,\"ticks\":\"\"}},\"type\":\"scatterpolargl\"}],\"scatterpolar\":[{\"marker\":{\"colorbar\":{\"outlinewidth\":0,\"ticks\":\"\"}},\"type\":\"scatterpolar\"}],\"scatter\":[{\"fillpattern\":{\"fillmode\":\"overlay\",\"size\":10,\"solidity\":0.2},\"type\":\"scatter\"}],\"scatterternary\":[{\"marker\":{\"colorbar\":{\"outlinewidth\":0,\"ticks\":\"\"}},\"type\":\"scatterternary\"}],\"surface\":[{\"colorbar\":{\"outlinewidth\":0,\"ticks\":\"\"},\"colorscale\":[[0.0,\"#0d0887\"],[0.1111111111111111,\"#46039f\"],[0.2222222222222222,\"#7201a8\"],[0.3333333333333333,\"#9c179e\"],[0.4444444444444444,\"#bd3786\"],[0.5555555555555556,\"#d8576b\"],[0.6666666666666666,\"#ed7953\"],[0.7777777777777778,\"#fb9f3a\"],[0.8888888888888888,\"#fdca26\"],[1.0,\"#f0f921\"]],\"type\":\"surface\"}],\"table\":[{\"cells\":{\"fill\":{\"color\":\"#EBF0F8\"},\"line\":{\"color\":\"white\"}},\"header\":{\"fill\":{\"color\":\"#C8D4E3\"},\"line\":{\"color\":\"white\"}},\"type\":\"table\"}]},\"layout\":{\"annotationdefaults\":{\"arrowcolor\":\"#2a3f5f\",\"arrowhead\":0,\"arrowwidth\":1},\"autotypenumbers\":\"strict\",\"coloraxis\":{\"colorbar\":{\"outlinewidth\":0,\"ticks\":\"\"}},\"colorscale\":{\"diverging\":[[0,\"#8e0152\"],[0.1,\"#c51b7d\"],[0.2,\"#de77ae\"],[0.3,\"#f1b6da\"],[0.4,\"#fde0ef\"],[0.5,\"#f7f7f7\"],[0.6,\"#e6f5d0\"],[0.7,\"#b8e186\"],[0.8,\"#7fbc41\"],[0.9,\"#4d9221\"],[1,\"#276419\"]],\"sequential\":[[0.0,\"#0d0887\"],[0.1111111111111111,\"#46039f\"],[0.2222222222222222,\"#7201a8\"],[0.3333333333333333,\"#9c179e\"],[0.4444444444444444,\"#bd3786\"],[0.5555555555555556,\"#d8576b\"],[0.6666666666666666,\"#ed7953\"],[0.7777777777777778,\"#fb9f3a\"],[0.8888888888888888,\"#fdca26\"],[1.0,\"#f0f921\"]],\"sequentialminus\":[[0.0,\"#0d0887\"],[0.1111111111111111,\"#46039f\"],[0.2222222222222222,\"#7201a8\"],[0.3333333333333333,\"#9c179e\"],[0.4444444444444444,\"#bd3786\"],[0.5555555555555556,\"#d8576b\"],[0.6666666666666666,\"#ed7953\"],[0.7777777777777778,\"#fb9f3a\"],[0.8888888888888888,\"#fdca26\"],[1.0,\"#f0f921\"]]},\"colorway\":[\"#636efa\",\"#EF553B\",\"#00cc96\",\"#ab63fa\",\"#FFA15A\",\"#19d3f3\",\"#FF6692\",\"#B6E880\",\"#FF97FF\",\"#FECB52\"],\"font\":{\"color\":\"#2a3f5f\"},\"geo\":{\"bgcolor\":\"white\",\"lakecolor\":\"white\",\"landcolor\":\"#E5ECF6\",\"showlakes\":true,\"showland\":true,\"subunitcolor\":\"white\"},\"hoverlabel\":{\"align\":\"left\"},\"hovermode\":\"closest\",\"mapbox\":{\"style\":\"light\"},\"paper_bgcolor\":\"white\",\"plot_bgcolor\":\"#E5ECF6\",\"polar\":{\"angularaxis\":{\"gridcolor\":\"white\",\"linecolor\":\"white\",\"ticks\":\"\"},\"bgcolor\":\"#E5ECF6\",\"radialaxis\":{\"gridcolor\":\"white\",\"linecolor\":\"white\",\"ticks\":\"\"}},\"scene\":{\"xaxis\":{\"backgroundcolor\":\"#E5ECF6\",\"gridcolor\":\"white\",\"gridwidth\":2,\"linecolor\":\"white\",\"showbackground\":true,\"ticks\":\"\",\"zerolinecolor\":\"white\"},\"yaxis\":{\"backgroundcolor\":\"#E5ECF6\",\"gridcolor\":\"white\",\"gridwidth\":2,\"linecolor\":\"white\",\"showbackground\":true,\"ticks\":\"\",\"zerolinecolor\":\"white\"},\"zaxis\":{\"backgroundcolor\":\"#E5ECF6\",\"gridcolor\":\"white\",\"gridwidth\":2,\"linecolor\":\"white\",\"showbackground\":true,\"ticks\":\"\",\"zerolinecolor\":\"white\"}},\"shapedefaults\":{\"line\":{\"color\":\"#2a3f5f\"}},\"ternary\":{\"aaxis\":{\"gridcolor\":\"white\",\"linecolor\":\"white\",\"ticks\":\"\"},\"baxis\":{\"gridcolor\":\"white\",\"linecolor\":\"white\",\"ticks\":\"\"},\"bgcolor\":\"#E5ECF6\",\"caxis\":{\"gridcolor\":\"white\",\"linecolor\":\"white\",\"ticks\":\"\"}},\"title\":{\"x\":0.05},\"xaxis\":{\"automargin\":true,\"gridcolor\":\"white\",\"linecolor\":\"white\",\"ticks\":\"\",\"title\":{\"standoff\":15},\"zerolinecolor\":\"white\",\"zerolinewidth\":2},\"yaxis\":{\"automargin\":true,\"gridcolor\":\"white\",\"linecolor\":\"white\",\"ticks\":\"\",\"title\":{\"standoff\":15},\"zerolinecolor\":\"white\",\"zerolinewidth\":2}}},\"title\":{\"font\":{\"color\":\"#4D5663\"}},\"xaxis\":{\"anchor\":\"y\",\"domain\":[0.0,0.2125],\"gridcolor\":\"#E1E5ED\",\"showgrid\":false,\"tickfont\":{\"color\":\"#4D5663\"},\"title\":{\"font\":{\"color\":\"#4D5663\"},\"text\":\"\"},\"zerolinecolor\":\"#E1E5ED\"},\"yaxis\":{\"anchor\":\"x\",\"domain\":[0.8025,1.0],\"gridcolor\":\"#E1E5ED\",\"showgrid\":false,\"tickfont\":{\"color\":\"#4D5663\"},\"title\":{\"font\":{\"color\":\"#4D5663\"},\"text\":\"\"},\"zerolinecolor\":\"#E1E5ED\"},\"xaxis2\":{\"anchor\":\"y2\",\"domain\":[0.2625,0.475],\"gridcolor\":\"#E1E5ED\",\"showgrid\":false,\"tickfont\":{\"color\":\"#4D5663\"},\"title\":{\"font\":{\"color\":\"#4D5663\"},\"text\":\"\"},\"zerolinecolor\":\"#E1E5ED\"},\"yaxis2\":{\"anchor\":\"x2\",\"domain\":[0.8025,1.0],\"gridcolor\":\"#E1E5ED\",\"showgrid\":false,\"tickfont\":{\"color\":\"#4D5663\"},\"title\":{\"font\":{\"color\":\"#4D5663\"},\"text\":\"\"},\"zerolinecolor\":\"#E1E5ED\"},\"xaxis3\":{\"anchor\":\"y3\",\"domain\":[0.525,0.7375],\"gridcolor\":\"#E1E5ED\",\"showgrid\":false,\"tickfont\":{\"color\":\"#4D5663\"},\"title\":{\"font\":{\"color\":\"#4D5663\"},\"text\":\"\"},\"zerolinecolor\":\"#E1E5ED\"},\"yaxis3\":{\"anchor\":\"x3\",\"domain\":[0.8025,1.0],\"gridcolor\":\"#E1E5ED\",\"showgrid\":false,\"tickfont\":{\"color\":\"#4D5663\"},\"title\":{\"font\":{\"color\":\"#4D5663\"},\"text\":\"\"},\"zerolinecolor\":\"#E1E5ED\"},\"xaxis4\":{\"anchor\":\"y4\",\"domain\":[0.7875,1.0],\"gridcolor\":\"#E1E5ED\",\"showgrid\":false,\"tickfont\":{\"color\":\"#4D5663\"},\"title\":{\"font\":{\"color\":\"#4D5663\"},\"text\":\"\"},\"zerolinecolor\":\"#E1E5ED\"},\"yaxis4\":{\"anchor\":\"x4\",\"domain\":[0.8025,1.0],\"gridcolor\":\"#E1E5ED\",\"showgrid\":false,\"tickfont\":{\"color\":\"#4D5663\"},\"title\":{\"font\":{\"color\":\"#4D5663\"},\"text\":\"\"},\"zerolinecolor\":\"#E1E5ED\"},\"xaxis5\":{\"anchor\":\"y5\",\"domain\":[0.0,0.2125],\"gridcolor\":\"#E1E5ED\",\"showgrid\":false,\"tickfont\":{\"color\":\"#4D5663\"},\"title\":{\"font\":{\"color\":\"#4D5663\"},\"text\":\"\"},\"zerolinecolor\":\"#E1E5ED\"},\"yaxis5\":{\"anchor\":\"x5\",\"domain\":[0.535,0.7325],\"gridcolor\":\"#E1E5ED\",\"showgrid\":false,\"tickfont\":{\"color\":\"#4D5663\"},\"title\":{\"font\":{\"color\":\"#4D5663\"},\"text\":\"\"},\"zerolinecolor\":\"#E1E5ED\"},\"xaxis6\":{\"anchor\":\"y6\",\"domain\":[0.2625,0.475],\"gridcolor\":\"#E1E5ED\",\"showgrid\":false,\"tickfont\":{\"color\":\"#4D5663\"},\"title\":{\"font\":{\"color\":\"#4D5663\"},\"text\":\"\"},\"zerolinecolor\":\"#E1E5ED\"},\"yaxis6\":{\"anchor\":\"x6\",\"domain\":[0.535,0.7325],\"gridcolor\":\"#E1E5ED\",\"showgrid\":false,\"tickfont\":{\"color\":\"#4D5663\"},\"title\":{\"font\":{\"color\":\"#4D5663\"},\"text\":\"\"},\"zerolinecolor\":\"#E1E5ED\"},\"xaxis7\":{\"anchor\":\"y7\",\"domain\":[0.525,0.7375],\"gridcolor\":\"#E1E5ED\",\"showgrid\":false,\"tickfont\":{\"color\":\"#4D5663\"},\"title\":{\"font\":{\"color\":\"#4D5663\"},\"text\":\"\"},\"zerolinecolor\":\"#E1E5ED\"},\"yaxis7\":{\"anchor\":\"x7\",\"domain\":[0.535,0.7325],\"gridcolor\":\"#E1E5ED\",\"showgrid\":false,\"tickfont\":{\"color\":\"#4D5663\"},\"title\":{\"font\":{\"color\":\"#4D5663\"},\"text\":\"\"},\"zerolinecolor\":\"#E1E5ED\"},\"xaxis8\":{\"anchor\":\"y8\",\"domain\":[0.7875,1.0],\"gridcolor\":\"#E1E5ED\",\"showgrid\":false,\"tickfont\":{\"color\":\"#4D5663\"},\"title\":{\"font\":{\"color\":\"#4D5663\"},\"text\":\"\"},\"zerolinecolor\":\"#E1E5ED\"},\"yaxis8\":{\"anchor\":\"x8\",\"domain\":[0.535,0.7325],\"gridcolor\":\"#E1E5ED\",\"showgrid\":false,\"tickfont\":{\"color\":\"#4D5663\"},\"title\":{\"font\":{\"color\":\"#4D5663\"},\"text\":\"\"},\"zerolinecolor\":\"#E1E5ED\"},\"xaxis9\":{\"anchor\":\"y9\",\"domain\":[0.0,0.2125],\"gridcolor\":\"#E1E5ED\",\"showgrid\":false,\"tickfont\":{\"color\":\"#4D5663\"},\"title\":{\"font\":{\"color\":\"#4D5663\"},\"text\":\"\"},\"zerolinecolor\":\"#E1E5ED\"},\"yaxis9\":{\"anchor\":\"x9\",\"domain\":[0.2675,0.465],\"gridcolor\":\"#E1E5ED\",\"showgrid\":false,\"tickfont\":{\"color\":\"#4D5663\"},\"title\":{\"font\":{\"color\":\"#4D5663\"},\"text\":\"\"},\"zerolinecolor\":\"#E1E5ED\"},\"xaxis10\":{\"anchor\":\"y10\",\"domain\":[0.2625,0.475],\"gridcolor\":\"#E1E5ED\",\"showgrid\":false,\"tickfont\":{\"color\":\"#4D5663\"},\"title\":{\"font\":{\"color\":\"#4D5663\"},\"text\":\"\"},\"zerolinecolor\":\"#E1E5ED\"},\"yaxis10\":{\"anchor\":\"x10\",\"domain\":[0.2675,0.465],\"gridcolor\":\"#E1E5ED\",\"showgrid\":false,\"tickfont\":{\"color\":\"#4D5663\"},\"title\":{\"font\":{\"color\":\"#4D5663\"},\"text\":\"\"},\"zerolinecolor\":\"#E1E5ED\"},\"xaxis11\":{\"anchor\":\"y11\",\"domain\":[0.525,0.7375],\"gridcolor\":\"#E1E5ED\",\"showgrid\":false,\"tickfont\":{\"color\":\"#4D5663\"},\"title\":{\"font\":{\"color\":\"#4D5663\"},\"text\":\"\"},\"zerolinecolor\":\"#E1E5ED\"},\"yaxis11\":{\"anchor\":\"x11\",\"domain\":[0.2675,0.465],\"gridcolor\":\"#E1E5ED\",\"showgrid\":false,\"tickfont\":{\"color\":\"#4D5663\"},\"title\":{\"font\":{\"color\":\"#4D5663\"},\"text\":\"\"},\"zerolinecolor\":\"#E1E5ED\"},\"xaxis12\":{\"anchor\":\"y12\",\"domain\":[0.7875,1.0],\"gridcolor\":\"#E1E5ED\",\"showgrid\":false,\"tickfont\":{\"color\":\"#4D5663\"},\"title\":{\"font\":{\"color\":\"#4D5663\"},\"text\":\"\"},\"zerolinecolor\":\"#E1E5ED\"},\"yaxis12\":{\"anchor\":\"x12\",\"domain\":[0.2675,0.465],\"gridcolor\":\"#E1E5ED\",\"showgrid\":false,\"tickfont\":{\"color\":\"#4D5663\"},\"title\":{\"font\":{\"color\":\"#4D5663\"},\"text\":\"\"},\"zerolinecolor\":\"#E1E5ED\"},\"xaxis13\":{\"anchor\":\"y13\",\"domain\":[0.0,0.2125],\"gridcolor\":\"#E1E5ED\",\"showgrid\":false,\"tickfont\":{\"color\":\"#4D5663\"},\"title\":{\"font\":{\"color\":\"#4D5663\"},\"text\":\"\"},\"zerolinecolor\":\"#E1E5ED\"},\"yaxis13\":{\"anchor\":\"x13\",\"domain\":[0.0,0.1975],\"gridcolor\":\"#E1E5ED\",\"showgrid\":false,\"tickfont\":{\"color\":\"#4D5663\"},\"title\":{\"font\":{\"color\":\"#4D5663\"},\"text\":\"\"},\"zerolinecolor\":\"#E1E5ED\"},\"xaxis14\":{\"anchor\":\"y14\",\"domain\":[0.2625,0.475],\"gridcolor\":\"#E1E5ED\",\"showgrid\":false,\"tickfont\":{\"color\":\"#4D5663\"},\"title\":{\"font\":{\"color\":\"#4D5663\"},\"text\":\"\"},\"zerolinecolor\":\"#E1E5ED\"},\"yaxis14\":{\"anchor\":\"x14\",\"domain\":[0.0,0.1975],\"gridcolor\":\"#E1E5ED\",\"showgrid\":false,\"tickfont\":{\"color\":\"#4D5663\"},\"title\":{\"font\":{\"color\":\"#4D5663\"},\"text\":\"\"},\"zerolinecolor\":\"#E1E5ED\"},\"xaxis15\":{\"anchor\":\"y15\",\"domain\":[0.525,0.7375],\"gridcolor\":\"#E1E5ED\",\"showgrid\":false,\"tickfont\":{\"color\":\"#4D5663\"},\"title\":{\"font\":{\"color\":\"#4D5663\"},\"text\":\"\"},\"zerolinecolor\":\"#E1E5ED\"},\"yaxis15\":{\"anchor\":\"x15\",\"domain\":[0.0,0.1975],\"gridcolor\":\"#E1E5ED\",\"showgrid\":false,\"tickfont\":{\"color\":\"#4D5663\"},\"title\":{\"font\":{\"color\":\"#4D5663\"},\"text\":\"\"},\"zerolinecolor\":\"#E1E5ED\"},\"xaxis16\":{\"anchor\":\"y16\",\"domain\":[0.7875,1.0],\"gridcolor\":\"#E1E5ED\",\"showgrid\":false,\"tickfont\":{\"color\":\"#4D5663\"},\"title\":{\"font\":{\"color\":\"#4D5663\"},\"text\":\"\"},\"zerolinecolor\":\"#E1E5ED\"},\"yaxis16\":{\"anchor\":\"x16\",\"domain\":[0.0,0.1975],\"gridcolor\":\"#E1E5ED\",\"showgrid\":false,\"tickfont\":{\"color\":\"#4D5663\"},\"title\":{\"font\":{\"color\":\"#4D5663\"},\"text\":\"\"},\"zerolinecolor\":\"#E1E5ED\"}},                        {\"showLink\": true, \"linkText\": \"Export to plot.ly\", \"plotlyServerURL\": \"https://plot.ly\", \"responsive\": true}                    ).then(function(){\n",
       "                            \n",
       "var gd = document.getElementById('16cb5983-9bfa-4679-8660-41253e9731e9');\n",
       "var x = new MutationObserver(function (mutations, observer) {{\n",
       "        var display = window.getComputedStyle(gd).display;\n",
       "        if (!display || display === 'none') {{\n",
       "            console.log([gd, 'removed!']);\n",
       "            Plotly.purge(gd);\n",
       "            observer.disconnect();\n",
       "        }}\n",
       "}});\n",
       "\n",
       "// Listen for the removal of the full notebook cells\n",
       "var notebookContainer = gd.closest('#notebook-container');\n",
       "if (notebookContainer) {{\n",
       "    x.observe(notebookContainer, {childList: true});\n",
       "}}\n",
       "\n",
       "// Listen for the clearing of the current output cell\n",
       "var outputEl = gd.closest('.output');\n",
       "if (outputEl) {{\n",
       "    x.observe(outputEl, {childList: true});\n",
       "}}\n",
       "\n",
       "                        })                };                });            </script>        </div>"
      ]
     },
     "metadata": {},
     "output_type": "display_data"
    }
   ],
   "source": [
    "df.scatter_matrix()"
   ]
  },
  {
   "cell_type": "markdown",
   "metadata": {
    "collapsed": true
   },
   "source": [
    "# Great Job!"
   ]
  }
 ],
 "metadata": {
  "kernelspec": {
   "display_name": "Python 3 (ipykernel)",
   "language": "python",
   "name": "python3"
  },
  "language_info": {
   "codemirror_mode": {
    "name": "ipython",
    "version": 3
   },
   "file_extension": ".py",
   "mimetype": "text/x-python",
   "name": "python",
   "nbconvert_exporter": "python",
   "pygments_lexer": "ipython3",
   "version": "3.10.9"
  }
 },
 "nbformat": 4,
 "nbformat_minor": 1
}
